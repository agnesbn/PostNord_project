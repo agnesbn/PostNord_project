{
 "cells": [
  {
   "cell_type": "markdown",
   "id": "5affe9e3",
   "metadata": {},
   "source": [
    "# Text classification using machine learning"
   ]
  },
  {
   "cell_type": "markdown",
   "id": "a4819702",
   "metadata": {},
   "source": [
    "Run this code __AFTER__ *preprocessing.ipynb*!"
   ]
  },
  {
   "cell_type": "markdown",
   "id": "821d5886",
   "metadata": {},
   "source": [
    "## 1. Start-up code: Import packages and get data"
   ]
  },
  {
   "cell_type": "code",
   "execution_count": 1,
   "id": "75bccc8f",
   "metadata": {
    "execution": {
     "iopub.execute_input": "2023-05-30T06:47:57.919474Z",
     "iopub.status.busy": "2023-05-30T06:47:57.918769Z",
     "iopub.status.idle": "2023-05-30T06:47:57.926739Z",
     "shell.execute_reply": "2023-05-30T06:47:57.925025Z",
     "shell.execute_reply.started": "2023-05-30T06:47:57.919416Z"
    },
    "tags": []
   },
   "outputs": [],
   "source": [
    "# UNCOMMENT TO INSTALL PACKAGES\n",
    "#!pip install pandas numpy seaborn matplotlib scikit-learn"
   ]
  },
  {
   "cell_type": "code",
   "execution_count": 2,
   "id": "ba8c237c",
   "metadata": {
    "execution": {
     "iopub.execute_input": "2023-05-30T06:47:57.929806Z",
     "iopub.status.busy": "2023-05-30T06:47:57.929214Z",
     "iopub.status.idle": "2023-05-30T06:47:59.385812Z",
     "shell.execute_reply": "2023-05-30T06:47:59.385158Z",
     "shell.execute_reply.started": "2023-05-30T06:47:57.929762Z"
    },
    "tags": []
   },
   "outputs": [],
   "source": [
    "# system tools\n",
    "import os\n",
    "import re\n",
    "\n",
    "# data wrangling\n",
    "import pandas as pd\n",
    "import numpy as np\n",
    "\n",
    "# plotting\n",
    "import seaborn as sns\n",
    "import matplotlib.pyplot as plt\n",
    "from  matplotlib.colors import LinearSegmentedColormap\n",
    "\n",
    "# machine learning\n",
    "from sklearn.feature_extraction.text import TfidfVectorizer\n",
    "from sklearn.feature_selection import chi2\n",
    "from sklearn.model_selection import train_test_split\n",
    "from sklearn.naive_bayes import MultinomialNB, ComplementNB\n",
    "from sklearn.linear_model import LogisticRegression\n",
    "from sklearn.svm import LinearSVC\n",
    "from sklearn.model_selection import cross_val_score\n",
    "from sklearn.metrics import confusion_matrix\n",
    "from sklearn import metrics"
   ]
  },
  {
   "cell_type": "code",
   "execution_count": 3,
   "id": "2a6631c7",
   "metadata": {
    "execution": {
     "iopub.execute_input": "2023-05-30T06:47:59.387051Z",
     "iopub.status.busy": "2023-05-30T06:47:59.386730Z",
     "iopub.status.idle": "2023-05-30T06:47:59.390831Z",
     "shell.execute_reply": "2023-05-30T06:47:59.390273Z",
     "shell.execute_reply.started": "2023-05-30T06:47:59.387028Z"
    },
    "tags": []
   },
   "outputs": [],
   "source": [
    "# define path\n",
    "path = os.path.join(\"..\", \"in\", \"balanced_dataset.csv\")"
   ]
  },
  {
   "cell_type": "code",
   "execution_count": 4,
   "id": "ad783791",
   "metadata": {
    "execution": {
     "iopub.execute_input": "2023-05-30T06:47:59.392140Z",
     "iopub.status.busy": "2023-05-30T06:47:59.391828Z",
     "iopub.status.idle": "2023-05-30T06:47:59.590619Z",
     "shell.execute_reply": "2023-05-30T06:47:59.589254Z",
     "shell.execute_reply.started": "2023-05-30T06:47:59.392117Z"
    },
    "tags": []
   },
   "outputs": [],
   "source": [
    "# read csv\n",
    "df = pd.read_csv(path)\n",
    "# make sure ratings are parsed as strings and not integers\n",
    "df['rating'] = df['rating'].astype(str)"
   ]
  },
  {
   "cell_type": "code",
   "execution_count": 5,
   "id": "4cbb4b85",
   "metadata": {
    "execution": {
     "iopub.execute_input": "2023-05-30T06:47:59.593588Z",
     "iopub.status.busy": "2023-05-30T06:47:59.593155Z",
     "iopub.status.idle": "2023-05-30T06:47:59.615162Z",
     "shell.execute_reply": "2023-05-30T06:47:59.613951Z",
     "shell.execute_reply.started": "2023-05-30T06:47:59.593566Z"
    },
    "tags": []
   },
   "outputs": [],
   "source": [
    "# create a new column 'category_id' with encoded categories \n",
    "df['category_id'] = df['rating'].factorize()[0]\n",
    "# remove duplicates\n",
    "category_id_df = df[['rating', 'category_id']].drop_duplicates()\n",
    "# create dictionaries for future use\n",
    "category_to_id = dict(category_id_df.values)\n",
    "id_to_category = dict(category_id_df[['category_id', 'rating']].values)"
   ]
  },
  {
   "cell_type": "markdown",
   "id": "719a07da",
   "metadata": {},
   "source": [
    "## Vectorisation"
   ]
  },
  {
   "cell_type": "markdown",
   "id": "f5545845",
   "metadata": {},
   "source": [
    "### TD-IDF"
   ]
  },
  {
   "cell_type": "code",
   "execution_count": 6,
   "id": "9657d432",
   "metadata": {
    "execution": {
     "iopub.execute_input": "2023-05-30T06:47:59.616467Z",
     "iopub.status.busy": "2023-05-30T06:47:59.616257Z",
     "iopub.status.idle": "2023-05-30T06:48:04.597876Z",
     "shell.execute_reply": "2023-05-30T06:48:04.594995Z",
     "shell.execute_reply.started": "2023-05-30T06:47:59.616448Z"
    },
    "tags": []
   },
   "outputs": [
    {
     "name": "stdout",
     "output_type": "stream",
     "text": [
      "Each of the 85265 reviews is represented by 22959 features (TF-IDF score of unigrams and bigrams)\n"
     ]
    }
   ],
   "source": [
    "# vectorise the texts\n",
    "tfidf = TfidfVectorizer(sublinear_tf=True, \n",
    "                        min_df= 5, # exclude tokens that occurred in less than 5 texts\n",
    "                        ngram_range=(1, 2), # get uni- and bigrams\n",
    "                        encoding = 'utf-16',\n",
    "                        max_features = None)\n",
    "# transform each review into a vector\n",
    "features = tfidf.fit_transform(df['review'].values.astype('str')).toarray()\n",
    "\n",
    "# get labels\n",
    "labels = df.category_id\n",
    "print(\"Each of the %d reviews is represented by %d features (TF-IDF score of unigrams and bigrams)\" %(features.shape))"
   ]
  },
  {
   "cell_type": "code",
   "execution_count": 7,
   "id": "eebcebeb",
   "metadata": {
    "execution": {
     "iopub.execute_input": "2023-05-30T06:48:04.601002Z",
     "iopub.status.busy": "2023-05-30T06:48:04.600582Z",
     "iopub.status.idle": "2023-05-30T06:48:42.336705Z",
     "shell.execute_reply": "2023-05-30T06:48:42.335801Z",
     "shell.execute_reply.started": "2023-05-30T06:48:04.600959Z"
    },
    "tags": []
   },
   "outputs": [
    {
     "name": "stdout",
     "output_type": "stream",
     "text": [
      "Correlated terms have been written to '../out/machine_learning_output/correlated_terms.txt'.\n"
     ]
    }
   ],
   "source": [
    "N = 15 # number of correlated terms, we want to find\n",
    "out_file = os.path.join(\"..\", \"out\", \"machine_learning_output\", \"correlated_terms.txt\")\n",
    "\n",
    "# find and write most correlated terms into a .txt-file\n",
    "with open(out_file, 'w') as f: \n",
    "    f.write(\"MOST CORRELATED TERMS PER CATEGORY\\n\")\n",
    "    for rating, category_id in sorted(category_to_id.items()):\n",
    "        features_chi2 = chi2(features, labels == category_id)\n",
    "        indices = np.argsort(features_chi2[0])\n",
    "        feature_names = np.array(tfidf.get_feature_names_out())[indices]\n",
    "        unigrams = [v for v in feature_names if len(v.split(' ')) == 1]\n",
    "        bigrams = [v for v in feature_names if len(v.split(' ')) == 2]\n",
    "        f.write(\"n==> %s:\\n\" %(rating))\n",
    "        f.write(\"  * Most Correlated Unigrams are: %s\\n\\n\" %(', '.join(unigrams[-N:])))\n",
    "        f.write(\"  * Most Correlated Bigrams are: %s\\n\\n\\n\" %(', '.join(bigrams[-N:])))\n",
    "print(\"Correlated terms have been written to '%s'.\" % out_file)"
   ]
  },
  {
   "cell_type": "markdown",
   "id": "3d2b17af",
   "metadata": {
    "tags": []
   },
   "source": [
    "## Finding the best classifier"
   ]
  },
  {
   "cell_type": "code",
   "execution_count": 8,
   "id": "d5916d71",
   "metadata": {
    "execution": {
     "iopub.execute_input": "2023-05-30T06:48:42.338201Z",
     "iopub.status.busy": "2023-05-30T06:48:42.337961Z",
     "iopub.status.idle": "2023-05-30T06:48:47.256259Z",
     "shell.execute_reply": "2023-05-30T06:48:47.254357Z",
     "shell.execute_reply.started": "2023-05-30T06:48:42.338179Z"
    },
    "tags": []
   },
   "outputs": [],
   "source": [
    "# train-test split\n",
    "X_train, X_test, y_train, y_test = train_test_split(features, labels, \n",
    "                                                    test_size=0.25,\n",
    "                                                    random_state = 42)"
   ]
  },
  {
   "cell_type": "code",
   "execution_count": 9,
   "id": "100743b4",
   "metadata": {
    "execution": {
     "iopub.execute_input": "2023-05-30T06:48:47.259043Z",
     "iopub.status.busy": "2023-05-30T06:48:47.258751Z",
     "iopub.status.idle": "2023-05-30T06:48:47.265776Z",
     "shell.execute_reply": "2023-05-30T06:48:47.265106Z",
     "shell.execute_reply.started": "2023-05-30T06:48:47.259012Z"
    },
    "tags": []
   },
   "outputs": [],
   "source": [
    "# list of models we want to test\n",
    "models = [\n",
    "    LogisticRegression(random_state=42, max_iter = 85265),\n",
    "    MultinomialNB(),\n",
    "    ComplementNB(),\n",
    "    LinearSVC()\n",
    "]"
   ]
  },
  {
   "cell_type": "code",
   "execution_count": 10,
   "id": "b3b5c107",
   "metadata": {
    "execution": {
     "iopub.execute_input": "2023-05-30T06:48:47.266751Z",
     "iopub.status.busy": "2023-05-30T06:48:47.266574Z",
     "iopub.status.idle": "2023-05-30T07:07:18.238709Z",
     "shell.execute_reply": "2023-05-30T07:07:18.236229Z",
     "shell.execute_reply.started": "2023-05-30T06:48:47.266735Z"
    },
    "tags": []
   },
   "outputs": [
    {
     "name": "stdout",
     "output_type": "stream",
     "text": [
      "LogisticRegression...\n",
      "Complete!\n",
      "\n",
      "MultinomialNB...\n",
      "Complete!\n",
      "\n",
      "ComplementNB...\n",
      "Complete!\n",
      "\n",
      "LinearSVC...\n",
      "Complete!\n",
      "\n"
     ]
    }
   ],
   "source": [
    "# cross-validation\n",
    "CV = 3 # the number of k-folds into which the dataset is divided during cross-validation\n",
    "cv_df = pd.DataFrame(index=range(CV * len(models)))\n",
    "model_names = [\"LogisticRegression\", \"MultinomialNB\", \"ComplementNB\", \"LinearSVC\"] # model names\n",
    "\n",
    "entries = []\n",
    "counter = 0\n",
    "for model in models:\n",
    "    title = model_names[counter]\n",
    "    print(f\"{title}...\")\n",
    "    counter += 1\n",
    "    model_name = model.__class__.__name__\n",
    "    accuracies = cross_val_score(model, X_train, y_train, scoring='accuracy', cv=CV) # cross-validate models based on accuracy\n",
    "    for fold_idx, accuracy in enumerate(accuracies): # list of accuracies\n",
    "        entries.append((model_name, accuracy))\n",
    "    print(f\"Complete!\\n\")\n",
    "# create mean accuracy df\n",
    "cv_df = pd.DataFrame(entries, columns=['model_name', 'accuracy'])"
   ]
  },
  {
   "cell_type": "code",
   "execution_count": 11,
   "id": "36fa2c61-2617-499a-8200-8e53212036ac",
   "metadata": {
    "execution": {
     "iopub.execute_input": "2023-05-30T07:07:18.241708Z",
     "iopub.status.busy": "2023-05-30T07:07:18.241019Z",
     "iopub.status.idle": "2023-05-30T07:07:18.836876Z",
     "shell.execute_reply": "2023-05-30T07:07:18.835454Z",
     "shell.execute_reply.started": "2023-05-30T07:07:18.241664Z"
    },
    "tags": []
   },
   "outputs": [],
   "source": [
    "# show cross-validation results\n",
    "cv_results = cv_df.groupby(by = \"model_name\", as_index = False).mean().sort_values(by=\"accuracy\", ascending=False)\n",
    "# create a path for saving the cross-validation results\n",
    "cv_path = os.path.join(\"..\", \"out\", \"machine_learning_output\", \"cross-validations_acuracies.csv\")\n",
    "# save the CSV\n",
    "cv_results.to_csv(cv_path, index = False)"
   ]
  },
  {
   "cell_type": "code",
   "execution_count": 12,
   "id": "f91b1bc8",
   "metadata": {
    "execution": {
     "iopub.execute_input": "2023-05-30T07:07:18.839983Z",
     "iopub.status.busy": "2023-05-30T07:07:18.839239Z",
     "iopub.status.idle": "2023-05-30T07:07:19.471914Z",
     "shell.execute_reply": "2023-05-30T07:07:19.471138Z",
     "shell.execute_reply.started": "2023-05-30T07:07:18.839927Z"
    },
    "tags": []
   },
   "outputs": [
    {
     "data": {
      "image/png": "[encoded data removed]",
      "text/plain": [
       "<Figure size 600x500 with 1 Axes>"
      ]
     },
     "metadata": {},
     "output_type": "display_data"
    }
   ],
   "source": [
    "# plot cross-validation results\n",
    "plt.rc('axes', axisbelow=True) # place gridlines below elements in plots\n",
    "\n",
    "# boxplot\n",
    "fig, ax = plt.subplots(figsize=(6,5))\n",
    "\n",
    "ax = sns.boxplot(x='model_name', y='accuracy', \n",
    "                 data=cv_df,\n",
    "                 linewidth=1,\n",
    "                 width=0.7,\n",
    "                 fliersize=5,\n",
    "                 boxprops={\"facecolor\": \"#01a0d6\"}, \n",
    "                 medianprops={\"linewidth\" : 1, \"linestyle\" : \"--\", \"color\" : \"#edfbfe\"})\n",
    "plt.title(\"Model accuracies\", weight = \"bold\", fontsize=15)\n",
    "plt.ylabel(\"Accuracy\", fontsize=10, weight=\"bold\")\n",
    "plt.xlabel(\"Model name\", fontsize=10, weight=\"bold\")\n",
    "plt.grid(axis=\"y\", linestyle='--')\n",
    "plt.xticks(rotation=9)\n",
    "ax.spines[\"top\"].set_visible(False)\n",
    "ax.spines[\"right\"].set_visible(False)\n",
    "plt.tight_layout()  # adjust layout to prevent labels from being cut off\n",
    "\n",
    "# save figure\n",
    "fig_path = os.path.join(\"..\", \"out\", \"machine_learning_output\", \"model_accuracies.png\")\n",
    "plt.savefig(fig_path, dpi=300, bbox_inches='tight')\n",
    "\n",
    "# show figure\n",
    "plt.show()"
   ]
  },
  {
   "cell_type": "markdown",
   "id": "e1db384d",
   "metadata": {},
   "source": [
    "## Training and testing the classifier"
   ]
  },
  {
   "cell_type": "code",
   "execution_count": 13,
   "id": "b4bc4fe1",
   "metadata": {
    "execution": {
     "iopub.execute_input": "2023-05-30T07:07:19.472932Z",
     "iopub.status.busy": "2023-05-30T07:07:19.472734Z",
     "iopub.status.idle": "2023-05-30T07:07:29.964575Z",
     "shell.execute_reply": "2023-05-30T07:07:29.962829Z",
     "shell.execute_reply.started": "2023-05-30T07:07:19.472914Z"
    },
    "tags": []
   },
   "outputs": [],
   "source": [
    "# train-test split\n",
    "X_train, X_test, y_train, y_test,indices_train,indices_test = train_test_split(features, \n",
    "                                                               labels, \n",
    "                                                               df.index, test_size=0.25, \n",
    "                                                               random_state=42)\n",
    "# initialize model\n",
    "model = MultinomialNB()\n",
    "# fit on training data\n",
    "model.fit(X_train, y_train)\n",
    "# predict test data\n",
    "y_pred = model.predict(X_test)"
   ]
  },
  {
   "cell_type": "code",
   "execution_count": 14,
   "id": "79cd6bf6",
   "metadata": {
    "execution": {
     "iopub.execute_input": "2023-05-30T07:07:30.031266Z",
     "iopub.status.busy": "2023-05-30T07:07:30.029978Z",
     "iopub.status.idle": "2023-05-30T07:07:30.388462Z",
     "shell.execute_reply": "2023-05-30T07:07:30.386986Z",
     "shell.execute_reply.started": "2023-05-30T07:07:30.031147Z"
    },
    "tags": []
   },
   "outputs": [
    {
     "name": "stdout",
     "output_type": "stream",
     "text": [
      "CLASSIFICATION METRICS\n",
      "\n",
      "              precision    recall  f1-score   support\n",
      "\n",
      "           1       0.52      0.60      0.56      4230\n",
      "           2       0.38      0.40      0.39      4265\n",
      "           3       0.43      0.36      0.39      4293\n",
      "           4       0.49      0.35      0.41      4335\n",
      "           5       0.57      0.71      0.63      4194\n",
      "\n",
      "    accuracy                           0.48     21317\n",
      "   macro avg       0.48      0.48      0.48     21317\n",
      "weighted avg       0.48      0.48      0.47     21317\n",
      "\n"
     ]
    }
   ],
   "source": [
    "# classification report\n",
    "report = metrics.classification_report(y_test, y_pred, target_names= df['rating'].unique())\n",
    "\n",
    "# write the classification report to a TXT file\n",
    "report_path = os.path.join(\"..\", \"out\", \"machine_learning_output\", \"classification_report.txt\")\n",
    "with open(report_path, 'w') as file:\n",
    "    file.write(report)\n",
    "\n",
    "# print the classification report\n",
    "print('CLASSIFICATION METRICS\\n')\n",
    "print(report)"
   ]
  },
  {
   "cell_type": "code",
   "execution_count": 15,
   "id": "ec9e0e90",
   "metadata": {
    "execution": {
     "iopub.execute_input": "2023-05-30T07:07:30.391443Z",
     "iopub.status.busy": "2023-05-30T07:07:30.390473Z",
     "iopub.status.idle": "2023-05-30T07:07:30.400189Z",
     "shell.execute_reply": "2023-05-30T07:07:30.399003Z",
     "shell.execute_reply.started": "2023-05-30T07:07:30.391372Z"
    },
    "tags": []
   },
   "outputs": [],
   "source": [
    "# define 7 colors for colormap\n",
    "c = [\"#edfbfe\", \"#aee0f5\",\"#6bcae8\",\"#01a0d6\",\"#1b91b8\",\"#166c8c\",\"#0d4960\"]\n",
    "# define their values\n",
    "v = [0,.15,.4,.5,0.6,.9,1.]\n",
    "# zip color codes with values\n",
    "l = list(zip(v,c))\n",
    "# create colormap for plotting\n",
    "cmap=LinearSegmentedColormap.from_list('rg',l, N=256)"
   ]
  },
  {
   "cell_type": "code",
   "execution_count": 16,
   "id": "bc7652b5",
   "metadata": {
    "execution": {
     "iopub.execute_input": "2023-05-30T07:07:30.402826Z",
     "iopub.status.busy": "2023-05-30T07:07:30.402204Z",
     "iopub.status.idle": "2023-05-30T07:07:31.254842Z",
     "shell.execute_reply": "2023-05-30T07:07:31.254086Z",
     "shell.execute_reply.started": "2023-05-30T07:07:30.402785Z"
    },
    "tags": []
   },
   "outputs": [
    {
     "data": {
      "image/png": "[encoded data removed]",
      "text/plain": [
       "<Figure size 600x500 with 2 Axes>"
      ]
     },
     "metadata": {},
     "output_type": "display_data"
    }
   ],
   "source": [
    "# compute confusion matrix from predictions\n",
    "conf_mat = confusion_matrix(y_test, y_pred)\n",
    "\n",
    "# plot the confusion matrix\n",
    "fig, ax = plt.subplots(figsize=(6,5))\n",
    "sns.heatmap(conf_mat, annot=True, cmap = cmap, fmt='d',\n",
    "            xticklabels=category_id_df.rating.values, \n",
    "            yticklabels=category_id_df.rating.values)\n",
    "plt.ylabel('True class', fontsize = 10, weight = \"bold\")\n",
    "plt.xlabel('Predicted class', fontsize = 10, weight = \"bold\")\n",
    "plt.title(\"Confusion matrix\", weight = \"bold\", fontsize=15)\n",
    "plt.tight_layout()  # adjust layout to prevent labels from being cut off\n",
    "\n",
    "# save the figure\n",
    "fig_path = os.path.join(\"..\", \"out\", \"machine_learning_output\", \"confusion_matrix.png\")\n",
    "plt.savefig(fig_path, dpi=300, bbox_inches='tight')\n",
    "plt.show()"
   ]
  },
  {
   "cell_type": "markdown",
   "id": "e5231378",
   "metadata": {},
   "source": [
    "## Prediction of new reviews from TrustPilot"
   ]
  },
  {
   "cell_type": "code",
   "execution_count": 17,
   "id": "35c228b2",
   "metadata": {
    "execution": {
     "iopub.execute_input": "2023-05-30T07:07:31.255867Z",
     "iopub.status.busy": "2023-05-30T07:07:31.255665Z",
     "iopub.status.idle": "2023-05-30T07:07:31.319100Z",
     "shell.execute_reply": "2023-05-30T07:07:31.318360Z",
     "shell.execute_reply.started": "2023-05-30T07:07:31.255848Z"
    },
    "tags": []
   },
   "outputs": [],
   "source": [
    "# get X and y\n",
    "X = df['review']\n",
    "y = df['rating']\n",
    "\n",
    "# split the vetorised data again\n",
    "X_train, X_test, y_train, y_test = train_test_split(X, y, \n",
    "                                                    test_size=0.25,\n",
    "                                                    random_state = 42)"
   ]
  },
  {
   "cell_type": "code",
   "execution_count": 18,
   "id": "f6ceb805",
   "metadata": {
    "execution": {
     "iopub.execute_input": "2023-05-30T07:07:31.319924Z",
     "iopub.status.busy": "2023-05-30T07:07:31.319741Z",
     "iopub.status.idle": "2023-05-30T07:07:34.125486Z",
     "shell.execute_reply": "2023-05-30T07:07:34.124069Z",
     "shell.execute_reply.started": "2023-05-30T07:07:31.319907Z"
    },
    "tags": []
   },
   "outputs": [],
   "source": [
    "# initialize a TF-IDF vetorizer\n",
    "tfidf = TfidfVectorizer(sublinear_tf=True, min_df= 5,\n",
    "                        ngram_range=(1, 2), encoding = 'utf-16')\n",
    "# fit the vetorizer to the training data\n",
    "fitted_vectorizer = tfidf.fit(X_train.astype('str'))\n",
    "# vectorize training data\n",
    "tfidf_vectorizer_vectors = fitted_vectorizer.transform(X_train.astype('str'))\n",
    "# fit the model on the vectorized data\n",
    "model = MultinomialNB().fit(tfidf_vectorizer_vectors, y_train)"
   ]
  },
  {
   "cell_type": "code",
   "execution_count": 19,
   "id": "0589894f-3e0e-4aa5-9055-5fc3b8ea5ae8",
   "metadata": {
    "execution": {
     "iopub.execute_input": "2023-05-30T07:07:34.126544Z",
     "iopub.status.busy": "2023-05-30T07:07:34.126330Z",
     "iopub.status.idle": "2023-05-30T07:07:34.132802Z",
     "shell.execute_reply": "2023-05-30T07:07:34.132082Z",
     "shell.execute_reply.started": "2023-05-30T07:07:34.126525Z"
    },
    "tags": []
   },
   "outputs": [],
   "source": [
    "# get sample of reviews\n",
    "path = os.path.join(\"..\", \"in\", \"sample_for_prediction.csv\")\n",
    "pred_df = pd.read_csv(path)"
   ]
  },
  {
   "cell_type": "code",
   "execution_count": 20,
   "id": "9b749843-3d91-4138-a831-0b6ee825766b",
   "metadata": {
    "execution": {
     "iopub.execute_input": "2023-05-30T07:07:34.133672Z",
     "iopub.status.busy": "2023-05-30T07:07:34.133500Z",
     "iopub.status.idle": "2023-05-30T07:07:34.673483Z",
     "shell.execute_reply": "2023-05-30T07:07:34.672725Z",
     "shell.execute_reply.started": "2023-05-30T07:07:34.133656Z"
    },
    "tags": []
   },
   "outputs": [],
   "source": [
    "# make predictions for each sample\n",
    "predicted_classes = []\n",
    "for rev in pred_df[\"review\"]:\n",
    "    pred = model.predict(fitted_vectorizer.transform([rev]))\n",
    "    predicted_classes.append(pred)\n",
    "# add predictions to the dataframe\n",
    "pred_df[\"predicted_class\"] = predicted_classes"
   ]
  },
  {
   "cell_type": "code",
   "execution_count": 21,
   "id": "67773148",
   "metadata": {
    "execution": {
     "iopub.execute_input": "2023-05-30T07:07:34.674528Z",
     "iopub.status.busy": "2023-05-30T07:07:34.674326Z",
     "iopub.status.idle": "2023-05-30T07:07:35.399123Z",
     "shell.execute_reply": "2023-05-30T07:07:35.397888Z",
     "shell.execute_reply.started": "2023-05-30T07:07:34.674511Z"
    },
    "tags": []
   },
   "outputs": [],
   "source": [
    "# create a path for saving the predictions dataframe\n",
    "pred_path = os.path.join(\"..\", \"out\", \"machine_learning_output\", \"predictions.csv\")\n",
    "# save the CSV\n",
    "pred_df.to_csv(pred_path, index = False)"
   ]
  }
 ],
 "metadata": {
  "kernelspec": {
   "display_name": "Python 3 ",
   "language": "python",
   "name": "python3"
  },
  "language_info": {
   "codemirror_mode": {
    "name": "ipython",
    "version": 3
   },
   "file_extension": ".py",
   "mimetype": "text/x-python",
   "name": "python",
   "nbconvert_exporter": "python",
   "pygments_lexer": "ipython3",
   "version": "3.10.6"
  }
 },
 "nbformat": 4,
 "nbformat_minor": 5
}
