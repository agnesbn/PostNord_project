{
 "cells": [
  {
   "cell_type": "markdown",
   "id": "17a3768e-d188-4bec-b01b-2c80a1166295",
   "metadata": {},
   "source": [
    "# PostNord Trustpilot Reviews"
   ]
  },
  {
   "cell_type": "markdown",
   "id": "7db23eca-72b7-42bc-80ea-da772a117b9b",
   "metadata": {},
   "source": [
    "## Structure of the code"
   ]
  },
  {
   "cell_type": "markdown",
   "id": "6bed6957-6cce-4b61-9769-6b98f6c98314",
   "metadata": {},
   "source": [
    "1. Combine header and text column\n",
    "2. Anonymisation\n",
    "    - Remove names\n",
    "    - Remove dates\n",
    "    - Create unique ids for each person\n",
    "    - Use review and url to remove repeated comments\n",
    "    - Remove urls\n",
    "3. Cleaning and processing\n",
    "    - If a comment was only punctuation => remove that row\n",
    "4. Balance data (around 17,000 per category)\n",
    "    - Randomise data (in categories)\n",
    "    - Keep the first 17,000 of each category"
   ]
  },
  {
   "cell_type": "markdown",
   "id": "b9778e0c-72ad-48e9-baa3-6033d67aaa39",
   "metadata": {},
   "source": [
    "## Initial code"
   ]
  },
  {
   "cell_type": "code",
   "execution_count": 136,
   "id": "aa4fa649-c7ce-41c2-a254-b572e44a51a7",
   "metadata": {
    "execution": {
     "iopub.execute_input": "2023-05-08T12:42:24.444023Z",
     "iopub.status.busy": "2023-05-08T12:42:24.443841Z",
     "iopub.status.idle": "2023-05-08T12:42:24.447732Z",
     "shell.execute_reply": "2023-05-08T12:42:24.447186Z",
     "shell.execute_reply.started": "2023-05-08T12:42:24.444006Z"
    },
    "tags": []
   },
   "outputs": [],
   "source": [
    "#!pip install -U spacy\n",
    "#!python -m spacy download da_core_news_md\n",
    "#!pip install nltk tensorflow numpy pandas seaborn scikit-learn scipy "
   ]
  },
  {
   "cell_type": "code",
   "execution_count": 137,
   "id": "eaa1bf3b-46cb-4013-adb1-ae8faa15591e",
   "metadata": {
    "execution": {
     "iopub.execute_input": "2023-05-08T12:42:24.449393Z",
     "iopub.status.busy": "2023-05-08T12:42:24.449225Z",
     "iopub.status.idle": "2023-05-08T12:42:24.492072Z",
     "shell.execute_reply": "2023-05-08T12:42:24.490739Z",
     "shell.execute_reply.started": "2023-05-08T12:42:24.449377Z"
    },
    "tags": []
   },
   "outputs": [],
   "source": [
    "# system tools\n",
    "import os\n",
    "import sys\n",
    "import random\n",
    "import spacy\n",
    "import da_core_news_md\n",
    "import requests as req\n",
    "from io import StringIO\n",
    "import re\n",
    "\n",
    "# data wranling\n",
    "import pandas as pd\n",
    "import numpy as np\n",
    "from scipy.stats import randint\n",
    "\n",
    "# plotting\n",
    "import seaborn as sns\n",
    "import matplotlib.pyplot as plt\n",
    "\n",
    "# machine learning\n",
    "from sklearn.feature_extraction.text import TfidfVectorizer, CountVectorizer\n",
    "from sklearn.feature_selection import chi2\n",
    "from IPython.display import display\n",
    "from sklearn.model_selection import train_test_split\n",
    "from sklearn.feature_extraction.text import TfidfTransformer\n",
    "from sklearn.naive_bayes import MultinomialNB, BernoulliNB\n",
    "from sklearn.linear_model import LogisticRegression\n",
    "from sklearn.ensemble import RandomForestClassifier\n",
    "from sklearn.svm import LinearSVC\n",
    "from sklearn.model_selection import cross_val_score\n",
    "from sklearn.metrics import confusion_matrix\n",
    "from sklearn import metrics"
   ]
  },
  {
   "cell_type": "code",
   "execution_count": 138,
   "id": "c47a4f14-1734-4775-bc0c-8615962dac45",
   "metadata": {
    "execution": {
     "iopub.execute_input": "2023-05-08T12:42:24.494497Z",
     "iopub.status.busy": "2023-05-08T12:42:24.493830Z",
     "iopub.status.idle": "2023-05-08T12:42:24.534050Z",
     "shell.execute_reply": "2023-05-08T12:42:24.532707Z",
     "shell.execute_reply.started": "2023-05-08T12:42:24.494447Z"
    },
    "tags": []
   },
   "outputs": [],
   "source": [
    "# define path\n",
    "path = os.path.join(\"..\", \"in\", \"balanced_dataset.csv\")"
   ]
  },
  {
   "cell_type": "code",
   "execution_count": 139,
   "id": "e6159bd1-5d0b-4674-bf2e-94b90039e7d8",
   "metadata": {
    "execution": {
     "iopub.execute_input": "2023-05-08T12:42:24.536519Z",
     "iopub.status.busy": "2023-05-08T12:42:24.535855Z",
     "iopub.status.idle": "2023-05-08T12:42:24.663681Z",
     "shell.execute_reply": "2023-05-08T12:42:24.662669Z",
     "shell.execute_reply.started": "2023-05-08T12:42:24.536469Z"
    },
    "tags": []
   },
   "outputs": [],
   "source": [
    "# read csv\n",
    "df = pd.read_csv(path)"
   ]
  },
  {
   "cell_type": "code",
   "execution_count": 140,
   "id": "9fb80f9d-c50b-4bda-a541-910ce3417850",
   "metadata": {
    "execution": {
     "iopub.execute_input": "2023-05-08T12:42:24.664598Z",
     "iopub.status.busy": "2023-05-08T12:42:24.664417Z",
     "iopub.status.idle": "2023-05-08T12:42:24.673912Z",
     "shell.execute_reply": "2023-05-08T12:42:24.673346Z",
     "shell.execute_reply.started": "2023-05-08T12:42:24.664582Z"
    },
    "tags": []
   },
   "outputs": [
    {
     "data": {
      "text/html": [
       "<div>\n",
       "<style scoped>\n",
       "    .dataframe tbody tr th:only-of-type {\n",
       "        vertical-align: middle;\n",
       "    }\n",
       "\n",
       "    .dataframe tbody tr th {\n",
       "        vertical-align: top;\n",
       "    }\n",
       "\n",
       "    .dataframe thead th {\n",
       "        text-align: right;\n",
       "    }\n",
       "</style>\n",
       "<table border=\"1\" class=\"dataframe\">\n",
       "  <thead>\n",
       "    <tr style=\"text-align: right;\">\n",
       "      <th></th>\n",
       "      <th>rating</th>\n",
       "      <th>review</th>\n",
       "      <th>length</th>\n",
       "    </tr>\n",
       "  </thead>\n",
       "  <tbody>\n",
       "    <tr>\n",
       "      <th>0</th>\n",
       "      <td>1</td>\n",
       "      <td>svindel hombug besked</td>\n",
       "      <td>21</td>\n",
       "    </tr>\n",
       "    <tr>\n",
       "      <th>1</th>\n",
       "      <td>1</td>\n",
       "      <td>give 0 stjerner gav måde fan postnord metode o...</td>\n",
       "      <td>58</td>\n",
       "    </tr>\n",
       "    <tr>\n",
       "      <th>2</th>\n",
       "      <td>1</td>\n",
       "      <td>oplevelse pakken væk leveringen bestilt sommer...</td>\n",
       "      <td>107</td>\n",
       "    </tr>\n",
       "    <tr>\n",
       "      <th>3</th>\n",
       "      <td>1</td>\n",
       "      <td>betalt pakken bragt døren betalt pakken bragt ...</td>\n",
       "      <td>143</td>\n",
       "    </tr>\n",
       "    <tr>\n",
       "      <th>4</th>\n",
       "      <td>1</td>\n",
       "      <td>3 leveret forkert posthus 3 pakke leveret fork...</td>\n",
       "      <td>90</td>\n",
       "    </tr>\n",
       "    <tr>\n",
       "      <th>...</th>\n",
       "      <td>...</td>\n",
       "      <td>...</td>\n",
       "      <td>...</td>\n",
       "    </tr>\n",
       "    <tr>\n",
       "      <th>79450</th>\n",
       "      <td>5</td>\n",
       "      <td>dejligt super hurtig levering</td>\n",
       "      <td>29</td>\n",
       "    </tr>\n",
       "    <tr>\n",
       "      <th>79451</th>\n",
       "      <td>5</td>\n",
       "      <td>post nord svigtet pakkepost</td>\n",
       "      <td>27</td>\n",
       "    </tr>\n",
       "    <tr>\n",
       "      <th>79452</th>\n",
       "      <td>5</td>\n",
       "      <td>hurtig besked varen vej hurtig levering</td>\n",
       "      <td>39</td>\n",
       "    </tr>\n",
       "    <tr>\n",
       "      <th>79453</th>\n",
       "      <td>5</td>\n",
       "      <td>super hurtig levering</td>\n",
       "      <td>21</td>\n",
       "    </tr>\n",
       "    <tr>\n",
       "      <th>79454</th>\n",
       "      <td>5</td>\n",
       "      <td>utrolig hurtigt bestilte vare mandagen kl 1400...</td>\n",
       "      <td>74</td>\n",
       "    </tr>\n",
       "  </tbody>\n",
       "</table>\n",
       "<p>79455 rows × 3 columns</p>\n",
       "</div>"
      ],
      "text/plain": [
       "       rating                                             review  length\n",
       "0           1                              svindel hombug besked      21\n",
       "1           1  give 0 stjerner gav måde fan postnord metode o...      58\n",
       "2           1  oplevelse pakken væk leveringen bestilt sommer...     107\n",
       "3           1  betalt pakken bragt døren betalt pakken bragt ...     143\n",
       "4           1  3 leveret forkert posthus 3 pakke leveret fork...      90\n",
       "...       ...                                                ...     ...\n",
       "79450       5                      dejligt super hurtig levering      29\n",
       "79451       5                        post nord svigtet pakkepost      27\n",
       "79452       5            hurtig besked varen vej hurtig levering      39\n",
       "79453       5                              super hurtig levering      21\n",
       "79454       5  utrolig hurtigt bestilte vare mandagen kl 1400...      74\n",
       "\n",
       "[79455 rows x 3 columns]"
      ]
     },
     "execution_count": 140,
     "metadata": {},
     "output_type": "execute_result"
    }
   ],
   "source": [
    "df"
   ]
  },
  {
   "cell_type": "code",
   "execution_count": 141,
   "id": "95600c2f-da8e-4636-a3e7-66afe36d05bc",
   "metadata": {
    "execution": {
     "iopub.execute_input": "2023-05-08T12:42:24.674764Z",
     "iopub.status.busy": "2023-05-08T12:42:24.674577Z",
     "iopub.status.idle": "2023-05-08T12:42:24.722035Z",
     "shell.execute_reply": "2023-05-08T12:42:24.721351Z",
     "shell.execute_reply.started": "2023-05-08T12:42:24.674748Z"
    },
    "tags": []
   },
   "outputs": [
    {
     "data": {
      "text/html": [
       "<div>\n",
       "<style scoped>\n",
       "    .dataframe tbody tr th:only-of-type {\n",
       "        vertical-align: middle;\n",
       "    }\n",
       "\n",
       "    .dataframe tbody tr th {\n",
       "        vertical-align: top;\n",
       "    }\n",
       "\n",
       "    .dataframe thead th {\n",
       "        text-align: right;\n",
       "    }\n",
       "</style>\n",
       "<table border=\"1\" class=\"dataframe\">\n",
       "  <thead>\n",
       "    <tr style=\"text-align: right;\">\n",
       "      <th></th>\n",
       "      <th>rating</th>\n",
       "      <th>review</th>\n",
       "      <th>length</th>\n",
       "      <th>category_id</th>\n",
       "    </tr>\n",
       "  </thead>\n",
       "  <tbody>\n",
       "    <tr>\n",
       "      <th>0</th>\n",
       "      <td>1</td>\n",
       "      <td>svindel hombug besked</td>\n",
       "      <td>21</td>\n",
       "      <td>0</td>\n",
       "    </tr>\n",
       "    <tr>\n",
       "      <th>1</th>\n",
       "      <td>1</td>\n",
       "      <td>give 0 stjerner gav måde fan postnord metode o...</td>\n",
       "      <td>58</td>\n",
       "      <td>0</td>\n",
       "    </tr>\n",
       "    <tr>\n",
       "      <th>2</th>\n",
       "      <td>1</td>\n",
       "      <td>oplevelse pakken væk leveringen bestilt sommer...</td>\n",
       "      <td>107</td>\n",
       "      <td>0</td>\n",
       "    </tr>\n",
       "    <tr>\n",
       "      <th>3</th>\n",
       "      <td>1</td>\n",
       "      <td>betalt pakken bragt døren betalt pakken bragt ...</td>\n",
       "      <td>143</td>\n",
       "      <td>0</td>\n",
       "    </tr>\n",
       "    <tr>\n",
       "      <th>4</th>\n",
       "      <td>1</td>\n",
       "      <td>3 leveret forkert posthus 3 pakke leveret fork...</td>\n",
       "      <td>90</td>\n",
       "      <td>0</td>\n",
       "    </tr>\n",
       "    <tr>\n",
       "      <th>...</th>\n",
       "      <td>...</td>\n",
       "      <td>...</td>\n",
       "      <td>...</td>\n",
       "      <td>...</td>\n",
       "    </tr>\n",
       "    <tr>\n",
       "      <th>195</th>\n",
       "      <td>1</td>\n",
       "      <td>hjælp opsporing tabt pakke</td>\n",
       "      <td>26</td>\n",
       "      <td>0</td>\n",
       "    </tr>\n",
       "    <tr>\n",
       "      <th>196</th>\n",
       "      <td>1</td>\n",
       "      <td>betalt leveret arbejdsplads hente pakkeshop orden</td>\n",
       "      <td>49</td>\n",
       "      <td>0</td>\n",
       "    </tr>\n",
       "    <tr>\n",
       "      <th>197</th>\n",
       "      <td>1</td>\n",
       "      <td>pakke behandlet kassen halv spærret tapen stykker</td>\n",
       "      <td>49</td>\n",
       "      <td>0</td>\n",
       "    </tr>\n",
       "    <tr>\n",
       "      <th>198</th>\n",
       "      <td>1</td>\n",
       "      <td>pakken fuldstændig smadret tapet gad behandler...</td>\n",
       "      <td>106</td>\n",
       "      <td>0</td>\n",
       "    </tr>\n",
       "    <tr>\n",
       "      <th>199</th>\n",
       "      <td>1</td>\n",
       "      <td>forsinket leveret posthus frem pakkeboks besti...</td>\n",
       "      <td>96</td>\n",
       "      <td>0</td>\n",
       "    </tr>\n",
       "  </tbody>\n",
       "</table>\n",
       "<p>200 rows × 4 columns</p>\n",
       "</div>"
      ],
      "text/plain": [
       "     rating                                             review  length  \\\n",
       "0         1                              svindel hombug besked      21   \n",
       "1         1  give 0 stjerner gav måde fan postnord metode o...      58   \n",
       "2         1  oplevelse pakken væk leveringen bestilt sommer...     107   \n",
       "3         1  betalt pakken bragt døren betalt pakken bragt ...     143   \n",
       "4         1  3 leveret forkert posthus 3 pakke leveret fork...      90   \n",
       "..      ...                                                ...     ...   \n",
       "195       1                         hjælp opsporing tabt pakke      26   \n",
       "196       1  betalt leveret arbejdsplads hente pakkeshop orden      49   \n",
       "197       1  pakke behandlet kassen halv spærret tapen stykker      49   \n",
       "198       1  pakken fuldstændig smadret tapet gad behandler...     106   \n",
       "199       1  forsinket leveret posthus frem pakkeboks besti...      96   \n",
       "\n",
       "     category_id  \n",
       "0              0  \n",
       "1              0  \n",
       "2              0  \n",
       "3              0  \n",
       "4              0  \n",
       "..           ...  \n",
       "195            0  \n",
       "196            0  \n",
       "197            0  \n",
       "198            0  \n",
       "199            0  \n",
       "\n",
       "[200 rows x 4 columns]"
      ]
     },
     "execution_count": 141,
     "metadata": {},
     "output_type": "execute_result"
    }
   ],
   "source": [
    "# Create a new column 'category_id' with encoded categories \n",
    "df['category_id'] = df['rating'].factorize()[0]\n",
    "category_id_df = df[['rating', 'category_id']].drop_duplicates()\n",
    "# Dictionaries for future use\n",
    "category_to_id = dict(category_id_df.values)\n",
    "id_to_category = dict(category_id_df[['category_id', 'rating']].values)\n",
    "# New dataframe\n",
    "df.head(200)"
   ]
  },
  {
   "cell_type": "code",
   "execution_count": 142,
   "id": "9823d7b0-527c-4bf7-bca1-d3d700628f04",
   "metadata": {
    "execution": {
     "iopub.execute_input": "2023-05-08T12:42:32.115072Z",
     "iopub.status.busy": "2023-05-08T12:42:32.114879Z",
     "iopub.status.idle": "2023-05-08T12:42:32.120080Z",
     "shell.execute_reply": "2023-05-08T12:42:32.119552Z",
     "shell.execute_reply.started": "2023-05-08T12:42:32.115055Z"
    },
    "tags": []
   },
   "outputs": [
    {
     "data": {
      "text/plain": [
       "79455"
      ]
     },
     "execution_count": 142,
     "metadata": {},
     "output_type": "execute_result"
    }
   ],
   "source": [
    "len(df)"
   ]
  },
  {
   "cell_type": "markdown",
   "id": "c955123f-48ef-48a3-a0a5-9922e839d3f4",
   "metadata": {},
   "source": [
    "## Vectorisation"
   ]
  },
  {
   "cell_type": "markdown",
   "id": "f75ff519-ae8f-40f7-a318-148ef6e51926",
   "metadata": {},
   "source": [
    "### TD-IDF"
   ]
  },
  {
   "cell_type": "code",
   "execution_count": 135,
   "id": "636c41b6-94f4-4519-ba6f-ec275542a173",
   "metadata": {
    "execution": {
     "iopub.execute_input": "2023-05-08T12:42:19.451971Z",
     "iopub.status.busy": "2023-05-08T12:42:19.451132Z",
     "iopub.status.idle": "2023-05-08T12:42:23.202986Z",
     "shell.execute_reply": "2023-05-08T12:42:23.202224Z",
     "shell.execute_reply.started": "2023-05-08T12:42:19.451916Z"
    },
    "tags": []
   },
   "outputs": [
    {
     "name": "stdout",
     "output_type": "stream",
     "text": [
      "Each of the 79455 reviews is represented by 21654 features (TF-IDF score of unigrams and bigrams)\n"
     ]
    }
   ],
   "source": [
    "tfidf = TfidfVectorizer(sublinear_tf=True, min_df= 5, max_df = 95,\n",
    "                        ngram_range=(1, 2), encoding = 'utf-16',\n",
    "                       max_features = None)\n",
    "# We transform each complaint into a vector\n",
    "features = tfidf.fit_transform(df.review).toarray()\n",
    "labels = df.category_id\n",
    "print(\"Each of the %d reviews is represented by %d features (TF-IDF score of unigrams and bigrams)\" %(features.shape))"
   ]
  },
  {
   "cell_type": "code",
   "execution_count": 109,
   "id": "de42860b-5998-45e8-b97d-c6992e0b08dd",
   "metadata": {
    "execution": {
     "iopub.execute_input": "2023-05-08T11:48:21.739576Z",
     "iopub.status.busy": "2023-05-08T11:48:21.738767Z",
     "iopub.status.idle": "2023-05-08T11:48:49.147185Z",
     "shell.execute_reply": "2023-05-08T11:48:49.146188Z",
     "shell.execute_reply.started": "2023-05-08T11:48:21.739522Z"
    },
    "tags": []
   },
   "outputs": [
    {
     "name": "stdout",
     "output_type": "stream",
     "text": [
      "n==> 1:\n",
      "  * Most Correlated Unigrams are: skod, elendige, elendigt\n",
      "  * Most Correlated Bigrams are: dårlig kundeservice, dårligste service, utrolig dårlig\n",
      "n==> 2:\n",
      "  * Most Correlated Unigrams are: alternativt, huller, angiveligt\n",
      "  * Most Correlated Bigrams are: vælger pakkeboks, dage sent, forkert leveringssted\n",
      "n==> 3:\n",
      "  * Most Correlated Unigrams are: nogenlunde, blandet, middel\n",
      "  * Most Correlated Bigrams are: irriterende pakken, levering irriterende, pakken trykket\n",
      "n==> 4:\n",
      "  * Most Correlated Unigrams are: stabil, pakkeforsendelse, uproblematisk\n",
      "  * Most Correlated Bigrams are: udmærket service, rimelig hurtig, fin behandling\n",
      "n==> 5:\n",
      "  * Most Correlated Unigrams are: problemfrit, lyn, lynhurtigt\n",
      "  * Most Correlated Bigrams are: hurtig problemfri, fantastisk hurtig, perfekt hurtig\n"
     ]
    }
   ],
   "source": [
    "# Finding the three most correlated terms with each of the product categories\n",
    "N = 3\n",
    "for rating, category_id in sorted(category_to_id.items()):\n",
    "    features_chi2 = chi2(features, labels == category_id)\n",
    "    indices = np.argsort(features_chi2[0])\n",
    "    feature_names = np.array(tfidf.get_feature_names_out())[indices]\n",
    "    unigrams = [v for v in feature_names if len(v.split(' ')) == 1]\n",
    "    bigrams = [v for v in feature_names if len(v.split(' ')) == 2]\n",
    "    #trigrams = [v for v in feature_names if len(v.split(' ')) == 3]\n",
    "    print(\"n==> %s:\" %(rating))\n",
    "    print(\"  * Most Correlated Unigrams are: %s\" %(', '.join(unigrams[-N:])))\n",
    "    print(\"  * Most Correlated Bigrams are: %s\" %(', '.join(bigrams[-N:])))\n",
    "    #print(\"  * Most Correlated Bigrams are: %s\" %(', '.join(trigrams[-N:])))"
   ]
  },
  {
   "cell_type": "markdown",
   "id": "2382401e-7856-41dc-af56-40a2b531ee9f",
   "metadata": {},
   "source": [
    "## Finding the best classifier"
   ]
  },
  {
   "cell_type": "code",
   "execution_count": 110,
   "id": "1ed1868b-e1d0-4799-b8b5-0abebb65625c",
   "metadata": {
    "execution": {
     "iopub.execute_input": "2023-05-08T11:48:50.360408Z",
     "iopub.status.busy": "2023-05-08T11:48:50.360228Z",
     "iopub.status.idle": "2023-05-08T11:48:50.373874Z",
     "shell.execute_reply": "2023-05-08T11:48:50.373246Z",
     "shell.execute_reply.started": "2023-05-08T11:48:50.360391Z"
    },
    "tags": []
   },
   "outputs": [],
   "source": [
    "X = df['review'] # Collection of documents\n",
    "y = df['rating'] # Target or the labels we want to predict (i.e., the 5 different ratings)\n",
    "X_train, X_test, y_train, y_test = train_test_split(X, y, \n",
    "                                                    test_size=0.25,\n",
    "                                                    random_state = 42)"
   ]
  },
  {
   "cell_type": "code",
   "execution_count": 113,
   "id": "dd0075fa-6382-4c0d-bbd0-bcd90826d92f",
   "metadata": {
    "execution": {
     "iopub.execute_input": "2023-05-08T11:49:23.904740Z",
     "iopub.status.busy": "2023-05-08T11:49:23.903917Z",
     "iopub.status.idle": "2023-05-08T11:49:23.915221Z",
     "shell.execute_reply": "2023-05-08T11:49:23.914068Z",
     "shell.execute_reply.started": "2023-05-08T11:49:23.904675Z"
    },
    "tags": []
   },
   "outputs": [],
   "source": [
    "models = [\n",
    "    RandomForestClassifier(n_estimators=100, max_depth=5, random_state=42),\n",
    "    LinearSVC(),\n",
    "    MultinomialNB(),\n",
    "    BernoulliNB(),\n",
    "    LogisticRegression(random_state=42, max_iter = (y_train.value_counts().max() * 5)),\n",
    "]"
   ]
  },
  {
   "cell_type": "code",
   "execution_count": 114,
   "id": "d074e338-8d19-46fd-a229-fc99e8871a25",
   "metadata": {
    "execution": {
     "iopub.execute_input": "2023-05-08T11:49:26.000410Z",
     "iopub.status.busy": "2023-05-08T11:49:25.999644Z",
     "iopub.status.idle": "2023-05-08T11:49:26.007840Z",
     "shell.execute_reply": "2023-05-08T11:49:26.006533Z",
     "shell.execute_reply.started": "2023-05-08T11:49:26.000355Z"
    },
    "tags": []
   },
   "outputs": [],
   "source": [
    "# 5 Cross-validation\n",
    "CV = 5\n",
    "cv_df = pd.DataFrame(index=range(CV * len(models)))"
   ]
  },
  {
   "cell_type": "code",
   "execution_count": 115,
   "id": "2102ed95-0dec-4e20-826a-4e1f186e62d0",
   "metadata": {
    "execution": {
     "iopub.execute_input": "2023-05-08T11:49:27.314704Z",
     "iopub.status.busy": "2023-05-08T11:49:27.314508Z",
     "iopub.status.idle": "2023-05-08T11:49:27.318755Z",
     "shell.execute_reply": "2023-05-08T11:49:27.318158Z",
     "shell.execute_reply.started": "2023-05-08T11:49:27.314679Z"
    },
    "tags": []
   },
   "outputs": [],
   "source": [
    "model_names = [\"RandomForestClassifier\", \"LinearSVC\", \"MultinomialNB\", \"BernoulliNB\", \"LogisticRegression\"]"
   ]
  },
  {
   "cell_type": "code",
   "execution_count": 116,
   "id": "311ff5eb-8d01-4d5d-8375-1ac8fdccaf8b",
   "metadata": {
    "execution": {
     "iopub.execute_input": "2023-05-08T11:49:28.705381Z",
     "iopub.status.busy": "2023-05-08T11:49:28.705192Z",
     "iopub.status.idle": "2023-05-08T12:13:42.049046Z",
     "shell.execute_reply": "2023-05-08T12:13:42.046229Z",
     "shell.execute_reply.started": "2023-05-08T11:49:28.705364Z"
    },
    "tags": []
   },
   "outputs": [
    {
     "name": "stdout",
     "output_type": "stream",
     "text": [
      "Training RandomForestClassifier...\n",
      "Training for RandomForestClassifier complete!\n",
      "\n",
      "Training LinearSVC...\n",
      "Training for LinearSVC complete!\n",
      "\n",
      "Training MultinomialNB...\n",
      "Training for MultinomialNB complete!\n",
      "\n",
      "Training BernoulliNB...\n",
      "Training for BernoulliNB complete!\n",
      "\n",
      "Training LogisticRegression...\n",
      "Training for LogisticRegression complete!\n",
      "\n"
     ]
    }
   ],
   "source": [
    "entries = []\n",
    "counter = 0\n",
    "for model in models:\n",
    "    title = model_names[counter]\n",
    "    print(f\"Training {title}...\")\n",
    "    counter += 1\n",
    "    model_name = model.__class__.__name__\n",
    "    accuracies = cross_val_score(model, features, labels, scoring='accuracy', cv=CV)\n",
    "    for fold_idx, accuracy in enumerate(accuracies):\n",
    "        entries.append((model_name, accuracy))\n",
    "    print(f\"Training for {title} complete!\\n\")\n",
    "cv_df = pd.DataFrame(entries, columns=['model_name', 'accuracy'])"
   ]
  },
  {
   "cell_type": "code",
   "execution_count": 117,
   "id": "9010302c-cd6b-4a0b-a06c-6f1f69781f83",
   "metadata": {
    "execution": {
     "iopub.execute_input": "2023-05-08T12:14:28.733259Z",
     "iopub.status.busy": "2023-05-08T12:14:28.732596Z",
     "iopub.status.idle": "2023-05-08T12:14:28.748939Z",
     "shell.execute_reply": "2023-05-08T12:14:28.747970Z",
     "shell.execute_reply.started": "2023-05-08T12:14:28.733205Z"
    },
    "tags": []
   },
   "outputs": [
    {
     "data": {
      "text/html": [
       "<div>\n",
       "<style scoped>\n",
       "    .dataframe tbody tr th:only-of-type {\n",
       "        vertical-align: middle;\n",
       "    }\n",
       "\n",
       "    .dataframe tbody tr th {\n",
       "        vertical-align: top;\n",
       "    }\n",
       "\n",
       "    .dataframe thead th {\n",
       "        text-align: right;\n",
       "    }\n",
       "</style>\n",
       "<table border=\"1\" class=\"dataframe\">\n",
       "  <thead>\n",
       "    <tr style=\"text-align: right;\">\n",
       "      <th></th>\n",
       "      <th>accuracy</th>\n",
       "    </tr>\n",
       "    <tr>\n",
       "      <th>model_name</th>\n",
       "      <th></th>\n",
       "    </tr>\n",
       "  </thead>\n",
       "  <tbody>\n",
       "    <tr>\n",
       "      <th>BernoulliNB</th>\n",
       "      <td>0.389667</td>\n",
       "    </tr>\n",
       "    <tr>\n",
       "      <th>LinearSVC</th>\n",
       "      <td>0.402844</td>\n",
       "    </tr>\n",
       "    <tr>\n",
       "      <th>LogisticRegression</th>\n",
       "      <td>0.418098</td>\n",
       "    </tr>\n",
       "    <tr>\n",
       "      <th>MultinomialNB</th>\n",
       "      <td>0.375395</td>\n",
       "    </tr>\n",
       "    <tr>\n",
       "      <th>RandomForestClassifier</th>\n",
       "      <td>0.260097</td>\n",
       "    </tr>\n",
       "  </tbody>\n",
       "</table>\n",
       "</div>"
      ],
      "text/plain": [
       "                        accuracy\n",
       "model_name                      \n",
       "BernoulliNB             0.389667\n",
       "LinearSVC               0.402844\n",
       "LogisticRegression      0.418098\n",
       "MultinomialNB           0.375395\n",
       "RandomForestClassifier  0.260097"
      ]
     },
     "execution_count": 117,
     "metadata": {},
     "output_type": "execute_result"
    }
   ],
   "source": [
    "cv_df.groupby(by = \"model_name\").mean()"
   ]
  },
  {
   "cell_type": "code",
   "execution_count": 118,
   "id": "19d24975-81e4-4f7e-8e4e-841f20cfbe2a",
   "metadata": {
    "execution": {
     "iopub.execute_input": "2023-05-08T12:14:34.088679Z",
     "iopub.status.busy": "2023-05-08T12:14:34.088042Z",
     "iopub.status.idle": "2023-05-08T12:14:34.304136Z",
     "shell.execute_reply": "2023-05-08T12:14:34.303466Z",
     "shell.execute_reply.started": "2023-05-08T12:14:34.088625Z"
    },
    "tags": []
   },
   "outputs": [
    {
     "data": {
      "text/plain": [
       "Text(0, 0.5, 'Accuracy\\n')"
      ]
     },
     "execution_count": 118,
     "metadata": {},
     "output_type": "execute_result"
    },
    {
     "data": {
      "image/png": "[encoded data removed]",
      "text/plain": [
       "<Figure size 800x500 with 1 Axes>"
      ]
     },
     "metadata": {},
     "output_type": "display_data"
    }
   ],
   "source": [
    "plt.figure(figsize=(8,5))\n",
    "sns.boxplot(x='model_name', y='accuracy', \n",
    "            data=cv_df, \n",
    "            color='lightblue', \n",
    "            showmeans=True)\n",
    "plt.title(\"MEAN ACCURACY (cv = 5)\\n\", size=14);\n",
    "plt.xlabel(\"Model name\\n\")\n",
    "plt.ylabel(\"Accuracy\\n\")"
   ]
  },
  {
   "cell_type": "markdown",
   "id": "08161728-bb22-4b32-b393-b59b05315f00",
   "metadata": {},
   "source": [
    "## Training and testing the classifier"
   ]
  },
  {
   "cell_type": "code",
   "execution_count": 119,
   "id": "62f6ac4b-8a94-4c74-b678-701707d0b6f6",
   "metadata": {
    "execution": {
     "iopub.execute_input": "2023-05-08T12:14:42.366052Z",
     "iopub.status.busy": "2023-05-08T12:14:42.365405Z",
     "iopub.status.idle": "2023-05-08T12:18:03.050543Z",
     "shell.execute_reply": "2023-05-08T12:18:03.044586Z",
     "shell.execute_reply.started": "2023-05-08T12:14:42.365998Z"
    },
    "tags": []
   },
   "outputs": [],
   "source": [
    "X_train, X_test, y_train, y_test,indices_train,indices_test = train_test_split(features, \n",
    "                                                               labels, \n",
    "                                                               df.index, test_size=0.25, \n",
    "                                                               random_state=42)\n",
    "model = LogisticRegression(random_state=42, max_iter = (y_train.value_counts().max() * 5))\n",
    "#model = MultinomialNB()\n",
    "#model = LinearSVC()\n",
    "#model = RandomForestClassifier(n_estimators=100, max_depth=5, random_state=42)\n",
    "model.fit(X_train, y_train)\n",
    "y_pred = model.predict(X_test)"
   ]
  },
  {
   "cell_type": "code",
   "execution_count": 120,
   "id": "67938a0a-160f-48e0-a805-4b156f682911",
   "metadata": {
    "execution": {
     "iopub.execute_input": "2023-05-08T12:22:16.070597Z",
     "iopub.status.busy": "2023-05-08T12:22:16.069854Z",
     "iopub.status.idle": "2023-05-08T12:22:16.210347Z",
     "shell.execute_reply": "2023-05-08T12:22:16.209059Z",
     "shell.execute_reply.started": "2023-05-08T12:22:16.070541Z"
    },
    "tags": []
   },
   "outputs": [
    {
     "name": "stdout",
     "output_type": "stream",
     "text": [
      "CLASSIFICATION METRICS\n",
      "\n"
     ]
    },
    {
     "ename": "TypeError",
     "evalue": "object of type 'numpy.int64' has no len()",
     "output_type": "error",
     "traceback": [
      "\u001b[0;31m---------------------------------------------------------------------------\u001b[0m",
      "\u001b[0;31mTypeError\u001b[0m                                 Traceback (most recent call last)",
      "Cell \u001b[0;32mIn[120], line 3\u001b[0m\n\u001b[1;32m      1\u001b[0m \u001b[38;5;66;03m# Classification report\u001b[39;00m\n\u001b[1;32m      2\u001b[0m \u001b[38;5;28mprint\u001b[39m(\u001b[38;5;124m'\u001b[39m\u001b[38;5;124mCLASSIFICATION METRICS\u001b[39m\u001b[38;5;130;01m\\n\u001b[39;00m\u001b[38;5;124m'\u001b[39m)\n\u001b[0;32m----> 3\u001b[0m \u001b[38;5;28mprint\u001b[39m(\u001b[43mmetrics\u001b[49m\u001b[38;5;241;43m.\u001b[39;49m\u001b[43mclassification_report\u001b[49m\u001b[43m(\u001b[49m\u001b[43my_test\u001b[49m\u001b[43m,\u001b[49m\u001b[43m \u001b[49m\u001b[43my_pred\u001b[49m\u001b[43m,\u001b[49m\u001b[43m \u001b[49m\n\u001b[1;32m      4\u001b[0m \u001b[43m                                    \u001b[49m\u001b[43mtarget_names\u001b[49m\u001b[38;5;241;43m=\u001b[39;49m\u001b[43m \u001b[49m\u001b[43mdf\u001b[49m\u001b[43m[\u001b[49m\u001b[38;5;124;43m'\u001b[39;49m\u001b[38;5;124;43mrating\u001b[39;49m\u001b[38;5;124;43m'\u001b[39;49m\u001b[43m]\u001b[49m\u001b[38;5;241;43m.\u001b[39;49m\u001b[43munique\u001b[49m\u001b[43m(\u001b[49m\u001b[43m)\u001b[49m\u001b[43m)\u001b[49m)\n",
      "File \u001b[0;32m/opt/conda/lib/python3.10/site-packages/sklearn/metrics/_classification.py:2363\u001b[0m, in \u001b[0;36mclassification_report\u001b[0;34m(y_true, y_pred, labels, target_names, sample_weight, digits, output_dict, zero_division)\u001b[0m\n\u001b[1;32m   2361\u001b[0m \u001b[38;5;28;01melse\u001b[39;00m:\n\u001b[1;32m   2362\u001b[0m     longest_last_line_heading \u001b[38;5;241m=\u001b[39m \u001b[38;5;124m\"\u001b[39m\u001b[38;5;124mweighted avg\u001b[39m\u001b[38;5;124m\"\u001b[39m\n\u001b[0;32m-> 2363\u001b[0m     name_width \u001b[38;5;241m=\u001b[39m \u001b[38;5;28;43mmax\u001b[39;49m\u001b[43m(\u001b[49m\u001b[38;5;28;43mlen\u001b[39;49m\u001b[43m(\u001b[49m\u001b[43mcn\u001b[49m\u001b[43m)\u001b[49m\u001b[43m \u001b[49m\u001b[38;5;28;43;01mfor\u001b[39;49;00m\u001b[43m \u001b[49m\u001b[43mcn\u001b[49m\u001b[43m \u001b[49m\u001b[38;5;129;43;01min\u001b[39;49;00m\u001b[43m \u001b[49m\u001b[43mtarget_names\u001b[49m\u001b[43m)\u001b[49m\n\u001b[1;32m   2364\u001b[0m     width \u001b[38;5;241m=\u001b[39m \u001b[38;5;28mmax\u001b[39m(name_width, \u001b[38;5;28mlen\u001b[39m(longest_last_line_heading), digits)\n\u001b[1;32m   2365\u001b[0m     head_fmt \u001b[38;5;241m=\u001b[39m \u001b[38;5;124m\"\u001b[39m\u001b[38;5;124m{\u001b[39m\u001b[38;5;124m:>\u001b[39m\u001b[38;5;132;01m{width}\u001b[39;00m\u001b[38;5;124ms} \u001b[39m\u001b[38;5;124m\"\u001b[39m \u001b[38;5;241m+\u001b[39m \u001b[38;5;124m\"\u001b[39m\u001b[38;5;124m \u001b[39m\u001b[38;5;132;01m{:>9}\u001b[39;00m\u001b[38;5;124m\"\u001b[39m \u001b[38;5;241m*\u001b[39m \u001b[38;5;28mlen\u001b[39m(headers)\n",
      "File \u001b[0;32m/opt/conda/lib/python3.10/site-packages/sklearn/metrics/_classification.py:2363\u001b[0m, in \u001b[0;36m<genexpr>\u001b[0;34m(.0)\u001b[0m\n\u001b[1;32m   2361\u001b[0m \u001b[38;5;28;01melse\u001b[39;00m:\n\u001b[1;32m   2362\u001b[0m     longest_last_line_heading \u001b[38;5;241m=\u001b[39m \u001b[38;5;124m\"\u001b[39m\u001b[38;5;124mweighted avg\u001b[39m\u001b[38;5;124m\"\u001b[39m\n\u001b[0;32m-> 2363\u001b[0m     name_width \u001b[38;5;241m=\u001b[39m \u001b[38;5;28mmax\u001b[39m(\u001b[38;5;28;43mlen\u001b[39;49m\u001b[43m(\u001b[49m\u001b[43mcn\u001b[49m\u001b[43m)\u001b[49m \u001b[38;5;28;01mfor\u001b[39;00m cn \u001b[38;5;129;01min\u001b[39;00m target_names)\n\u001b[1;32m   2364\u001b[0m     width \u001b[38;5;241m=\u001b[39m \u001b[38;5;28mmax\u001b[39m(name_width, \u001b[38;5;28mlen\u001b[39m(longest_last_line_heading), digits)\n\u001b[1;32m   2365\u001b[0m     head_fmt \u001b[38;5;241m=\u001b[39m \u001b[38;5;124m\"\u001b[39m\u001b[38;5;124m{\u001b[39m\u001b[38;5;124m:>\u001b[39m\u001b[38;5;132;01m{width}\u001b[39;00m\u001b[38;5;124ms} \u001b[39m\u001b[38;5;124m\"\u001b[39m \u001b[38;5;241m+\u001b[39m \u001b[38;5;124m\"\u001b[39m\u001b[38;5;124m \u001b[39m\u001b[38;5;132;01m{:>9}\u001b[39;00m\u001b[38;5;124m\"\u001b[39m \u001b[38;5;241m*\u001b[39m \u001b[38;5;28mlen\u001b[39m(headers)\n",
      "\u001b[0;31mTypeError\u001b[0m: object of type 'numpy.int64' has no len()"
     ]
    }
   ],
   "source": [
    "# Classification report\n",
    "print('CLASSIFICATION METRICS\\n')\n",
    "print(metrics.classification_report(y_test, y_pred, \n",
    "                                    target_names= df['rating'].unique()))"
   ]
  },
  {
   "cell_type": "code",
   "execution_count": 76,
   "id": "62048f83-f3ce-4da3-b712-477d1ae5cc75",
   "metadata": {
    "execution": {
     "iopub.execute_input": "2023-05-08T10:12:40.710592Z",
     "iopub.status.busy": "2023-05-08T10:12:40.709927Z",
     "iopub.status.idle": "2023-05-08T10:12:40.949350Z",
     "shell.execute_reply": "2023-05-08T10:12:40.948076Z",
     "shell.execute_reply.started": "2023-05-08T10:12:40.710540Z"
    },
    "tags": []
   },
   "outputs": [
    {
     "data": {
      "image/png": "[encoded data removed]",
      "text/plain": [
       "<Figure size 800x800 with 2 Axes>"
      ]
     },
     "metadata": {},
     "output_type": "display_data"
    }
   ],
   "source": [
    "conf_mat = confusion_matrix(y_test, y_pred)\n",
    "fig, ax = plt.subplots(figsize=(8,8))\n",
    "sns.heatmap(conf_mat, annot=True, cmap=\"Blues\", fmt='d',\n",
    "            xticklabels=category_id_df.rating.values, \n",
    "            yticklabels=category_id_df.rating.values)\n",
    "plt.ylabel('Actual')\n",
    "plt.xlabel('Predicted')\n",
    "plt.title(\"CONFUSION MATRIX - LogisticRegression\", size=16);"
   ]
  },
  {
   "cell_type": "markdown",
   "id": "a6d4b01b-98fa-46b2-bd68-c6a1966beb5e",
   "metadata": {},
   "source": [
    "## Prediction"
   ]
  },
  {
   "cell_type": "code",
   "execution_count": 77,
   "id": "d929dda2-b499-4cd4-95f1-b4dfaefc94d1",
   "metadata": {
    "execution": {
     "iopub.execute_input": "2023-05-08T10:12:50.270624Z",
     "iopub.status.busy": "2023-05-08T10:12:50.269982Z",
     "iopub.status.idle": "2023-05-08T10:12:50.344808Z",
     "shell.execute_reply": "2023-05-08T10:12:50.343608Z",
     "shell.execute_reply.started": "2023-05-08T10:12:50.270572Z"
    },
    "tags": []
   },
   "outputs": [],
   "source": [
    "X_train, X_test, y_train, y_test = train_test_split(X, y, \n",
    "                                                    test_size=0.25,\n",
    "                                                    random_state = 42)"
   ]
  },
  {
   "cell_type": "code",
   "execution_count": 78,
   "id": "8c10e53c-42d2-437c-8126-b25d0874160f",
   "metadata": {
    "execution": {
     "iopub.execute_input": "2023-05-08T10:12:52.170532Z",
     "iopub.status.busy": "2023-05-08T10:12:52.169803Z",
     "iopub.status.idle": "2023-05-08T10:13:13.877462Z",
     "shell.execute_reply": "2023-05-08T10:13:13.870299Z",
     "shell.execute_reply.started": "2023-05-08T10:12:52.170479Z"
    },
    "tags": []
   },
   "outputs": [],
   "source": [
    "tfidf = TfidfVectorizer(sublinear_tf=True, min_df= 10, max_df = 90,\n",
    "                        ngram_range=(1, 3), encoding = 'utf-16')\n",
    "fitted_vectorizer = tfidf.fit(X_train)\n",
    "tfidf_vectorizer_vectors = fitted_vectorizer.transform(X_train)\n",
    "model = LogisticRegression(random_state=42, max_iter = (y_train.value_counts().max() * 5)).fit(tfidf_vectorizer_vectors, y_train)"
   ]
  },
  {
   "cell_type": "code",
   "execution_count": 79,
   "id": "40297f14-e803-4ef4-ab6f-8bf62da7a82a",
   "metadata": {
    "execution": {
     "iopub.execute_input": "2023-05-08T10:13:15.202490Z",
     "iopub.status.busy": "2023-05-08T10:13:15.202289Z",
     "iopub.status.idle": "2023-05-08T10:13:15.210279Z",
     "shell.execute_reply": "2023-05-08T10:13:15.209677Z",
     "shell.execute_reply.started": "2023-05-08T10:13:15.202472Z"
    },
    "tags": []
   },
   "outputs": [
    {
     "name": "stdout",
     "output_type": "stream",
     "text": [
      "['1']\n"
     ]
    }
   ],
   "source": [
    "# 2\n",
    "rev = \"\"\"Jeg fik aldrig besked om at pakken kunne hentes.\n",
    "Kontakt til Postnord er særdeles utilfredsstillende. Kan ikke kontaktes på telefon. Ved chat oplevede jeg to gange ca. 75 min ventetid, og de fik ikke løst problemet.\n",
    "Jeg endte med at kontakte Shell tanken for at høre om de måtte have pakken liggende. Og det havde de, den var bare ikke blevet registreret. Jeg hentede derefter pakken.\n",
    "Mvh Claus\"\"\"\n",
    "\n",
    "print(model.predict(fitted_vectorizer.transform([rev])))"
   ]
  },
  {
   "cell_type": "code",
   "execution_count": 80,
   "id": "3ec2073b-c8e7-43a7-9694-62217f91e1e9",
   "metadata": {
    "execution": {
     "iopub.execute_input": "2023-05-08T10:13:15.212253Z",
     "iopub.status.busy": "2023-05-08T10:13:15.212080Z",
     "iopub.status.idle": "2023-05-08T10:13:15.342831Z",
     "shell.execute_reply": "2023-05-08T10:13:15.342095Z",
     "shell.execute_reply.started": "2023-05-08T10:13:15.212238Z"
    },
    "tags": []
   },
   "outputs": [
    {
     "name": "stdout",
     "output_type": "stream",
     "text": [
      "['1']\n"
     ]
    }
   ],
   "source": [
    "# 5\n",
    "rev = \"\"\"Jeg fik en sms om at min pakke var afleveret i postkassen, men der var ingen pakke der. Prøvede så at ringe til post nord, det er bare så ringe at komme igennem til jer. Så tog jeg fat i vores søde post dame, og så fiskede hun lige sagen og jeg fik pakken et par dage efter. 💪\"\"\"\n",
    "\n",
    "print(model.predict(fitted_vectorizer.transform([rev])))"
   ]
  },
  {
   "cell_type": "code",
   "execution_count": 81,
   "id": "c0187416-adf0-413b-a3d6-8ab12650591a",
   "metadata": {
    "execution": {
     "iopub.execute_input": "2023-05-08T10:13:15.343954Z",
     "iopub.status.busy": "2023-05-08T10:13:15.343729Z",
     "iopub.status.idle": "2023-05-08T10:13:15.401529Z",
     "shell.execute_reply": "2023-05-08T10:13:15.400010Z",
     "shell.execute_reply.started": "2023-05-08T10:13:15.343934Z"
    },
    "tags": []
   },
   "outputs": [
    {
     "name": "stdout",
     "output_type": "stream",
     "text": [
      "['4']\n"
     ]
    }
   ],
   "source": [
    "# 5\n",
    "rev = \"\"\"JEG FANDT MIN PAKKE I MIT SKUR DET VAR DEJLIGT SÅ SKULLE JEG IKKE HENTE DEN ET ANDET STED DET VAR JEG GLAD FOR MEN HAR IKKE PAKKET DEN UD ENDNU DA JEG SKAL HAVE HJÆLP TIL AT FÅ DEN TILSLUTTET TAK MED VENLIG HILSEN SONJA KNUDSEN ÅBYBRO.\"\"\"\n",
    "\n",
    "print(model.predict(fitted_vectorizer.transform([rev])))"
   ]
  },
  {
   "cell_type": "code",
   "execution_count": 82,
   "id": "f4f320fc-623b-428b-b594-236a147ce25e",
   "metadata": {
    "execution": {
     "iopub.execute_input": "2023-05-08T10:13:15.404084Z",
     "iopub.status.busy": "2023-05-08T10:13:15.403383Z",
     "iopub.status.idle": "2023-05-08T10:13:15.474167Z",
     "shell.execute_reply": "2023-05-08T10:13:15.472972Z",
     "shell.execute_reply.started": "2023-05-08T10:13:15.404032Z"
    },
    "tags": []
   },
   "outputs": [
    {
     "name": "stdout",
     "output_type": "stream",
     "text": [
      "['3']\n"
     ]
    }
   ],
   "source": [
    "# 3\n",
    "rev = \"\"\"Altid hurtig, men jeg tror ikke buddene forstår Modtager Flex. Jeg er tilmeldt, men sidst ringede buddet fordi jeg ikke var hjemme (heldigvis, så jeg kunne sige at jeg var tilmeldt det og at han kunne sætte pakken) \n",
    "Næste gang tog buddet et billede af pakken ved døren, men har så taget den med igen, hvilket bare gav forvirring for mig om hvorvidt den var blevet sat der eller ej.\n",
    "\n",
    "Af en eller anden grund bliver pakkerne også oftest lagt i en pakkeshop over 3 km væk, selvom der er mere end en pakkeshop tættere på. Det er virkelig irriterende, især når pakken i første omgang bare skulle have været sat ved døren\"\"\"\n",
    "\n",
    "print(model.predict(fitted_vectorizer.transform([rev])))"
   ]
  },
  {
   "cell_type": "markdown",
   "id": "dfaf11e8-d098-43bc-92ff-84ff5b5cdc75",
   "metadata": {},
   "source": [
    "## Machine"
   ]
  },
  {
   "cell_type": "code",
   "execution_count": 83,
   "id": "b4ab96d0-c864-4b5b-ac96-f376a5d7abfc",
   "metadata": {
    "execution": {
     "iopub.execute_input": "2023-05-08T10:13:44.083946Z",
     "iopub.status.busy": "2023-05-08T10:13:44.083074Z",
     "iopub.status.idle": "2023-05-08T10:13:44.135498Z",
     "shell.execute_reply": "2023-05-08T10:13:44.134840Z",
     "shell.execute_reply.started": "2023-05-08T10:13:44.083889Z"
    },
    "tags": []
   },
   "outputs": [
    {
     "data": {
      "text/plain": [
       "1    12762\n",
       "2    12757\n",
       "5    12733\n",
       "3    12659\n",
       "4    12653\n",
       "Name: rating, dtype: int64"
      ]
     },
     "execution_count": 83,
     "metadata": {},
     "output_type": "execute_result"
    }
   ],
   "source": [
    "X = df[\"review\"]\n",
    "y = df[\"rating\"]\n",
    "X_train, X_test, y_train, y_test = train_test_split(X, y, test_size = 0.2, random_state = 42)\n",
    "y_train.value_counts()"
   ]
  },
  {
   "cell_type": "code",
   "execution_count": 84,
   "id": "b1bda13b-b2e9-4ded-8a1c-79404821b741",
   "metadata": {
    "execution": {
     "iopub.execute_input": "2023-05-08T10:13:45.395779Z",
     "iopub.status.busy": "2023-05-08T10:13:45.395569Z",
     "iopub.status.idle": "2023-05-08T10:13:45.409727Z",
     "shell.execute_reply": "2023-05-08T10:13:45.409178Z",
     "shell.execute_reply.started": "2023-05-08T10:13:45.395760Z"
    },
    "tags": []
   },
   "outputs": [
    {
     "data": {
      "text/plain": [
       "12762"
      ]
     },
     "execution_count": 84,
     "metadata": {},
     "output_type": "execute_result"
    }
   ],
   "source": [
    "y_train.value_counts().max()"
   ]
  },
  {
   "cell_type": "code",
   "execution_count": 85,
   "id": "030239a3-1d13-48c3-80e8-836c8858b860",
   "metadata": {
    "execution": {
     "iopub.execute_input": "2023-05-08T10:13:46.999743Z",
     "iopub.status.busy": "2023-05-08T10:13:46.999535Z",
     "iopub.status.idle": "2023-05-08T10:13:49.044790Z",
     "shell.execute_reply": "2023-05-08T10:13:49.044029Z",
     "shell.execute_reply.started": "2023-05-08T10:13:46.999724Z"
    },
    "tags": []
   },
   "outputs": [],
   "source": [
    "vectorizer = CountVectorizer(ngram_range = (1,3), \n",
    "                             lowercase = False,\n",
    "                             max_df = 0.99,  \n",
    "                             min_df = 0.01,\n",
    "                             max_features = None,\n",
    "                             encoding = 'utf-16')\n",
    "\n",
    "X_train_feats = vectorizer.fit_transform(X_train)\n",
    "X_test_feats = vectorizer.transform(X_test)\n",
    "\n",
    "feature_names = vectorizer.get_feature_names_out()"
   ]
  },
  {
   "cell_type": "code",
   "execution_count": 86,
   "id": "f1a64814-ca91-46c4-b8a0-b07547af90ba",
   "metadata": {
    "execution": {
     "iopub.execute_input": "2023-05-08T10:13:50.293370Z",
     "iopub.status.busy": "2023-05-08T10:13:50.293173Z",
     "iopub.status.idle": "2023-05-08T10:13:53.306775Z",
     "shell.execute_reply": "2023-05-08T10:13:53.306018Z",
     "shell.execute_reply.started": "2023-05-08T10:13:50.293352Z"
    },
    "tags": []
   },
   "outputs": [],
   "source": [
    "classifier = LogisticRegression(random_state = 7, max_iter = (y_train.value_counts().max() * 5)).fit(X_train_feats, y_train)"
   ]
  },
  {
   "cell_type": "code",
   "execution_count": 88,
   "id": "6a2e1bc0-ec6a-485d-8f74-77291f3c6fa2",
   "metadata": {
    "execution": {
     "iopub.execute_input": "2023-05-08T10:14:35.141241Z",
     "iopub.status.busy": "2023-05-08T10:14:35.140386Z",
     "iopub.status.idle": "2023-05-08T10:14:35.523166Z",
     "shell.execute_reply": "2023-05-08T10:14:35.522483Z",
     "shell.execute_reply.started": "2023-05-08T10:14:35.141185Z"
    },
    "tags": []
   },
   "outputs": [
    {
     "name": "stdout",
     "output_type": "stream",
     "text": [
      "              precision    recall  f1-score   support\n",
      "\n",
      "           1       0.45      0.54      0.49      3129\n",
      "           2       0.36      0.32      0.34      3134\n",
      "           3       0.36      0.29      0.33      3232\n",
      "           4       0.38      0.32      0.35      3238\n",
      "           5       0.54      0.70      0.61      3158\n",
      "\n",
      "    accuracy                           0.43     15891\n",
      "   macro avg       0.42      0.43      0.42     15891\n",
      "weighted avg       0.42      0.43      0.42     15891\n",
      "\n"
     ]
    }
   ],
   "source": [
    "y_pred = classifier.predict(X_test_feats)\n",
    "\n",
    "classifier_metrics = metrics.classification_report(y_test, y_pred)\n",
    "print(classifier_metrics)"
   ]
  },
  {
   "cell_type": "code",
   "execution_count": null,
   "id": "268e0c5d-b7a7-4964-97de-94a94f6b2913",
   "metadata": {},
   "outputs": [],
   "source": []
  }
 ],
 "metadata": {
  "kernelspec": {
   "display_name": "Python 3 ",
   "language": "python",
   "name": "python3"
  },
  "language_info": {
   "codemirror_mode": {
    "name": "ipython",
    "version": 3
   },
   "file_extension": ".py",
   "mimetype": "text/x-python",
   "name": "python",
   "nbconvert_exporter": "python",
   "pygments_lexer": "ipython3",
   "version": "3.10.6"
  }
 },
 "nbformat": 4,
 "nbformat_minor": 5
}
