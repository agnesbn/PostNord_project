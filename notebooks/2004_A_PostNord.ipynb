{
 "cells": [
  {
   "cell_type": "markdown",
   "id": "17a3768e-d188-4bec-b01b-2c80a1166295",
   "metadata": {},
   "source": [
    "# PostNord Trustpilot Reviews"
   ]
  },
  {
   "cell_type": "markdown",
   "id": "7db23eca-72b7-42bc-80ea-da772a117b9b",
   "metadata": {},
   "source": [
    "## Structure of the code"
   ]
  },
  {
   "cell_type": "markdown",
   "id": "6bed6957-6cce-4b61-9769-6b98f6c98314",
   "metadata": {},
   "source": [
    "1. Combine header and text column\n",
    "2. Anonymisation\n",
    "    - Remove names\n",
    "    - Remove dates\n",
    "    - Create unique ids for each person\n",
    "    - Use review and url to remove repeated comments\n",
    "    - Remove urls\n",
    "3. Cleaning and processing\n",
    "    - If a comment was only punctuation => remove that row\n",
    "4. Balance data (around 17,000 per category)\n",
    "    - Randomise data (in categories)\n",
    "    - Keep the first 17,000 of each category"
   ]
  },
  {
   "cell_type": "markdown",
   "id": "b9778e0c-72ad-48e9-baa3-6033d67aaa39",
   "metadata": {},
   "source": [
    "## Initial code"
   ]
  },
  {
   "cell_type": "code",
   "execution_count": 169,
   "id": "aa4fa649-c7ce-41c2-a254-b572e44a51a7",
   "metadata": {},
   "outputs": [],
   "source": [
    "#!pip install -U spacy\n",
    "#!python -m spacy download da_core_news_md"
   ]
  },
  {
   "cell_type": "code",
   "execution_count": 170,
   "id": "eaa1bf3b-46cb-4013-adb1-ae8faa15591e",
   "metadata": {
    "tags": []
   },
   "outputs": [],
   "source": [
    "# import packages\n",
    "import pandas as pd\n",
    "import os\n",
    "import re\n",
    "import spacy\n",
    "import da_core_news_md"
   ]
  },
  {
   "cell_type": "code",
   "execution_count": 171,
   "id": "32163ae5-0c3e-4e48-aef6-f624c01ef811",
   "metadata": {},
   "outputs": [],
   "source": [
    "nlp = da_core_news_md.load()"
   ]
  },
  {
   "cell_type": "code",
   "execution_count": 172,
   "id": "c47a4f14-1734-4775-bc0c-8615962dac45",
   "metadata": {
    "tags": []
   },
   "outputs": [],
   "source": [
    "# define path\n",
    "path = os.path.join(\"..\", \"in\", \"postnord_trustpilot_reviews.csv\")"
   ]
  },
  {
   "cell_type": "code",
   "execution_count": 173,
   "id": "70b6039b-7bd4-4fd9-b31c-b97efa39e3ad",
   "metadata": {
    "tags": []
   },
   "outputs": [],
   "source": [
    "# read csv\n",
    "df = pd.read_csv(path)\n",
    "# fill empty columns with white space\n",
    "df.fillna(\" \", inplace = True)\n",
    "# rename columns\n",
    "df.columns = ['order', 'name', 'date', 'rating', 'text', 'profile_link', 'review_count', 'header']"
   ]
  },
  {
   "cell_type": "code",
   "execution_count": 174,
   "id": "9c6c5515-cc7e-440f-afaf-3dc52c3e43e7",
   "metadata": {
    "tags": []
   },
   "outputs": [],
   "source": [
    "# make deep copy of the 20 first lines in the data\n",
    "sm = df[:1000].copy(deep = True)"
   ]
  },
  {
   "cell_type": "markdown",
   "id": "a73d0fc1-49f5-4754-9928-0cbd3e10e4da",
   "metadata": {},
   "source": [
    "## Combination of header and text column"
   ]
  },
  {
   "cell_type": "markdown",
   "id": "e223f7fd-f7d7-4c13-baa6-1b730b45962b",
   "metadata": {},
   "source": [
    "Hvis headeren er identisk med teksten eller hvis headerens længde er identisk med det tilsvarende vindue i teksten\n",
    "    \n",
    "```df['review'] = df['text']```\n",
    "\n",
    "Ellers: `df['review'] = df['header'] + \" \" + df['text']`\n",
    "\n",
    "_Kan også omvendes_"
   ]
  },
  {
   "cell_type": "code",
   "execution_count": 175,
   "id": "bc17e9e6-ffd8-49fe-a643-c9e1602dbfab",
   "metadata": {},
   "outputs": [],
   "source": [
    "# remove dots from the end of the header\n",
    "sm['header'] = sm['header'].str.replace('…', '', regex = False)"
   ]
  },
  {
   "cell_type": "code",
   "execution_count": 176,
   "id": "686a20ba-9004-474b-ad1e-4cfc59000214",
   "metadata": {
    "tags": []
   },
   "outputs": [],
   "source": [
    "# create a list\n",
    "review = []\n",
    "\n",
    "# loop over the dataframe\n",
    "for index, row in sm.iterrows():\n",
    "    # txt is the text-column\n",
    "    txt = row[\"text\"]\n",
    "    # head is the header-column\n",
    "    head = row[\"header\"]\n",
    "    # search for the header text in the text-column\n",
    "    x = re.search(f\"^{re.escape(head)}\", txt)\n",
    "    # if the header text occurs in the text-column\n",
    "    if x:\n",
    "        # append the text column to the list\n",
    "        review.append(row['text'])\n",
    "    # otherwise...\n",
    "    else:\n",
    "        # append the header column and the text column to the list with a white space in between\n",
    "        review.append(row['header'] + \" \" + row['text'])"
   ]
  },
  {
   "cell_type": "code",
   "execution_count": 177,
   "id": "29287cba-f909-4383-b165-23248ad664ab",
   "metadata": {
    "tags": []
   },
   "outputs": [],
   "source": [
    "# create a new review-column from the list\n",
    "sm['review'] = review"
   ]
  },
  {
   "cell_type": "markdown",
   "id": "360e6293-9969-4d9e-8134-e7c9a4f8383f",
   "metadata": {},
   "source": [
    "## Removal of duplicates"
   ]
  },
  {
   "cell_type": "code",
   "execution_count": 178,
   "id": "f8518878-da3c-4db4-8c40-acc108669d7f",
   "metadata": {},
   "outputs": [
    {
     "data": {
      "text/plain": [
       "1000"
      ]
     },
     "execution_count": 178,
     "metadata": {},
     "output_type": "execute_result"
    }
   ],
   "source": [
    "len(sm)"
   ]
  },
  {
   "cell_type": "code",
   "execution_count": 179,
   "id": "fc1ed3f9-544c-4b5c-bd1e-92901f156697",
   "metadata": {},
   "outputs": [],
   "source": [
    "sm = sm.drop_duplicates(subset=['profile_link', 'date', 'review'], keep='first')"
   ]
  },
  {
   "cell_type": "code",
   "execution_count": 180,
   "id": "20bc6e7a-30cf-49fc-baee-3f50b4d92200",
   "metadata": {},
   "outputs": [
    {
     "data": {
      "text/plain": [
       "998"
      ]
     },
     "execution_count": 180,
     "metadata": {},
     "output_type": "execute_result"
    }
   ],
   "source": [
    "len(sm)"
   ]
  },
  {
   "cell_type": "markdown",
   "id": "1845552d-a2dd-4e76-8aec-d5febdd6c3cd",
   "metadata": {},
   "source": [
    "## Anonymisation"
   ]
  },
  {
   "cell_type": "code",
   "execution_count": 181,
   "id": "c8ecd644-f6f2-41f8-bcc0-dabe27b40513",
   "metadata": {},
   "outputs": [],
   "source": [
    "sm = sm.drop(columns=['name', 'date', 'profile_link', 'header', 'text', 'order', 'review_count'])"
   ]
  },
  {
   "cell_type": "code",
   "execution_count": 182,
   "id": "2d544087-1037-49bc-a88f-87ce46727170",
   "metadata": {},
   "outputs": [
    {
     "data": {
      "text/html": [
       "<div>\n",
       "<style scoped>\n",
       "    .dataframe tbody tr th:only-of-type {\n",
       "        vertical-align: middle;\n",
       "    }\n",
       "\n",
       "    .dataframe tbody tr th {\n",
       "        vertical-align: top;\n",
       "    }\n",
       "\n",
       "    .dataframe thead th {\n",
       "        text-align: right;\n",
       "    }\n",
       "</style>\n",
       "<table border=\"1\" class=\"dataframe\">\n",
       "  <thead>\n",
       "    <tr style=\"text-align: right;\">\n",
       "      <th></th>\n",
       "      <th>rating</th>\n",
       "      <th>review</th>\n",
       "    </tr>\n",
       "  </thead>\n",
       "  <tbody>\n",
       "    <tr>\n",
       "      <th>0</th>\n",
       "      <td>5</td>\n",
       "      <td>Hurtig levering.</td>\n",
       "    </tr>\n",
       "    <tr>\n",
       "      <th>1</th>\n",
       "      <td>5</td>\n",
       "      <td>Altid pakker til tiden</td>\n",
       "    </tr>\n",
       "    <tr>\n",
       "      <th>2</th>\n",
       "      <td>5</td>\n",
       "      <td>Som sædvanlig er min pakke leveret på bedste m...</td>\n",
       "    </tr>\n",
       "    <tr>\n",
       "      <th>3</th>\n",
       "      <td>5</td>\n",
       "      <td>Hurtig behandling Alt fungerede, hurtig leveri...</td>\n",
       "    </tr>\n",
       "    <tr>\n",
       "      <th>4</th>\n",
       "      <td>5</td>\n",
       "      <td>Forbilledligt Pakkepost, når den er bedst!</td>\n",
       "    </tr>\n",
       "  </tbody>\n",
       "</table>\n",
       "</div>"
      ],
      "text/plain": [
       "   rating                                             review\n",
       "0       5                                 Hurtig levering.  \n",
       "1       5                           Altid pakker til tiden  \n",
       "2       5  Som sædvanlig er min pakke leveret på bedste m...\n",
       "3       5  Hurtig behandling Alt fungerede, hurtig leveri...\n",
       "4       5         Forbilledligt Pakkepost, når den er bedst!"
      ]
     },
     "execution_count": 182,
     "metadata": {},
     "output_type": "execute_result"
    }
   ],
   "source": [
    "sm.head()"
   ]
  },
  {
   "cell_type": "markdown",
   "id": "d38424af-9391-4bc3-83f1-be97c150d6ee",
   "metadata": {},
   "source": [
    "## Cleaning and processing"
   ]
  },
  {
   "cell_type": "code",
   "execution_count": 183,
   "id": "0a9f3256-9d16-4088-8501-52e03f420099",
   "metadata": {},
   "outputs": [],
   "source": [
    "clean_review = []\n",
    "\n",
    "for text in sm['review'].tolist():\n",
    "    text = re.sub('[^\\w\\s]+', '', text)\n",
    "    text = re.sub(' +', ' ', text)\n",
    "    text = text.strip()\n",
    "    text = text.lower()\n",
    "    clean_review.append(text)"
   ]
  },
  {
   "cell_type": "code",
   "execution_count": 184,
   "id": "2f374110-0c11-4a91-adad-8f43267852dd",
   "metadata": {},
   "outputs": [],
   "source": [
    "sm['review'] = clean_review"
   ]
  },
  {
   "cell_type": "code",
   "execution_count": 185,
   "id": "88fa7dbe-7acd-4fcb-83ca-eb4210b26bb0",
   "metadata": {},
   "outputs": [
    {
     "data": {
      "text/html": [
       "<div>\n",
       "<style scoped>\n",
       "    .dataframe tbody tr th:only-of-type {\n",
       "        vertical-align: middle;\n",
       "    }\n",
       "\n",
       "    .dataframe tbody tr th {\n",
       "        vertical-align: top;\n",
       "    }\n",
       "\n",
       "    .dataframe thead th {\n",
       "        text-align: right;\n",
       "    }\n",
       "</style>\n",
       "<table border=\"1\" class=\"dataframe\">\n",
       "  <thead>\n",
       "    <tr style=\"text-align: right;\">\n",
       "      <th></th>\n",
       "      <th>rating</th>\n",
       "      <th>review</th>\n",
       "    </tr>\n",
       "  </thead>\n",
       "  <tbody>\n",
       "    <tr>\n",
       "      <th>0</th>\n",
       "      <td>5</td>\n",
       "      <td>hurtig levering</td>\n",
       "    </tr>\n",
       "    <tr>\n",
       "      <th>1</th>\n",
       "      <td>5</td>\n",
       "      <td>altid pakker til tiden</td>\n",
       "    </tr>\n",
       "    <tr>\n",
       "      <th>2</th>\n",
       "      <td>5</td>\n",
       "      <td>som sædvanlig er min pakke leveret på bedste m...</td>\n",
       "    </tr>\n",
       "    <tr>\n",
       "      <th>3</th>\n",
       "      <td>5</td>\n",
       "      <td>hurtig behandling alt fungerede hurtig leverin...</td>\n",
       "    </tr>\n",
       "    <tr>\n",
       "      <th>4</th>\n",
       "      <td>5</td>\n",
       "      <td>forbilledligt pakkepost når den er bedst</td>\n",
       "    </tr>\n",
       "  </tbody>\n",
       "</table>\n",
       "</div>"
      ],
      "text/plain": [
       "   rating                                             review\n",
       "0       5                                    hurtig levering\n",
       "1       5                             altid pakker til tiden\n",
       "2       5  som sædvanlig er min pakke leveret på bedste m...\n",
       "3       5  hurtig behandling alt fungerede hurtig leverin...\n",
       "4       5           forbilledligt pakkepost når den er bedst"
      ]
     },
     "execution_count": 185,
     "metadata": {},
     "output_type": "execute_result"
    }
   ],
   "source": [
    "sm.head()"
   ]
  },
  {
   "cell_type": "code",
   "execution_count": 186,
   "id": "17ba2325-aa99-44df-9c41-984ce494b0f3",
   "metadata": {},
   "outputs": [],
   "source": [
    "# tokenisation and lemmatisation\n",
    "lemmas = []\n",
    "\n",
    "for x in sm['review']:\n",
    "    document = nlp(x)\n",
    "    temp = []\n",
    "    for token in document:\n",
    "        temp.append(token.lemma_)\n",
    "    lemmas.append(temp)\n",
    "    \n",
    "sm['lemmas']=lemmas"
   ]
  },
  {
   "cell_type": "code",
   "execution_count": 187,
   "id": "2ff65a5c-2565-4491-8504-306bd88cc4f0",
   "metadata": {},
   "outputs": [
    {
     "data": {
      "text/html": [
       "<div>\n",
       "<style scoped>\n",
       "    .dataframe tbody tr th:only-of-type {\n",
       "        vertical-align: middle;\n",
       "    }\n",
       "\n",
       "    .dataframe tbody tr th {\n",
       "        vertical-align: top;\n",
       "    }\n",
       "\n",
       "    .dataframe thead th {\n",
       "        text-align: right;\n",
       "    }\n",
       "</style>\n",
       "<table border=\"1\" class=\"dataframe\">\n",
       "  <thead>\n",
       "    <tr style=\"text-align: right;\">\n",
       "      <th></th>\n",
       "      <th>rating</th>\n",
       "      <th>review</th>\n",
       "      <th>lemmas</th>\n",
       "    </tr>\n",
       "  </thead>\n",
       "  <tbody>\n",
       "    <tr>\n",
       "      <th>0</th>\n",
       "      <td>5</td>\n",
       "      <td>hurtig levering</td>\n",
       "      <td>[hurtig, levering]</td>\n",
       "    </tr>\n",
       "    <tr>\n",
       "      <th>1</th>\n",
       "      <td>5</td>\n",
       "      <td>altid pakker til tiden</td>\n",
       "      <td>[altid, pakke, til, tid]</td>\n",
       "    </tr>\n",
       "    <tr>\n",
       "      <th>2</th>\n",
       "      <td>5</td>\n",
       "      <td>som sædvanlig er min pakke leveret på bedste m...</td>\n",
       "      <td>[som, sædvanlig, være, min, pakke, levere, på,...</td>\n",
       "    </tr>\n",
       "    <tr>\n",
       "      <th>3</th>\n",
       "      <td>5</td>\n",
       "      <td>hurtig behandling alt fungerede hurtig leverin...</td>\n",
       "      <td>[hurtig, behandling, alt, fungere, hurtig, lev...</td>\n",
       "    </tr>\n",
       "    <tr>\n",
       "      <th>4</th>\n",
       "      <td>5</td>\n",
       "      <td>forbilledligt pakkepost når den er bedst</td>\n",
       "      <td>[forbilledligt, pakkepost, når, den, være, bedst]</td>\n",
       "    </tr>\n",
       "    <tr>\n",
       "      <th>...</th>\n",
       "      <td>...</td>\n",
       "      <td>...</td>\n",
       "      <td>...</td>\n",
       "    </tr>\n",
       "    <tr>\n",
       "      <th>995</th>\n",
       "      <td>5</td>\n",
       "      <td>tak for super service</td>\n",
       "      <td>[tak, for, super, service]</td>\n",
       "    </tr>\n",
       "    <tr>\n",
       "      <th>996</th>\n",
       "      <td>5</td>\n",
       "      <td>hurtigt dejligt med smserne</td>\n",
       "      <td>[hurtigt, dejligt, med, sms]</td>\n",
       "    </tr>\n",
       "    <tr>\n",
       "      <th>997</th>\n",
       "      <td>5</td>\n",
       "      <td>hurtig leverig</td>\n",
       "      <td>[hurtig, leverig]</td>\n",
       "    </tr>\n",
       "    <tr>\n",
       "      <th>998</th>\n",
       "      <td>2</td>\n",
       "      <td>fik sms at min pakke ville blive leveret tirsd...</td>\n",
       "      <td>[få, sms, at, min, pakke, ville, blive, levere...</td>\n",
       "    </tr>\n",
       "    <tr>\n",
       "      <th>999</th>\n",
       "      <td>5</td>\n",
       "      <td>alt gik efter planen fik mine varer som planla...</td>\n",
       "      <td>[al, gå, efter, plan, få, min, vare, som, plan...</td>\n",
       "    </tr>\n",
       "  </tbody>\n",
       "</table>\n",
       "<p>998 rows × 3 columns</p>\n",
       "</div>"
      ],
      "text/plain": [
       "     rating                                             review  \\\n",
       "0         5                                    hurtig levering   \n",
       "1         5                             altid pakker til tiden   \n",
       "2         5  som sædvanlig er min pakke leveret på bedste m...   \n",
       "3         5  hurtig behandling alt fungerede hurtig leverin...   \n",
       "4         5           forbilledligt pakkepost når den er bedst   \n",
       "..      ...                                                ...   \n",
       "995       5                              tak for super service   \n",
       "996       5                        hurtigt dejligt med smserne   \n",
       "997       5                                     hurtig leverig   \n",
       "998       2  fik sms at min pakke ville blive leveret tirsd...   \n",
       "999       5  alt gik efter planen fik mine varer som planla...   \n",
       "\n",
       "                                                lemmas  \n",
       "0                                   [hurtig, levering]  \n",
       "1                             [altid, pakke, til, tid]  \n",
       "2    [som, sædvanlig, være, min, pakke, levere, på,...  \n",
       "3    [hurtig, behandling, alt, fungere, hurtig, lev...  \n",
       "4    [forbilledligt, pakkepost, når, den, være, bedst]  \n",
       "..                                                 ...  \n",
       "995                         [tak, for, super, service]  \n",
       "996                       [hurtigt, dejligt, med, sms]  \n",
       "997                                  [hurtig, leverig]  \n",
       "998  [få, sms, at, min, pakke, ville, blive, levere...  \n",
       "999  [al, gå, efter, plan, få, min, vare, som, plan...  \n",
       "\n",
       "[998 rows x 3 columns]"
      ]
     },
     "execution_count": 187,
     "metadata": {},
     "output_type": "execute_result"
    }
   ],
   "source": [
    "sm"
   ]
  },
  {
   "cell_type": "code",
   "execution_count": 19,
   "id": "d8dbf30c-3104-41d5-9cb5-ee71d2b9e48c",
   "metadata": {},
   "outputs": [],
   "source": [
    "# removal of stopwords"
   ]
  },
  {
   "cell_type": "markdown",
   "id": "48d5f720-53e7-4f81-a47f-3bb5938804f1",
   "metadata": {},
   "source": [
    "## Balancing the data"
   ]
  },
  {
   "cell_type": "code",
   "execution_count": 20,
   "id": "270469b3-8171-4881-984c-606f5bdc646e",
   "metadata": {},
   "outputs": [
    {
     "data": {
      "text/plain": [
       "5    780\n",
       "1     91\n",
       "4     66\n",
       "2     35\n",
       "3     26\n",
       "Name: rating, dtype: int64"
      ]
     },
     "execution_count": 20,
     "metadata": {},
     "output_type": "execute_result"
    }
   ],
   "source": [
    "# 17122 3-star reviews\n",
    "sm['rating'].value_counts()"
   ]
  },
  {
   "cell_type": "code",
   "execution_count": 21,
   "id": "98310b64-0f0b-45d7-a212-80bbef1e8a0a",
   "metadata": {},
   "outputs": [],
   "source": [
    "def balance(dataframe, n=17000):\n",
    "    \"\"\"\n",
    "    Create a balanced sample from imbalanced datasets.\n",
    "    \n",
    "    dataframe: \n",
    "        Pandas dataframe with a column called 'text' and one called 'label'\n",
    "    n:         \n",
    "        Number of samples from each label, defaults to 500\n",
    "    \"\"\"\n",
    "    # Use pandas select a random bunch of examples from each label\n",
    "    out = (dataframe.groupby('rating', as_index=False)\n",
    "            .apply(lambda x: x.sample(n=n))\n",
    "            .reset_index(drop=True))\n",
    "    \n",
    "    return out"
   ]
  },
  {
   "cell_type": "code",
   "execution_count": 2,
   "id": "0147c030-45dc-49fd-9c37-4e47c95dce39",
   "metadata": {},
   "outputs": [],
   "source": [
    "#df_balanced = balance(df, 17000)"
   ]
  },
  {
   "cell_type": "code",
   "execution_count": null,
   "id": "ac596da9-fcf5-46f4-97c6-a6849dad619f",
   "metadata": {},
   "outputs": [],
   "source": [
    "#df_balanced['rating'].value_counts()"
   ]
  }
 ],
 "metadata": {
  "kernelspec": {
   "display_name": "Python 3 ",
   "language": "python",
   "name": "python3"
  },
  "language_info": {
   "codemirror_mode": {
    "name": "ipython",
    "version": 3
   },
   "file_extension": ".py",
   "mimetype": "text/x-python",
   "name": "python",
   "nbconvert_exporter": "python",
   "pygments_lexer": "ipython3",
   "version": "3.10.6"
  }
 },
 "nbformat": 4,
 "nbformat_minor": 5
}
