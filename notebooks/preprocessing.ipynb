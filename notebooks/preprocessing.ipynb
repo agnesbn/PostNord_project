{
 "cells": [
  {
   "cell_type": "markdown",
   "id": "a08bb3a0-daef-4468-a43d-a5d93ea79caf",
   "metadata": {},
   "source": [
    "# Preprocessing"
   ]
  },
  {
   "cell_type": "markdown",
   "id": "8d39aa1c-013c-4408-b634-f8d56d792a04",
   "metadata": {},
   "source": [
    "## Structure of the code\n",
    "1. Combine header and text column\n",
    "2. Anonymisation\n",
    "    - Remove names\n",
    "    - Remove dates\n",
    "    - Create unique ids for each person\n",
    "    - Use review and url to remove repeated comments\n",
    "    - Remove urls\n",
    "3. Cleaning and processing\n",
    "    - If a comment was only punctuation => remove that row\n",
    "4. Balance data (around 17,000 per category)\n",
    "    - Randomise data (in categories)\n",
    "    - Keep the first 17,000 of each category"
   ]
  },
  {
   "cell_type": "markdown",
   "id": "ff92bebb-fab9-4ac6-a2f4-428ebf53412f",
   "metadata": {},
   "source": [
    "## Initial code"
   ]
  },
  {
   "cell_type": "code",
   "execution_count": 115,
   "id": "f42f1239-deb0-4d8f-a5f0-0791a51eaf4d",
   "metadata": {
    "execution": {
     "iopub.execute_input": "2023-05-19T13:08:49.951495Z",
     "iopub.status.busy": "2023-05-19T13:08:49.950686Z",
     "iopub.status.idle": "2023-05-19T13:08:49.957955Z",
     "shell.execute_reply": "2023-05-19T13:08:49.956456Z",
     "shell.execute_reply.started": "2023-05-19T13:08:49.951439Z"
    },
    "tags": []
   },
   "outputs": [],
   "source": [
    "#!pip install numpy pandas seaborn"
   ]
  },
  {
   "cell_type": "code",
   "execution_count": 116,
   "id": "ee7c5048-d048-48e1-8443-faf223c6af09",
   "metadata": {
    "execution": {
     "iopub.execute_input": "2023-05-19T13:08:51.263173Z",
     "iopub.status.busy": "2023-05-19T13:08:51.262976Z",
     "iopub.status.idle": "2023-05-19T13:08:51.267681Z",
     "shell.execute_reply": "2023-05-19T13:08:51.266782Z",
     "shell.execute_reply.started": "2023-05-19T13:08:51.263155Z"
    },
    "tags": []
   },
   "outputs": [],
   "source": [
    "# system tools\n",
    "import os\n",
    "import sys\n",
    "import random\n",
    "import requests as req\n",
    "import re\n",
    "\n",
    "# data wranling\n",
    "import pandas as pd\n",
    "import numpy as np\n",
    "import matplotlib as mpl\n",
    "\n",
    "# plotting\n",
    "import seaborn as sns\n",
    "import matplotlib.pyplot as plt"
   ]
  },
  {
   "cell_type": "code",
   "execution_count": 117,
   "id": "b2c52f78-7588-423b-8d76-3205075f28c3",
   "metadata": {
    "execution": {
     "iopub.execute_input": "2023-05-19T13:08:51.268503Z",
     "iopub.status.busy": "2023-05-19T13:08:51.268334Z",
     "iopub.status.idle": "2023-05-19T13:08:51.298580Z",
     "shell.execute_reply": "2023-05-19T13:08:51.297830Z",
     "shell.execute_reply.started": "2023-05-19T13:08:51.268488Z"
    },
    "tags": []
   },
   "outputs": [],
   "source": [
    "# TrustPilot colors for plotting\n",
    "colors = ['#ff3722','#ff8623','#ffce00','#72cf10','#00b67a']"
   ]
  },
  {
   "cell_type": "code",
   "execution_count": 118,
   "id": "dfedfb3c-55f5-4ce6-9b28-ac740aee46f5",
   "metadata": {
    "execution": {
     "iopub.execute_input": "2023-05-19T13:08:51.301088Z",
     "iopub.status.busy": "2023-05-19T13:08:51.300647Z",
     "iopub.status.idle": "2023-05-19T13:08:51.319216Z",
     "shell.execute_reply": "2023-05-19T13:08:51.317690Z",
     "shell.execute_reply.started": "2023-05-19T13:08:51.301060Z"
    },
    "tags": []
   },
   "outputs": [],
   "source": [
    "# define path\n",
    "path = os.path.join(\"..\", \"in\", \"postnord_trustpilot_reviews.csv\")"
   ]
  },
  {
   "cell_type": "code",
   "execution_count": 119,
   "id": "a68bb280-83a4-48bd-8336-3a0987602303",
   "metadata": {
    "execution": {
     "iopub.execute_input": "2023-05-19T13:08:51.321981Z",
     "iopub.status.busy": "2023-05-19T13:08:51.321296Z",
     "iopub.status.idle": "2023-05-19T13:08:52.896164Z",
     "shell.execute_reply": "2023-05-19T13:08:52.894747Z",
     "shell.execute_reply.started": "2023-05-19T13:08:51.321930Z"
    },
    "tags": []
   },
   "outputs": [],
   "source": [
    "# read csv\n",
    "df = pd.read_csv(path)\n",
    "# fill empty columns with white space\n",
    "df.fillna(\" \", inplace = True)\n",
    "# rename columns\n",
    "df.columns = ['order', 'name', 'date', 'rating', 'text', 'profile_link', 'review_count', 'header']"
   ]
  },
  {
   "cell_type": "code",
   "execution_count": 120,
   "id": "8731e475-d6c3-4622-b9c5-0a0ef4d78427",
   "metadata": {
    "execution": {
     "iopub.execute_input": "2023-05-19T13:08:52.897170Z",
     "iopub.status.busy": "2023-05-19T13:08:52.896977Z",
     "iopub.status.idle": "2023-05-19T13:08:52.901927Z",
     "shell.execute_reply": "2023-05-19T13:08:52.901313Z",
     "shell.execute_reply.started": "2023-05-19T13:08:52.897153Z"
    },
    "tags": []
   },
   "outputs": [
    {
     "name": "stdout",
     "output_type": "stream",
     "text": [
      "Beginning # of rows 399980\n"
     ]
    }
   ],
   "source": [
    "print(f\"Beginning # of rows {len(df)}\")"
   ]
  },
  {
   "cell_type": "markdown",
   "id": "94628583-de5b-4d6b-8959-ad2b7b77f75c",
   "metadata": {},
   "source": [
    "## Combination of header and text column"
   ]
  },
  {
   "cell_type": "code",
   "execution_count": 121,
   "id": "4f1939d2-88da-45d3-8d93-f42c7c16a3d1",
   "metadata": {
    "execution": {
     "iopub.execute_input": "2023-05-19T13:08:55.466615Z",
     "iopub.status.busy": "2023-05-19T13:08:55.466406Z",
     "iopub.status.idle": "2023-05-19T13:08:55.605353Z",
     "shell.execute_reply": "2023-05-19T13:08:55.604582Z",
     "shell.execute_reply.started": "2023-05-19T13:08:55.466597Z"
    },
    "tags": []
   },
   "outputs": [],
   "source": [
    "# remove dots from the end of the header\n",
    "df['header'] = df['header'].str.replace('…', '', regex = False)"
   ]
  },
  {
   "cell_type": "code",
   "execution_count": 122,
   "id": "bf2fb1ae-2843-4778-acb2-49adc1f7bd36",
   "metadata": {
    "execution": {
     "iopub.execute_input": "2023-05-19T13:08:58.128678Z",
     "iopub.status.busy": "2023-05-19T13:08:58.128484Z",
     "iopub.status.idle": "2023-05-19T13:09:34.797761Z",
     "shell.execute_reply": "2023-05-19T13:09:34.796241Z",
     "shell.execute_reply.started": "2023-05-19T13:08:58.128661Z"
    },
    "tags": []
   },
   "outputs": [],
   "source": [
    "# create a list\n",
    "review = []\n",
    "\n",
    "# loop over the dataframe\n",
    "for index, row in df.iterrows():\n",
    "    # txt is the text-column\n",
    "    txt = row[\"text\"]\n",
    "    # head is the header-column\n",
    "    head = row[\"header\"]\n",
    "    # search for the header text in the text-column\n",
    "    x = re.search(f\"^{re.escape(head)}\", txt)\n",
    "    # if the header text occurs in the text-column\n",
    "    if x:\n",
    "        # append the text column to the list\n",
    "        review.append(row['text'])\n",
    "    # otherwise...\n",
    "    else:\n",
    "        # append the header column and the text column to the list with a white space in between\n",
    "        review.append(row['header'] + \" \" + row['text'])"
   ]
  },
  {
   "cell_type": "code",
   "execution_count": 123,
   "id": "5feae0e5-4959-40b7-879a-eef14e510a22",
   "metadata": {
    "execution": {
     "iopub.execute_input": "2023-05-19T13:09:34.799184Z",
     "iopub.status.busy": "2023-05-19T13:09:34.798963Z",
     "iopub.status.idle": "2023-05-19T13:09:34.871737Z",
     "shell.execute_reply": "2023-05-19T13:09:34.870719Z",
     "shell.execute_reply.started": "2023-05-19T13:09:34.799163Z"
    },
    "tags": []
   },
   "outputs": [],
   "source": [
    "# create a new review-column from the list\n",
    "df['review'] = review"
   ]
  },
  {
   "cell_type": "code",
   "execution_count": 124,
   "id": "87db0fde-2e80-43bb-98af-682f5306afb9",
   "metadata": {
    "execution": {
     "iopub.execute_input": "2023-05-19T13:09:34.872784Z",
     "iopub.status.busy": "2023-05-19T13:09:34.872597Z",
     "iopub.status.idle": "2023-05-19T13:09:35.194108Z",
     "shell.execute_reply": "2023-05-19T13:09:35.193447Z",
     "shell.execute_reply.started": "2023-05-19T13:09:34.872767Z"
    },
    "tags": []
   },
   "outputs": [
    {
     "data": {
      "image/png": "[encoded data removed]",
      "text/plain": [
       "<Figure size 600x400 with 1 Axes>"
      ]
     },
     "metadata": {},
     "output_type": "display_data"
    }
   ],
   "source": [
    "# place gridlines below elements in plots\n",
    "plt.rc('axes', axisbelow=True)\n",
    "\n",
    "# plot data distribution\n",
    "fig, ax = plt.subplots(figsize = (6,4))\n",
    "ax = df.groupby('rating').review.count().plot.bar(\n",
    "    ylim=0, color=colors, width= 0.9)\n",
    "# add bar labels\n",
    "for i, v in enumerate(df.groupby('rating').review.count()):\n",
    "    ax.text(i, v, str(v), ha='center', va='bottom')\n",
    "plt.ylabel('Number of reviews', fontsize = 10, weight = \"bold\")\n",
    "plt.xlabel('Rating', fontsize = 10, weight = \"bold\")\n",
    "plt.grid(axis = \"y\", linestyle = '--') # add a grid\n",
    "ax.spines[['right', 'top']].set_visible(False) # remove top and right spine\n",
    "ax.yaxis.set_major_formatter(mpl.ticker.StrMethodFormatter('{x:,.0f}')) # 1000 -> 1,000\n",
    "plt.xticks(rotation='horizontal')\n",
    "plt.yticks(rotation=45)\n",
    "plt.show()"
   ]
  },
  {
   "cell_type": "markdown",
   "id": "e90d2235-dc54-47e5-b3b5-384c8246747e",
   "metadata": {},
   "source": [
    "## Removal of duplicates"
   ]
  },
  {
   "cell_type": "code",
   "execution_count": 125,
   "id": "a542e595-4bf1-4622-a420-1eceed923217",
   "metadata": {
    "execution": {
     "iopub.execute_input": "2023-05-19T13:09:35.195067Z",
     "iopub.status.busy": "2023-05-19T13:09:35.194887Z",
     "iopub.status.idle": "2023-05-19T13:09:35.654719Z",
     "shell.execute_reply": "2023-05-19T13:09:35.653959Z",
     "shell.execute_reply.started": "2023-05-19T13:09:35.195050Z"
    },
    "tags": []
   },
   "outputs": [],
   "source": [
    "# drop any duplicates\n",
    "df = df.drop_duplicates(subset=['profile_link', 'date', 'review'], keep='first')"
   ]
  },
  {
   "cell_type": "code",
   "execution_count": 126,
   "id": "706fba32-9907-4900-b4ce-769c0086d220",
   "metadata": {
    "execution": {
     "iopub.execute_input": "2023-05-19T13:09:35.655767Z",
     "iopub.status.busy": "2023-05-19T13:09:35.655571Z",
     "iopub.status.idle": "2023-05-19T13:09:35.660462Z",
     "shell.execute_reply": "2023-05-19T13:09:35.659878Z",
     "shell.execute_reply.started": "2023-05-19T13:09:35.655751Z"
    },
    "tags": []
   },
   "outputs": [
    {
     "name": "stdout",
     "output_type": "stream",
     "text": [
      "# rows after removing duplicates: 399537\n"
     ]
    }
   ],
   "source": [
    "print(f\"# rows after removing duplicates: {len(df)}\")"
   ]
  },
  {
   "cell_type": "markdown",
   "id": "040ba909-a8e8-4422-9f23-3da1a89594b9",
   "metadata": {},
   "source": [
    "## Anonymisation"
   ]
  },
  {
   "cell_type": "code",
   "execution_count": 127,
   "id": "135c87a2-9393-4380-b53f-13790137fafe",
   "metadata": {
    "execution": {
     "iopub.execute_input": "2023-05-19T13:09:35.661491Z",
     "iopub.status.busy": "2023-05-19T13:09:35.661301Z",
     "iopub.status.idle": "2023-05-19T13:09:35.731653Z",
     "shell.execute_reply": "2023-05-19T13:09:35.730924Z",
     "shell.execute_reply.started": "2023-05-19T13:09:35.661474Z"
    },
    "tags": []
   },
   "outputs": [],
   "source": [
    "# drop any columns with 'personfølsom data'\n",
    "df = df.drop(columns=['name', 'date', 'profile_link', 'header', 'text', 'order', 'review_count'])"
   ]
  },
  {
   "cell_type": "markdown",
   "id": "8979b6c7-7baa-48eb-9bb3-4d2c01479d39",
   "metadata": {},
   "source": [
    "## Cleaning and processing"
   ]
  },
  {
   "cell_type": "code",
   "execution_count": 128,
   "id": "80fba96b-b60c-46e6-a12b-d68b0896f884",
   "metadata": {
    "execution": {
     "iopub.execute_input": "2023-05-19T13:09:37.018439Z",
     "iopub.status.busy": "2023-05-19T13:09:37.018239Z",
     "iopub.status.idle": "2023-05-19T13:09:40.390661Z",
     "shell.execute_reply": "2023-05-19T13:09:40.389617Z",
     "shell.execute_reply.started": "2023-05-19T13:09:37.018413Z"
    },
    "tags": []
   },
   "outputs": [],
   "source": [
    "clean_review = []\n",
    "\n",
    "for text in df['review'].tolist():\n",
    "    # remove punctuation\n",
    "    text = re.sub('[^\\w\\s]+', '', text)\n",
    "    # remove double white spaces\n",
    "    text = re.sub(' +', ' ', text)\n",
    "    # remove white space at beginning and end of line\n",
    "    text = text.strip()\n",
    "    # make text lower\n",
    "    text = text.lower()\n",
    "    # append to list\n",
    "    clean_review.append(text)\n",
    "\n",
    "# add clean data to dataframe\n",
    "df['review'] = clean_review"
   ]
  },
  {
   "cell_type": "code",
   "execution_count": 129,
   "id": "f2378fe9-4017-4e9b-8c16-587b4e624d1b",
   "metadata": {
    "execution": {
     "iopub.execute_input": "2023-05-19T13:09:40.391777Z",
     "iopub.status.busy": "2023-05-19T13:09:40.391569Z",
     "iopub.status.idle": "2023-05-19T13:09:40.485511Z",
     "shell.execute_reply": "2023-05-19T13:09:40.484776Z",
     "shell.execute_reply.started": "2023-05-19T13:09:40.391758Z"
    },
    "tags": []
   },
   "outputs": [
    {
     "name": "stdout",
     "output_type": "stream",
     "text": [
      "# rows after removing empty rows: 398866\n"
     ]
    }
   ],
   "source": [
    "# add NaN to empty cells\n",
    "df['review'].replace('', np.nan, inplace=True)\n",
    "# remove all cells with NaN\n",
    "df.dropna(subset=['review'], inplace=True)\n",
    "print(\"# rows after removing empty rows:\", len(df))"
   ]
  },
  {
   "cell_type": "markdown",
   "id": "acbf8b57-881d-4b33-9178-e9b26f42a8e6",
   "metadata": {},
   "source": [
    "## Removal of stopwords"
   ]
  },
  {
   "cell_type": "code",
   "execution_count": 130,
   "id": "acaa3f17-41fb-443b-b12a-963a1b526ee0",
   "metadata": {
    "execution": {
     "iopub.execute_input": "2023-05-19T13:09:40.486494Z",
     "iopub.status.busy": "2023-05-19T13:09:40.486297Z",
     "iopub.status.idle": "2023-05-19T13:09:40.982501Z",
     "shell.execute_reply": "2023-05-19T13:09:40.980756Z",
     "shell.execute_reply.started": "2023-05-19T13:09:40.486477Z"
    },
    "tags": []
   },
   "outputs": [],
   "source": [
    "# get Danish stopwords\n",
    "url = \"https://gist.githubusercontent.com/berteltorp/0cf8a0c7afea7f25ed754f24cfc2467b/raw/fa34ef448aff6adbb4b6bab9bda62a8b0f1ee597/stopord.txt\"\n",
    "res = req.get(url)\n",
    "# create TXT file for stopwords\n",
    "txt_path = os.path.join(\"..\", \"in\", \"stopwords.txt\")\n",
    "# open empty TXT\n",
    "file = open(txt_path, \"w\")\n",
    "# write stopwords to TXT\n",
    "file.write(res.text)\n",
    "# close 'write' mode\n",
    "file.close()"
   ]
  },
  {
   "cell_type": "code",
   "execution_count": 131,
   "id": "87fd36dc-3e33-4e1e-920f-f56d38648251",
   "metadata": {
    "execution": {
     "iopub.execute_input": "2023-05-19T13:09:40.992698Z",
     "iopub.status.busy": "2023-05-19T13:09:40.992138Z",
     "iopub.status.idle": "2023-05-19T13:09:40.998121Z",
     "shell.execute_reply": "2023-05-19T13:09:40.997371Z",
     "shell.execute_reply.started": "2023-05-19T13:09:40.992647Z"
    },
    "tags": []
   },
   "outputs": [],
   "source": [
    "# read stopwords TXT\n",
    "with open(txt_path) as f:\n",
    "    # get lines\n",
    "    lines = f.readlines()\n",
    "f.close()"
   ]
  },
  {
   "cell_type": "code",
   "execution_count": 132,
   "id": "13b8ad7b-76bc-421f-8cdd-2cb836d8c7e0",
   "metadata": {
    "execution": {
     "iopub.execute_input": "2023-05-19T13:09:40.999351Z",
     "iopub.status.busy": "2023-05-19T13:09:40.999136Z",
     "iopub.status.idle": "2023-05-19T13:09:41.101678Z",
     "shell.execute_reply": "2023-05-19T13:09:41.100209Z",
     "shell.execute_reply.started": "2023-05-19T13:09:40.999331Z"
    },
    "tags": []
   },
   "outputs": [],
   "source": [
    "# create list of stopwords\n",
    "stopwords = []\n",
    "for l in lines:\n",
    "    # remove \\n at the end of each line\n",
    "    stopwords.append(l.strip())"
   ]
  },
  {
   "cell_type": "code",
   "execution_count": 133,
   "id": "389d8396-6714-4daa-8001-58fc291e68b9",
   "metadata": {
    "execution": {
     "iopub.execute_input": "2023-05-19T13:09:41.104202Z",
     "iopub.status.busy": "2023-05-19T13:09:41.103533Z",
     "iopub.status.idle": "2023-05-19T13:09:55.571050Z",
     "shell.execute_reply": "2023-05-19T13:09:55.569930Z",
     "shell.execute_reply.started": "2023-05-19T13:09:41.104151Z"
    },
    "tags": []
   },
   "outputs": [],
   "source": [
    "# remove stopwords from data\n",
    "df['review'] = df['review'].apply(lambda x: ' '.join([word for word in x.split() if word not in (stopwords)]))"
   ]
  },
  {
   "cell_type": "code",
   "execution_count": 134,
   "id": "4746baea-cc16-469b-9291-19f014282afd",
   "metadata": {
    "execution": {
     "iopub.execute_input": "2023-05-19T13:09:55.572574Z",
     "iopub.status.busy": "2023-05-19T13:09:55.572343Z",
     "iopub.status.idle": "2023-05-19T13:09:55.662905Z",
     "shell.execute_reply": "2023-05-19T13:09:55.662171Z",
     "shell.execute_reply.started": "2023-05-19T13:09:55.572553Z"
    },
    "tags": []
   },
   "outputs": [
    {
     "name": "stdout",
     "output_type": "stream",
     "text": [
      "# rows after removing empty rows (again): 397199\n"
     ]
    }
   ],
   "source": [
    "# remove empty lines (again)\n",
    "df['review'].replace('', np.nan, inplace=True)\n",
    "df.dropna(subset=['review'], inplace=True)\n",
    "print(\"# rows after removing empty rows (again):\", len(df))"
   ]
  },
  {
   "cell_type": "markdown",
   "id": "2284db67-d70a-41d4-8083-84742cf177c8",
   "metadata": {},
   "source": [
    "## Lengths"
   ]
  },
  {
   "cell_type": "code",
   "execution_count": 135,
   "id": "5aae54d2-22cc-4253-ae71-6beb194d59c0",
   "metadata": {
    "execution": {
     "iopub.execute_input": "2023-05-19T13:09:55.663901Z",
     "iopub.status.busy": "2023-05-19T13:09:55.663718Z",
     "iopub.status.idle": "2023-05-19T13:09:55.802249Z",
     "shell.execute_reply": "2023-05-19T13:09:55.800916Z",
     "shell.execute_reply.started": "2023-05-19T13:09:55.663884Z"
    },
    "tags": []
   },
   "outputs": [],
   "source": [
    "# get length of review\n",
    "df[\"length\"] = df.review.str.len()\n",
    "# get mean lengths per rating\n",
    "mean_lengths = df.groupby(by = 'rating').mean('length')\n",
    "# add rating as a column\n",
    "mean_lengths['rating'] = mean_lengths.index"
   ]
  },
  {
   "cell_type": "code",
   "execution_count": 136,
   "id": "74e6fcc9-7ad3-49e3-8ad2-10f49a644b34",
   "metadata": {
    "execution": {
     "iopub.execute_input": "2023-05-19T13:09:55.803253Z",
     "iopub.status.busy": "2023-05-19T13:09:55.803066Z",
     "iopub.status.idle": "2023-05-19T13:09:55.914682Z",
     "shell.execute_reply": "2023-05-19T13:09:55.913122Z",
     "shell.execute_reply.started": "2023-05-19T13:09:55.803236Z"
    },
    "tags": []
   },
   "outputs": [],
   "source": [
    "# get values for plot\n",
    "height = [l for l in mean_lengths['length']]\n",
    "bars = [r for r in mean_lengths['rating']]\n",
    "labels = [round(l, 1) for l in mean_lengths['length']]"
   ]
  },
  {
   "cell_type": "code",
   "execution_count": 137,
   "id": "1eff8627-6776-4692-a685-79489901680a",
   "metadata": {
    "execution": {
     "iopub.execute_input": "2023-05-19T13:09:55.917297Z",
     "iopub.status.busy": "2023-05-19T13:09:55.916632Z",
     "iopub.status.idle": "2023-05-19T13:09:56.106984Z",
     "shell.execute_reply": "2023-05-19T13:09:56.106336Z",
     "shell.execute_reply.started": "2023-05-19T13:09:55.917246Z"
    },
    "tags": []
   },
   "outputs": [
    {
     "data": {
      "image/png": "[encoded data removed]",
      "text/plain": [
       "<Figure size 600x400 with 1 Axes>"
      ]
     },
     "metadata": {},
     "output_type": "display_data"
    }
   ],
   "source": [
    "# plot mean lengths\n",
    "fig, ax = plt.subplots(figsize = (6,4))\n",
    "\n",
    "ax.bar(bars, height, align='center', color = colors, width = 0.9)\n",
    "ax.set_xlabel('Rating', fontsize = 10, weight = \"bold\")\n",
    "ax.set_ylabel('Mean length (characters)', fontsize = 10, weight = \"bold\")\n",
    "plt.grid(axis = \"y\", linestyle = '--')\n",
    "for i in range(len(bars)):\n",
    "    plt.text(bars[i], height[i], str(labels[i]), ha='center', va='bottom')\n",
    "ax.spines[['right', 'top']].set_visible(False)\n",
    "ax.yaxis.set_major_formatter(mpl.ticker.StrMethodFormatter('{x:,.0f}'))\n",
    "plt.show()"
   ]
  },
  {
   "cell_type": "code",
   "execution_count": 138,
   "id": "3748b1c2-d167-42db-8ac8-882af1e81ab0",
   "metadata": {
    "execution": {
     "iopub.execute_input": "2023-05-19T13:09:56.107889Z",
     "iopub.status.busy": "2023-05-19T13:09:56.107716Z",
     "iopub.status.idle": "2023-05-19T13:09:56.302549Z",
     "shell.execute_reply": "2023-05-19T13:09:56.301807Z",
     "shell.execute_reply.started": "2023-05-19T13:09:56.107873Z"
    },
    "tags": []
   },
   "outputs": [
    {
     "name": "stdout",
     "output_type": "stream",
     "text": [
      "        rating          review  length\n",
      "1            5    pakker tiden      12\n",
      "6            4   gik forventet      13\n",
      "10           5      sædvanligt      10\n",
      "17           5         hurtigt       7\n",
      "22           5      lynhurtigt      10\n",
      "...        ...             ...     ...\n",
      "399939       4  kekdkfkfkfkkkd      14\n",
      "399948       1        langsomt       8\n",
      "399956       5   hurtig venlig      13\n",
      "399972       5         udsætte       7\n",
      "399973       4  fungerede fint      14\n",
      "\n",
      "[65095 rows x 3 columns]\n"
     ]
    }
   ],
   "source": [
    "# show texts that will be removed\n",
    "print(df.loc[np.array(list(map(len,df.review.values)))<((int(mean_lengths['length'].min()))-14)])\n",
    "\n",
    "# remove texts shorter than the lowest mean length -15\n",
    "df = df.loc[np.array(list(map(len,df.review.values)))>((int(mean_lengths['length'].min()))-15)]"
   ]
  },
  {
   "cell_type": "code",
   "execution_count": 139,
   "id": "89c01af6-9dd0-4d69-baf8-e48ce83ef761",
   "metadata": {
    "execution": {
     "iopub.execute_input": "2023-05-19T13:09:57.616088Z",
     "iopub.status.busy": "2023-05-19T13:09:57.615898Z",
     "iopub.status.idle": "2023-05-19T13:09:57.620478Z",
     "shell.execute_reply": "2023-05-19T13:09:57.619877Z",
     "shell.execute_reply.started": "2023-05-19T13:09:57.616072Z"
    },
    "tags": []
   },
   "outputs": [
    {
     "name": "stdout",
     "output_type": "stream",
     "text": [
      "# rows after removing short reviews: 332104\n"
     ]
    }
   ],
   "source": [
    "print(\"# rows after removing short reviews:\", len(df))"
   ]
  },
  {
   "cell_type": "code",
   "execution_count": 140,
   "id": "be900175-d415-4502-9e95-ab160489bce2",
   "metadata": {
    "execution": {
     "iopub.execute_input": "2023-05-19T13:09:57.621563Z",
     "iopub.status.busy": "2023-05-19T13:09:57.621389Z",
     "iopub.status.idle": "2023-05-19T13:09:57.687089Z",
     "shell.execute_reply": "2023-05-19T13:09:57.686267Z",
     "shell.execute_reply.started": "2023-05-19T13:09:57.621548Z"
    },
    "tags": []
   },
   "outputs": [],
   "source": [
    "# reset index after removing lines\n",
    "df = df.reset_index(drop=True)"
   ]
  },
  {
   "cell_type": "code",
   "execution_count": 141,
   "id": "da648b11-eae0-41d2-bf14-7b46b574d136",
   "metadata": {
    "execution": {
     "iopub.execute_input": "2023-05-19T13:09:57.688730Z",
     "iopub.status.busy": "2023-05-19T13:09:57.688365Z",
     "iopub.status.idle": "2023-05-19T13:09:57.736888Z",
     "shell.execute_reply": "2023-05-19T13:09:57.736206Z",
     "shell.execute_reply.started": "2023-05-19T13:09:57.688708Z"
    },
    "tags": []
   },
   "outputs": [
    {
     "data": {
      "text/html": [
       "<div>\n",
       "<style scoped>\n",
       "    .dataframe tbody tr th:only-of-type {\n",
       "        vertical-align: middle;\n",
       "    }\n",
       "\n",
       "    .dataframe tbody tr th {\n",
       "        vertical-align: top;\n",
       "    }\n",
       "\n",
       "    .dataframe thead th {\n",
       "        text-align: right;\n",
       "    }\n",
       "</style>\n",
       "<table border=\"1\" class=\"dataframe\">\n",
       "  <thead>\n",
       "    <tr style=\"text-align: right;\">\n",
       "      <th></th>\n",
       "      <th>rating</th>\n",
       "      <th>review</th>\n",
       "      <th>length</th>\n",
       "    </tr>\n",
       "  </thead>\n",
       "  <tbody>\n",
       "    <tr>\n",
       "      <th>0</th>\n",
       "      <td>5</td>\n",
       "      <td>hurtig levering</td>\n",
       "      <td>15</td>\n",
       "    </tr>\n",
       "    <tr>\n",
       "      <th>119553</th>\n",
       "      <td>5</td>\n",
       "      <td>hurtig levering</td>\n",
       "      <td>15</td>\n",
       "    </tr>\n",
       "    <tr>\n",
       "      <th>119577</th>\n",
       "      <td>5</td>\n",
       "      <td>hurtig levering</td>\n",
       "      <td>15</td>\n",
       "    </tr>\n",
       "    <tr>\n",
       "      <th>119580</th>\n",
       "      <td>5</td>\n",
       "      <td>hurtig levering</td>\n",
       "      <td>15</td>\n",
       "    </tr>\n",
       "    <tr>\n",
       "      <th>119592</th>\n",
       "      <td>5</td>\n",
       "      <td>track and trace</td>\n",
       "      <td>15</td>\n",
       "    </tr>\n",
       "    <tr>\n",
       "      <th>...</th>\n",
       "      <td>...</td>\n",
       "      <td>...</td>\n",
       "      <td>...</td>\n",
       "    </tr>\n",
       "    <tr>\n",
       "      <th>25379</th>\n",
       "      <td>1</td>\n",
       "      <td>advarsel dato levering post nord sms d 48 modt...</td>\n",
       "      <td>1383</td>\n",
       "    </tr>\n",
       "    <tr>\n",
       "      <th>129394</th>\n",
       "      <td>1</td>\n",
       "      <td>give minus 5 stjerner give minus 5 stjerner va...</td>\n",
       "      <td>1485</td>\n",
       "    </tr>\n",
       "    <tr>\n",
       "      <th>222256</th>\n",
       "      <td>1</td>\n",
       "      <td>postnord trænger kundeservice egentligt postno...</td>\n",
       "      <td>1498</td>\n",
       "    </tr>\n",
       "    <tr>\n",
       "      <th>79176</th>\n",
       "      <td>1</td>\n",
       "      <td>glemt pakke dovenskab gennemgang mails stykke ...</td>\n",
       "      <td>1658</td>\n",
       "    </tr>\n",
       "    <tr>\n",
       "      <th>105259</th>\n",
       "      <td>1</td>\n",
       "      <td>post nord forfærdelige brevpakke afkrydset afh...</td>\n",
       "      <td>1724</td>\n",
       "    </tr>\n",
       "  </tbody>\n",
       "</table>\n",
       "<p>332104 rows × 3 columns</p>\n",
       "</div>"
      ],
      "text/plain": [
       "        rating                                             review  length\n",
       "0            5                                    hurtig levering      15\n",
       "119553       5                                    hurtig levering      15\n",
       "119577       5                                    hurtig levering      15\n",
       "119580       5                                    hurtig levering      15\n",
       "119592       5                                    track and trace      15\n",
       "...        ...                                                ...     ...\n",
       "25379        1  advarsel dato levering post nord sms d 48 modt...    1383\n",
       "129394       1  give minus 5 stjerner give minus 5 stjerner va...    1485\n",
       "222256       1  postnord trænger kundeservice egentligt postno...    1498\n",
       "79176        1  glemt pakke dovenskab gennemgang mails stykke ...    1658\n",
       "105259       1  post nord forfærdelige brevpakke afkrydset afh...    1724\n",
       "\n",
       "[332104 rows x 3 columns]"
      ]
     },
     "execution_count": 141,
     "metadata": {},
     "output_type": "execute_result"
    }
   ],
   "source": [
    "# show \n",
    "df.sort_values(\"length\")"
   ]
  },
  {
   "cell_type": "code",
   "execution_count": 142,
   "id": "5f2829e4-4707-4636-9744-1e957ed3a622",
   "metadata": {
    "execution": {
     "iopub.execute_input": "2023-05-19T13:09:57.738246Z",
     "iopub.status.busy": "2023-05-19T13:09:57.738047Z",
     "iopub.status.idle": "2023-05-19T13:09:57.743190Z",
     "shell.execute_reply": "2023-05-19T13:09:57.742603Z",
     "shell.execute_reply.started": "2023-05-19T13:09:57.738228Z"
    },
    "tags": []
   },
   "outputs": [
    {
     "name": "stdout",
     "output_type": "stream",
     "text": [
      "Shortest review: 15\n",
      "Longest review:  1724\n"
     ]
    }
   ],
   "source": [
    "print(f\"Shortest review: {df['length'].min()}\")\n",
    "print(f\"Longest review:  {df['length'].max()}\")"
   ]
  },
  {
   "cell_type": "markdown",
   "id": "2bc9e88e-3dad-4698-9ea4-fa1ebeb7ff2d",
   "metadata": {},
   "source": [
    "## Balancing the data"
   ]
  },
  {
   "cell_type": "code",
   "execution_count": 143,
   "id": "4a2db37e-8188-430f-9e57-3c8dbb99aefa",
   "metadata": {
    "execution": {
     "iopub.execute_input": "2023-05-19T13:09:57.744078Z",
     "iopub.status.busy": "2023-05-19T13:09:57.743912Z",
     "iopub.status.idle": "2023-05-19T13:09:57.795377Z",
     "shell.execute_reply": "2023-05-19T13:09:57.794349Z",
     "shell.execute_reply.started": "2023-05-19T13:09:57.744062Z"
    },
    "tags": []
   },
   "outputs": [
    {
     "data": {
      "text/plain": [
       "5    200651\n",
       "1     60823\n",
       "4     34452\n",
       "2     20287\n",
       "3     15891\n",
       "Name: rating, dtype: int64"
      ]
     },
     "execution_count": 143,
     "metadata": {},
     "output_type": "execute_result"
    }
   ],
   "source": [
    "# print distribution of data before balancing\n",
    "df['rating'].value_counts()"
   ]
  },
  {
   "cell_type": "code",
   "execution_count": 144,
   "id": "0ba535a5-94ff-49c1-8f18-081a6dad9516",
   "metadata": {
    "execution": {
     "iopub.execute_input": "2023-05-19T13:09:57.796989Z",
     "iopub.status.busy": "2023-05-19T13:09:57.796633Z",
     "iopub.status.idle": "2023-05-19T13:09:57.820817Z",
     "shell.execute_reply": "2023-05-19T13:09:57.819384Z",
     "shell.execute_reply.started": "2023-05-19T13:09:57.796968Z"
    },
    "tags": []
   },
   "outputs": [],
   "source": [
    "# balancing function\n",
    "def balance(dataframe, random_state = 42): # take a dataframe and a random state as input\n",
    "    # Use pandas select a random bunch of examples from each label\n",
    "    out = (dataframe.groupby('rating', as_index=False)\n",
    "            .apply(lambda x: x.sample(dataframe['rating'].value_counts().min(), random_state = random_state))\n",
    "            .reset_index(drop=True))\n",
    "    # take a random sample of each label\n",
    "    return out"
   ]
  },
  {
   "cell_type": "code",
   "execution_count": 145,
   "id": "f07581eb-2280-41cb-92d9-97df8d866ad5",
   "metadata": {
    "execution": {
     "iopub.execute_input": "2023-05-19T13:09:57.823307Z",
     "iopub.status.busy": "2023-05-19T13:09:57.822658Z",
     "iopub.status.idle": "2023-05-19T13:09:57.916572Z",
     "shell.execute_reply": "2023-05-19T13:09:57.915892Z",
     "shell.execute_reply.started": "2023-05-19T13:09:57.823258Z"
    },
    "tags": []
   },
   "outputs": [
    {
     "data": {
      "text/plain": [
       "1    15891\n",
       "2    15891\n",
       "3    15891\n",
       "4    15891\n",
       "5    15891\n",
       "Name: rating, dtype: int64"
      ]
     },
     "execution_count": 145,
     "metadata": {},
     "output_type": "execute_result"
    }
   ],
   "source": [
    "# balance the data\n",
    "df = balance(df, random_state = 42)\n",
    "# print distribution of data after balancing\n",
    "df['rating'].value_counts()"
   ]
  },
  {
   "cell_type": "code",
   "execution_count": 146,
   "id": "0208adc8-3a8d-432c-8015-2d65f0945662",
   "metadata": {
    "execution": {
     "iopub.execute_input": "2023-05-19T13:09:57.917588Z",
     "iopub.status.busy": "2023-05-19T13:09:57.917395Z",
     "iopub.status.idle": "2023-05-19T13:09:57.948865Z",
     "shell.execute_reply": "2023-05-19T13:09:57.948164Z",
     "shell.execute_reply.started": "2023-05-19T13:09:57.917571Z"
    },
    "tags": []
   },
   "outputs": [],
   "source": [
    "# make sure the ratings are parsed as strings not integers!\n",
    "df['rating'] = df['rating'].astype(str)\n",
    "# reset the index\n",
    "df = df.reset_index(drop=True)"
   ]
  },
  {
   "cell_type": "code",
   "execution_count": 147,
   "id": "54b2969b-8c9a-4507-8fab-d9b1f6c5748a",
   "metadata": {
    "execution": {
     "iopub.execute_input": "2023-05-19T13:09:57.949827Z",
     "iopub.status.busy": "2023-05-19T13:09:57.949639Z",
     "iopub.status.idle": "2023-05-19T13:09:58.141222Z",
     "shell.execute_reply": "2023-05-19T13:09:58.140551Z",
     "shell.execute_reply.started": "2023-05-19T13:09:57.949810Z"
    },
    "tags": []
   },
   "outputs": [
    {
     "data": {
      "image/png": "[encoded data removed]",
      "text/plain": [
       "<Figure size 600x400 with 1 Axes>"
      ]
     },
     "metadata": {},
     "output_type": "display_data"
    }
   ],
   "source": [
    "# plot the new distribution of data\n",
    "fig, ax = plt.subplots(figsize=(6,4))\n",
    "\n",
    "ax = df.groupby('rating').review.count().plot.bar(\n",
    "    ylim=0, color=colors, width= 0.9)\n",
    "for i, v in enumerate(df.groupby('rating').review.count()):\n",
    "    ax.text(i, v, str(v), ha='center', va='bottom')\n",
    "plt.ylabel('Number of reviews', fontsize = 10, weight = \"bold\")\n",
    "plt.xlabel('Rating', fontsize = 10, weight = \"bold\")\n",
    "plt.grid(axis = \"y\", linestyle = '--')\n",
    "ax.spines[\"top\"].set_visible(False)\n",
    "ax.spines[\"right\"].set_visible(False)\n",
    "ax.yaxis.set_major_formatter(mpl.ticker.StrMethodFormatter('{x:,.0f}'))\n",
    "plt.xticks(rotation='horizontal')\n",
    "plt.yticks(rotation=45)\n",
    "plt.show()"
   ]
  },
  {
   "cell_type": "code",
   "execution_count": 148,
   "id": "f159d9a0-2075-4aa7-9ce8-1a3cac0bb921",
   "metadata": {
    "execution": {
     "iopub.execute_input": "2023-05-19T13:09:58.142453Z",
     "iopub.status.busy": "2023-05-19T13:09:58.142251Z",
     "iopub.status.idle": "2023-05-19T13:09:58.427049Z",
     "shell.execute_reply": "2023-05-19T13:09:58.426310Z",
     "shell.execute_reply.started": "2023-05-19T13:09:58.142435Z"
    },
    "tags": []
   },
   "outputs": [],
   "source": [
    "# create a path for saving the cleaned dataframe\n",
    "balancepath = os.path.join(\"..\", \"in\", \"balanced_dataset.csv\")\n",
    "# save the CSV\n",
    "df.to_csv(balancepath, index = False)"
   ]
  },
  {
   "cell_type": "code",
   "execution_count": null,
   "id": "1838095d-9e12-4896-9ff8-0cfa129a6f26",
   "metadata": {},
   "outputs": [],
   "source": []
  },
  {
   "cell_type": "code",
   "execution_count": null,
   "id": "ec03432b-c855-474a-aba0-1d6d05e36be2",
   "metadata": {},
   "outputs": [],
   "source": []
  }
 ],
 "metadata": {
  "kernelspec": {
   "display_name": "Python 3 ",
   "language": "python",
   "name": "python3"
  },
  "language_info": {
   "codemirror_mode": {
    "name": "ipython",
    "version": 3
   },
   "file_extension": ".py",
   "mimetype": "text/x-python",
   "name": "python",
   "nbconvert_exporter": "python",
   "pygments_lexer": "ipython3",
   "version": "3.10.6"
  }
 },
 "nbformat": 4,
 "nbformat_minor": 5
}
