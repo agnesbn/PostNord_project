{
 "cells": [
  {
   "cell_type": "markdown",
   "id": "75b3520c",
   "metadata": {},
   "source": [
    "# Preprocessing of PostNord reviews"
   ]
  },
  {
   "cell_type": "markdown",
   "id": "20882de3",
   "metadata": {},
   "source": [
    "Run this code __BEFORE__ *postnord_classification.ipynb*!"
   ]
  },
  {
   "cell_type": "markdown",
   "id": "ac8018c4",
   "metadata": {
    "tags": []
   },
   "source": [
    "## 1. Start-up code: Import packages and get data"
   ]
  },
  {
   "cell_type": "code",
   "execution_count": 1,
   "id": "a8b9462f",
   "metadata": {
    "execution": {
     "iopub.execute_input": "2023-05-30T06:45:18.648428Z",
     "iopub.status.busy": "2023-05-30T06:45:18.647583Z",
     "iopub.status.idle": "2023-05-30T06:45:18.654832Z",
     "shell.execute_reply": "2023-05-30T06:45:18.653402Z",
     "shell.execute_reply.started": "2023-05-30T06:45:18.648357Z"
    },
    "tags": []
   },
   "outputs": [],
   "source": [
    "# UNCOMMENT TO INSTALL PACKAGES\n",
    "#!pip install requests pandas numpy matplotlib seaborn"
   ]
  },
  {
   "cell_type": "code",
   "execution_count": 2,
   "id": "3066a1fb",
   "metadata": {
    "execution": {
     "iopub.execute_input": "2023-05-30T06:45:18.658420Z",
     "iopub.status.busy": "2023-05-30T06:45:18.657720Z",
     "iopub.status.idle": "2023-05-30T06:45:19.496909Z",
     "shell.execute_reply": "2023-05-30T06:45:19.495552Z",
     "shell.execute_reply.started": "2023-05-30T06:45:18.658350Z"
    },
    "tags": []
   },
   "outputs": [],
   "source": [
    "# import packages\n",
    "\n",
    "# system tools\n",
    "import os\n",
    "import requests as req\n",
    "import re\n",
    "\n",
    "# data wrangling\n",
    "import pandas as pd\n",
    "import numpy as np\n",
    "import matplotlib as mpl\n",
    "\n",
    "# plotting\n",
    "import matplotlib.pyplot as plt\n",
    "import seaborn as sns"
   ]
  },
  {
   "cell_type": "code",
   "execution_count": 3,
   "id": "ae6225d8",
   "metadata": {
    "execution": {
     "iopub.execute_input": "2023-05-30T06:45:19.498943Z",
     "iopub.status.busy": "2023-05-30T06:45:19.498361Z",
     "iopub.status.idle": "2023-05-30T06:45:21.760740Z",
     "shell.execute_reply": "2023-05-30T06:45:21.759255Z",
     "shell.execute_reply.started": "2023-05-30T06:45:19.498917Z"
    },
    "tags": []
   },
   "outputs": [
    {
     "name": "stdout",
     "output_type": "stream",
     "text": [
      "Beginning number of rows: 399980\n"
     ]
    }
   ],
   "source": [
    "# define input path\n",
    "path = os.path.join(\"..\", \"in\", \"postnord_trustpilot_reviews.csv\")\n",
    "# read csv\n",
    "df = pd.read_csv(path)\n",
    "# fill empty columns with white space\n",
    "df.fillna(\" \", inplace = True)\n",
    "# rename columns\n",
    "df.columns = ['order', 'name', 'date', 'rating', 'text', 'profile_link', 'review_count', 'header']\n",
    "# save number of rows\n",
    "rowspath = os.path.join(\"..\", \"out\", \"preprocessing_output\", \"development_in_number_of_rows.txt\")\n",
    "with open(rowspath, 'w') as file:\n",
    "    file.write(f\"DEVELOPMENT IN NUMBER OF ROWS DURING CLEANING\\n\")\n",
    "    file.write(f\"Beginning number of rows: {len(df)}\\n\")\n",
    "print(f\"Beginning number of rows: {len(df)}\")"
   ]
  },
  {
   "cell_type": "markdown",
   "id": "b887f432",
   "metadata": {},
   "source": [
    "## 2. Cleaning and processing"
   ]
  },
  {
   "cell_type": "markdown",
   "id": "1319046a",
   "metadata": {
    "tags": []
   },
   "source": [
    "### 2.1 Combine header and text column"
   ]
  },
  {
   "cell_type": "code",
   "execution_count": 4,
   "id": "be3f4ce6",
   "metadata": {
    "execution": {
     "iopub.execute_input": "2023-05-30T06:45:21.763554Z",
     "iopub.status.busy": "2023-05-30T06:45:21.762984Z",
     "iopub.status.idle": "2023-05-30T06:45:21.902622Z",
     "shell.execute_reply": "2023-05-30T06:45:21.901802Z",
     "shell.execute_reply.started": "2023-05-30T06:45:21.763501Z"
    },
    "tags": []
   },
   "outputs": [],
   "source": [
    "# remove three dots symbol (…) from the end of the header\n",
    "df['header'] = df['header'].str.replace('…', '', regex = False)"
   ]
  },
  {
   "cell_type": "code",
   "execution_count": 5,
   "id": "acc0ce6d",
   "metadata": {
    "execution": {
     "iopub.execute_input": "2023-05-30T06:45:21.904577Z",
     "iopub.status.busy": "2023-05-30T06:45:21.904362Z",
     "iopub.status.idle": "2023-05-30T06:45:57.993300Z",
     "shell.execute_reply": "2023-05-30T06:45:57.991328Z",
     "shell.execute_reply.started": "2023-05-30T06:45:21.904558Z"
    },
    "tags": []
   },
   "outputs": [],
   "source": [
    "# combine the header and text column into a new column\n",
    "\n",
    "# create a list\n",
    "review = []\n",
    "\n",
    "# loop over the dataframe\n",
    "for index, row in df.iterrows():\n",
    "    # txt is the text-column\n",
    "    txt = row[\"text\"]\n",
    "    # head is the header-column\n",
    "    head = row[\"header\"]\n",
    "    # search for the header text in the text-column\n",
    "    x = re.search(f\"^{re.escape(head)}\", txt)\n",
    "    # if the header text occurs in the text-column\n",
    "    if x:\n",
    "        # append the text column to the list\n",
    "        review.append(row['text'])\n",
    "    # otherwise...\n",
    "    else:\n",
    "        # append the header column and the text column to the list with a white space in between\n",
    "        review.append(row['header'] + \" \" + row['text'])\n",
    "\n",
    "# create a new column from the list\n",
    "df['review'] = review"
   ]
  },
  {
   "cell_type": "markdown",
   "id": "1cb19315",
   "metadata": {},
   "source": [
    "### 2.2 Make plots: distribution of data and mean review lengths"
   ]
  },
  {
   "cell_type": "code",
   "execution_count": 6,
   "id": "681f410c",
   "metadata": {
    "execution": {
     "iopub.execute_input": "2023-05-30T06:45:57.994973Z",
     "iopub.status.busy": "2023-05-30T06:45:57.994749Z",
     "iopub.status.idle": "2023-05-30T06:45:58.000031Z",
     "shell.execute_reply": "2023-05-30T06:45:57.999346Z",
     "shell.execute_reply.started": "2023-05-30T06:45:57.994948Z"
    },
    "tags": []
   },
   "outputs": [],
   "source": [
    "# TrustPilot color palette for plotting\n",
    "colors = ['#ff3722','#ff8623','#ffce00','#72cf10','#00b67a']"
   ]
  },
  {
   "cell_type": "code",
   "execution_count": 7,
   "id": "e40bc798",
   "metadata": {
    "execution": {
     "iopub.execute_input": "2023-05-30T06:45:58.000981Z",
     "iopub.status.busy": "2023-05-30T06:45:58.000807Z",
     "iopub.status.idle": "2023-05-30T06:45:58.633150Z",
     "shell.execute_reply": "2023-05-30T06:45:58.632395Z",
     "shell.execute_reply.started": "2023-05-30T06:45:58.000964Z"
    },
    "tags": []
   },
   "outputs": [
    {
     "data": {
      "image/png": "[encoded data removed]",
      "text/plain": [
       "<Figure size 600x400 with 1 Axes>"
      ]
     },
     "metadata": {},
     "output_type": "display_data"
    }
   ],
   "source": [
    "# DISTRIBUTION PLOT\n",
    "\n",
    "# place gridlines below elements in plots\n",
    "plt.rc('axes', axisbelow=True)\n",
    "\n",
    "# plot data distribution\n",
    "fig, ax = plt.subplots(figsize=(6, 4))\n",
    "data_counts = df.groupby('rating').review.count()\n",
    "total_counts = data_counts.sum()\n",
    "percentage_values = data_counts / total_counts * 100\n",
    "\n",
    "ax = data_counts.plot.bar(ylim=0, color=colors, width=0.9)\n",
    "\n",
    "for i, (v, p) in enumerate(zip(data_counts, percentage_values)):\n",
    "    ax.text(i, v, f\"{v:,.0f}\\n({p:.1f}%)\", ha='center', va='bottom')\n",
    "\n",
    "plt.title(\"Distribution of reviews before balancing\\n\", weight=\"bold\", fontsize=15)\n",
    "plt.ylabel('Number of reviews', fontsize=10, weight=\"bold\")\n",
    "plt.xlabel('Rating', fontsize=10, weight=\"bold\")\n",
    "plt.grid(axis=\"y\", linestyle='--')  # add a grid\n",
    "ax.spines[['right', 'top']].set_visible(False)  # remove top and right spine\n",
    "ax.yaxis.set_major_formatter(mpl.ticker.StrMethodFormatter('{x:,.0f}'))  # show thousands with a comma (1000 -> 1,000)\n",
    "plt.xticks(rotation='horizontal')\n",
    "plt.yticks(rotation=45)  # rotate y-ticks\n",
    "plt.tight_layout()  # adjust layout to prevent labels from being cut off\n",
    "\n",
    "# save the figure\n",
    "fig_path = os.path.join(\"..\", \"out\", \"preprocessing_output\", \"distribution_of_datapoints_BEFORE_preprocessing.png\")\n",
    "plt.savefig(fig_path, dpi=300, bbox_inches='tight')  \n",
    "\n",
    "# show the figure\n",
    "plt.show()"
   ]
  },
  {
   "cell_type": "markdown",
   "id": "5ee27767",
   "metadata": {
    "tags": []
   },
   "source": [
    "### 2.3 Drop duplicates"
   ]
  },
  {
   "cell_type": "code",
   "execution_count": 8,
   "id": "005b1583",
   "metadata": {
    "execution": {
     "iopub.execute_input": "2023-05-30T06:45:58.634244Z",
     "iopub.status.busy": "2023-05-30T06:45:58.634026Z",
     "iopub.status.idle": "2023-05-30T06:45:59.159100Z",
     "shell.execute_reply": "2023-05-30T06:45:59.157892Z",
     "shell.execute_reply.started": "2023-05-30T06:45:58.634225Z"
    },
    "tags": []
   },
   "outputs": [],
   "source": [
    "# drop any duplicates\n",
    "df = df.drop_duplicates(subset=['profile_link', 'date', 'review'], keep='first')\n",
    "# reset index after removing lines\n",
    "df = df.reset_index(drop=True)"
   ]
  },
  {
   "cell_type": "code",
   "execution_count": 9,
   "id": "27854576",
   "metadata": {
    "execution": {
     "iopub.execute_input": "2023-05-30T06:45:59.160226Z",
     "iopub.status.busy": "2023-05-30T06:45:59.160023Z",
     "iopub.status.idle": "2023-05-30T06:45:59.165572Z",
     "shell.execute_reply": "2023-05-30T06:45:59.164941Z",
     "shell.execute_reply.started": "2023-05-30T06:45:59.160208Z"
    },
    "tags": []
   },
   "outputs": [
    {
     "name": "stdout",
     "output_type": "stream",
     "text": [
      "Number of rows after removing duplicates: 399537\n"
     ]
    }
   ],
   "source": [
    "# save update on number of rows\n",
    "with open(rowspath, 'a') as file:\n",
    "    file.write(f\"Number of rows after removing duplicates: {len(df)}\\n\")\n",
    "print(f\"Number of rows after removing duplicates: {len(df)}\")"
   ]
  },
  {
   "cell_type": "markdown",
   "id": "2b632b6f",
   "metadata": {
    "tags": []
   },
   "source": [
    "### 2.4 Anonymisation and removal of unecessary columns"
   ]
  },
  {
   "cell_type": "code",
   "execution_count": 10,
   "id": "c3e7665e",
   "metadata": {
    "execution": {
     "iopub.execute_input": "2023-05-30T06:45:59.166490Z",
     "iopub.status.busy": "2023-05-30T06:45:59.166309Z",
     "iopub.status.idle": "2023-05-30T06:45:59.703458Z",
     "shell.execute_reply": "2023-05-30T06:45:59.702288Z",
     "shell.execute_reply.started": "2023-05-30T06:45:59.166473Z"
    },
    "tags": []
   },
   "outputs": [],
   "source": [
    "# drop any columns with 'personfølsom data'\n",
    "df = df.drop(columns=['name', 'date', 'profile_link', 'header', 'text', 'order', 'review_count'])"
   ]
  },
  {
   "cell_type": "code",
   "execution_count": 11,
   "id": "723d3b40",
   "metadata": {
    "execution": {
     "iopub.execute_input": "2023-05-30T06:45:59.707131Z",
     "iopub.status.busy": "2023-05-30T06:45:59.706942Z",
     "iopub.status.idle": "2023-05-30T06:45:59.794354Z",
     "shell.execute_reply": "2023-05-30T06:45:59.793128Z",
     "shell.execute_reply.started": "2023-05-30T06:45:59.707113Z"
    },
    "tags": []
   },
   "outputs": [
    {
     "data": {
      "text/html": [
       "<div>\n",
       "<style scoped>\n",
       "    .dataframe tbody tr th:only-of-type {\n",
       "        vertical-align: middle;\n",
       "    }\n",
       "\n",
       "    .dataframe tbody tr th {\n",
       "        vertical-align: top;\n",
       "    }\n",
       "\n",
       "    .dataframe thead th {\n",
       "        text-align: right;\n",
       "    }\n",
       "</style>\n",
       "<table border=\"1\" class=\"dataframe\">\n",
       "  <thead>\n",
       "    <tr style=\"text-align: right;\">\n",
       "      <th></th>\n",
       "      <th>rating</th>\n",
       "      <th>review</th>\n",
       "    </tr>\n",
       "  </thead>\n",
       "  <tbody>\n",
       "    <tr>\n",
       "      <th>0</th>\n",
       "      <td>5</td>\n",
       "      <td>Hurtig levering.</td>\n",
       "    </tr>\n",
       "    <tr>\n",
       "      <th>1</th>\n",
       "      <td>5</td>\n",
       "      <td>Altid pakker til tiden</td>\n",
       "    </tr>\n",
       "    <tr>\n",
       "      <th>2</th>\n",
       "      <td>5</td>\n",
       "      <td>Som sædvanlig er min pakke leveret på bedste m...</td>\n",
       "    </tr>\n",
       "    <tr>\n",
       "      <th>3</th>\n",
       "      <td>5</td>\n",
       "      <td>Hurtig behandling Alt fungerede, hurtig leveri...</td>\n",
       "    </tr>\n",
       "    <tr>\n",
       "      <th>4</th>\n",
       "      <td>5</td>\n",
       "      <td>Forbilledligt Pakkepost, når den er bedst!</td>\n",
       "    </tr>\n",
       "  </tbody>\n",
       "</table>\n",
       "</div>"
      ],
      "text/plain": [
       "   rating                                             review\n",
       "0       5                                 Hurtig levering.  \n",
       "1       5                           Altid pakker til tiden  \n",
       "2       5  Som sædvanlig er min pakke leveret på bedste m...\n",
       "3       5  Hurtig behandling Alt fungerede, hurtig leveri...\n",
       "4       5         Forbilledligt Pakkepost, når den er bedst!"
      ]
     },
     "execution_count": 11,
     "metadata": {},
     "output_type": "execute_result"
    }
   ],
   "source": [
    "df.head()"
   ]
  },
  {
   "cell_type": "markdown",
   "id": "87817c04",
   "metadata": {},
   "source": [
    "### 2.5 Get sample for prediction"
   ]
  },
  {
   "cell_type": "code",
   "execution_count": 12,
   "id": "db699916",
   "metadata": {
    "execution": {
     "iopub.execute_input": "2023-05-30T06:45:59.796413Z",
     "iopub.status.busy": "2023-05-30T06:45:59.795990Z",
     "iopub.status.idle": "2023-05-30T06:45:59.893694Z",
     "shell.execute_reply": "2023-05-30T06:45:59.892348Z",
     "shell.execute_reply.started": "2023-05-30T06:45:59.796380Z"
    },
    "tags": []
   },
   "outputs": [],
   "source": [
    "# make a subset of 5 samples per rating\n",
    "df_subset = df.groupby('rating').apply(lambda s: s.sample(5, random_state=42))"
   ]
  },
  {
   "cell_type": "code",
   "execution_count": 13,
   "id": "6c80b4db",
   "metadata": {
    "execution": {
     "iopub.execute_input": "2023-05-30T06:45:59.894726Z",
     "iopub.status.busy": "2023-05-30T06:45:59.894528Z",
     "iopub.status.idle": "2023-05-30T06:45:59.953930Z",
     "shell.execute_reply": "2023-05-30T06:45:59.953150Z",
     "shell.execute_reply.started": "2023-05-30T06:45:59.894708Z"
    },
    "tags": []
   },
   "outputs": [],
   "source": [
    "# create a list of indices from df_subset\n",
    "indices_to_drop = df_subset.index.get_level_values(1)\n",
    "\n",
    "# drop the corresponding rows from the main df\n",
    "df = df.drop(indices_to_drop)\n",
    "\n",
    "# reset indices in the two subsets\n",
    "df = df.reset_index(drop=True)\n",
    "df_subset = df_subset.reset_index(drop=True)"
   ]
  },
  {
   "cell_type": "code",
   "execution_count": 14,
   "id": "976f1995",
   "metadata": {
    "execution": {
     "iopub.execute_input": "2023-05-30T06:45:59.954966Z",
     "iopub.status.busy": "2023-05-30T06:45:59.954770Z",
     "iopub.status.idle": "2023-05-30T06:46:00.008282Z",
     "shell.execute_reply": "2023-05-30T06:46:00.007292Z",
     "shell.execute_reply.started": "2023-05-30T06:45:59.954949Z"
    },
    "tags": []
   },
   "outputs": [
    {
     "data": {
      "text/html": [
       "<div>\n",
       "<style scoped>\n",
       "    .dataframe tbody tr th:only-of-type {\n",
       "        vertical-align: middle;\n",
       "    }\n",
       "\n",
       "    .dataframe tbody tr th {\n",
       "        vertical-align: top;\n",
       "    }\n",
       "\n",
       "    .dataframe thead th {\n",
       "        text-align: right;\n",
       "    }\n",
       "</style>\n",
       "<table border=\"1\" class=\"dataframe\">\n",
       "  <thead>\n",
       "    <tr style=\"text-align: right;\">\n",
       "      <th></th>\n",
       "      <th>rating</th>\n",
       "      <th>review</th>\n",
       "    </tr>\n",
       "  </thead>\n",
       "  <tbody>\n",
       "    <tr>\n",
       "      <th>0</th>\n",
       "      <td>1</td>\n",
       "      <td>I levere min pakke, i en anden postboks, 15 km...</td>\n",
       "    </tr>\n",
       "    <tr>\n",
       "      <th>1</th>\n",
       "      <td>1</td>\n",
       "      <td>Fik ikke en sms/e-mail om at min pakke var kom...</td>\n",
       "    </tr>\n",
       "    <tr>\n",
       "      <th>2</th>\n",
       "      <td>1</td>\n",
       "      <td>Drop det nu! I skal simpelthen forstå, at der ...</td>\n",
       "    </tr>\n",
       "    <tr>\n",
       "      <th>3</th>\n",
       "      <td>1</td>\n",
       "      <td>De er Danmarks dårligste pakkefirma De er et s...</td>\n",
       "    </tr>\n",
       "    <tr>\n",
       "      <th>4</th>\n",
       "      <td>1</td>\n",
       "      <td>Min pakke blev leveret i Odense og jeg bor i N...</td>\n",
       "    </tr>\n",
       "  </tbody>\n",
       "</table>\n",
       "</div>"
      ],
      "text/plain": [
       "   rating                                             review\n",
       "0       1  I levere min pakke, i en anden postboks, 15 km...\n",
       "1       1  Fik ikke en sms/e-mail om at min pakke var kom...\n",
       "2       1  Drop det nu! I skal simpelthen forstå, at der ...\n",
       "3       1  De er Danmarks dårligste pakkefirma De er et s...\n",
       "4       1  Min pakke blev leveret i Odense og jeg bor i N..."
      ]
     },
     "execution_count": 14,
     "metadata": {},
     "output_type": "execute_result"
    }
   ],
   "source": [
    "df_subset.head()"
   ]
  },
  {
   "cell_type": "code",
   "execution_count": 15,
   "id": "e2c80cb7-0359-4a80-a26b-aa9ff2e91bbc",
   "metadata": {
    "execution": {
     "iopub.execute_input": "2023-05-30T06:46:00.009810Z",
     "iopub.status.busy": "2023-05-30T06:46:00.009449Z",
     "iopub.status.idle": "2023-05-30T06:46:00.470110Z",
     "shell.execute_reply": "2023-05-30T06:46:00.468717Z",
     "shell.execute_reply.started": "2023-05-30T06:46:00.009783Z"
    },
    "tags": []
   },
   "outputs": [],
   "source": [
    "# create a path for saving the sample of reviews\n",
    "subset_path = os.path.join(\"..\", \"in\", \"sample_for_prediction.csv\")\n",
    "# save the CSV\n",
    "df_subset.to_csv(subset_path, index = False)"
   ]
  },
  {
   "cell_type": "code",
   "execution_count": 16,
   "id": "f0dfac5a-1529-4849-b163-fe52b901040c",
   "metadata": {
    "execution": {
     "iopub.execute_input": "2023-05-30T06:46:00.472964Z",
     "iopub.status.busy": "2023-05-30T06:46:00.472423Z",
     "iopub.status.idle": "2023-05-30T06:46:00.655972Z",
     "shell.execute_reply": "2023-05-30T06:46:00.654286Z",
     "shell.execute_reply.started": "2023-05-30T06:46:00.472915Z"
    },
    "tags": []
   },
   "outputs": [
    {
     "name": "stdout",
     "output_type": "stream",
     "text": [
      "Number of rows after taking out sample of 25: 399512\n"
     ]
    }
   ],
   "source": [
    "# save update on number of rows\n",
    "with open(rowspath, 'a') as file:\n",
    "    file.write(f\"Number of rows after taking out sample of 25: {len(df)}\\n\")\n",
    "print(f\"Number of rows after taking out sample of 25: {len(df)}\")"
   ]
  },
  {
   "cell_type": "markdown",
   "id": "46fcfedf",
   "metadata": {
    "tags": []
   },
   "source": [
    "### 2.6 General text and data cleaning"
   ]
  },
  {
   "cell_type": "code",
   "execution_count": 17,
   "id": "6d7c17e3",
   "metadata": {
    "execution": {
     "iopub.execute_input": "2023-05-30T06:46:00.659404Z",
     "iopub.status.busy": "2023-05-30T06:46:00.658607Z",
     "iopub.status.idle": "2023-05-30T06:46:04.010980Z",
     "shell.execute_reply": "2023-05-30T06:46:04.009949Z",
     "shell.execute_reply.started": "2023-05-30T06:46:00.659336Z"
    },
    "tags": []
   },
   "outputs": [],
   "source": [
    "clean_review = []\n",
    "\n",
    "for text in df['review'].tolist():\n",
    "    # remove punctuation\n",
    "    text = re.sub('[^\\w\\s]+', '', text)\n",
    "    # remove double white spaces\n",
    "    text = re.sub(' +', ' ', text)\n",
    "    # remove white space at beginning and end of line\n",
    "    text = text.strip()\n",
    "    # make text lower\n",
    "    text = text.lower()\n",
    "    # append to list\n",
    "    clean_review.append(text)\n",
    "\n",
    "# add clean data to dataframe\n",
    "df['review'] = clean_review"
   ]
  },
  {
   "cell_type": "code",
   "execution_count": 18,
   "id": "b603368b",
   "metadata": {
    "execution": {
     "iopub.execute_input": "2023-05-30T06:46:04.012219Z",
     "iopub.status.busy": "2023-05-30T06:46:04.012003Z",
     "iopub.status.idle": "2023-05-30T06:46:04.112477Z",
     "shell.execute_reply": "2023-05-30T06:46:04.111692Z",
     "shell.execute_reply.started": "2023-05-30T06:46:04.012200Z"
    },
    "tags": []
   },
   "outputs": [
    {
     "name": "stdout",
     "output_type": "stream",
     "text": [
      "Number of rows after removing empty rows: 398841\n"
     ]
    }
   ],
   "source": [
    "# add NaN to empty cells\n",
    "df['review'].replace('', np.nan, inplace=True)\n",
    "# remove all cells with NaN\n",
    "df.dropna(subset=['review'], inplace=True)\n",
    "# reset index after removing lines\n",
    "df = df.reset_index(drop=True)\n",
    "# save update on number of rows\n",
    "with open(rowspath, 'a') as file:\n",
    "    file.write(f\"Number of rows after removing empty rows: {len(df)}\\n\")\n",
    "print(f\"Number of rows after removing empty rows: {len(df)}\")"
   ]
  },
  {
   "cell_type": "markdown",
   "id": "0968a6eb",
   "metadata": {
    "tags": []
   },
   "source": [
    "### 2.7 Removal of stopwords"
   ]
  },
  {
   "cell_type": "code",
   "execution_count": 19,
   "id": "fc209a47",
   "metadata": {
    "execution": {
     "iopub.execute_input": "2023-05-30T06:46:04.113498Z",
     "iopub.status.busy": "2023-05-30T06:46:04.113289Z",
     "iopub.status.idle": "2023-05-30T06:46:04.932529Z",
     "shell.execute_reply": "2023-05-30T06:46:04.931117Z",
     "shell.execute_reply.started": "2023-05-30T06:46:04.113479Z"
    },
    "tags": []
   },
   "outputs": [],
   "source": [
    "# get Danish stopword list from Github\n",
    "url = \"https://gist.githubusercontent.com/berteltorp/0cf8a0c7afea7f25ed754f24cfc2467b/raw/fa34ef448aff6adbb4b6bab9bda62a8b0f1ee597/stopord.txt\"\n",
    "res = req.get(url)\n",
    "# create TXT file for stopwords\n",
    "txt_path = os.path.join(\"..\", \"in\", \"stopwords.txt\")\n",
    "# open empty TXT\n",
    "file = open(txt_path, \"w\")\n",
    "# write stopwords to TXT\n",
    "file.write(res.text)\n",
    "# close 'write' mode\n",
    "file.close()"
   ]
  },
  {
   "cell_type": "code",
   "execution_count": 20,
   "id": "6cb1acba",
   "metadata": {
    "execution": {
     "iopub.execute_input": "2023-05-30T06:46:04.934942Z",
     "iopub.status.busy": "2023-05-30T06:46:04.934577Z",
     "iopub.status.idle": "2023-05-30T06:46:04.942089Z",
     "shell.execute_reply": "2023-05-30T06:46:04.940999Z",
     "shell.execute_reply.started": "2023-05-30T06:46:04.934908Z"
    },
    "tags": []
   },
   "outputs": [],
   "source": [
    "# read stopwords TXT\n",
    "with open(txt_path) as file:\n",
    "    # get lines\n",
    "    lines = file.readlines()"
   ]
  },
  {
   "cell_type": "code",
   "execution_count": 21,
   "id": "b4d67451",
   "metadata": {
    "execution": {
     "iopub.execute_input": "2023-05-30T06:46:04.943370Z",
     "iopub.status.busy": "2023-05-30T06:46:04.943097Z",
     "iopub.status.idle": "2023-05-30T06:46:05.324404Z",
     "shell.execute_reply": "2023-05-30T06:46:05.322843Z",
     "shell.execute_reply.started": "2023-05-30T06:46:04.943344Z"
    },
    "tags": []
   },
   "outputs": [],
   "source": [
    "# create list of stopwords\n",
    "stopwords = []\n",
    "for l in lines:\n",
    "    # remove \\n at the end of each line\n",
    "    stopwords.append(l.strip())"
   ]
  },
  {
   "cell_type": "code",
   "execution_count": 22,
   "id": "4e067ded",
   "metadata": {
    "execution": {
     "iopub.execute_input": "2023-05-30T06:46:05.327817Z",
     "iopub.status.busy": "2023-05-30T06:46:05.327095Z",
     "iopub.status.idle": "2023-05-30T06:46:20.005554Z",
     "shell.execute_reply": "2023-05-30T06:46:20.004304Z",
     "shell.execute_reply.started": "2023-05-30T06:46:05.327761Z"
    },
    "tags": []
   },
   "outputs": [],
   "source": [
    "# remove stopwords from data\n",
    "df['review'] = df['review'].apply(lambda x: ' '.join([word for word in x.split() if word not in (stopwords)]))"
   ]
  },
  {
   "cell_type": "code",
   "execution_count": 23,
   "id": "d80bc751",
   "metadata": {
    "execution": {
     "iopub.execute_input": "2023-05-30T06:46:20.007322Z",
     "iopub.status.busy": "2023-05-30T06:46:20.007093Z",
     "iopub.status.idle": "2023-05-30T06:46:20.249160Z",
     "shell.execute_reply": "2023-05-30T06:46:20.247695Z",
     "shell.execute_reply.started": "2023-05-30T06:46:20.007303Z"
    },
    "tags": []
   },
   "outputs": [
    {
     "name": "stdout",
     "output_type": "stream",
     "text": [
      "Number of rows after removing empty rows (again): 397174\n"
     ]
    }
   ],
   "source": [
    "# remove empty lines (again)\n",
    "df['review'].replace('', np.nan, inplace=True)\n",
    "df.dropna(subset=['review'], inplace=True)\n",
    "# reset index after removing lines\n",
    "df = df.reset_index(drop=True)\n",
    "# save update on number of rows\n",
    "with open(rowspath, 'a') as file:\n",
    "    file.write(f\"Number of rows after removing empty rows (again): {len(df)}\\n\")\n",
    "print(f\"Number of rows after removing empty rows (again): {len(df)}\")"
   ]
  },
  {
   "cell_type": "markdown",
   "id": "0e195762",
   "metadata": {
    "tags": []
   },
   "source": [
    "### 2.8 Remove 1-character reviews"
   ]
  },
  {
   "cell_type": "code",
   "execution_count": 24,
   "id": "facd38dc",
   "metadata": {
    "execution": {
     "iopub.execute_input": "2023-05-30T06:46:20.252221Z",
     "iopub.status.busy": "2023-05-30T06:46:20.251645Z",
     "iopub.status.idle": "2023-05-30T06:46:20.532154Z",
     "shell.execute_reply": "2023-05-30T06:46:20.531020Z",
     "shell.execute_reply.started": "2023-05-30T06:46:20.252169Z"
    },
    "tags": []
   },
   "outputs": [],
   "source": [
    "# get length of review (again)\n",
    "df[\"length\"] = df.review.str.len()"
   ]
  },
  {
   "cell_type": "code",
   "execution_count": 25,
   "id": "35e9d3c8",
   "metadata": {
    "execution": {
     "iopub.execute_input": "2023-05-30T06:46:20.533204Z",
     "iopub.status.busy": "2023-05-30T06:46:20.533006Z",
     "iopub.status.idle": "2023-05-30T06:46:20.645646Z",
     "shell.execute_reply": "2023-05-30T06:46:20.644848Z",
     "shell.execute_reply.started": "2023-05-30T06:46:20.533187Z"
    },
    "tags": []
   },
   "outputs": [
    {
     "name": "stdout",
     "output_type": "stream",
     "text": [
      "        rating review  length\n",
      "13900        4      5       1\n",
      "16263        5      s       1\n",
      "25442        5      5       1\n",
      "28088        4      3       1\n",
      "40735        5      5       1\n",
      "52653        3      3       1\n",
      "64831        5      s       1\n",
      "79769        1      j       1\n",
      "79967        5      d       1\n",
      "94281        5      5       1\n",
      "116181       4      4       1\n",
      "137578       5      a       1\n",
      "173855       5      t       1\n",
      "224158       1      1       1\n",
      "231870       5      a       1\n",
      "234749       5      o       1\n",
      "242413       5      v       1\n",
      "263283       5      d       1\n",
      "284391       1      h       1\n",
      "296026       1      0       1\n",
      "298823       4      4       1\n",
      "320692       3      3       1\n",
      "322708       5      1       1\n",
      "331667       5      å       1\n",
      "364074       4      3       1\n"
     ]
    }
   ],
   "source": [
    "# show texts that will be removed\n",
    "print(df.loc[np.array(list(map(len,df.review.values)))<2])\n",
    "# remove texts shorter than 2\n",
    "df = df.loc[np.array(list(map(len,df.review.values)))>1]\n",
    "# reset index after removing lines\n",
    "df = df.reset_index(drop=True)"
   ]
  },
  {
   "cell_type": "code",
   "execution_count": 26,
   "id": "ca0b38ba",
   "metadata": {
    "execution": {
     "iopub.execute_input": "2023-05-30T06:46:20.646809Z",
     "iopub.status.busy": "2023-05-30T06:46:20.646607Z",
     "iopub.status.idle": "2023-05-30T06:46:20.847503Z",
     "shell.execute_reply": "2023-05-30T06:46:20.846069Z",
     "shell.execute_reply.started": "2023-05-30T06:46:20.646791Z"
    },
    "tags": []
   },
   "outputs": [
    {
     "name": "stdout",
     "output_type": "stream",
     "text": [
      "Number of rows after removing short reviews: 397149\n"
     ]
    }
   ],
   "source": [
    "# save update on number of rows\n",
    "with open(rowspath, 'a') as file:\n",
    "    file.write(f\"Number of rows after removing short review: {len(df)}\\n\")\n",
    "print(f\"Number of rows after removing short reviews: {len(df)}\")"
   ]
  },
  {
   "cell_type": "code",
   "execution_count": 27,
   "id": "851fb3c2",
   "metadata": {
    "execution": {
     "iopub.execute_input": "2023-05-30T06:46:20.850487Z",
     "iopub.status.busy": "2023-05-30T06:46:20.849895Z",
     "iopub.status.idle": "2023-05-30T06:46:20.964534Z",
     "shell.execute_reply": "2023-05-30T06:46:20.963298Z",
     "shell.execute_reply.started": "2023-05-30T06:46:20.850435Z"
    },
    "tags": []
   },
   "outputs": [
    {
     "name": "stdout",
     "output_type": "stream",
     "text": [
      "Shortest review: 2\n",
      "Longest review:  1724\n"
     ]
    }
   ],
   "source": [
    "print(f\"Shortest review: {df['length'].min()}\")\n",
    "print(f\"Longest review:  {df['length'].max()}\")"
   ]
  },
  {
   "cell_type": "markdown",
   "id": "96622f64",
   "metadata": {
    "tags": []
   },
   "source": [
    "### 2.9 Balancing the data"
   ]
  },
  {
   "cell_type": "code",
   "execution_count": 28,
   "id": "1bfbc58a",
   "metadata": {
    "execution": {
     "iopub.execute_input": "2023-05-30T06:46:20.967413Z",
     "iopub.status.busy": "2023-05-30T06:46:20.966827Z",
     "iopub.status.idle": "2023-05-30T06:46:21.006258Z",
     "shell.execute_reply": "2023-05-30T06:46:21.005559Z",
     "shell.execute_reply.started": "2023-05-30T06:46:20.967346Z"
    },
    "tags": []
   },
   "outputs": [
    {
     "data": {
      "text/plain": [
       "5    252390\n",
       "1     63704\n",
       "4     42907\n",
       "2     21095\n",
       "3     17053\n",
       "Name: rating, dtype: int64"
      ]
     },
     "execution_count": 28,
     "metadata": {},
     "output_type": "execute_result"
    }
   ],
   "source": [
    "# print distribution of data before balancing\n",
    "df['rating'].value_counts()"
   ]
  },
  {
   "cell_type": "code",
   "execution_count": 29,
   "id": "59022295",
   "metadata": {
    "execution": {
     "iopub.execute_input": "2023-05-30T06:46:21.016197Z",
     "iopub.status.busy": "2023-05-30T06:46:21.015855Z",
     "iopub.status.idle": "2023-05-30T06:46:21.087533Z",
     "shell.execute_reply": "2023-05-30T06:46:21.085804Z",
     "shell.execute_reply.started": "2023-05-30T06:46:21.016180Z"
    },
    "tags": []
   },
   "outputs": [],
   "source": [
    "# balancing function\n",
    "def balance(dataframe, random_state = 42): # takes a dataframe and a random state as input (default = 42)\n",
    "    # take a random sample from each label\n",
    "    out = (dataframe.groupby('rating', as_index=False)\n",
    "            .apply(lambda x: x.sample(dataframe['rating'].value_counts().min(), random_state = random_state))\n",
    "            .reset_index(drop=True))\n",
    "    return out"
   ]
  },
  {
   "cell_type": "code",
   "execution_count": 30,
   "id": "7e631ef3",
   "metadata": {
    "execution": {
     "iopub.execute_input": "2023-05-30T06:46:21.090223Z",
     "iopub.status.busy": "2023-05-30T06:46:21.089529Z",
     "iopub.status.idle": "2023-05-30T06:46:21.233683Z",
     "shell.execute_reply": "2023-05-30T06:46:21.232847Z",
     "shell.execute_reply.started": "2023-05-30T06:46:21.090171Z"
    },
    "tags": []
   },
   "outputs": [],
   "source": [
    "# balance the data\n",
    "df = balance(df)"
   ]
  },
  {
   "cell_type": "code",
   "execution_count": 31,
   "id": "ea3bb220",
   "metadata": {
    "execution": {
     "iopub.execute_input": "2023-05-30T06:46:21.234845Z",
     "iopub.status.busy": "2023-05-30T06:46:21.234578Z",
     "iopub.status.idle": "2023-05-30T06:46:21.269367Z",
     "shell.execute_reply": "2023-05-30T06:46:21.268704Z",
     "shell.execute_reply.started": "2023-05-30T06:46:21.234823Z"
    },
    "tags": []
   },
   "outputs": [],
   "source": [
    "# make sure the ratings are parsed as strings not integers!\n",
    "df['rating'] = df['rating'].astype(str)\n",
    "# reset index after balancing the data\n",
    "df = df.reset_index(drop=True)"
   ]
  },
  {
   "cell_type": "code",
   "execution_count": 32,
   "id": "b9f37370",
   "metadata": {
    "execution": {
     "iopub.execute_input": "2023-05-30T06:46:21.270383Z",
     "iopub.status.busy": "2023-05-30T06:46:21.270194Z",
     "iopub.status.idle": "2023-05-30T06:46:22.030557Z",
     "shell.execute_reply": "2023-05-30T06:46:22.029164Z",
     "shell.execute_reply.started": "2023-05-30T06:46:21.270366Z"
    },
    "tags": []
   },
   "outputs": [
    {
     "data": {
      "image/png": "[encoded data removed]",
      "text/plain": [
       "<Figure size 600x400 with 1 Axes>"
      ]
     },
     "metadata": {},
     "output_type": "display_data"
    }
   ],
   "source": [
    "# plot the new distribution of data\n",
    "fig, ax = plt.subplots(figsize=(6,4))\n",
    "ax = df.groupby('rating').review.count().plot.bar(\n",
    "    ylim=0, color=colors, width= 0.9)\n",
    "for i, v in enumerate(df.groupby('rating').review.count()): # add bar labels\n",
    "    ax.text(i, v, f\"{v:,.0f}\", ha='center', va='bottom')\n",
    "plt.title(\"Distribution of reviews after balancing\", weight = \"bold\", fontsize=15)\n",
    "plt.subplots_adjust(top=0.85) # adjust spacing between the subtitle and title\n",
    "plt.ylabel('Number of reviews', fontsize = 10, weight = \"bold\")\n",
    "plt.xlabel('Rating', fontsize = 10, weight = \"bold\")\n",
    "plt.grid(axis = \"y\", linestyle = '--') # add a grid\n",
    "ax.spines[['right', 'top']].set_visible(False) # remove top and right spine\n",
    "ax.yaxis.set_major_formatter(mpl.ticker.StrMethodFormatter('{x:,.0f}')) # show thousands with a comma (1000 -> 1,000)\n",
    "plt.xticks(rotation='horizontal')\n",
    "plt.yticks(rotation=45)\n",
    "plt.tight_layout()  # adjust layout to prevent labels from being cut off\n",
    "\n",
    "# save the figure\n",
    "fig_path = os.path.join(\"..\", \"out\", \"preprocessing_output\", \"distribution_of_datapoints_AFTER_preprosessing.png\")\n",
    "plt.savefig(fig_path, dpi=300, bbox_inches='tight')\n",
    "\n",
    "# show the figure\n",
    "plt.show()"
   ]
  },
  {
   "cell_type": "markdown",
   "id": "5f89ad60",
   "metadata": {
    "tags": []
   },
   "source": [
    "## 3. Save the cleaned and balanced dataset"
   ]
  },
  {
   "cell_type": "code",
   "execution_count": 33,
   "id": "0da11762",
   "metadata": {
    "execution": {
     "iopub.execute_input": "2023-05-30T06:46:22.031550Z",
     "iopub.status.busy": "2023-05-30T06:46:22.031346Z",
     "iopub.status.idle": "2023-05-30T06:46:22.406453Z",
     "shell.execute_reply": "2023-05-30T06:46:22.405346Z",
     "shell.execute_reply.started": "2023-05-30T06:46:22.031532Z"
    },
    "tags": []
   },
   "outputs": [],
   "source": [
    "# create a path for saving the cleaned dataframe\n",
    "balancepath = os.path.join(\"..\", \"in\", \"balanced_dataset.csv\")\n",
    "# save the CSV\n",
    "df.to_csv(balancepath, index = False)"
   ]
  }
 ],
 "metadata": {
  "kernelspec": {
   "display_name": "Python 3 ",
   "language": "python",
   "name": "python3"
  },
  "language_info": {
   "codemirror_mode": {
    "name": "ipython",
    "version": 3
   },
   "file_extension": ".py",
   "mimetype": "text/x-python",
   "name": "python",
   "nbconvert_exporter": "python",
   "pygments_lexer": "ipython3",
   "version": "3.10.6"
  }
 },
 "nbformat": 4,
 "nbformat_minor": 5
}
