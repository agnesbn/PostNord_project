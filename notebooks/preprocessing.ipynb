{
 "cells": [
  {
   "cell_type": "markdown",
   "id": "a08bb3a0-daef-4468-a43d-a5d93ea79caf",
   "metadata": {},
   "source": [
    "# Preprocessing of PostNord reviews"
   ]
  },
  {
   "cell_type": "markdown",
   "id": "91346441-47c7-4dc8-8972-b599f36ffb00",
   "metadata": {},
   "source": [
    "Run this code __BEFORE__ *postnord_classification.ipynb*!"
   ]
  },
  {
   "cell_type": "markdown",
   "id": "ff92bebb-fab9-4ac6-a2f4-428ebf53412f",
   "metadata": {
    "tags": []
   },
   "source": [
    "## 1. Start-up code: Import packages and get data"
   ]
  },
  {
   "cell_type": "code",
   "execution_count": 1,
   "id": "f42f1239-deb0-4d8f-a5f0-0791a51eaf4d",
   "metadata": {
    "execution": {
     "iopub.execute_input": "2023-05-26T10:14:41.660214Z",
     "iopub.status.busy": "2023-05-26T10:14:41.660047Z",
     "iopub.status.idle": "2023-05-26T10:14:41.665487Z",
     "shell.execute_reply": "2023-05-26T10:14:41.664054Z",
     "shell.execute_reply.started": "2023-05-26T10:14:41.660196Z"
    },
    "tags": []
   },
   "outputs": [],
   "source": [
    "# UNCOMMENT TO INSTALL PACKAGES\n",
    "#!pip install requests pandas numpy matplotlib seaborn"
   ]
  },
  {
   "cell_type": "code",
   "execution_count": 2,
   "id": "ee7c5048-d048-48e1-8443-faf223c6af09",
   "metadata": {
    "execution": {
     "iopub.execute_input": "2023-05-26T10:14:43.150043Z",
     "iopub.status.busy": "2023-05-26T10:14:43.149746Z",
     "iopub.status.idle": "2023-05-26T10:14:44.163349Z",
     "shell.execute_reply": "2023-05-26T10:14:44.161642Z",
     "shell.execute_reply.started": "2023-05-26T10:14:43.150026Z"
    },
    "tags": []
   },
   "outputs": [],
   "source": [
    "# import packages\n",
    "\n",
    "# system tools\n",
    "import os\n",
    "import requests as req\n",
    "import re\n",
    "\n",
    "# data wrangling\n",
    "import pandas as pd\n",
    "import numpy as np\n",
    "import matplotlib as mpl\n",
    "\n",
    "# plotting\n",
    "import matplotlib.pyplot as plt\n",
    "import seaborn as sns"
   ]
  },
  {
   "cell_type": "code",
   "execution_count": 3,
   "id": "a68bb280-83a4-48bd-8336-3a0987602303",
   "metadata": {
    "execution": {
     "iopub.execute_input": "2023-05-26T10:14:44.175286Z",
     "iopub.status.busy": "2023-05-26T10:14:44.175106Z",
     "iopub.status.idle": "2023-05-26T10:14:45.989535Z",
     "shell.execute_reply": "2023-05-26T10:14:45.987559Z",
     "shell.execute_reply.started": "2023-05-26T10:14:44.175268Z"
    },
    "tags": []
   },
   "outputs": [
    {
     "name": "stdout",
     "output_type": "stream",
     "text": [
      "Beginning number of rows: 399980\n"
     ]
    }
   ],
   "source": [
    "# define input path\n",
    "path = os.path.join(\"..\", \"in\", \"postnord_trustpilot_reviews.csv\")\n",
    "# read csv\n",
    "df = pd.read_csv(path)\n",
    "# fill empty columns with white space\n",
    "df.fillna(\" \", inplace = True)\n",
    "# rename columns\n",
    "df.columns = ['order', 'name', 'date', 'rating', 'text', 'profile_link', 'review_count', 'header']\n",
    "# save number of rows\n",
    "with open('../out/development_in_number_of_rows.txt', 'w') as file:\n",
    "    file.write(f\"DEVELOPMENT IN NUMBER OF ROWS DURING CLEANING\\n\")\n",
    "    file.write(f\"Beginning number of rows: {len(df)}\\n\")\n",
    "print(f\"Beginning number of rows: {len(df)}\")"
   ]
  },
  {
   "cell_type": "markdown",
   "id": "cc49f29f-c094-4bf9-8d61-8a98efa5d202",
   "metadata": {},
   "source": [
    "## 2. Cleaning and processing"
   ]
  },
  {
   "cell_type": "markdown",
   "id": "94628583-de5b-4d6b-8959-ad2b7b77f75c",
   "metadata": {
    "tags": []
   },
   "source": [
    "### 2.1 Combine header and text column"
   ]
  },
  {
   "cell_type": "code",
   "execution_count": 4,
   "id": "4f1939d2-88da-45d3-8d93-f42c7c16a3d1",
   "metadata": {
    "execution": {
     "iopub.execute_input": "2023-05-26T10:14:45.991176Z",
     "iopub.status.busy": "2023-05-26T10:14:45.990891Z",
     "iopub.status.idle": "2023-05-26T10:14:46.129909Z",
     "shell.execute_reply": "2023-05-26T10:14:46.128906Z",
     "shell.execute_reply.started": "2023-05-26T10:14:45.991149Z"
    },
    "tags": []
   },
   "outputs": [],
   "source": [
    "# remove three dots symbol (…) from the end of the header\n",
    "df['header'] = df['header'].str.replace('…', '', regex = False)"
   ]
  },
  {
   "cell_type": "code",
   "execution_count": 5,
   "id": "bf2fb1ae-2843-4778-acb2-49adc1f7bd36",
   "metadata": {
    "execution": {
     "iopub.execute_input": "2023-05-26T10:14:46.131099Z",
     "iopub.status.busy": "2023-05-26T10:14:46.130884Z",
     "iopub.status.idle": "2023-05-26T10:15:22.699124Z",
     "shell.execute_reply": "2023-05-26T10:15:22.697230Z",
     "shell.execute_reply.started": "2023-05-26T10:14:46.131080Z"
    },
    "tags": []
   },
   "outputs": [],
   "source": [
    "# combine the header and text column into a new column\n",
    "\n",
    "# create a list\n",
    "review = []\n",
    "\n",
    "# loop over the dataframe\n",
    "for index, row in df.iterrows():\n",
    "    # txt is the text-column\n",
    "    txt = row[\"text\"]\n",
    "    # head is the header-column\n",
    "    head = row[\"header\"]\n",
    "    # search for the header text in the text-column\n",
    "    x = re.search(f\"^{re.escape(head)}\", txt)\n",
    "    # if the header text occurs in the text-column\n",
    "    if x:\n",
    "        # append the text column to the list\n",
    "        review.append(row['text'])\n",
    "    # otherwise...\n",
    "    else:\n",
    "        # append the header column and the text column to the list with a white space in between\n",
    "        review.append(row['header'] + \" \" + row['text'])\n",
    "\n",
    "# create a new column from the list\n",
    "df['review'] = review"
   ]
  },
  {
   "cell_type": "markdown",
   "id": "ad089420-da18-4df0-8631-6a9c2b55b86c",
   "metadata": {},
   "source": [
    "### 2.2 Make plots: distribution of data and mean review lengths"
   ]
  },
  {
   "cell_type": "code",
   "execution_count": 6,
   "id": "f7d40c50-90f3-4188-9265-9441badfc3e0",
   "metadata": {
    "execution": {
     "iopub.execute_input": "2023-05-26T10:15:23.400940Z",
     "iopub.status.busy": "2023-05-26T10:15:23.400719Z",
     "iopub.status.idle": "2023-05-26T10:15:23.406437Z",
     "shell.execute_reply": "2023-05-26T10:15:23.404938Z",
     "shell.execute_reply.started": "2023-05-26T10:15:23.400921Z"
    },
    "tags": []
   },
   "outputs": [],
   "source": [
    "# TrustPilot color palette for plotting\n",
    "colors = ['#ff3722','#ff8623','#ffce00','#72cf10','#00b67a']"
   ]
  },
  {
   "cell_type": "code",
   "execution_count": 7,
   "id": "87db0fde-2e80-43bb-98af-682f5306afb9",
   "metadata": {
    "execution": {
     "iopub.execute_input": "2023-05-26T10:15:23.408454Z",
     "iopub.status.busy": "2023-05-26T10:15:23.407972Z",
     "iopub.status.idle": "2023-05-26T10:15:24.668409Z",
     "shell.execute_reply": "2023-05-26T10:15:24.666284Z",
     "shell.execute_reply.started": "2023-05-26T10:15:23.408418Z"
    },
    "tags": []
   },
   "outputs": [
    {
     "data": {
      "image/png": "[encoded data removed]",
      "text/plain": [
       "<Figure size 600x400 with 1 Axes>"
      ]
     },
     "metadata": {},
     "output_type": "display_data"
    }
   ],
   "source": [
    "# DISTRIBUTION PLOT\n",
    "\n",
    "# place gridlines below elements in plots\n",
    "plt.rc('axes', axisbelow=True)\n",
    "\n",
    "# plot data distribution\n",
    "fig, ax = plt.subplots(figsize = (6,4))\n",
    "ax = df.groupby('rating').review.count().plot.bar(\n",
    "    ylim=0, color=colors, width= 0.9)\n",
    "for i, v in enumerate(df.groupby('rating').review.count()): # add bar labels\n",
    "    ax.text(i, v, f\"{v:,.0f}\", ha='center', va='bottom')\n",
    "plt.title(\"Distribution of reviews before balancing\", weight = \"bold\", fontsize=15)\n",
    "plt.subplots_adjust(top=0.85) # adjust spacing between the subtitle and title\n",
    "plt.ylabel('Number of reviews', fontsize = 10, weight = \"bold\")\n",
    "plt.xlabel('Rating', fontsize = 10, weight = \"bold\")\n",
    "plt.grid(axis = \"y\", linestyle = '--') # add a grid\n",
    "ax.spines[['right', 'top']].set_visible(False) # remove top and right spine\n",
    "ax.yaxis.set_major_formatter(mpl.ticker.StrMethodFormatter('{x:,.0f}')) # show thousands with a comma (1000 -> 1,000)\n",
    "plt.xticks(rotation='horizontal')\n",
    "plt.yticks(rotation=45) # rotate y-ticks\n",
    "plt.tight_layout()  # adjust layout to prevent labels from being cut off\n",
    "plt.savefig('../out/distribution_of_datapoints_BEFORE_preprosessing.png', dpi=300, bbox_inches='tight') # save the figure\n",
    "plt.show()"
   ]
  },
  {
   "cell_type": "code",
   "execution_count": 8,
   "id": "4e03032e-e189-4ee7-a9fb-ef279d727357",
   "metadata": {
    "execution": {
     "iopub.execute_input": "2023-05-26T10:15:24.672633Z",
     "iopub.status.busy": "2023-05-26T10:15:24.671493Z",
     "iopub.status.idle": "2023-05-26T10:15:25.328084Z",
     "shell.execute_reply": "2023-05-26T10:15:25.326842Z",
     "shell.execute_reply.started": "2023-05-26T10:15:24.672573Z"
    },
    "tags": []
   },
   "outputs": [
    {
     "data": {
      "image/png": "[encoded data removed]",
      "text/plain": [
       "<Figure size 600x400 with 1 Axes>"
      ]
     },
     "metadata": {},
     "output_type": "display_data"
    }
   ],
   "source": [
    "# LENGTH PLOT\n",
    "\n",
    "# get mean lengths\n",
    "df[\"length\"] = df.review.str.len() # get length of review\n",
    "mean_lengths = df.groupby(by = 'rating').mean('length') # get mean lengths per rating\n",
    "mean_lengths['rating'] = mean_lengths.index # add rating as a column\n",
    "\n",
    "# get values for plot\n",
    "height = [l for l in mean_lengths['length']] # y axis\n",
    "bars = [r for r in mean_lengths['rating']] # x axis\n",
    "labels = [round(l, 1) for l in mean_lengths['length']] # labels\n",
    "\n",
    "# plot mean lengths\n",
    "fig, ax = plt.subplots(figsize = (6,4))\n",
    "ax.bar(bars, height, align='center', color = colors, width = 0.9)\n",
    "plt.title(\"Mean review length per rating\", weight = \"bold\", fontsize=15)\n",
    "ax.set_xlabel('Rating', fontsize = 10, weight = \"bold\")\n",
    "ax.set_ylabel('Mean length (characters)', fontsize = 10, weight = \"bold\")\n",
    "plt.grid(axis = \"y\", linestyle = '--')\n",
    "for i in range(len(bars)):\n",
    "    plt.text(bars[i], height[i], str(labels[i]), ha='center', va='bottom')\n",
    "ax.spines[['right', 'top']].set_visible(False)\n",
    "ax.yaxis.set_major_formatter(mpl.ticker.StrMethodFormatter('{x:,.0f}'))\n",
    "plt.tight_layout()  # adjust layout to prevent labels from being cut off\n",
    "plt.savefig('../out/mean_length_pr_category.png', dpi=300, bbox_inches='tight') # save the figure\n",
    "plt.show()"
   ]
  },
  {
   "cell_type": "markdown",
   "id": "8ca260e6-33db-4fd4-9838-0d8f2df3e1e0",
   "metadata": {
    "tags": []
   },
   "source": [
    "### 2.3 Drop duplicates"
   ]
  },
  {
   "cell_type": "code",
   "execution_count": 9,
   "id": "a542e595-4bf1-4622-a420-1eceed923217",
   "metadata": {
    "execution": {
     "iopub.execute_input": "2023-05-26T10:15:25.329919Z",
     "iopub.status.busy": "2023-05-26T10:15:25.329547Z",
     "iopub.status.idle": "2023-05-26T10:15:25.868548Z",
     "shell.execute_reply": "2023-05-26T10:15:25.867575Z",
     "shell.execute_reply.started": "2023-05-26T10:15:25.329899Z"
    },
    "tags": []
   },
   "outputs": [],
   "source": [
    "# drop any duplicates\n",
    "df = df.drop_duplicates(subset=['profile_link', 'date', 'review'], keep='first')\n",
    "# reset index after removing lines\n",
    "df = df.reset_index(drop=True)"
   ]
  },
  {
   "cell_type": "code",
   "execution_count": 10,
   "id": "706fba32-9907-4900-b4ce-769c0086d220",
   "metadata": {
    "execution": {
     "iopub.execute_input": "2023-05-26T10:15:25.869951Z",
     "iopub.status.busy": "2023-05-26T10:15:25.869738Z",
     "iopub.status.idle": "2023-05-26T10:15:26.220729Z",
     "shell.execute_reply": "2023-05-26T10:15:26.219238Z",
     "shell.execute_reply.started": "2023-05-26T10:15:25.869932Z"
    },
    "tags": []
   },
   "outputs": [
    {
     "name": "stdout",
     "output_type": "stream",
     "text": [
      "Number of rows after removing duplicates: 399537\n"
     ]
    }
   ],
   "source": [
    "# save update on number of rows\n",
    "with open('../out/development_in_number_of_rows.txt', 'a') as file:\n",
    "    file.write(f\"Number of rows after removing duplicates: {len(df)}\\n\")\n",
    "print(f\"Number of rows after removing duplicates: {len(df)}\")"
   ]
  },
  {
   "cell_type": "markdown",
   "id": "5e2c7116-7b46-4c15-8401-c1f41514bc71",
   "metadata": {
    "tags": []
   },
   "source": [
    "### 2.4 Anonymisation and removal of unecessary columns"
   ]
  },
  {
   "cell_type": "code",
   "execution_count": 11,
   "id": "135c87a2-9393-4380-b53f-13790137fafe",
   "metadata": {
    "execution": {
     "iopub.execute_input": "2023-05-26T10:15:26.224294Z",
     "iopub.status.busy": "2023-05-26T10:15:26.223722Z",
     "iopub.status.idle": "2023-05-26T10:15:26.345029Z",
     "shell.execute_reply": "2023-05-26T10:15:26.344204Z",
     "shell.execute_reply.started": "2023-05-26T10:15:26.224252Z"
    },
    "tags": []
   },
   "outputs": [],
   "source": [
    "# drop any columns with 'personfølsom data'\n",
    "df = df.drop(columns=['name', 'date', 'profile_link', 'header', 'text', 'order', 'review_count', 'length'])"
   ]
  },
  {
   "cell_type": "code",
   "execution_count": 12,
   "id": "7c66e395-f4b1-4bc5-af40-9cb13d5e0740",
   "metadata": {
    "execution": {
     "iopub.execute_input": "2023-05-26T10:15:26.346272Z",
     "iopub.status.busy": "2023-05-26T10:15:26.346053Z",
     "iopub.status.idle": "2023-05-26T10:15:26.853507Z",
     "shell.execute_reply": "2023-05-26T10:15:26.851762Z",
     "shell.execute_reply.started": "2023-05-26T10:15:26.346252Z"
    },
    "tags": []
   },
   "outputs": [
    {
     "data": {
      "text/html": [
       "<div>\n",
       "<style scoped>\n",
       "    .dataframe tbody tr th:only-of-type {\n",
       "        vertical-align: middle;\n",
       "    }\n",
       "\n",
       "    .dataframe tbody tr th {\n",
       "        vertical-align: top;\n",
       "    }\n",
       "\n",
       "    .dataframe thead th {\n",
       "        text-align: right;\n",
       "    }\n",
       "</style>\n",
       "<table border=\"1\" class=\"dataframe\">\n",
       "  <thead>\n",
       "    <tr style=\"text-align: right;\">\n",
       "      <th></th>\n",
       "      <th>rating</th>\n",
       "      <th>review</th>\n",
       "    </tr>\n",
       "  </thead>\n",
       "  <tbody>\n",
       "    <tr>\n",
       "      <th>0</th>\n",
       "      <td>5</td>\n",
       "      <td>Hurtig levering.</td>\n",
       "    </tr>\n",
       "    <tr>\n",
       "      <th>1</th>\n",
       "      <td>5</td>\n",
       "      <td>Altid pakker til tiden</td>\n",
       "    </tr>\n",
       "    <tr>\n",
       "      <th>2</th>\n",
       "      <td>5</td>\n",
       "      <td>Som sædvanlig er min pakke leveret på bedste m...</td>\n",
       "    </tr>\n",
       "    <tr>\n",
       "      <th>3</th>\n",
       "      <td>5</td>\n",
       "      <td>Hurtig behandling Alt fungerede, hurtig leveri...</td>\n",
       "    </tr>\n",
       "    <tr>\n",
       "      <th>4</th>\n",
       "      <td>5</td>\n",
       "      <td>Forbilledligt Pakkepost, når den er bedst!</td>\n",
       "    </tr>\n",
       "  </tbody>\n",
       "</table>\n",
       "</div>"
      ],
      "text/plain": [
       "   rating                                             review\n",
       "0       5                                 Hurtig levering.  \n",
       "1       5                           Altid pakker til tiden  \n",
       "2       5  Som sædvanlig er min pakke leveret på bedste m...\n",
       "3       5  Hurtig behandling Alt fungerede, hurtig leveri...\n",
       "4       5         Forbilledligt Pakkepost, når den er bedst!"
      ]
     },
     "execution_count": 12,
     "metadata": {},
     "output_type": "execute_result"
    }
   ],
   "source": [
    "df.head()"
   ]
  },
  {
   "cell_type": "markdown",
   "id": "501a544b-8220-4d4a-8847-a26b4296bafb",
   "metadata": {
    "tags": []
   },
   "source": [
    "### 2.5 General text and data cleaning"
   ]
  },
  {
   "cell_type": "code",
   "execution_count": 13,
   "id": "80fba96b-b60c-46e6-a12b-d68b0896f884",
   "metadata": {
    "execution": {
     "iopub.execute_input": "2023-05-26T10:15:28.342135Z",
     "iopub.status.busy": "2023-05-26T10:15:28.341895Z",
     "iopub.status.idle": "2023-05-26T10:15:31.817382Z",
     "shell.execute_reply": "2023-05-26T10:15:31.815076Z",
     "shell.execute_reply.started": "2023-05-26T10:15:28.342109Z"
    },
    "tags": []
   },
   "outputs": [],
   "source": [
    "clean_review = []\n",
    "\n",
    "for text in df['review'].tolist():\n",
    "    # remove punctuation\n",
    "    text = re.sub('[^\\w\\s]+', '', text)\n",
    "    # remove double white spaces\n",
    "    text = re.sub(' +', ' ', text)\n",
    "    # remove white space at beginning and end of line\n",
    "    text = text.strip()\n",
    "    # make text lower\n",
    "    text = text.lower()\n",
    "    # append to list\n",
    "    clean_review.append(text)\n",
    "\n",
    "# add clean data to dataframe\n",
    "df['review'] = clean_review"
   ]
  },
  {
   "cell_type": "code",
   "execution_count": 14,
   "id": "f2378fe9-4017-4e9b-8c16-587b4e624d1b",
   "metadata": {
    "execution": {
     "iopub.execute_input": "2023-05-26T10:15:31.819049Z",
     "iopub.status.busy": "2023-05-26T10:15:31.818815Z",
     "iopub.status.idle": "2023-05-26T10:15:31.932671Z",
     "shell.execute_reply": "2023-05-26T10:15:31.931488Z",
     "shell.execute_reply.started": "2023-05-26T10:15:31.819029Z"
    },
    "tags": []
   },
   "outputs": [
    {
     "name": "stdout",
     "output_type": "stream",
     "text": [
      "Number of rows after removing empty rows: 398866\n"
     ]
    }
   ],
   "source": [
    "# add NaN to empty cells\n",
    "df['review'].replace('', np.nan, inplace=True)\n",
    "# remove all cells with NaN\n",
    "df.dropna(subset=['review'], inplace=True)\n",
    "# reset index after removing lines\n",
    "df = df.reset_index(drop=True)\n",
    "# save update on number of rows\n",
    "with open('../out/development_in_number_of_rows.txt', 'a') as file:\n",
    "    file.write(f\"Number of rows after removing empty rows: {len(df)}\\n\")\n",
    "print(f\"Number of rows after removing empty rows: {len(df)}\")"
   ]
  },
  {
   "cell_type": "markdown",
   "id": "acbf8b57-881d-4b33-9178-e9b26f42a8e6",
   "metadata": {
    "tags": []
   },
   "source": [
    "### 2.6 Removal of stopwords"
   ]
  },
  {
   "cell_type": "code",
   "execution_count": 15,
   "id": "acaa3f17-41fb-443b-b12a-963a1b526ee0",
   "metadata": {
    "execution": {
     "iopub.execute_input": "2023-05-26T10:15:31.933853Z",
     "iopub.status.busy": "2023-05-26T10:15:31.933635Z",
     "iopub.status.idle": "2023-05-26T10:15:32.934997Z",
     "shell.execute_reply": "2023-05-26T10:15:32.933058Z",
     "shell.execute_reply.started": "2023-05-26T10:15:31.933834Z"
    },
    "tags": []
   },
   "outputs": [],
   "source": [
    "# get Danish stopword list from Github\n",
    "url = \"https://gist.githubusercontent.com/berteltorp/0cf8a0c7afea7f25ed754f24cfc2467b/raw/fa34ef448aff6adbb4b6bab9bda62a8b0f1ee597/stopord.txt\"\n",
    "res = req.get(url)\n",
    "# create TXT file for stopwords\n",
    "txt_path = os.path.join(\"..\", \"in\", \"stopwords.txt\")\n",
    "# open empty TXT\n",
    "file = open(txt_path, \"w\")\n",
    "# write stopwords to TXT\n",
    "file.write(res.text)\n",
    "# close 'write' mode\n",
    "file.close()"
   ]
  },
  {
   "cell_type": "code",
   "execution_count": 16,
   "id": "87fd36dc-3e33-4e1e-920f-f56d38648251",
   "metadata": {
    "execution": {
     "iopub.execute_input": "2023-05-26T10:15:32.938219Z",
     "iopub.status.busy": "2023-05-26T10:15:32.937540Z",
     "iopub.status.idle": "2023-05-26T10:15:32.947528Z",
     "shell.execute_reply": "2023-05-26T10:15:32.945929Z",
     "shell.execute_reply.started": "2023-05-26T10:15:32.938165Z"
    },
    "tags": []
   },
   "outputs": [],
   "source": [
    "# read stopwords TXT\n",
    "with open(txt_path) as file:\n",
    "    # get lines\n",
    "    lines = file.readlines()"
   ]
  },
  {
   "cell_type": "code",
   "execution_count": 17,
   "id": "13b8ad7b-76bc-421f-8cdd-2cb836d8c7e0",
   "metadata": {
    "execution": {
     "iopub.execute_input": "2023-05-26T10:15:32.949585Z",
     "iopub.status.busy": "2023-05-26T10:15:32.949060Z",
     "iopub.status.idle": "2023-05-26T10:15:33.128291Z",
     "shell.execute_reply": "2023-05-26T10:15:33.126328Z",
     "shell.execute_reply.started": "2023-05-26T10:15:32.949539Z"
    },
    "tags": []
   },
   "outputs": [],
   "source": [
    "# create list of stopwords\n",
    "stopwords = []\n",
    "for l in lines:\n",
    "    # remove \\n at the end of each line\n",
    "    stopwords.append(l.strip())"
   ]
  },
  {
   "cell_type": "code",
   "execution_count": 18,
   "id": "389d8396-6714-4daa-8001-58fc291e68b9",
   "metadata": {
    "execution": {
     "iopub.execute_input": "2023-05-26T10:15:33.131612Z",
     "iopub.status.busy": "2023-05-26T10:15:33.130803Z",
     "iopub.status.idle": "2023-05-26T10:15:48.098835Z",
     "shell.execute_reply": "2023-05-26T10:15:48.097521Z",
     "shell.execute_reply.started": "2023-05-26T10:15:33.131531Z"
    },
    "tags": []
   },
   "outputs": [],
   "source": [
    "# remove stopwords from data\n",
    "df['review'] = df['review'].apply(lambda x: ' '.join([word for word in x.split() if word not in (stopwords)]))"
   ]
  },
  {
   "cell_type": "code",
   "execution_count": 19,
   "id": "4746baea-cc16-469b-9291-19f014282afd",
   "metadata": {
    "execution": {
     "iopub.execute_input": "2023-05-26T10:15:48.100720Z",
     "iopub.status.busy": "2023-05-26T10:15:48.100489Z",
     "iopub.status.idle": "2023-05-26T10:15:48.207794Z",
     "shell.execute_reply": "2023-05-26T10:15:48.206817Z",
     "shell.execute_reply.started": "2023-05-26T10:15:48.100698Z"
    },
    "tags": []
   },
   "outputs": [
    {
     "name": "stdout",
     "output_type": "stream",
     "text": [
      "Number of rows after removing empty rows (again): 397199\n"
     ]
    }
   ],
   "source": [
    "# remove empty lines (again)\n",
    "df['review'].replace('', np.nan, inplace=True)\n",
    "df.dropna(subset=['review'], inplace=True)\n",
    "# reset index after removing lines\n",
    "df = df.reset_index(drop=True)\n",
    "# save update on number of rows\n",
    "with open('../out/development_in_number_of_rows.txt', 'a') as file:\n",
    "    file.write(f\"Number of rows after removing empty rows (again): {len(df)}\\n\")\n",
    "print(f\"Number of rows after removing empty rows (again): {len(df)}\")"
   ]
  },
  {
   "cell_type": "markdown",
   "id": "2284db67-d70a-41d4-8083-84742cf177c8",
   "metadata": {
    "tags": []
   },
   "source": [
    "### 2.7 Remove 1-character reviews"
   ]
  },
  {
   "cell_type": "code",
   "execution_count": 20,
   "id": "d22a5471-85da-457c-95a5-6825b7c2cf8d",
   "metadata": {
    "execution": {
     "iopub.execute_input": "2023-05-26T10:15:48.210097Z",
     "iopub.status.busy": "2023-05-26T10:15:48.209592Z",
     "iopub.status.idle": "2023-05-26T10:15:48.707440Z",
     "shell.execute_reply": "2023-05-26T10:15:48.706655Z",
     "shell.execute_reply.started": "2023-05-26T10:15:48.210066Z"
    },
    "tags": []
   },
   "outputs": [],
   "source": [
    "# get length of review (again)\n",
    "df[\"length\"] = df.review.str.len()"
   ]
  },
  {
   "cell_type": "code",
   "execution_count": 21,
   "id": "3748b1c2-d167-42db-8ac8-882af1e81ab0",
   "metadata": {
    "execution": {
     "iopub.execute_input": "2023-05-26T10:15:48.708456Z",
     "iopub.status.busy": "2023-05-26T10:15:48.708262Z",
     "iopub.status.idle": "2023-05-26T10:15:48.984004Z",
     "shell.execute_reply": "2023-05-26T10:15:48.983222Z",
     "shell.execute_reply.started": "2023-05-26T10:15:48.708438Z"
    },
    "tags": []
   },
   "outputs": [
    {
     "name": "stdout",
     "output_type": "stream",
     "text": [
      "        rating review  length\n",
      "13901        4      5       1\n",
      "16264        5      s       1\n",
      "25443        5      5       1\n",
      "28089        4      3       1\n",
      "40738        5      5       1\n",
      "52657        3      3       1\n",
      "64836        5      s       1\n",
      "79775        1      j       1\n",
      "79973        5      d       1\n",
      "94288        5      5       1\n",
      "116189       4      4       1\n",
      "137586       5      a       1\n",
      "173863       5      t       1\n",
      "224169       1      1       1\n",
      "231882       5      a       1\n",
      "234761       5      o       1\n",
      "242426       5      v       1\n",
      "263296       5      d       1\n",
      "284406       1      h       1\n",
      "296042       1      0       1\n",
      "298839       4      4       1\n",
      "320709       3      3       1\n",
      "322725       5      1       1\n",
      "331685       5      å       1\n",
      "364097       4      3       1\n"
     ]
    }
   ],
   "source": [
    "# show texts that will be removed\n",
    "print(df.loc[np.array(list(map(len,df.review.values)))<2])\n",
    "# remove texts shorter than 2\n",
    "df = df.loc[np.array(list(map(len,df.review.values)))>1]\n",
    "# reset index after removing lines\n",
    "df = df.reset_index(drop=True)"
   ]
  },
  {
   "cell_type": "code",
   "execution_count": 22,
   "id": "89c01af6-9dd0-4d69-baf8-e48ce83ef761",
   "metadata": {
    "execution": {
     "iopub.execute_input": "2023-05-26T10:15:48.985106Z",
     "iopub.status.busy": "2023-05-26T10:15:48.984897Z",
     "iopub.status.idle": "2023-05-26T10:15:49.124186Z",
     "shell.execute_reply": "2023-05-26T10:15:49.122775Z",
     "shell.execute_reply.started": "2023-05-26T10:15:48.985087Z"
    },
    "tags": []
   },
   "outputs": [
    {
     "name": "stdout",
     "output_type": "stream",
     "text": [
      "Number of rows after removing short reviews: 397174\n"
     ]
    }
   ],
   "source": [
    "# save update on number of rows\n",
    "with open('../out/development_in_number_of_rows.txt', 'a') as file:\n",
    "    file.write(f\"Number of rows after removing short review: {len(df)}\\n\")\n",
    "print(f\"Number of rows after removing short reviews: {len(df)}\")"
   ]
  },
  {
   "cell_type": "code",
   "execution_count": 23,
   "id": "5f2829e4-4707-4636-9744-1e957ed3a622",
   "metadata": {
    "execution": {
     "iopub.execute_input": "2023-05-26T10:15:49.127305Z",
     "iopub.status.busy": "2023-05-26T10:15:49.126575Z",
     "iopub.status.idle": "2023-05-26T10:15:49.322008Z",
     "shell.execute_reply": "2023-05-26T10:15:49.320609Z",
     "shell.execute_reply.started": "2023-05-26T10:15:49.127249Z"
    },
    "tags": []
   },
   "outputs": [
    {
     "name": "stdout",
     "output_type": "stream",
     "text": [
      "Shortest review: 2\n",
      "Longest review:  1724\n"
     ]
    }
   ],
   "source": [
    "print(f\"Shortest review: {df['length'].min()}\")\n",
    "print(f\"Longest review:  {df['length'].max()}\")"
   ]
  },
  {
   "cell_type": "markdown",
   "id": "2bc9e88e-3dad-4698-9ea4-fa1ebeb7ff2d",
   "metadata": {
    "tags": []
   },
   "source": [
    "### 2.8 Balancing the data"
   ]
  },
  {
   "cell_type": "code",
   "execution_count": 24,
   "id": "4a2db37e-8188-430f-9e57-3c8dbb99aefa",
   "metadata": {
    "execution": {
     "iopub.execute_input": "2023-05-26T10:15:49.325159Z",
     "iopub.status.busy": "2023-05-26T10:15:49.324462Z",
     "iopub.status.idle": "2023-05-26T10:15:49.528729Z",
     "shell.execute_reply": "2023-05-26T10:15:49.528012Z",
     "shell.execute_reply.started": "2023-05-26T10:15:49.325104Z"
    },
    "tags": []
   },
   "outputs": [
    {
     "data": {
      "text/plain": [
       "5    252395\n",
       "1     63709\n",
       "4     42912\n",
       "2     21100\n",
       "3     17058\n",
       "Name: rating, dtype: int64"
      ]
     },
     "execution_count": 24,
     "metadata": {},
     "output_type": "execute_result"
    }
   ],
   "source": [
    "# print distribution of data before balancing\n",
    "df['rating'].value_counts()"
   ]
  },
  {
   "cell_type": "code",
   "execution_count": 25,
   "id": "0ba535a5-94ff-49c1-8f18-081a6dad9516",
   "metadata": {
    "execution": {
     "iopub.execute_input": "2023-05-26T10:15:49.529900Z",
     "iopub.status.busy": "2023-05-26T10:15:49.529579Z",
     "iopub.status.idle": "2023-05-26T10:15:49.709249Z",
     "shell.execute_reply": "2023-05-26T10:15:49.708054Z",
     "shell.execute_reply.started": "2023-05-26T10:15:49.529877Z"
    },
    "tags": []
   },
   "outputs": [],
   "source": [
    "# balancing function\n",
    "def balance(dataframe, random_state = 42): # takes a dataframe and a random state as input (default = 42)\n",
    "    # take a random sample from each label\n",
    "    out = (dataframe.groupby('rating', as_index=False)\n",
    "            .apply(lambda x: x.sample(dataframe['rating'].value_counts().min(), random_state = random_state))\n",
    "            .reset_index(drop=True))\n",
    "    return out"
   ]
  },
  {
   "cell_type": "code",
   "execution_count": 26,
   "id": "f07581eb-2280-41cb-92d9-97df8d866ad5",
   "metadata": {
    "execution": {
     "iopub.execute_input": "2023-05-26T10:15:49.712333Z",
     "iopub.status.busy": "2023-05-26T10:15:49.711599Z",
     "iopub.status.idle": "2023-05-26T10:15:50.038128Z",
     "shell.execute_reply": "2023-05-26T10:15:50.037092Z",
     "shell.execute_reply.started": "2023-05-26T10:15:49.712278Z"
    },
    "tags": []
   },
   "outputs": [],
   "source": [
    "# balance the data\n",
    "df = balance(df)"
   ]
  },
  {
   "cell_type": "code",
   "execution_count": 27,
   "id": "0208adc8-3a8d-432c-8015-2d65f0945662",
   "metadata": {
    "execution": {
     "iopub.execute_input": "2023-05-26T10:15:50.039292Z",
     "iopub.status.busy": "2023-05-26T10:15:50.039080Z",
     "iopub.status.idle": "2023-05-26T10:15:50.145665Z",
     "shell.execute_reply": "2023-05-26T10:15:50.144859Z",
     "shell.execute_reply.started": "2023-05-26T10:15:50.039272Z"
    },
    "tags": []
   },
   "outputs": [],
   "source": [
    "# make sure the ratings are parsed as strings not integers!\n",
    "df['rating'] = df['rating'].astype(str)\n",
    "# reset index after balancing the data\n",
    "df = df.reset_index(drop=True)"
   ]
  },
  {
   "cell_type": "code",
   "execution_count": 28,
   "id": "54b2969b-8c9a-4507-8fab-d9b1f6c5748a",
   "metadata": {
    "execution": {
     "iopub.execute_input": "2023-05-26T10:15:50.146740Z",
     "iopub.status.busy": "2023-05-26T10:15:50.146535Z",
     "iopub.status.idle": "2023-05-26T10:15:51.073339Z",
     "shell.execute_reply": "2023-05-26T10:15:51.072580Z",
     "shell.execute_reply.started": "2023-05-26T10:15:50.146722Z"
    },
    "tags": []
   },
   "outputs": [
    {
     "data": {
      "image/png": "[encoded data removed]",
      "text/plain": [
       "<Figure size 600x400 with 1 Axes>"
      ]
     },
     "metadata": {},
     "output_type": "display_data"
    }
   ],
   "source": [
    "# plot the new distribution of data\n",
    "fig, ax = plt.subplots(figsize=(6,4))\n",
    "ax = df.groupby('rating').review.count().plot.bar(\n",
    "    ylim=0, color=colors, width= 0.9)\n",
    "for i, v in enumerate(df.groupby('rating').review.count()): # add bar labels\n",
    "    ax.text(i, v, f\"{v:,.0f}\", ha='center', va='bottom')\n",
    "plt.title(\"Distribution of reviews after balancing\", weight = \"bold\", fontsize=15)\n",
    "plt.subplots_adjust(top=0.85) # adjust spacing between the subtitle and title\n",
    "plt.ylabel('Number of reviews', fontsize = 10, weight = \"bold\")\n",
    "plt.xlabel('Rating', fontsize = 10, weight = \"bold\")\n",
    "plt.grid(axis = \"y\", linestyle = '--') # add a grid\n",
    "ax.spines[['right', 'top']].set_visible(False) # remove top and right spine\n",
    "ax.yaxis.set_major_formatter(mpl.ticker.StrMethodFormatter('{x:,.0f}')) # show thousands with a comma (1000 -> 1,000)\n",
    "plt.xticks(rotation='horizontal')\n",
    "plt.yticks(rotation=45)\n",
    "plt.tight_layout()  # adjust layout to prevent labels from being cut off\n",
    "plt.savefig('../out/distribution_of_datapoints_AFTER_preprosessing.png', dpi=300, bbox_inches='tight')\n",
    "plt.show()"
   ]
  },
  {
   "cell_type": "markdown",
   "id": "d46d0170-ecb1-4f12-901b-d031669a48e6",
   "metadata": {
    "tags": []
   },
   "source": [
    "## 3. Save the cleaned and balanced dataset"
   ]
  },
  {
   "cell_type": "code",
   "execution_count": 29,
   "id": "f159d9a0-2075-4aa7-9ce8-1a3cac0bb921",
   "metadata": {
    "execution": {
     "iopub.execute_input": "2023-05-26T10:15:51.074550Z",
     "iopub.status.busy": "2023-05-26T10:15:51.074338Z",
     "iopub.status.idle": "2023-05-26T10:15:51.305839Z",
     "shell.execute_reply": "2023-05-26T10:15:51.305019Z",
     "shell.execute_reply.started": "2023-05-26T10:15:51.074530Z"
    },
    "tags": []
   },
   "outputs": [],
   "source": [
    "# create a path for saving the cleaned dataframe\n",
    "balancepath = os.path.join(\"..\", \"in\", \"balanced_dataset.csv\")\n",
    "# save the CSV\n",
    "df.to_csv(balancepath, index = False)"
   ]
  }
 ],
 "metadata": {
  "kernelspec": {
   "display_name": "Python 3 ",
   "language": "python",
   "name": "python3"
  },
  "language_info": {
   "codemirror_mode": {
    "name": "ipython",
    "version": 3
   },
   "file_extension": ".py",
   "mimetype": "text/x-python",
   "name": "python",
   "nbconvert_exporter": "python",
   "pygments_lexer": "ipython3",
   "version": "3.10.6"
  }
 },
 "nbformat": 4,
 "nbformat_minor": 5
}
