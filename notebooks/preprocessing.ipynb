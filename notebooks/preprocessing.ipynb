{
 "cells": [
  {
   "cell_type": "markdown",
   "id": "a08bb3a0-daef-4468-a43d-a5d93ea79caf",
   "metadata": {},
   "source": [
    "# Preprocessing"
   ]
  },
  {
   "cell_type": "markdown",
   "id": "ff92bebb-fab9-4ac6-a2f4-428ebf53412f",
   "metadata": {
    "tags": []
   },
   "source": [
    "## 1. Start-up code"
   ]
  },
  {
   "cell_type": "markdown",
   "id": "a97101a9-297c-48c7-8897-6e32ddd1068f",
   "metadata": {
    "tags": []
   },
   "source": [
    "### 1.1 Import packages and get data"
   ]
  },
  {
   "cell_type": "code",
   "execution_count": 78,
   "id": "f42f1239-deb0-4d8f-a5f0-0791a51eaf4d",
   "metadata": {
    "execution": {
     "iopub.execute_input": "2023-05-25T08:06:57.189952Z",
     "iopub.status.busy": "2023-05-25T08:06:57.189263Z",
     "iopub.status.idle": "2023-05-25T08:06:57.197056Z",
     "shell.execute_reply": "2023-05-25T08:06:57.195391Z",
     "shell.execute_reply.started": "2023-05-25T08:06:57.189894Z"
    },
    "tags": []
   },
   "outputs": [],
   "source": [
    "# uncomment to install packages\n",
    "#!pip install numpy pandas seaborn"
   ]
  },
  {
   "cell_type": "code",
   "execution_count": 79,
   "id": "ee7c5048-d048-48e1-8443-faf223c6af09",
   "metadata": {
    "execution": {
     "iopub.execute_input": "2023-05-25T08:06:58.969511Z",
     "iopub.status.busy": "2023-05-25T08:06:58.968702Z",
     "iopub.status.idle": "2023-05-25T08:06:58.977827Z",
     "shell.execute_reply": "2023-05-25T08:06:58.976870Z",
     "shell.execute_reply.started": "2023-05-25T08:06:58.969438Z"
    },
    "tags": []
   },
   "outputs": [],
   "source": [
    "# import packages\n",
    "\n",
    "# system tools\n",
    "import os\n",
    "import sys\n",
    "import random\n",
    "import requests as req\n",
    "import re\n",
    "\n",
    "# data wrangling\n",
    "import pandas as pd\n",
    "import numpy as np\n",
    "import matplotlib as mpl\n",
    "\n",
    "# plotting\n",
    "import seaborn as sns\n",
    "import matplotlib.pyplot as plt\n",
    "\n",
    "# TrustPilot color palette for plotting\n",
    "colors = ['#ff3722','#ff8623','#ffce00','#72cf10','#00b67a']"
   ]
  },
  {
   "cell_type": "code",
   "execution_count": 80,
   "id": "a68bb280-83a4-48bd-8336-3a0987602303",
   "metadata": {
    "execution": {
     "iopub.execute_input": "2023-05-25T08:07:00.323070Z",
     "iopub.status.busy": "2023-05-25T08:07:00.322860Z",
     "iopub.status.idle": "2023-05-25T08:07:01.963591Z",
     "shell.execute_reply": "2023-05-25T08:07:01.962781Z",
     "shell.execute_reply.started": "2023-05-25T08:07:00.323052Z"
    },
    "tags": []
   },
   "outputs": [
    {
     "name": "stdout",
     "output_type": "stream",
     "text": [
      "Beginning number of rows: 399980\n"
     ]
    }
   ],
   "source": [
    "# define input path\n",
    "path = os.path.join(\"..\", \"in\", \"postnord_trustpilot_reviews.csv\")\n",
    "# read csv\n",
    "df = pd.read_csv(path)\n",
    "# fill empty columns with white space\n",
    "df.fillna(\" \", inplace = True)\n",
    "# rename columns\n",
    "df.columns = ['order', 'name', 'date', 'rating', 'text', 'profile_link', 'review_count', 'header']\n",
    "# see number of rows\n",
    "print(f\"Beginning number of rows: {len(df)}\")"
   ]
  },
  {
   "cell_type": "markdown",
   "id": "94628583-de5b-4d6b-8959-ad2b7b77f75c",
   "metadata": {
    "tags": []
   },
   "source": [
    "### 1.2 Combine header and text column"
   ]
  },
  {
   "cell_type": "code",
   "execution_count": 81,
   "id": "4f1939d2-88da-45d3-8d93-f42c7c16a3d1",
   "metadata": {
    "execution": {
     "iopub.execute_input": "2023-05-25T08:07:01.965240Z",
     "iopub.status.busy": "2023-05-25T08:07:01.965030Z",
     "iopub.status.idle": "2023-05-25T08:07:02.108825Z",
     "shell.execute_reply": "2023-05-25T08:07:02.107945Z",
     "shell.execute_reply.started": "2023-05-25T08:07:01.965221Z"
    },
    "tags": []
   },
   "outputs": [],
   "source": [
    "# remove three dots symbol (…) from the end of the header\n",
    "df['header'] = df['header'].str.replace('…', '', regex = False)"
   ]
  },
  {
   "cell_type": "code",
   "execution_count": 82,
   "id": "bf2fb1ae-2843-4778-acb2-49adc1f7bd36",
   "metadata": {
    "execution": {
     "iopub.execute_input": "2023-05-25T08:07:03.401319Z",
     "iopub.status.busy": "2023-05-25T08:07:03.401109Z",
     "iopub.status.idle": "2023-05-25T08:07:40.182248Z",
     "shell.execute_reply": "2023-05-25T08:07:40.180432Z",
     "shell.execute_reply.started": "2023-05-25T08:07:03.401300Z"
    },
    "tags": []
   },
   "outputs": [],
   "source": [
    "# combine the header and text column into a new column\n",
    "\n",
    "# create a list\n",
    "review = []\n",
    "\n",
    "# loop over the dataframe\n",
    "for index, row in df.iterrows():\n",
    "    # txt is the text-column\n",
    "    txt = row[\"text\"]\n",
    "    # head is the header-column\n",
    "    head = row[\"header\"]\n",
    "    # search for the header text in the text-column\n",
    "    x = re.search(f\"^{re.escape(head)}\", txt)\n",
    "    # if the header text occurs in the text-column\n",
    "    if x:\n",
    "        # append the text column to the list\n",
    "        review.append(row['text'])\n",
    "    # otherwise...\n",
    "    else:\n",
    "        # append the header column and the text column to the list with a white space in between\n",
    "        review.append(row['header'] + \" \" + row['text'])\n",
    "\n",
    "# create a new column from the list\n",
    "df['review'] = review"
   ]
  },
  {
   "cell_type": "code",
   "execution_count": 83,
   "id": "87db0fde-2e80-43bb-98af-682f5306afb9",
   "metadata": {
    "execution": {
     "iopub.execute_input": "2023-05-25T08:07:40.184730Z",
     "iopub.status.busy": "2023-05-25T08:07:40.184365Z",
     "iopub.status.idle": "2023-05-25T08:07:40.429481Z",
     "shell.execute_reply": "2023-05-25T08:07:40.428409Z",
     "shell.execute_reply.started": "2023-05-25T08:07:40.184693Z"
    },
    "tags": []
   },
   "outputs": [
    {
     "data": {
      "image/png": "[encoded data removed]",
      "text/plain": [
       "<Figure size 600x400 with 1 Axes>"
      ]
     },
     "metadata": {},
     "output_type": "display_data"
    }
   ],
   "source": [
    "# place gridlines below elements in plots\n",
    "plt.rc('axes', axisbelow=True)\n",
    "\n",
    "# plot data distribution\n",
    "fig, ax = plt.subplots(figsize = (6,4))\n",
    "ax = df.groupby('rating').review.count().plot.bar(\n",
    "    ylim=0, color=colors, width= 0.9)\n",
    "for i, v in enumerate(df.groupby('rating').review.count()): # add bar labels\n",
    "    ax.text(i, v, f\"{v:,.0f}\", ha='center', va='bottom')\n",
    "plt.ylabel('Number of reviews', fontsize = 10, weight = \"bold\")\n",
    "plt.xlabel('Rating', fontsize = 10, weight = \"bold\")\n",
    "plt.grid(axis = \"y\", linestyle = '--') # add a grid\n",
    "ax.spines[['right', 'top']].set_visible(False) # remove top and right spine\n",
    "ax.yaxis.set_major_formatter(mpl.ticker.StrMethodFormatter('{x:,.0f}')) # show thousands with a comma (1000 -> 1,000)\n",
    "plt.xticks(rotation='horizontal')\n",
    "plt.yticks(rotation=45) # rotate y-ticks\n",
    "plt.show()"
   ]
  },
  {
   "cell_type": "markdown",
   "id": "8ca260e6-33db-4fd4-9838-0d8f2df3e1e0",
   "metadata": {
    "tags": []
   },
   "source": [
    "### 1.3 Drop duplicates"
   ]
  },
  {
   "cell_type": "code",
   "execution_count": 84,
   "id": "a542e595-4bf1-4622-a420-1eceed923217",
   "metadata": {
    "execution": {
     "iopub.execute_input": "2023-05-25T08:07:40.430472Z",
     "iopub.status.busy": "2023-05-25T08:07:40.430267Z",
     "iopub.status.idle": "2023-05-25T08:07:41.002207Z",
     "shell.execute_reply": "2023-05-25T08:07:41.001220Z",
     "shell.execute_reply.started": "2023-05-25T08:07:40.430446Z"
    },
    "tags": []
   },
   "outputs": [],
   "source": [
    "# drop any duplicates\n",
    "df = df.drop_duplicates(subset=['profile_link', 'date', 'review'], keep='first')\n",
    "# reset index after removing lines\n",
    "df = df.reset_index(drop=True)"
   ]
  },
  {
   "cell_type": "code",
   "execution_count": 85,
   "id": "706fba32-9907-4900-b4ce-769c0086d220",
   "metadata": {
    "execution": {
     "iopub.execute_input": "2023-05-25T08:07:43.545058Z",
     "iopub.status.busy": "2023-05-25T08:07:43.544872Z",
     "iopub.status.idle": "2023-05-25T08:07:43.549973Z",
     "shell.execute_reply": "2023-05-25T08:07:43.549327Z",
     "shell.execute_reply.started": "2023-05-25T08:07:43.545041Z"
    },
    "tags": []
   },
   "outputs": [
    {
     "name": "stdout",
     "output_type": "stream",
     "text": [
      "Number of rows after removing duplicates: 399537\n"
     ]
    }
   ],
   "source": [
    "print(f\"Number of rows after removing duplicates: {len(df)}\")"
   ]
  },
  {
   "cell_type": "markdown",
   "id": "5e2c7116-7b46-4c15-8401-c1f41514bc71",
   "metadata": {
    "tags": []
   },
   "source": [
    "### 1.4 Anonymisation"
   ]
  },
  {
   "cell_type": "code",
   "execution_count": 86,
   "id": "135c87a2-9393-4380-b53f-13790137fafe",
   "metadata": {
    "execution": {
     "iopub.execute_input": "2023-05-25T08:07:43.550846Z",
     "iopub.status.busy": "2023-05-25T08:07:43.550669Z",
     "iopub.status.idle": "2023-05-25T08:07:43.765830Z",
     "shell.execute_reply": "2023-05-25T08:07:43.765125Z",
     "shell.execute_reply.started": "2023-05-25T08:07:43.550829Z"
    },
    "tags": []
   },
   "outputs": [],
   "source": [
    "# drop any columns with 'personfølsom data'\n",
    "df = df.drop(columns=['name', 'date', 'profile_link', 'header', 'text', 'order', 'review_count'])"
   ]
  },
  {
   "cell_type": "markdown",
   "id": "8979b6c7-7baa-48eb-9bb3-4d2c01479d39",
   "metadata": {},
   "source": [
    "## 2. Cleaning and processing"
   ]
  },
  {
   "cell_type": "markdown",
   "id": "501a544b-8220-4d4a-8847-a26b4296bafb",
   "metadata": {
    "tags": []
   },
   "source": [
    "### 2.1 General text cleaning"
   ]
  },
  {
   "cell_type": "code",
   "execution_count": 87,
   "id": "80fba96b-b60c-46e6-a12b-d68b0896f884",
   "metadata": {
    "execution": {
     "iopub.execute_input": "2023-05-25T08:07:43.766807Z",
     "iopub.status.busy": "2023-05-25T08:07:43.766623Z",
     "iopub.status.idle": "2023-05-25T08:07:47.459530Z",
     "shell.execute_reply": "2023-05-25T08:07:47.458709Z",
     "shell.execute_reply.started": "2023-05-25T08:07:43.766790Z"
    },
    "tags": []
   },
   "outputs": [],
   "source": [
    "clean_review = []\n",
    "\n",
    "for text in df['review'].tolist():\n",
    "    # remove punctuation\n",
    "    text = re.sub('[^\\w\\s]+', '', text)\n",
    "    # remove double white spaces\n",
    "    text = re.sub(' +', ' ', text)\n",
    "    # remove white space at beginning and end of line\n",
    "    text = text.strip()\n",
    "    # make text lower\n",
    "    text = text.lower()\n",
    "    # append to list\n",
    "    clean_review.append(text)\n",
    "\n",
    "# add clean data to dataframe\n",
    "df['review'] = clean_review"
   ]
  },
  {
   "cell_type": "code",
   "execution_count": 88,
   "id": "f2378fe9-4017-4e9b-8c16-587b4e624d1b",
   "metadata": {
    "execution": {
     "iopub.execute_input": "2023-05-25T08:07:47.460589Z",
     "iopub.status.busy": "2023-05-25T08:07:47.460378Z",
     "iopub.status.idle": "2023-05-25T08:07:47.565851Z",
     "shell.execute_reply": "2023-05-25T08:07:47.565046Z",
     "shell.execute_reply.started": "2023-05-25T08:07:47.460570Z"
    },
    "tags": []
   },
   "outputs": [
    {
     "name": "stdout",
     "output_type": "stream",
     "text": [
      "Number of rows after removing empty rows: 398866\n"
     ]
    }
   ],
   "source": [
    "# add NaN to empty cells\n",
    "df['review'].replace('', np.nan, inplace=True)\n",
    "# remove all cells with NaN\n",
    "df.dropna(subset=['review'], inplace=True)\n",
    "# reset index after removing lines\n",
    "df = df.reset_index(drop=True)\n",
    "print(\"Number of rows after removing empty rows:\", len(df))"
   ]
  },
  {
   "cell_type": "markdown",
   "id": "acbf8b57-881d-4b33-9178-e9b26f42a8e6",
   "metadata": {
    "tags": []
   },
   "source": [
    "### 2.2 Removal of stopwords"
   ]
  },
  {
   "cell_type": "code",
   "execution_count": 89,
   "id": "acaa3f17-41fb-443b-b12a-963a1b526ee0",
   "metadata": {
    "execution": {
     "iopub.execute_input": "2023-05-25T08:07:47.566936Z",
     "iopub.status.busy": "2023-05-25T08:07:47.566733Z",
     "iopub.status.idle": "2023-05-25T08:07:48.236064Z",
     "shell.execute_reply": "2023-05-25T08:07:48.234633Z",
     "shell.execute_reply.started": "2023-05-25T08:07:47.566918Z"
    },
    "tags": []
   },
   "outputs": [],
   "source": [
    "# get Danish stopword list from Github\n",
    "url = \"https://gist.githubusercontent.com/berteltorp/0cf8a0c7afea7f25ed754f24cfc2467b/raw/fa34ef448aff6adbb4b6bab9bda62a8b0f1ee597/stopord.txt\"\n",
    "res = req.get(url)\n",
    "# create TXT file for stopwords\n",
    "txt_path = os.path.join(\"..\", \"in\", \"stopwords.txt\")\n",
    "# open empty TXT\n",
    "file = open(txt_path, \"w\")\n",
    "# write stopwords to TXT\n",
    "file.write(res.text)\n",
    "# close 'write' mode\n",
    "file.close()"
   ]
  },
  {
   "cell_type": "code",
   "execution_count": 90,
   "id": "87fd36dc-3e33-4e1e-920f-f56d38648251",
   "metadata": {
    "execution": {
     "iopub.execute_input": "2023-05-25T08:07:48.239154Z",
     "iopub.status.busy": "2023-05-25T08:07:48.238386Z",
     "iopub.status.idle": "2023-05-25T08:07:48.246822Z",
     "shell.execute_reply": "2023-05-25T08:07:48.245614Z",
     "shell.execute_reply.started": "2023-05-25T08:07:48.239095Z"
    },
    "tags": []
   },
   "outputs": [],
   "source": [
    "# read stopwords TXT\n",
    "with open(txt_path) as f:\n",
    "    # get lines\n",
    "    lines = f.readlines()\n",
    "f.close()"
   ]
  },
  {
   "cell_type": "code",
   "execution_count": 91,
   "id": "13b8ad7b-76bc-421f-8cdd-2cb836d8c7e0",
   "metadata": {
    "execution": {
     "iopub.execute_input": "2023-05-25T08:07:48.249527Z",
     "iopub.status.busy": "2023-05-25T08:07:48.249012Z",
     "iopub.status.idle": "2023-05-25T08:07:48.466746Z",
     "shell.execute_reply": "2023-05-25T08:07:48.465381Z",
     "shell.execute_reply.started": "2023-05-25T08:07:48.249493Z"
    },
    "tags": []
   },
   "outputs": [],
   "source": [
    "# create list of stopwords\n",
    "stopwords = []\n",
    "for l in lines:\n",
    "    # remove \\n at the end of each line\n",
    "    stopwords.append(l.strip())"
   ]
  },
  {
   "cell_type": "code",
   "execution_count": 92,
   "id": "389d8396-6714-4daa-8001-58fc291e68b9",
   "metadata": {
    "execution": {
     "iopub.execute_input": "2023-05-25T08:07:48.469595Z",
     "iopub.status.busy": "2023-05-25T08:07:48.468853Z",
     "iopub.status.idle": "2023-05-25T08:08:02.860314Z",
     "shell.execute_reply": "2023-05-25T08:08:02.859042Z",
     "shell.execute_reply.started": "2023-05-25T08:07:48.469538Z"
    },
    "tags": []
   },
   "outputs": [],
   "source": [
    "# remove stopwords from data\n",
    "df['review'] = df['review'].apply(lambda x: ' '.join([word for word in x.split() if word not in (stopwords)]))"
   ]
  },
  {
   "cell_type": "code",
   "execution_count": 93,
   "id": "4746baea-cc16-469b-9291-19f014282afd",
   "metadata": {
    "execution": {
     "iopub.execute_input": "2023-05-25T08:08:02.861575Z",
     "iopub.status.busy": "2023-05-25T08:08:02.861366Z",
     "iopub.status.idle": "2023-05-25T08:08:02.960595Z",
     "shell.execute_reply": "2023-05-25T08:08:02.959427Z",
     "shell.execute_reply.started": "2023-05-25T08:08:02.861556Z"
    },
    "tags": []
   },
   "outputs": [
    {
     "name": "stdout",
     "output_type": "stream",
     "text": [
      "Number of rows after removing empty rows (again): 397199\n"
     ]
    }
   ],
   "source": [
    "# remove empty lines (again)\n",
    "df['review'].replace('', np.nan, inplace=True)\n",
    "df.dropna(subset=['review'], inplace=True)\n",
    "# reset index after removing lines\n",
    "df = df.reset_index(drop=True)\n",
    "print(\"Number of rows after removing empty rows (again):\", len(df))"
   ]
  },
  {
   "cell_type": "markdown",
   "id": "2284db67-d70a-41d4-8083-84742cf177c8",
   "metadata": {
    "tags": []
   },
   "source": [
    "### 2.3 Deal with review lengths"
   ]
  },
  {
   "cell_type": "code",
   "execution_count": 94,
   "id": "5aae54d2-22cc-4253-ae71-6beb194d59c0",
   "metadata": {
    "execution": {
     "iopub.execute_input": "2023-05-25T08:08:02.961683Z",
     "iopub.status.busy": "2023-05-25T08:08:02.961477Z",
     "iopub.status.idle": "2023-05-25T08:08:03.210632Z",
     "shell.execute_reply": "2023-05-25T08:08:03.209844Z",
     "shell.execute_reply.started": "2023-05-25T08:08:02.961665Z"
    },
    "tags": []
   },
   "outputs": [],
   "source": [
    "# get length of review\n",
    "df[\"length\"] = df.review.str.len()\n",
    "# get mean lengths per rating\n",
    "mean_lengths = df.groupby(by = 'rating').mean('length')\n",
    "# add rating as a column\n",
    "mean_lengths['rating'] = mean_lengths.index"
   ]
  },
  {
   "cell_type": "code",
   "execution_count": 95,
   "id": "74e6fcc9-7ad3-49e3-8ad2-10f49a644b34",
   "metadata": {
    "execution": {
     "iopub.execute_input": "2023-05-25T08:08:03.214244Z",
     "iopub.status.busy": "2023-05-25T08:08:03.214050Z",
     "iopub.status.idle": "2023-05-25T08:08:03.323126Z",
     "shell.execute_reply": "2023-05-25T08:08:03.321526Z",
     "shell.execute_reply.started": "2023-05-25T08:08:03.214226Z"
    },
    "tags": []
   },
   "outputs": [],
   "source": [
    "# get values for plot\n",
    "height = [l for l in mean_lengths['length']]\n",
    "bars = [r for r in mean_lengths['rating']]\n",
    "labels = [round(l, 1) for l in mean_lengths['length']]"
   ]
  },
  {
   "cell_type": "code",
   "execution_count": 96,
   "id": "1eff8627-6776-4692-a685-79489901680a",
   "metadata": {
    "execution": {
     "iopub.execute_input": "2023-05-25T08:08:03.325988Z",
     "iopub.status.busy": "2023-05-25T08:08:03.325250Z",
     "iopub.status.idle": "2023-05-25T08:08:03.877921Z",
     "shell.execute_reply": "2023-05-25T08:08:03.877243Z",
     "shell.execute_reply.started": "2023-05-25T08:08:03.325931Z"
    },
    "tags": []
   },
   "outputs": [
    {
     "data": {
      "image/png": "[encoded data removed]",
      "text/plain": [
       "<Figure size 600x400 with 1 Axes>"
      ]
     },
     "metadata": {},
     "output_type": "display_data"
    }
   ],
   "source": [
    "# plot mean lengths\n",
    "fig, ax = plt.subplots(figsize = (6,4))\n",
    "\n",
    "ax.bar(bars, height, align='center', color = colors, width = 0.9)\n",
    "ax.set_xlabel('Rating', fontsize = 10, weight = \"bold\")\n",
    "ax.set_ylabel('Mean length (characters)', fontsize = 10, weight = \"bold\")\n",
    "plt.grid(axis = \"y\", linestyle = '--')\n",
    "for i in range(len(bars)):\n",
    "    plt.text(bars[i], height[i], str(labels[i]), ha='center', va='bottom')\n",
    "ax.spines[['right', 'top']].set_visible(False)\n",
    "ax.yaxis.set_major_formatter(mpl.ticker.StrMethodFormatter('{x:,.0f}'))\n",
    "plt.show()"
   ]
  },
  {
   "cell_type": "code",
   "execution_count": 97,
   "id": "3748b1c2-d167-42db-8ac8-882af1e81ab0",
   "metadata": {
    "execution": {
     "iopub.execute_input": "2023-05-25T08:08:03.878842Z",
     "iopub.status.busy": "2023-05-25T08:08:03.878661Z",
     "iopub.status.idle": "2023-05-25T08:08:04.111869Z",
     "shell.execute_reply": "2023-05-25T08:08:04.111089Z",
     "shell.execute_reply.started": "2023-05-25T08:08:03.878825Z"
    },
    "tags": []
   },
   "outputs": [
    {
     "name": "stdout",
     "output_type": "stream",
     "text": [
      "        rating review  length\n",
      "13901        4      5       1\n",
      "16264        5      s       1\n",
      "25443        5      5       1\n",
      "28089        4      3       1\n",
      "40738        5      5       1\n",
      "52657        3      3       1\n",
      "64836        5      s       1\n",
      "79775        1      j       1\n",
      "79973        5      d       1\n",
      "94288        5      5       1\n",
      "116189       4      4       1\n",
      "137586       5      a       1\n",
      "173863       5      t       1\n",
      "224169       1      1       1\n",
      "231882       5      a       1\n",
      "234761       5      o       1\n",
      "242426       5      v       1\n",
      "263296       5      d       1\n",
      "284406       1      h       1\n",
      "296042       1      0       1\n",
      "298839       4      4       1\n",
      "320709       3      3       1\n",
      "322725       5      1       1\n",
      "331685       5      å       1\n",
      "364097       4      3       1\n"
     ]
    }
   ],
   "source": [
    "# show texts that will be removed\n",
    "print(df.loc[np.array(list(map(len,df.review.values)))<2])\n",
    "# remove texts shorter than 2\n",
    "df = df.loc[np.array(list(map(len,df.review.values)))>1]\n",
    "# reset index after removing lines\n",
    "df = df.reset_index(drop=True)"
   ]
  },
  {
   "cell_type": "code",
   "execution_count": 98,
   "id": "89c01af6-9dd0-4d69-baf8-e48ce83ef761",
   "metadata": {
    "execution": {
     "iopub.execute_input": "2023-05-25T08:08:22.819957Z",
     "iopub.status.busy": "2023-05-25T08:08:22.819756Z",
     "iopub.status.idle": "2023-05-25T08:08:22.824958Z",
     "shell.execute_reply": "2023-05-25T08:08:22.824315Z",
     "shell.execute_reply.started": "2023-05-25T08:08:22.819939Z"
    },
    "tags": []
   },
   "outputs": [
    {
     "name": "stdout",
     "output_type": "stream",
     "text": [
      "Number of rows after removing short reviews: 397174\n"
     ]
    }
   ],
   "source": [
    "print(\"Number of rows after removing short reviews:\", len(df))"
   ]
  },
  {
   "cell_type": "code",
   "execution_count": 101,
   "id": "5f2829e4-4707-4636-9744-1e957ed3a622",
   "metadata": {
    "execution": {
     "iopub.execute_input": "2023-05-25T08:08:45.441806Z",
     "iopub.status.busy": "2023-05-25T08:08:45.440897Z",
     "iopub.status.idle": "2023-05-25T08:08:45.450640Z",
     "shell.execute_reply": "2023-05-25T08:08:45.449273Z",
     "shell.execute_reply.started": "2023-05-25T08:08:45.441743Z"
    },
    "tags": []
   },
   "outputs": [
    {
     "name": "stdout",
     "output_type": "stream",
     "text": [
      "Shortest review: 2\n",
      "Longest review:  1724\n"
     ]
    }
   ],
   "source": [
    "print(f\"Shortest review: {df['length'].min()}\")\n",
    "print(f\"Longest review:  {df['length'].max()}\")"
   ]
  },
  {
   "cell_type": "markdown",
   "id": "2bc9e88e-3dad-4698-9ea4-fa1ebeb7ff2d",
   "metadata": {
    "tags": []
   },
   "source": [
    "### 2.4 Balancing the data"
   ]
  },
  {
   "cell_type": "code",
   "execution_count": 102,
   "id": "4a2db37e-8188-430f-9e57-3c8dbb99aefa",
   "metadata": {
    "execution": {
     "iopub.execute_input": "2023-05-25T08:08:49.639792Z",
     "iopub.status.busy": "2023-05-25T08:08:49.638887Z",
     "iopub.status.idle": "2023-05-25T08:08:49.655554Z",
     "shell.execute_reply": "2023-05-25T08:08:49.654590Z",
     "shell.execute_reply.started": "2023-05-25T08:08:49.639730Z"
    },
    "tags": []
   },
   "outputs": [
    {
     "data": {
      "text/plain": [
       "5    252395\n",
       "1     63709\n",
       "4     42912\n",
       "2     21100\n",
       "3     17058\n",
       "Name: rating, dtype: int64"
      ]
     },
     "execution_count": 102,
     "metadata": {},
     "output_type": "execute_result"
    }
   ],
   "source": [
    "# print distribution of data before balancing\n",
    "df['rating'].value_counts()"
   ]
  },
  {
   "cell_type": "code",
   "execution_count": 103,
   "id": "0ba535a5-94ff-49c1-8f18-081a6dad9516",
   "metadata": {
    "execution": {
     "iopub.execute_input": "2023-05-25T08:09:17.664090Z",
     "iopub.status.busy": "2023-05-25T08:09:17.663335Z",
     "iopub.status.idle": "2023-05-25T08:09:17.673830Z",
     "shell.execute_reply": "2023-05-25T08:09:17.672541Z",
     "shell.execute_reply.started": "2023-05-25T08:09:17.664030Z"
    },
    "tags": []
   },
   "outputs": [],
   "source": [
    "# balancing function\n",
    "def balance(dataframe, random_state = 42): # takes a dataframe and a random state as input\n",
    "    # select a random bunch of examples from each label\n",
    "    out = (dataframe.groupby('rating', as_index=False)\n",
    "            .apply(lambda x: x.sample(dataframe['rating'].value_counts().min(), random_state = random_state))\n",
    "            .reset_index(drop=True))\n",
    "    # take a random sample of each label\n",
    "    return out"
   ]
  },
  {
   "cell_type": "code",
   "execution_count": 104,
   "id": "f07581eb-2280-41cb-92d9-97df8d866ad5",
   "metadata": {
    "execution": {
     "iopub.execute_input": "2023-05-25T08:09:43.026672Z",
     "iopub.status.busy": "2023-05-25T08:09:43.025983Z",
     "iopub.status.idle": "2023-05-25T08:09:43.129602Z",
     "shell.execute_reply": "2023-05-25T08:09:43.128863Z",
     "shell.execute_reply.started": "2023-05-25T08:09:43.026615Z"
    },
    "tags": []
   },
   "outputs": [
    {
     "data": {
      "text/plain": [
       "1    17058\n",
       "2    17058\n",
       "3    17058\n",
       "4    17058\n",
       "5    17058\n",
       "Name: rating, dtype: int64"
      ]
     },
     "execution_count": 104,
     "metadata": {},
     "output_type": "execute_result"
    }
   ],
   "source": [
    "# balance the data\n",
    "df = balance(df, random_state = 42)\n",
    "# print distribution of data after balancing\n",
    "df['rating'].value_counts()"
   ]
  },
  {
   "cell_type": "code",
   "execution_count": 106,
   "id": "0208adc8-3a8d-432c-8015-2d65f0945662",
   "metadata": {
    "execution": {
     "iopub.execute_input": "2023-05-25T08:10:12.075875Z",
     "iopub.status.busy": "2023-05-25T08:10:12.075109Z",
     "iopub.status.idle": "2023-05-25T08:10:12.100348Z",
     "shell.execute_reply": "2023-05-25T08:10:12.099499Z",
     "shell.execute_reply.started": "2023-05-25T08:10:12.075815Z"
    },
    "tags": []
   },
   "outputs": [],
   "source": [
    "# make sure the ratings are parsed as strings not integers!\n",
    "df['rating'] = df['rating'].astype(str)\n",
    "# reset index after balancing the data\n",
    "df = df.reset_index(drop=True)"
   ]
  },
  {
   "cell_type": "code",
   "execution_count": 107,
   "id": "54b2969b-8c9a-4507-8fab-d9b1f6c5748a",
   "metadata": {
    "execution": {
     "iopub.execute_input": "2023-05-25T08:10:19.565901Z",
     "iopub.status.busy": "2023-05-25T08:10:19.565143Z",
     "iopub.status.idle": "2023-05-25T08:10:19.729294Z",
     "shell.execute_reply": "2023-05-25T08:10:19.728564Z",
     "shell.execute_reply.started": "2023-05-25T08:10:19.565841Z"
    },
    "tags": []
   },
   "outputs": [
    {
     "data": {
      "image/png": "[encoded data removed]",
      "text/plain": [
       "<Figure size 600x400 with 1 Axes>"
      ]
     },
     "metadata": {},
     "output_type": "display_data"
    }
   ],
   "source": [
    "# plot the new distribution of data\n",
    "fig, ax = plt.subplots(figsize=(6,4))\n",
    "\n",
    "ax = df.groupby('rating').review.count().plot.bar(\n",
    "    ylim=0, color=colors, width= 0.9)\n",
    "for i, v in enumerate(df.groupby('rating').review.count()): # add bar labels\n",
    "    ax.text(i, v, f\"{v:,.0f}\", ha='center', va='bottom')\n",
    "plt.ylabel('Number of reviews', fontsize = 10, weight = \"bold\")\n",
    "plt.xlabel('Rating', fontsize = 10, weight = \"bold\")\n",
    "plt.grid(axis = \"y\", linestyle = '--') # add a grid\n",
    "ax.spines[['right', 'top']].set_visible(False) # remove top and right spine\n",
    "ax.yaxis.set_major_formatter(mpl.ticker.StrMethodFormatter('{x:,.0f}')) # show thousands with a comma (1000 -> 1,000)\n",
    "plt.xticks(rotation='horizontal')\n",
    "plt.yticks(rotation=45)\n",
    "plt.show()"
   ]
  },
  {
   "cell_type": "markdown",
   "id": "d46d0170-ecb1-4f12-901b-d031669a48e6",
   "metadata": {
    "tags": []
   },
   "source": [
    "## 3. Save the cleaned and balanced dataset"
   ]
  },
  {
   "cell_type": "code",
   "execution_count": 108,
   "id": "f159d9a0-2075-4aa7-9ce8-1a3cac0bb921",
   "metadata": {
    "execution": {
     "iopub.execute_input": "2023-05-25T08:10:25.487309Z",
     "iopub.status.busy": "2023-05-25T08:10:25.486385Z",
     "iopub.status.idle": "2023-05-25T08:10:25.741926Z",
     "shell.execute_reply": "2023-05-25T08:10:25.740655Z",
     "shell.execute_reply.started": "2023-05-25T08:10:25.487229Z"
    },
    "tags": []
   },
   "outputs": [],
   "source": [
    "# create a path for saving the cleaned dataframe\n",
    "balancepath = os.path.join(\"..\", \"in\", \"balanced_dataset.csv\")\n",
    "# save the CSV\n",
    "df.to_csv(balancepath, index = False)"
   ]
  }
 ],
 "metadata": {
  "kernelspec": {
   "display_name": "Python 3 ",
   "language": "python",
   "name": "python3"
  },
  "language_info": {
   "codemirror_mode": {
    "name": "ipython",
    "version": 3
   },
   "file_extension": ".py",
   "mimetype": "text/x-python",
   "name": "python",
   "nbconvert_exporter": "python",
   "pygments_lexer": "ipython3",
   "version": "3.10.6"
  }
 },
 "nbformat": 4,
 "nbformat_minor": 5
}
