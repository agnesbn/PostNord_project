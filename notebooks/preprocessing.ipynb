{
 "cells": [
  {
   "cell_type": "markdown",
   "id": "a08bb3a0-daef-4468-a43d-a5d93ea79caf",
   "metadata": {},
   "source": [
    "# Preprocessing"
   ]
  },
  {
   "cell_type": "markdown",
   "id": "8d39aa1c-013c-4408-b634-f8d56d792a04",
   "metadata": {},
   "source": [
    "## Structure of the code\n",
    "1. Combine header and text column\n",
    "2. Anonymisation\n",
    "    - Remove names\n",
    "    - Remove dates\n",
    "    - Create unique ids for each person\n",
    "    - Use review and url to remove repeated comments\n",
    "    - Remove urls\n",
    "3. Cleaning and processing\n",
    "    - If a comment was only punctuation => remove that row\n",
    "4. Balance data (around 17,000 per category)\n",
    "    - Randomise data (in categories)\n",
    "    - Keep the first 17,000 of each category"
   ]
  },
  {
   "cell_type": "markdown",
   "id": "ff92bebb-fab9-4ac6-a2f4-428ebf53412f",
   "metadata": {},
   "source": [
    "## Initial code"
   ]
  },
  {
   "cell_type": "code",
   "execution_count": 199,
   "id": "f42f1239-deb0-4d8f-a5f0-0791a51eaf4d",
   "metadata": {
    "execution": {
     "iopub.execute_input": "2023-05-19T09:58:25.891531Z",
     "iopub.status.busy": "2023-05-19T09:58:25.890905Z",
     "iopub.status.idle": "2023-05-19T09:58:25.897995Z",
     "shell.execute_reply": "2023-05-19T09:58:25.896462Z",
     "shell.execute_reply.started": "2023-05-19T09:58:25.891479Z"
    },
    "tags": []
   },
   "outputs": [],
   "source": [
    "#!pip install -U spacy\n",
    "#!python -m spacy download da_core_news_md\n",
    "#!pip install nltk numpy pandas seaborn scikit-learn scipy "
   ]
  },
  {
   "cell_type": "code",
   "execution_count": 200,
   "id": "ee7c5048-d048-48e1-8443-faf223c6af09",
   "metadata": {
    "execution": {
     "iopub.execute_input": "2023-05-19T09:58:27.210806Z",
     "iopub.status.busy": "2023-05-19T09:58:27.210601Z",
     "iopub.status.idle": "2023-05-19T09:58:27.215508Z",
     "shell.execute_reply": "2023-05-19T09:58:27.214945Z",
     "shell.execute_reply.started": "2023-05-19T09:58:27.210788Z"
    },
    "tags": []
   },
   "outputs": [],
   "source": [
    "# system tools\n",
    "import os\n",
    "import sys\n",
    "import random\n",
    "import requests as req\n",
    "\n",
    "# nlp tools\n",
    "#import spacy\n",
    "#import da_core_news_md\n",
    "#from io import StringIO\n",
    "import re\n",
    "\n",
    "# data wranling\n",
    "import pandas as pd\n",
    "import numpy as np\n",
    "import matplotlib as mpl\n",
    "#from scipy.stats import randint\n",
    "\n",
    "# plotting\n",
    "import seaborn as sns\n",
    "import matplotlib.pyplot as plt"
   ]
  },
  {
   "cell_type": "code",
   "execution_count": 201,
   "id": "b2c52f78-7588-423b-8d76-3205075f28c3",
   "metadata": {
    "execution": {
     "iopub.execute_input": "2023-05-19T09:58:31.102506Z",
     "iopub.status.busy": "2023-05-19T09:58:31.101858Z",
     "iopub.status.idle": "2023-05-19T09:58:31.110987Z",
     "shell.execute_reply": "2023-05-19T09:58:31.109804Z",
     "shell.execute_reply.started": "2023-05-19T09:58:31.102453Z"
    },
    "tags": []
   },
   "outputs": [],
   "source": [
    "colors = ['#ff3722','#ff8623','#ffce00','#72cf10','#00b67a']"
   ]
  },
  {
   "cell_type": "code",
   "execution_count": 202,
   "id": "dfedfb3c-55f5-4ce6-9b28-ac740aee46f5",
   "metadata": {
    "execution": {
     "iopub.execute_input": "2023-05-19T09:58:32.434575Z",
     "iopub.status.busy": "2023-05-19T09:58:32.434376Z",
     "iopub.status.idle": "2023-05-19T09:58:32.438171Z",
     "shell.execute_reply": "2023-05-19T09:58:32.437549Z",
     "shell.execute_reply.started": "2023-05-19T09:58:32.434559Z"
    },
    "tags": []
   },
   "outputs": [],
   "source": [
    "# define path\n",
    "path = os.path.join(\"..\", \"in\", \"postnord_trustpilot_reviews.csv\")"
   ]
  },
  {
   "cell_type": "code",
   "execution_count": 203,
   "id": "a68bb280-83a4-48bd-8336-3a0987602303",
   "metadata": {
    "execution": {
     "iopub.execute_input": "2023-05-19T09:58:32.439086Z",
     "iopub.status.busy": "2023-05-19T09:58:32.438928Z",
     "iopub.status.idle": "2023-05-19T09:58:34.021831Z",
     "shell.execute_reply": "2023-05-19T09:58:34.021082Z",
     "shell.execute_reply.started": "2023-05-19T09:58:32.439072Z"
    },
    "tags": []
   },
   "outputs": [],
   "source": [
    "# read csv\n",
    "df = pd.read_csv(path)\n",
    "# fill empty columns with white space\n",
    "df.fillna(\" \", inplace = True)\n",
    "# rename columns\n",
    "df.columns = ['order', 'name', 'date', 'rating', 'text', 'profile_link', 'review_count', 'header']"
   ]
  },
  {
   "cell_type": "code",
   "execution_count": 204,
   "id": "59e4f250-2e00-456f-88cc-bbf084689acf",
   "metadata": {
    "execution": {
     "iopub.execute_input": "2023-05-19T09:58:36.526763Z",
     "iopub.status.busy": "2023-05-19T09:58:36.526585Z",
     "iopub.status.idle": "2023-05-19T09:58:36.530484Z",
     "shell.execute_reply": "2023-05-19T09:58:36.529790Z",
     "shell.execute_reply.started": "2023-05-19T09:58:36.526746Z"
    },
    "tags": []
   },
   "outputs": [],
   "source": [
    "# make deep copy of the 20 first lines in the data\n",
    "#df = df1.copy(deep = True)"
   ]
  },
  {
   "cell_type": "code",
   "execution_count": 205,
   "id": "8731e475-d6c3-4622-b9c5-0a0ef4d78427",
   "metadata": {
    "execution": {
     "iopub.execute_input": "2023-05-19T09:58:36.531305Z",
     "iopub.status.busy": "2023-05-19T09:58:36.531148Z",
     "iopub.status.idle": "2023-05-19T09:58:36.543802Z",
     "shell.execute_reply": "2023-05-19T09:58:36.542854Z",
     "shell.execute_reply.started": "2023-05-19T09:58:36.531290Z"
    },
    "tags": []
   },
   "outputs": [
    {
     "name": "stdout",
     "output_type": "stream",
     "text": [
      "Beginning # of rows 399980\n"
     ]
    }
   ],
   "source": [
    "print(f\"Beginning # of rows {len(df)}\")"
   ]
  },
  {
   "cell_type": "markdown",
   "id": "94628583-de5b-4d6b-8959-ad2b7b77f75c",
   "metadata": {},
   "source": [
    "## Combination of header and text column"
   ]
  },
  {
   "cell_type": "markdown",
   "id": "5129d3f6-b776-48c5-ac07-c1f89365f6c3",
   "metadata": {},
   "source": [
    "Hvis headeren er identisk med teksten eller hvis headerens længde er identisk med det tilsvarende vindue i teksten\n",
    "    \n",
    "```df['review'] = df['text']```\n",
    "\n",
    "Ellers: `df['review'] = df['header'] + \" \" + df['text']`\n",
    "\n",
    "_Kan også omvendes_"
   ]
  },
  {
   "cell_type": "code",
   "execution_count": 206,
   "id": "4f1939d2-88da-45d3-8d93-f42c7c16a3d1",
   "metadata": {
    "execution": {
     "iopub.execute_input": "2023-05-19T09:58:36.546110Z",
     "iopub.status.busy": "2023-05-19T09:58:36.545764Z",
     "iopub.status.idle": "2023-05-19T09:58:36.692854Z",
     "shell.execute_reply": "2023-05-19T09:58:36.691736Z",
     "shell.execute_reply.started": "2023-05-19T09:58:36.546090Z"
    },
    "tags": []
   },
   "outputs": [],
   "source": [
    "# remove dots from the end of the header\n",
    "df['header'] = df['header'].str.replace('…', '', regex = False)"
   ]
  },
  {
   "cell_type": "code",
   "execution_count": 207,
   "id": "bf2fb1ae-2843-4778-acb2-49adc1f7bd36",
   "metadata": {
    "execution": {
     "iopub.execute_input": "2023-05-19T09:58:36.693798Z",
     "iopub.status.busy": "2023-05-19T09:58:36.693611Z",
     "iopub.status.idle": "2023-05-19T09:59:11.999050Z",
     "shell.execute_reply": "2023-05-19T09:59:11.997661Z",
     "shell.execute_reply.started": "2023-05-19T09:58:36.693782Z"
    },
    "tags": []
   },
   "outputs": [],
   "source": [
    "# create a list\n",
    "review = []\n",
    "\n",
    "# loop over the dataframe\n",
    "for index, row in df.iterrows():\n",
    "    # txt is the text-column\n",
    "    txt = row[\"text\"]\n",
    "    # head is the header-column\n",
    "    head = row[\"header\"]\n",
    "    # search for the header text in the text-column\n",
    "    x = re.search(f\"^{re.escape(head)}\", txt)\n",
    "    # if the header text occurs in the text-column\n",
    "    if x:\n",
    "        # append the text column to the list\n",
    "        review.append(row['text'])\n",
    "    # otherwise...\n",
    "    else:\n",
    "        # append the header column and the text column to the list with a white space in between\n",
    "        review.append(row['header'] + \" \" + row['text'])"
   ]
  },
  {
   "cell_type": "code",
   "execution_count": 208,
   "id": "5feae0e5-4959-40b7-879a-eef14e510a22",
   "metadata": {
    "execution": {
     "iopub.execute_input": "2023-05-19T09:59:12.000804Z",
     "iopub.status.busy": "2023-05-19T09:59:12.000566Z",
     "iopub.status.idle": "2023-05-19T09:59:12.076173Z",
     "shell.execute_reply": "2023-05-19T09:59:12.075496Z",
     "shell.execute_reply.started": "2023-05-19T09:59:12.000770Z"
    },
    "tags": []
   },
   "outputs": [],
   "source": [
    "# create a new review-column from the list\n",
    "df['review'] = review"
   ]
  },
  {
   "cell_type": "code",
   "execution_count": 209,
   "id": "c874a50d-2784-4f38-b9c1-2cc5529717d4",
   "metadata": {
    "execution": {
     "iopub.execute_input": "2023-05-19T09:59:15.789879Z",
     "iopub.status.busy": "2023-05-19T09:59:15.789701Z",
     "iopub.status.idle": "2023-05-19T09:59:15.794117Z",
     "shell.execute_reply": "2023-05-19T09:59:15.793245Z",
     "shell.execute_reply.started": "2023-05-19T09:59:15.789862Z"
    },
    "tags": []
   },
   "outputs": [],
   "source": [
    "plt.rc('axes', axisbelow=True)"
   ]
  },
  {
   "cell_type": "code",
   "execution_count": 210,
   "id": "87db0fde-2e80-43bb-98af-682f5306afb9",
   "metadata": {
    "execution": {
     "iopub.execute_input": "2023-05-19T09:59:17.012766Z",
     "iopub.status.busy": "2023-05-19T09:59:17.012568Z",
     "iopub.status.idle": "2023-05-19T09:59:17.186853Z",
     "shell.execute_reply": "2023-05-19T09:59:17.186188Z",
     "shell.execute_reply.started": "2023-05-19T09:59:17.012750Z"
    },
    "tags": []
   },
   "outputs": [
    {
     "data": {
      "image/png": "[encoded data removed]",
      "text/plain": [
       "<Figure size 640x480 with 1 Axes>"
      ]
     },
     "metadata": {},
     "output_type": "display_data"
    }
   ],
   "source": [
    "fig = df.groupby('rating').review.count().plot.bar(\n",
    "    ylim=0, color=colors, width= 0.9)\n",
    "\n",
    "plt.ylabel('Number of ocurrences', fontsize = 10, weight = \"bold\")\n",
    "plt.xlabel('Rating', fontsize = 10, weight = \"bold\")\n",
    "plt.grid(axis = \"y\", linestyle = '--')\n",
    "fig.spines[\"top\"].set_visible(False)\n",
    "fig.spines[\"right\"].set_visible(False)\n",
    "fig.yaxis.set_major_formatter(mpl.ticker.StrMethodFormatter('{x:,.0f}'))\n",
    "plt.xticks(rotation='horizontal')\n",
    "plt.yticks(rotation=45)\n",
    "plt.show()"
   ]
  },
  {
   "cell_type": "markdown",
   "id": "e90d2235-dc54-47e5-b3b5-384c8246747e",
   "metadata": {},
   "source": [
    "## Removal of duplicates"
   ]
  },
  {
   "cell_type": "code",
   "execution_count": 211,
   "id": "a542e595-4bf1-4622-a420-1eceed923217",
   "metadata": {
    "execution": {
     "iopub.execute_input": "2023-05-19T09:59:17.187796Z",
     "iopub.status.busy": "2023-05-19T09:59:17.187619Z",
     "iopub.status.idle": "2023-05-19T09:59:17.629590Z",
     "shell.execute_reply": "2023-05-19T09:59:17.628876Z",
     "shell.execute_reply.started": "2023-05-19T09:59:17.187780Z"
    },
    "tags": []
   },
   "outputs": [],
   "source": [
    "df = df.drop_duplicates(subset=['profile_link', 'date', 'review'], keep='first')"
   ]
  },
  {
   "cell_type": "code",
   "execution_count": 212,
   "id": "706fba32-9907-4900-b4ce-769c0086d220",
   "metadata": {
    "execution": {
     "iopub.execute_input": "2023-05-19T09:59:17.630661Z",
     "iopub.status.busy": "2023-05-19T09:59:17.630478Z",
     "iopub.status.idle": "2023-05-19T09:59:17.635116Z",
     "shell.execute_reply": "2023-05-19T09:59:17.634603Z",
     "shell.execute_reply.started": "2023-05-19T09:59:17.630644Z"
    },
    "tags": []
   },
   "outputs": [
    {
     "name": "stdout",
     "output_type": "stream",
     "text": [
      "# rows after removing duplicates: 399537\n"
     ]
    }
   ],
   "source": [
    "print(f\"# rows after removing duplicates: {len(df)}\")"
   ]
  },
  {
   "cell_type": "markdown",
   "id": "040ba909-a8e8-4422-9f23-3da1a89594b9",
   "metadata": {},
   "source": [
    "## Anonymisation"
   ]
  },
  {
   "cell_type": "code",
   "execution_count": 213,
   "id": "135c87a2-9393-4380-b53f-13790137fafe",
   "metadata": {
    "execution": {
     "iopub.execute_input": "2023-05-19T09:59:17.639011Z",
     "iopub.status.busy": "2023-05-19T09:59:17.638714Z",
     "iopub.status.idle": "2023-05-19T09:59:17.739237Z",
     "shell.execute_reply": "2023-05-19T09:59:17.738598Z",
     "shell.execute_reply.started": "2023-05-19T09:59:17.638994Z"
    },
    "tags": []
   },
   "outputs": [],
   "source": [
    "df = df.drop(columns=['name', 'date', 'profile_link', 'header', 'text', 'order', 'review_count'])"
   ]
  },
  {
   "cell_type": "markdown",
   "id": "8979b6c7-7baa-48eb-9bb3-4d2c01479d39",
   "metadata": {},
   "source": [
    "## Cleaning and processing"
   ]
  },
  {
   "cell_type": "code",
   "execution_count": 214,
   "id": "80fba96b-b60c-46e6-a12b-d68b0896f884",
   "metadata": {
    "execution": {
     "iopub.execute_input": "2023-05-19T09:59:17.740125Z",
     "iopub.status.busy": "2023-05-19T09:59:17.739956Z",
     "iopub.status.idle": "2023-05-19T09:59:21.058226Z",
     "shell.execute_reply": "2023-05-19T09:59:21.056675Z",
     "shell.execute_reply.started": "2023-05-19T09:59:17.740110Z"
    },
    "tags": []
   },
   "outputs": [],
   "source": [
    "clean_review = []\n",
    "\n",
    "for text in df['review'].tolist():\n",
    "    text = re.sub('[^\\w\\s]+', '', text)\n",
    "    text = re.sub(' +', ' ', text)\n",
    "    text = text.strip()\n",
    "    text = text.lower()\n",
    "    clean_review.append(text)"
   ]
  },
  {
   "cell_type": "code",
   "execution_count": 215,
   "id": "c329d6e5-dcc7-4d4f-a660-8ee34337d317",
   "metadata": {
    "execution": {
     "iopub.execute_input": "2023-05-19T09:59:21.059602Z",
     "iopub.status.busy": "2023-05-19T09:59:21.059381Z",
     "iopub.status.idle": "2023-05-19T09:59:21.106591Z",
     "shell.execute_reply": "2023-05-19T09:59:21.105908Z",
     "shell.execute_reply.started": "2023-05-19T09:59:21.059583Z"
    },
    "tags": []
   },
   "outputs": [],
   "source": [
    "df['review'] = clean_review"
   ]
  },
  {
   "cell_type": "code",
   "execution_count": 216,
   "id": "f2378fe9-4017-4e9b-8c16-587b4e624d1b",
   "metadata": {
    "execution": {
     "iopub.execute_input": "2023-05-19T09:59:21.107500Z",
     "iopub.status.busy": "2023-05-19T09:59:21.107314Z",
     "iopub.status.idle": "2023-05-19T09:59:21.423043Z",
     "shell.execute_reply": "2023-05-19T09:59:21.422342Z",
     "shell.execute_reply.started": "2023-05-19T09:59:21.107484Z"
    },
    "tags": []
   },
   "outputs": [
    {
     "name": "stdout",
     "output_type": "stream",
     "text": [
      "# rows after removing empty rows: 398866\n"
     ]
    }
   ],
   "source": [
    "df['review'].replace('', np.nan, inplace=True)\n",
    "df.dropna(subset=['review'], inplace=True)\n",
    "print(\"# rows after removing empty rows:\", len(df))"
   ]
  },
  {
   "cell_type": "code",
   "execution_count": 217,
   "id": "0a938233-7011-45e9-bd1e-53f9e65840e4",
   "metadata": {
    "execution": {
     "iopub.execute_input": "2023-05-19T09:59:21.423990Z",
     "iopub.status.busy": "2023-05-19T09:59:21.423814Z",
     "iopub.status.idle": "2023-05-19T09:59:21.431707Z",
     "shell.execute_reply": "2023-05-19T09:59:21.431172Z",
     "shell.execute_reply.started": "2023-05-19T09:59:21.423973Z"
    },
    "tags": []
   },
   "outputs": [
    {
     "data": {
      "text/html": [
       "<div>\n",
       "<style scoped>\n",
       "    .dataframe tbody tr th:only-of-type {\n",
       "        vertical-align: middle;\n",
       "    }\n",
       "\n",
       "    .dataframe tbody tr th {\n",
       "        vertical-align: top;\n",
       "    }\n",
       "\n",
       "    .dataframe thead th {\n",
       "        text-align: right;\n",
       "    }\n",
       "</style>\n",
       "<table border=\"1\" class=\"dataframe\">\n",
       "  <thead>\n",
       "    <tr style=\"text-align: right;\">\n",
       "      <th></th>\n",
       "      <th>rating</th>\n",
       "      <th>review</th>\n",
       "    </tr>\n",
       "  </thead>\n",
       "  <tbody>\n",
       "    <tr>\n",
       "      <th>0</th>\n",
       "      <td>5</td>\n",
       "      <td>hurtig levering</td>\n",
       "    </tr>\n",
       "    <tr>\n",
       "      <th>1</th>\n",
       "      <td>5</td>\n",
       "      <td>altid pakker til tiden</td>\n",
       "    </tr>\n",
       "    <tr>\n",
       "      <th>2</th>\n",
       "      <td>5</td>\n",
       "      <td>som sædvanlig er min pakke leveret på bedste m...</td>\n",
       "    </tr>\n",
       "    <tr>\n",
       "      <th>3</th>\n",
       "      <td>5</td>\n",
       "      <td>hurtig behandling alt fungerede hurtig leverin...</td>\n",
       "    </tr>\n",
       "    <tr>\n",
       "      <th>4</th>\n",
       "      <td>5</td>\n",
       "      <td>forbilledligt pakkepost når den er bedst</td>\n",
       "    </tr>\n",
       "  </tbody>\n",
       "</table>\n",
       "</div>"
      ],
      "text/plain": [
       "   rating                                             review\n",
       "0       5                                    hurtig levering\n",
       "1       5                             altid pakker til tiden\n",
       "2       5  som sædvanlig er min pakke leveret på bedste m...\n",
       "3       5  hurtig behandling alt fungerede hurtig leverin...\n",
       "4       5           forbilledligt pakkepost når den er bedst"
      ]
     },
     "execution_count": 217,
     "metadata": {},
     "output_type": "execute_result"
    }
   ],
   "source": [
    "df.head()"
   ]
  },
  {
   "cell_type": "code",
   "execution_count": 218,
   "id": "acaa3f17-41fb-443b-b12a-963a1b526ee0",
   "metadata": {
    "execution": {
     "iopub.execute_input": "2023-05-19T09:59:21.432595Z",
     "iopub.status.busy": "2023-05-19T09:59:21.432430Z",
     "iopub.status.idle": "2023-05-19T09:59:22.019627Z",
     "shell.execute_reply": "2023-05-19T09:59:22.018434Z",
     "shell.execute_reply.started": "2023-05-19T09:59:21.432579Z"
    },
    "tags": []
   },
   "outputs": [],
   "source": [
    "# removal of stopwords\n",
    "url = \"https://gist.githubusercontent.com/berteltorp/0cf8a0c7afea7f25ed754f24cfc2467b/raw/fa34ef448aff6adbb4b6bab9bda62a8b0f1ee597/stopord.txt\"\n",
    "res = req.get(url)\n",
    "\n",
    "txt_path = os.path.join(\"..\", \"in\", \"stopwords.txt\")\n",
    "\n",
    "file = open(txt_path, \"w\")\n",
    "file.write(res.text)\n",
    "file.close()"
   ]
  },
  {
   "cell_type": "code",
   "execution_count": 219,
   "id": "87fd36dc-3e33-4e1e-920f-f56d38648251",
   "metadata": {
    "execution": {
     "iopub.execute_input": "2023-05-19T09:59:22.022261Z",
     "iopub.status.busy": "2023-05-19T09:59:22.021735Z",
     "iopub.status.idle": "2023-05-19T09:59:22.029966Z",
     "shell.execute_reply": "2023-05-19T09:59:22.028518Z",
     "shell.execute_reply.started": "2023-05-19T09:59:22.022213Z"
    },
    "tags": []
   },
   "outputs": [],
   "source": [
    "with open(txt_path) as f:\n",
    "    lines = f.readlines()\n",
    "f.close()"
   ]
  },
  {
   "cell_type": "code",
   "execution_count": 220,
   "id": "13b8ad7b-76bc-421f-8cdd-2cb836d8c7e0",
   "metadata": {
    "execution": {
     "iopub.execute_input": "2023-05-19T09:59:22.032246Z",
     "iopub.status.busy": "2023-05-19T09:59:22.031911Z",
     "iopub.status.idle": "2023-05-19T09:59:22.058887Z",
     "shell.execute_reply": "2023-05-19T09:59:22.057555Z",
     "shell.execute_reply.started": "2023-05-19T09:59:22.032215Z"
    },
    "tags": []
   },
   "outputs": [],
   "source": [
    "stopwords = []\n",
    "\n",
    "for l in lines:\n",
    "    stopwords.append(l.strip())"
   ]
  },
  {
   "cell_type": "code",
   "execution_count": 221,
   "id": "389d8396-6714-4daa-8001-58fc291e68b9",
   "metadata": {
    "execution": {
     "iopub.execute_input": "2023-05-19T09:59:22.061269Z",
     "iopub.status.busy": "2023-05-19T09:59:22.060749Z",
     "iopub.status.idle": "2023-05-19T09:59:35.991706Z",
     "shell.execute_reply": "2023-05-19T09:59:35.990921Z",
     "shell.execute_reply.started": "2023-05-19T09:59:22.061221Z"
    },
    "tags": []
   },
   "outputs": [],
   "source": [
    "df['review'] = df['review'].apply(lambda x: ' '.join([word for word in x.split() if word not in (stopwords)]))"
   ]
  },
  {
   "cell_type": "code",
   "execution_count": 222,
   "id": "4746baea-cc16-469b-9291-19f014282afd",
   "metadata": {
    "execution": {
     "iopub.execute_input": "2023-05-19T09:59:35.992837Z",
     "iopub.status.busy": "2023-05-19T09:59:35.992631Z",
     "iopub.status.idle": "2023-05-19T09:59:36.076038Z",
     "shell.execute_reply": "2023-05-19T09:59:36.075359Z",
     "shell.execute_reply.started": "2023-05-19T09:59:35.992821Z"
    },
    "tags": []
   },
   "outputs": [
    {
     "name": "stdout",
     "output_type": "stream",
     "text": [
      "# rows after removing empty rows (again): 397199\n"
     ]
    }
   ],
   "source": [
    "df['review'].replace('', np.nan, inplace=True)\n",
    "df.dropna(subset=['review'], inplace=True)\n",
    "print(\"# rows after removing empty rows (again):\", len(df))"
   ]
  },
  {
   "cell_type": "code",
   "execution_count": 223,
   "id": "d104fe07-2dc2-49d0-9a1d-6d70f1b0b29f",
   "metadata": {
    "execution": {
     "iopub.execute_input": "2023-05-19T09:59:36.077024Z",
     "iopub.status.busy": "2023-05-19T09:59:36.076838Z",
     "iopub.status.idle": "2023-05-19T09:59:36.231255Z",
     "shell.execute_reply": "2023-05-19T09:59:36.230154Z",
     "shell.execute_reply.started": "2023-05-19T09:59:36.077007Z"
    },
    "tags": []
   },
   "outputs": [
    {
     "data": {
      "text/html": [
       "<div>\n",
       "<style scoped>\n",
       "    .dataframe tbody tr th:only-of-type {\n",
       "        vertical-align: middle;\n",
       "    }\n",
       "\n",
       "    .dataframe tbody tr th {\n",
       "        vertical-align: top;\n",
       "    }\n",
       "\n",
       "    .dataframe thead th {\n",
       "        text-align: right;\n",
       "    }\n",
       "</style>\n",
       "<table border=\"1\" class=\"dataframe\">\n",
       "  <thead>\n",
       "    <tr style=\"text-align: right;\">\n",
       "      <th></th>\n",
       "      <th>rating</th>\n",
       "      <th>review</th>\n",
       "    </tr>\n",
       "  </thead>\n",
       "  <tbody>\n",
       "    <tr>\n",
       "      <th>0</th>\n",
       "      <td>5</td>\n",
       "      <td>hurtig levering</td>\n",
       "    </tr>\n",
       "    <tr>\n",
       "      <th>1</th>\n",
       "      <td>5</td>\n",
       "      <td>pakker tiden</td>\n",
       "    </tr>\n",
       "    <tr>\n",
       "      <th>2</th>\n",
       "      <td>5</td>\n",
       "      <td>sædvanlig pakke leveret bedste måde yderst til...</td>\n",
       "    </tr>\n",
       "    <tr>\n",
       "      <th>3</th>\n",
       "      <td>5</td>\n",
       "      <td>hurtig behandling fungerede hurtig leveringtak</td>\n",
       "    </tr>\n",
       "    <tr>\n",
       "      <th>4</th>\n",
       "      <td>5</td>\n",
       "      <td>forbilledligt pakkepost bedst</td>\n",
       "    </tr>\n",
       "  </tbody>\n",
       "</table>\n",
       "</div>"
      ],
      "text/plain": [
       "   rating                                             review\n",
       "0       5                                    hurtig levering\n",
       "1       5                                       pakker tiden\n",
       "2       5  sædvanlig pakke leveret bedste måde yderst til...\n",
       "3       5     hurtig behandling fungerede hurtig leveringtak\n",
       "4       5                      forbilledligt pakkepost bedst"
      ]
     },
     "execution_count": 223,
     "metadata": {},
     "output_type": "execute_result"
    }
   ],
   "source": [
    "df.head()"
   ]
  },
  {
   "cell_type": "markdown",
   "id": "2284db67-d70a-41d4-8083-84742cf177c8",
   "metadata": {},
   "source": [
    "## Lengths"
   ]
  },
  {
   "cell_type": "code",
   "execution_count": 224,
   "id": "5aae54d2-22cc-4253-ae71-6beb194d59c0",
   "metadata": {
    "execution": {
     "iopub.execute_input": "2023-05-19T09:59:36.233595Z",
     "iopub.status.busy": "2023-05-19T09:59:36.233153Z",
     "iopub.status.idle": "2023-05-19T09:59:36.385800Z",
     "shell.execute_reply": "2023-05-19T09:59:36.385086Z",
     "shell.execute_reply.started": "2023-05-19T09:59:36.233554Z"
    },
    "tags": []
   },
   "outputs": [],
   "source": [
    "df[\"length\"] = df.review.str.len()"
   ]
  },
  {
   "cell_type": "code",
   "execution_count": 225,
   "id": "5a0cae98-eaa5-4ea3-85c0-90b31f69fcd1",
   "metadata": {
    "execution": {
     "iopub.execute_input": "2023-05-19T09:59:36.386749Z",
     "iopub.status.busy": "2023-05-19T09:59:36.386577Z",
     "iopub.status.idle": "2023-05-19T09:59:36.396746Z",
     "shell.execute_reply": "2023-05-19T09:59:36.395819Z",
     "shell.execute_reply.started": "2023-05-19T09:59:36.386733Z"
    },
    "tags": []
   },
   "outputs": [],
   "source": [
    "mean_lengths = df.groupby(by = 'rating').mean('length')"
   ]
  },
  {
   "cell_type": "code",
   "execution_count": 226,
   "id": "ddc9168e-cadc-4bdf-98af-8bb48fccf1b4",
   "metadata": {
    "execution": {
     "iopub.execute_input": "2023-05-19T09:59:36.397670Z",
     "iopub.status.busy": "2023-05-19T09:59:36.397505Z",
     "iopub.status.idle": "2023-05-19T09:59:36.408962Z",
     "shell.execute_reply": "2023-05-19T09:59:36.408307Z",
     "shell.execute_reply.started": "2023-05-19T09:59:36.397655Z"
    },
    "tags": []
   },
   "outputs": [],
   "source": [
    "mean_lengths['rating'] = mean_lengths.index"
   ]
  },
  {
   "cell_type": "code",
   "execution_count": 227,
   "id": "74e6fcc9-7ad3-49e3-8ad2-10f49a644b34",
   "metadata": {
    "execution": {
     "iopub.execute_input": "2023-05-19T09:59:36.409979Z",
     "iopub.status.busy": "2023-05-19T09:59:36.409776Z",
     "iopub.status.idle": "2023-05-19T09:59:36.429396Z",
     "shell.execute_reply": "2023-05-19T09:59:36.428080Z",
     "shell.execute_reply.started": "2023-05-19T09:59:36.409960Z"
    },
    "tags": []
   },
   "outputs": [],
   "source": [
    "height = [l for l in mean_lengths['length']]\n",
    "bars = [r for r in mean_lengths['rating']]"
   ]
  },
  {
   "cell_type": "code",
   "execution_count": 228,
   "id": "1eff8627-6776-4692-a685-79489901680a",
   "metadata": {
    "execution": {
     "iopub.execute_input": "2023-05-19T09:59:36.431938Z",
     "iopub.status.busy": "2023-05-19T09:59:36.431274Z",
     "iopub.status.idle": "2023-05-19T09:59:36.535987Z",
     "shell.execute_reply": "2023-05-19T09:59:36.535390Z",
     "shell.execute_reply.started": "2023-05-19T09:59:36.431890Z"
    },
    "tags": []
   },
   "outputs": [
    {
     "data": {
      "image/png": "[encoded data removed]",
      "text/plain": [
       "<Figure size 640x480 with 1 Axes>"
      ]
     },
     "metadata": {},
     "output_type": "display_data"
    }
   ],
   "source": [
    "fig, ax = plt.subplots()\n",
    "\n",
    "ax.bar(bars, height, align='center', color = colors)\n",
    "ax.set_xlabel('Rating', fontsize = 10, weight = \"bold\")\n",
    "ax.set_ylabel('Mean length (characters)', fontsize = 10, weight = \"bold\")\n",
    "plt.grid(axis = \"y\", linestyle = '--')\n",
    "ax.spines[['right', 'top']].set_visible(False)\n",
    "ax.yaxis.set_major_formatter(mpl.ticker.StrMethodFormatter('{x:,.0f}'))\n",
    "plt.show()"
   ]
  },
  {
   "cell_type": "code",
   "execution_count": 229,
   "id": "3748b1c2-d167-42db-8ac8-882af1e81ab0",
   "metadata": {
    "execution": {
     "iopub.execute_input": "2023-05-19T09:59:36.536857Z",
     "iopub.status.busy": "2023-05-19T09:59:36.536696Z",
     "iopub.status.idle": "2023-05-19T09:59:36.643956Z",
     "shell.execute_reply": "2023-05-19T09:59:36.643269Z",
     "shell.execute_reply.started": "2023-05-19T09:59:36.536842Z"
    },
    "tags": []
   },
   "outputs": [
    {
     "name": "stdout",
     "output_type": "stream",
     "text": [
      "        rating          review  length\n",
      "1            5    pakker tiden      12\n",
      "6            4   gik forventet      13\n",
      "10           5      sædvanligt      10\n",
      "17           5         hurtigt       7\n",
      "22           5      lynhurtigt      10\n",
      "...        ...             ...     ...\n",
      "399939       4  kekdkfkfkfkkkd      14\n",
      "399948       1        langsomt       8\n",
      "399956       5   hurtig venlig      13\n",
      "399972       5         udsætte       7\n",
      "399973       4  fungerede fint      14\n",
      "\n",
      "[65095 rows x 3 columns]\n"
     ]
    }
   ],
   "source": [
    "# show texts that will be removed\n",
    "print(df.loc[np.array(list(map(len,df.review.values)))<((int(mean_lengths['length'].min()))-14)])\n",
    "\n",
    "# remove shorter texts\n",
    "df = df.loc[np.array(list(map(len,df.review.values)))>((int(mean_lengths['length'].min()))-15)]"
   ]
  },
  {
   "cell_type": "code",
   "execution_count": 230,
   "id": "89c01af6-9dd0-4d69-baf8-e48ce83ef761",
   "metadata": {
    "execution": {
     "iopub.execute_input": "2023-05-19T09:59:36.644905Z",
     "iopub.status.busy": "2023-05-19T09:59:36.644726Z",
     "iopub.status.idle": "2023-05-19T09:59:36.755335Z",
     "shell.execute_reply": "2023-05-19T09:59:36.753811Z",
     "shell.execute_reply.started": "2023-05-19T09:59:36.644889Z"
    },
    "tags": []
   },
   "outputs": [
    {
     "name": "stdout",
     "output_type": "stream",
     "text": [
      "# rows after removing short reviews: 332104\n"
     ]
    }
   ],
   "source": [
    "print(\"# rows after removing short reviews:\", len(df))"
   ]
  },
  {
   "cell_type": "code",
   "execution_count": 231,
   "id": "be900175-d415-4502-9e95-ab160489bce2",
   "metadata": {
    "execution": {
     "iopub.execute_input": "2023-05-19T09:59:36.757927Z",
     "iopub.status.busy": "2023-05-19T09:59:36.757249Z",
     "iopub.status.idle": "2023-05-19T09:59:36.842079Z",
     "shell.execute_reply": "2023-05-19T09:59:36.841350Z",
     "shell.execute_reply.started": "2023-05-19T09:59:36.757877Z"
    },
    "tags": []
   },
   "outputs": [],
   "source": [
    "df = df.reset_index(drop=True)"
   ]
  },
  {
   "cell_type": "code",
   "execution_count": 232,
   "id": "da648b11-eae0-41d2-bf14-7b46b574d136",
   "metadata": {
    "execution": {
     "iopub.execute_input": "2023-05-19T09:59:36.843457Z",
     "iopub.status.busy": "2023-05-19T09:59:36.842996Z",
     "iopub.status.idle": "2023-05-19T09:59:36.909584Z",
     "shell.execute_reply": "2023-05-19T09:59:36.908923Z",
     "shell.execute_reply.started": "2023-05-19T09:59:36.843433Z"
    },
    "tags": []
   },
   "outputs": [
    {
     "data": {
      "text/html": [
       "<div>\n",
       "<style scoped>\n",
       "    .dataframe tbody tr th:only-of-type {\n",
       "        vertical-align: middle;\n",
       "    }\n",
       "\n",
       "    .dataframe tbody tr th {\n",
       "        vertical-align: top;\n",
       "    }\n",
       "\n",
       "    .dataframe thead th {\n",
       "        text-align: right;\n",
       "    }\n",
       "</style>\n",
       "<table border=\"1\" class=\"dataframe\">\n",
       "  <thead>\n",
       "    <tr style=\"text-align: right;\">\n",
       "      <th></th>\n",
       "      <th>rating</th>\n",
       "      <th>review</th>\n",
       "      <th>length</th>\n",
       "    </tr>\n",
       "  </thead>\n",
       "  <tbody>\n",
       "    <tr>\n",
       "      <th>0</th>\n",
       "      <td>5</td>\n",
       "      <td>hurtig levering</td>\n",
       "      <td>15</td>\n",
       "    </tr>\n",
       "    <tr>\n",
       "      <th>119553</th>\n",
       "      <td>5</td>\n",
       "      <td>hurtig levering</td>\n",
       "      <td>15</td>\n",
       "    </tr>\n",
       "    <tr>\n",
       "      <th>119577</th>\n",
       "      <td>5</td>\n",
       "      <td>hurtig levering</td>\n",
       "      <td>15</td>\n",
       "    </tr>\n",
       "    <tr>\n",
       "      <th>119580</th>\n",
       "      <td>5</td>\n",
       "      <td>hurtig levering</td>\n",
       "      <td>15</td>\n",
       "    </tr>\n",
       "    <tr>\n",
       "      <th>119592</th>\n",
       "      <td>5</td>\n",
       "      <td>track and trace</td>\n",
       "      <td>15</td>\n",
       "    </tr>\n",
       "    <tr>\n",
       "      <th>...</th>\n",
       "      <td>...</td>\n",
       "      <td>...</td>\n",
       "      <td>...</td>\n",
       "    </tr>\n",
       "    <tr>\n",
       "      <th>25379</th>\n",
       "      <td>1</td>\n",
       "      <td>advarsel dato levering post nord sms d 48 modt...</td>\n",
       "      <td>1383</td>\n",
       "    </tr>\n",
       "    <tr>\n",
       "      <th>129394</th>\n",
       "      <td>1</td>\n",
       "      <td>give minus 5 stjerner give minus 5 stjerner va...</td>\n",
       "      <td>1485</td>\n",
       "    </tr>\n",
       "    <tr>\n",
       "      <th>222256</th>\n",
       "      <td>1</td>\n",
       "      <td>postnord trænger kundeservice egentligt postno...</td>\n",
       "      <td>1498</td>\n",
       "    </tr>\n",
       "    <tr>\n",
       "      <th>79176</th>\n",
       "      <td>1</td>\n",
       "      <td>glemt pakke dovenskab gennemgang mails stykke ...</td>\n",
       "      <td>1658</td>\n",
       "    </tr>\n",
       "    <tr>\n",
       "      <th>105259</th>\n",
       "      <td>1</td>\n",
       "      <td>post nord forfærdelige brevpakke afkrydset afh...</td>\n",
       "      <td>1724</td>\n",
       "    </tr>\n",
       "  </tbody>\n",
       "</table>\n",
       "<p>332104 rows × 3 columns</p>\n",
       "</div>"
      ],
      "text/plain": [
       "        rating                                             review  length\n",
       "0            5                                    hurtig levering      15\n",
       "119553       5                                    hurtig levering      15\n",
       "119577       5                                    hurtig levering      15\n",
       "119580       5                                    hurtig levering      15\n",
       "119592       5                                    track and trace      15\n",
       "...        ...                                                ...     ...\n",
       "25379        1  advarsel dato levering post nord sms d 48 modt...    1383\n",
       "129394       1  give minus 5 stjerner give minus 5 stjerner va...    1485\n",
       "222256       1  postnord trænger kundeservice egentligt postno...    1498\n",
       "79176        1  glemt pakke dovenskab gennemgang mails stykke ...    1658\n",
       "105259       1  post nord forfærdelige brevpakke afkrydset afh...    1724\n",
       "\n",
       "[332104 rows x 3 columns]"
      ]
     },
     "execution_count": 232,
     "metadata": {},
     "output_type": "execute_result"
    }
   ],
   "source": [
    "df.sort_values(\"length\")"
   ]
  },
  {
   "cell_type": "code",
   "execution_count": 233,
   "id": "94a28ac4-8de2-482c-8af0-6e167ee3a955",
   "metadata": {
    "execution": {
     "iopub.execute_input": "2023-05-19T09:59:36.910612Z",
     "iopub.status.busy": "2023-05-19T09:59:36.910426Z",
     "iopub.status.idle": "2023-05-19T09:59:36.918395Z",
     "shell.execute_reply": "2023-05-19T09:59:36.917856Z",
     "shell.execute_reply.started": "2023-05-19T09:59:36.910595Z"
    },
    "tags": []
   },
   "outputs": [
    {
     "data": {
      "text/plain": [
       "5    200651\n",
       "1     60823\n",
       "4     34452\n",
       "2     20287\n",
       "3     15891\n",
       "Name: rating, dtype: int64"
      ]
     },
     "execution_count": 233,
     "metadata": {},
     "output_type": "execute_result"
    }
   ],
   "source": [
    "# 17122 3-star reviews\n",
    "df['rating'].value_counts()"
   ]
  },
  {
   "cell_type": "code",
   "execution_count": 234,
   "id": "0ba535a5-94ff-49c1-8f18-081a6dad9516",
   "metadata": {
    "execution": {
     "iopub.execute_input": "2023-05-19T09:59:36.919226Z",
     "iopub.status.busy": "2023-05-19T09:59:36.919065Z",
     "iopub.status.idle": "2023-05-19T09:59:36.949031Z",
     "shell.execute_reply": "2023-05-19T09:59:36.948361Z",
     "shell.execute_reply.started": "2023-05-19T09:59:36.919211Z"
    },
    "tags": []
   },
   "outputs": [],
   "source": [
    "def balance(dataframe, random_state = 42):\n",
    "    \"\"\"\n",
    "    Create a balanced sample from imbalanced datasets.\n",
    "    \n",
    "    dataframe: \n",
    "        Pandas dataframe with a column called 'review' and one called 'rating'\n",
    "    n:         \n",
    "        Number of samples from each label, defaults to XXXXX\n",
    "        \n",
    "    random_state:\n",
    "        Random state, defaults to 42\n",
    "    \"\"\"\n",
    "    # Use pandas select a random bunch of examples from each label\n",
    "    out = (dataframe.groupby('rating', as_index=False)\n",
    "            .apply(lambda x: x.sample(dataframe['rating'].value_counts().min(), random_state = random_state))\n",
    "            .reset_index(drop=True))\n",
    "    \n",
    "    return out"
   ]
  },
  {
   "cell_type": "code",
   "execution_count": 235,
   "id": "f07581eb-2280-41cb-92d9-97df8d866ad5",
   "metadata": {
    "execution": {
     "iopub.execute_input": "2023-05-19T09:59:36.950008Z",
     "iopub.status.busy": "2023-05-19T09:59:36.949802Z",
     "iopub.status.idle": "2023-05-19T09:59:37.093601Z",
     "shell.execute_reply": "2023-05-19T09:59:37.092892Z",
     "shell.execute_reply.started": "2023-05-19T09:59:36.949988Z"
    },
    "tags": []
   },
   "outputs": [],
   "source": [
    "df = balance(df, random_state = 42)"
   ]
  },
  {
   "cell_type": "code",
   "execution_count": 236,
   "id": "9c043302-71af-4250-86eb-4a1bd0ebe5a4",
   "metadata": {
    "execution": {
     "iopub.execute_input": "2023-05-19T09:59:37.094635Z",
     "iopub.status.busy": "2023-05-19T09:59:37.094448Z",
     "iopub.status.idle": "2023-05-19T09:59:37.135999Z",
     "shell.execute_reply": "2023-05-19T09:59:37.135139Z",
     "shell.execute_reply.started": "2023-05-19T09:59:37.094618Z"
    },
    "tags": []
   },
   "outputs": [
    {
     "data": {
      "text/plain": [
       "1    15891\n",
       "2    15891\n",
       "3    15891\n",
       "4    15891\n",
       "5    15891\n",
       "Name: rating, dtype: int64"
      ]
     },
     "execution_count": 236,
     "metadata": {},
     "output_type": "execute_result"
    }
   ],
   "source": [
    "df['rating'].value_counts()"
   ]
  },
  {
   "cell_type": "code",
   "execution_count": 237,
   "id": "0208adc8-3a8d-432c-8015-2d65f0945662",
   "metadata": {
    "execution": {
     "iopub.execute_input": "2023-05-19T09:59:37.145290Z",
     "iopub.status.busy": "2023-05-19T09:59:37.144955Z",
     "iopub.status.idle": "2023-05-19T09:59:37.238040Z",
     "shell.execute_reply": "2023-05-19T09:59:37.237287Z",
     "shell.execute_reply.started": "2023-05-19T09:59:37.145271Z"
    },
    "tags": []
   },
   "outputs": [],
   "source": [
    "df['rating'] = df['rating'].astype(str)"
   ]
  },
  {
   "cell_type": "code",
   "execution_count": 238,
   "id": "a2ef287b-6ed2-4f26-9658-c0105d88bc1b",
   "metadata": {
    "execution": {
     "iopub.execute_input": "2023-05-19T09:59:37.238864Z",
     "iopub.status.busy": "2023-05-19T09:59:37.238700Z",
     "iopub.status.idle": "2023-05-19T09:59:37.271170Z",
     "shell.execute_reply": "2023-05-19T09:59:37.270382Z",
     "shell.execute_reply.started": "2023-05-19T09:59:37.238848Z"
    },
    "tags": []
   },
   "outputs": [],
   "source": [
    "df = df.reset_index(drop=True)"
   ]
  },
  {
   "cell_type": "code",
   "execution_count": 239,
   "id": "54b2969b-8c9a-4507-8fab-d9b1f6c5748a",
   "metadata": {
    "execution": {
     "iopub.execute_input": "2023-05-19T09:59:37.272620Z",
     "iopub.status.busy": "2023-05-19T09:59:37.272318Z",
     "iopub.status.idle": "2023-05-19T09:59:37.396044Z",
     "shell.execute_reply": "2023-05-19T09:59:37.395423Z",
     "shell.execute_reply.started": "2023-05-19T09:59:37.272593Z"
    },
    "tags": []
   },
   "outputs": [
    {
     "data": {
      "image/png": "[encoded data removed]",
      "text/plain": [
       "<Figure size 640x480 with 1 Axes>"
      ]
     },
     "metadata": {},
     "output_type": "display_data"
    }
   ],
   "source": [
    "fig = df.groupby('rating').review.count().plot.bar(\n",
    "    ylim=0, color=colors, width= 0.9)\n",
    "\n",
    "plt.ylabel('Number of ocurrences', fontsize = 10, weight = \"bold\")\n",
    "plt.xlabel('Rating', fontsize = 10, weight = \"bold\")\n",
    "plt.grid(axis = \"y\", linestyle = '--')\n",
    "fig.spines[\"top\"].set_visible(False)\n",
    "fig.spines[\"right\"].set_visible(False)\n",
    "fig.yaxis.set_major_formatter(mpl.ticker.StrMethodFormatter('{x:,.0f}'))\n",
    "plt.xticks(rotation='horizontal')\n",
    "plt.yticks(rotation=45)\n",
    "plt.show()"
   ]
  },
  {
   "cell_type": "code",
   "execution_count": 240,
   "id": "ee4d8b78-a542-480e-b58e-b0de1e091678",
   "metadata": {
    "execution": {
     "iopub.execute_input": "2023-05-19T09:59:37.396953Z",
     "iopub.status.busy": "2023-05-19T09:59:37.396779Z",
     "iopub.status.idle": "2023-05-19T09:59:37.414061Z",
     "shell.execute_reply": "2023-05-19T09:59:37.413419Z",
     "shell.execute_reply.started": "2023-05-19T09:59:37.396937Z"
    },
    "tags": []
   },
   "outputs": [
    {
     "data": {
      "text/html": [
       "<div>\n",
       "<style scoped>\n",
       "    .dataframe tbody tr th:only-of-type {\n",
       "        vertical-align: middle;\n",
       "    }\n",
       "\n",
       "    .dataframe tbody tr th {\n",
       "        vertical-align: top;\n",
       "    }\n",
       "\n",
       "    .dataframe thead th {\n",
       "        text-align: right;\n",
       "    }\n",
       "</style>\n",
       "<table border=\"1\" class=\"dataframe\">\n",
       "  <thead>\n",
       "    <tr style=\"text-align: right;\">\n",
       "      <th></th>\n",
       "      <th>rating</th>\n",
       "      <th>review</th>\n",
       "      <th>length</th>\n",
       "    </tr>\n",
       "  </thead>\n",
       "  <tbody>\n",
       "    <tr>\n",
       "      <th>53243</th>\n",
       "      <td>4</td>\n",
       "      <td>hurtig levering</td>\n",
       "      <td>15</td>\n",
       "    </tr>\n",
       "    <tr>\n",
       "      <th>6540</th>\n",
       "      <td>1</td>\n",
       "      <td>hurtig levering</td>\n",
       "      <td>15</td>\n",
       "    </tr>\n",
       "    <tr>\n",
       "      <th>61267</th>\n",
       "      <td>4</td>\n",
       "      <td>hurtig levering</td>\n",
       "      <td>15</td>\n",
       "    </tr>\n",
       "    <tr>\n",
       "      <th>61245</th>\n",
       "      <td>4</td>\n",
       "      <td>hurtig effektiv</td>\n",
       "      <td>15</td>\n",
       "    </tr>\n",
       "    <tr>\n",
       "      <th>61243</th>\n",
       "      <td>4</td>\n",
       "      <td>hurtig levering</td>\n",
       "      <td>15</td>\n",
       "    </tr>\n",
       "    <tr>\n",
       "      <th>...</th>\n",
       "      <td>...</td>\n",
       "      <td>...</td>\n",
       "      <td>...</td>\n",
       "    </tr>\n",
       "    <tr>\n",
       "      <th>6569</th>\n",
       "      <td>1</td>\n",
       "      <td>bestemt fan post nord vælge handler online væl...</td>\n",
       "      <td>984</td>\n",
       "    </tr>\n",
       "    <tr>\n",
       "      <th>2198</th>\n",
       "      <td>1</td>\n",
       "      <td>bedes læse svar utilfreds bedes læse svar takj...</td>\n",
       "      <td>1021</td>\n",
       "    </tr>\n",
       "    <tr>\n",
       "      <th>15449</th>\n",
       "      <td>1</td>\n",
       "      <td>tilfreds post nord dårlige episoder post nord ...</td>\n",
       "      <td>1037</td>\n",
       "    </tr>\n",
       "    <tr>\n",
       "      <th>13174</th>\n",
       "      <td>1</td>\n",
       "      <td>nul mulighed ærgerligt nul mulighed mage inkom...</td>\n",
       "      <td>1075</td>\n",
       "    </tr>\n",
       "    <tr>\n",
       "      <th>15730</th>\n",
       "      <td>1</td>\n",
       "      <td>give minus 5 stjerner give minus 5 stjerner va...</td>\n",
       "      <td>1485</td>\n",
       "    </tr>\n",
       "  </tbody>\n",
       "</table>\n",
       "<p>79455 rows × 3 columns</p>\n",
       "</div>"
      ],
      "text/plain": [
       "      rating                                             review  length\n",
       "53243      4                                    hurtig levering      15\n",
       "6540       1                                    hurtig levering      15\n",
       "61267      4                                    hurtig levering      15\n",
       "61245      4                                    hurtig effektiv      15\n",
       "61243      4                                    hurtig levering      15\n",
       "...      ...                                                ...     ...\n",
       "6569       1  bestemt fan post nord vælge handler online væl...     984\n",
       "2198       1  bedes læse svar utilfreds bedes læse svar takj...    1021\n",
       "15449      1  tilfreds post nord dårlige episoder post nord ...    1037\n",
       "13174      1  nul mulighed ærgerligt nul mulighed mage inkom...    1075\n",
       "15730      1  give minus 5 stjerner give minus 5 stjerner va...    1485\n",
       "\n",
       "[79455 rows x 3 columns]"
      ]
     },
     "execution_count": 240,
     "metadata": {},
     "output_type": "execute_result"
    }
   ],
   "source": [
    "df.sort_values(\"length\")"
   ]
  },
  {
   "cell_type": "code",
   "execution_count": 241,
   "id": "b9dc5199-6e5b-4223-b5d7-e3ed88e8f2da",
   "metadata": {
    "execution": {
     "iopub.execute_input": "2023-05-19T09:59:37.415021Z",
     "iopub.status.busy": "2023-05-19T09:59:37.414836Z",
     "iopub.status.idle": "2023-05-19T09:59:37.420190Z",
     "shell.execute_reply": "2023-05-19T09:59:37.419612Z",
     "shell.execute_reply.started": "2023-05-19T09:59:37.415004Z"
    },
    "tags": []
   },
   "outputs": [
    {
     "data": {
      "text/plain": [
       "79455"
      ]
     },
     "execution_count": 241,
     "metadata": {},
     "output_type": "execute_result"
    }
   ],
   "source": [
    "len(df)"
   ]
  },
  {
   "cell_type": "code",
   "execution_count": 242,
   "id": "f159d9a0-2075-4aa7-9ce8-1a3cac0bb921",
   "metadata": {
    "execution": {
     "iopub.execute_input": "2023-05-19T09:59:37.420998Z",
     "iopub.status.busy": "2023-05-19T09:59:37.420839Z",
     "iopub.status.idle": "2023-05-19T09:59:37.544184Z",
     "shell.execute_reply": "2023-05-19T09:59:37.542853Z",
     "shell.execute_reply.started": "2023-05-19T09:59:37.420983Z"
    },
    "tags": []
   },
   "outputs": [],
   "source": [
    "balancepath = os.path.join(\"..\", \"in\", \"balanced_dataset.csv\")"
   ]
  },
  {
   "cell_type": "code",
   "execution_count": 243,
   "id": "8e47b038-196a-43ca-9525-23d44c367c07",
   "metadata": {
    "execution": {
     "iopub.execute_input": "2023-05-19T09:59:37.546775Z",
     "iopub.status.busy": "2023-05-19T09:59:37.546094Z",
     "iopub.status.idle": "2023-05-19T09:59:37.791529Z",
     "shell.execute_reply": "2023-05-19T09:59:37.790776Z",
     "shell.execute_reply.started": "2023-05-19T09:59:37.546724Z"
    },
    "tags": []
   },
   "outputs": [],
   "source": [
    "df.to_csv(balancepath, index = False)"
   ]
  },
  {
   "cell_type": "code",
   "execution_count": null,
   "id": "09184b8b-af7a-4f40-ab5d-2d18322c9613",
   "metadata": {},
   "outputs": [],
   "source": []
  }
 ],
 "metadata": {
  "kernelspec": {
   "display_name": "Python 3 ",
   "language": "python",
   "name": "python3"
  },
  "language_info": {
   "codemirror_mode": {
    "name": "ipython",
    "version": 3
   },
   "file_extension": ".py",
   "mimetype": "text/x-python",
   "name": "python",
   "nbconvert_exporter": "python",
   "pygments_lexer": "ipython3",
   "version": "3.10.6"
  }
 },
 "nbformat": 4,
 "nbformat_minor": 5
}
