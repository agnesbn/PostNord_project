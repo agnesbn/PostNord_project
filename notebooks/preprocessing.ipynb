{
 "cells": [
  {
   "cell_type": "markdown",
   "id": "a08bb3a0-daef-4468-a43d-a5d93ea79caf",
   "metadata": {},
   "source": [
    "# Preprocessing"
   ]
  },
  {
   "cell_type": "markdown",
   "id": "8d39aa1c-013c-4408-b634-f8d56d792a04",
   "metadata": {},
   "source": [
    "## Structure of the code\n",
    "1. Combine header and text column\n",
    "2. Anonymisation\n",
    "    - Remove names\n",
    "    - Remove dates\n",
    "    - Create unique ids for each person\n",
    "    - Use review and url to remove repeated comments\n",
    "    - Remove urls\n",
    "3. Cleaning and processing\n",
    "    - If a comment was only punctuation => remove that row\n",
    "4. Balance data (around 17,000 per category)\n",
    "    - Randomise data (in categories)\n",
    "    - Keep the first 17,000 of each category"
   ]
  },
  {
   "cell_type": "markdown",
   "id": "ff92bebb-fab9-4ac6-a2f4-428ebf53412f",
   "metadata": {},
   "source": [
    "## Initial code"
   ]
  },
  {
   "cell_type": "code",
   "execution_count": 158,
   "id": "f42f1239-deb0-4d8f-a5f0-0791a51eaf4d",
   "metadata": {
    "execution": {
     "iopub.execute_input": "2023-05-08T13:09:05.952934Z",
     "iopub.status.busy": "2023-05-08T13:09:05.952277Z",
     "iopub.status.idle": "2023-05-08T13:09:05.960140Z",
     "shell.execute_reply": "2023-05-08T13:09:05.958295Z",
     "shell.execute_reply.started": "2023-05-08T13:09:05.952879Z"
    },
    "tags": []
   },
   "outputs": [],
   "source": [
    "#!pip install -U spacy\n",
    "#!python -m spacy download da_core_news_md\n",
    "#!pip install nltk numpy pandas seaborn scikit-learn scipy "
   ]
  },
  {
   "cell_type": "code",
   "execution_count": 159,
   "id": "ee7c5048-d048-48e1-8443-faf223c6af09",
   "metadata": {
    "execution": {
     "iopub.execute_input": "2023-05-08T13:09:07.217397Z",
     "iopub.status.busy": "2023-05-08T13:09:07.217145Z",
     "iopub.status.idle": "2023-05-08T13:09:07.221723Z",
     "shell.execute_reply": "2023-05-08T13:09:07.221119Z",
     "shell.execute_reply.started": "2023-05-08T13:09:07.217373Z"
    },
    "tags": []
   },
   "outputs": [],
   "source": [
    "# system tools\n",
    "import os\n",
    "import sys\n",
    "import random\n",
    "import requests as req\n",
    "\n",
    "# nlp tools\n",
    "import spacy\n",
    "import da_core_news_md\n",
    "from io import StringIO\n",
    "import re\n",
    "\n",
    "# data wranling\n",
    "import pandas as pd\n",
    "import numpy as np\n",
    "from scipy.stats import randint\n",
    "\n",
    "# plotting\n",
    "import seaborn as sns\n",
    "import matplotlib.pyplot as plt"
   ]
  },
  {
   "cell_type": "code",
   "execution_count": 160,
   "id": "dfedfb3c-55f5-4ce6-9b28-ac740aee46f5",
   "metadata": {
    "execution": {
     "iopub.execute_input": "2023-05-08T13:09:07.222815Z",
     "iopub.status.busy": "2023-05-08T13:09:07.222565Z",
     "iopub.status.idle": "2023-05-08T13:09:07.240384Z",
     "shell.execute_reply": "2023-05-08T13:09:07.238546Z",
     "shell.execute_reply.started": "2023-05-08T13:09:07.222792Z"
    },
    "tags": []
   },
   "outputs": [],
   "source": [
    "# define path\n",
    "path = os.path.join(\"..\", \"in\", \"postnord_trustpilot_reviews.csv\")"
   ]
  },
  {
   "cell_type": "code",
   "execution_count": 161,
   "id": "a68bb280-83a4-48bd-8336-3a0987602303",
   "metadata": {
    "execution": {
     "iopub.execute_input": "2023-05-08T13:09:07.245371Z",
     "iopub.status.busy": "2023-05-08T13:09:07.244719Z",
     "iopub.status.idle": "2023-05-08T13:09:08.793948Z",
     "shell.execute_reply": "2023-05-08T13:09:08.792812Z",
     "shell.execute_reply.started": "2023-05-08T13:09:07.245298Z"
    },
    "tags": []
   },
   "outputs": [],
   "source": [
    "# read csv\n",
    "df = pd.read_csv(path)\n",
    "# fill empty columns with white space\n",
    "df.fillna(\" \", inplace = True)\n",
    "# rename columns\n",
    "df.columns = ['order', 'name', 'date', 'rating', 'text', 'profile_link', 'review_count', 'header']"
   ]
  },
  {
   "cell_type": "code",
   "execution_count": 162,
   "id": "59e4f250-2e00-456f-88cc-bbf084689acf",
   "metadata": {
    "execution": {
     "iopub.execute_input": "2023-05-08T13:09:08.795394Z",
     "iopub.status.busy": "2023-05-08T13:09:08.794980Z",
     "iopub.status.idle": "2023-05-08T13:09:08.798641Z",
     "shell.execute_reply": "2023-05-08T13:09:08.798030Z",
     "shell.execute_reply.started": "2023-05-08T13:09:08.795368Z"
    },
    "tags": []
   },
   "outputs": [],
   "source": [
    "# make deep copy of the 20 first lines in the data\n",
    "#df = df1.copy(deep = True)"
   ]
  },
  {
   "cell_type": "code",
   "execution_count": 163,
   "id": "8731e475-d6c3-4622-b9c5-0a0ef4d78427",
   "metadata": {
    "execution": {
     "iopub.execute_input": "2023-05-08T13:09:08.799730Z",
     "iopub.status.busy": "2023-05-08T13:09:08.799483Z",
     "iopub.status.idle": "2023-05-08T13:09:08.863637Z",
     "shell.execute_reply": "2023-05-08T13:09:08.862552Z",
     "shell.execute_reply.started": "2023-05-08T13:09:08.799706Z"
    },
    "tags": []
   },
   "outputs": [
    {
     "name": "stdout",
     "output_type": "stream",
     "text": [
      "Beginning # of rows 399980\n"
     ]
    }
   ],
   "source": [
    "print(f\"Beginning # of rows {len(df)}\")"
   ]
  },
  {
   "cell_type": "markdown",
   "id": "94628583-de5b-4d6b-8959-ad2b7b77f75c",
   "metadata": {},
   "source": [
    "## Combination of header and text column"
   ]
  },
  {
   "cell_type": "markdown",
   "id": "5129d3f6-b776-48c5-ac07-c1f89365f6c3",
   "metadata": {},
   "source": [
    "Hvis headeren er identisk med teksten eller hvis headerens længde er identisk med det tilsvarende vindue i teksten\n",
    "    \n",
    "```df['review'] = df['text']```\n",
    "\n",
    "Ellers: `df['review'] = df['header'] + \" \" + df['text']`\n",
    "\n",
    "_Kan også omvendes_"
   ]
  },
  {
   "cell_type": "code",
   "execution_count": 164,
   "id": "4f1939d2-88da-45d3-8d93-f42c7c16a3d1",
   "metadata": {
    "execution": {
     "iopub.execute_input": "2023-05-08T13:09:11.478408Z",
     "iopub.status.busy": "2023-05-08T13:09:11.478027Z",
     "iopub.status.idle": "2023-05-08T13:09:11.619450Z",
     "shell.execute_reply": "2023-05-08T13:09:11.618721Z",
     "shell.execute_reply.started": "2023-05-08T13:09:11.478384Z"
    },
    "tags": []
   },
   "outputs": [],
   "source": [
    "# remove dots from the end of the header\n",
    "df['header'] = df['header'].str.replace('…', '', regex = False)"
   ]
  },
  {
   "cell_type": "code",
   "execution_count": 165,
   "id": "bf2fb1ae-2843-4778-acb2-49adc1f7bd36",
   "metadata": {
    "execution": {
     "iopub.execute_input": "2023-05-08T13:09:12.925750Z",
     "iopub.status.busy": "2023-05-08T13:09:12.925487Z",
     "iopub.status.idle": "2023-05-08T13:09:48.492617Z",
     "shell.execute_reply": "2023-05-08T13:09:48.491580Z",
     "shell.execute_reply.started": "2023-05-08T13:09:12.925725Z"
    },
    "tags": []
   },
   "outputs": [],
   "source": [
    "# create a list\n",
    "review = []\n",
    "\n",
    "# loop over the dataframe\n",
    "for index, row in df.iterrows():\n",
    "    # txt is the text-column\n",
    "    txt = row[\"text\"]\n",
    "    # head is the header-column\n",
    "    head = row[\"header\"]\n",
    "    # search for the header text in the text-column\n",
    "    x = re.search(f\"^{re.escape(head)}\", txt)\n",
    "    # if the header text occurs in the text-column\n",
    "    if x:\n",
    "        # append the text column to the list\n",
    "        review.append(row['text'])\n",
    "    # otherwise...\n",
    "    else:\n",
    "        # append the header column and the text column to the list with a white space in between\n",
    "        review.append(row['header'] + \" \" + row['text'])"
   ]
  },
  {
   "cell_type": "code",
   "execution_count": 166,
   "id": "5feae0e5-4959-40b7-879a-eef14e510a22",
   "metadata": {
    "execution": {
     "iopub.execute_input": "2023-05-08T13:09:48.494339Z",
     "iopub.status.busy": "2023-05-08T13:09:48.493899Z",
     "iopub.status.idle": "2023-05-08T13:09:48.568800Z",
     "shell.execute_reply": "2023-05-08T13:09:48.568113Z",
     "shell.execute_reply.started": "2023-05-08T13:09:48.494311Z"
    },
    "tags": []
   },
   "outputs": [],
   "source": [
    "# create a new review-column from the list\n",
    "df['review'] = review"
   ]
  },
  {
   "cell_type": "markdown",
   "id": "e90d2235-dc54-47e5-b3b5-384c8246747e",
   "metadata": {},
   "source": [
    "## Removal of duplicates"
   ]
  },
  {
   "cell_type": "code",
   "execution_count": 167,
   "id": "a542e595-4bf1-4622-a420-1eceed923217",
   "metadata": {
    "execution": {
     "iopub.execute_input": "2023-05-08T13:09:48.569983Z",
     "iopub.status.busy": "2023-05-08T13:09:48.569734Z",
     "iopub.status.idle": "2023-05-08T13:09:49.037174Z",
     "shell.execute_reply": "2023-05-08T13:09:49.036373Z",
     "shell.execute_reply.started": "2023-05-08T13:09:48.569959Z"
    },
    "tags": []
   },
   "outputs": [],
   "source": [
    "df = df.drop_duplicates(subset=['profile_link', 'date', 'review'], keep='first')"
   ]
  },
  {
   "cell_type": "code",
   "execution_count": 168,
   "id": "706fba32-9907-4900-b4ce-769c0086d220",
   "metadata": {
    "execution": {
     "iopub.execute_input": "2023-05-08T13:09:49.038617Z",
     "iopub.status.busy": "2023-05-08T13:09:49.038197Z",
     "iopub.status.idle": "2023-05-08T13:09:49.042753Z",
     "shell.execute_reply": "2023-05-08T13:09:49.042110Z",
     "shell.execute_reply.started": "2023-05-08T13:09:49.038592Z"
    },
    "tags": []
   },
   "outputs": [
    {
     "name": "stdout",
     "output_type": "stream",
     "text": [
      "# rows after removing duplicates: 399537\n"
     ]
    }
   ],
   "source": [
    "print(f\"# rows after removing duplicates: {len(df)}\")"
   ]
  },
  {
   "cell_type": "markdown",
   "id": "040ba909-a8e8-4422-9f23-3da1a89594b9",
   "metadata": {},
   "source": [
    "## Anonymisation"
   ]
  },
  {
   "cell_type": "code",
   "execution_count": 169,
   "id": "135c87a2-9393-4380-b53f-13790137fafe",
   "metadata": {
    "execution": {
     "iopub.execute_input": "2023-05-08T13:09:49.046710Z",
     "iopub.status.busy": "2023-05-08T13:09:49.046358Z",
     "iopub.status.idle": "2023-05-08T13:09:49.080261Z",
     "shell.execute_reply": "2023-05-08T13:09:49.079657Z",
     "shell.execute_reply.started": "2023-05-08T13:09:49.046684Z"
    },
    "tags": []
   },
   "outputs": [],
   "source": [
    "df = df.drop(columns=['name', 'date', 'profile_link', 'header', 'text', 'order', 'review_count'])"
   ]
  },
  {
   "cell_type": "markdown",
   "id": "8979b6c7-7baa-48eb-9bb3-4d2c01479d39",
   "metadata": {},
   "source": [
    "## Cleaning and processing"
   ]
  },
  {
   "cell_type": "code",
   "execution_count": 170,
   "id": "80fba96b-b60c-46e6-a12b-d68b0896f884",
   "metadata": {
    "execution": {
     "iopub.execute_input": "2023-05-08T13:09:51.486597Z",
     "iopub.status.busy": "2023-05-08T13:09:51.486376Z",
     "iopub.status.idle": "2023-05-08T13:09:54.540419Z",
     "shell.execute_reply": "2023-05-08T13:09:54.539631Z",
     "shell.execute_reply.started": "2023-05-08T13:09:51.486578Z"
    },
    "tags": []
   },
   "outputs": [],
   "source": [
    "clean_review = []\n",
    "\n",
    "for text in df['review'].tolist():\n",
    "    text = re.sub('[^\\w\\s]+', '', text)\n",
    "    text = re.sub(' +', ' ', text)\n",
    "    text = text.strip()\n",
    "    text = text.lower()\n",
    "    clean_review.append(text)"
   ]
  },
  {
   "cell_type": "code",
   "execution_count": 171,
   "id": "c329d6e5-dcc7-4d4f-a660-8ee34337d317",
   "metadata": {
    "execution": {
     "iopub.execute_input": "2023-05-08T13:09:54.541822Z",
     "iopub.status.busy": "2023-05-08T13:09:54.541416Z",
     "iopub.status.idle": "2023-05-08T13:09:54.586204Z",
     "shell.execute_reply": "2023-05-08T13:09:54.585491Z",
     "shell.execute_reply.started": "2023-05-08T13:09:54.541803Z"
    },
    "tags": []
   },
   "outputs": [],
   "source": [
    "df['review'] = clean_review"
   ]
  },
  {
   "cell_type": "code",
   "execution_count": 172,
   "id": "f2378fe9-4017-4e9b-8c16-587b4e624d1b",
   "metadata": {
    "execution": {
     "iopub.execute_input": "2023-05-08T13:09:54.587558Z",
     "iopub.status.busy": "2023-05-08T13:09:54.587163Z",
     "iopub.status.idle": "2023-05-08T13:09:54.695957Z",
     "shell.execute_reply": "2023-05-08T13:09:54.695269Z",
     "shell.execute_reply.started": "2023-05-08T13:09:54.587533Z"
    },
    "tags": []
   },
   "outputs": [
    {
     "name": "stdout",
     "output_type": "stream",
     "text": [
      "# rows after removing empty rows: 399980\n"
     ]
    }
   ],
   "source": [
    "df['review'].replace('', np.nan, inplace=True)\n",
    "df.dropna(subset=['review'], inplace=True)\n",
    "print(\"# rows after removing empty rows:\", len(sm))"
   ]
  },
  {
   "cell_type": "code",
   "execution_count": 173,
   "id": "0a938233-7011-45e9-bd1e-53f9e65840e4",
   "metadata": {
    "execution": {
     "iopub.execute_input": "2023-05-08T13:09:54.697300Z",
     "iopub.status.busy": "2023-05-08T13:09:54.696900Z",
     "iopub.status.idle": "2023-05-08T13:09:54.704755Z",
     "shell.execute_reply": "2023-05-08T13:09:54.704094Z",
     "shell.execute_reply.started": "2023-05-08T13:09:54.697276Z"
    },
    "tags": []
   },
   "outputs": [
    {
     "data": {
      "text/html": [
       "<div>\n",
       "<style scoped>\n",
       "    .dataframe tbody tr th:only-of-type {\n",
       "        vertical-align: middle;\n",
       "    }\n",
       "\n",
       "    .dataframe tbody tr th {\n",
       "        vertical-align: top;\n",
       "    }\n",
       "\n",
       "    .dataframe thead th {\n",
       "        text-align: right;\n",
       "    }\n",
       "</style>\n",
       "<table border=\"1\" class=\"dataframe\">\n",
       "  <thead>\n",
       "    <tr style=\"text-align: right;\">\n",
       "      <th></th>\n",
       "      <th>rating</th>\n",
       "      <th>review</th>\n",
       "    </tr>\n",
       "  </thead>\n",
       "  <tbody>\n",
       "    <tr>\n",
       "      <th>0</th>\n",
       "      <td>5</td>\n",
       "      <td>hurtig levering</td>\n",
       "    </tr>\n",
       "    <tr>\n",
       "      <th>1</th>\n",
       "      <td>5</td>\n",
       "      <td>altid pakker til tiden</td>\n",
       "    </tr>\n",
       "    <tr>\n",
       "      <th>2</th>\n",
       "      <td>5</td>\n",
       "      <td>som sædvanlig er min pakke leveret på bedste m...</td>\n",
       "    </tr>\n",
       "    <tr>\n",
       "      <th>3</th>\n",
       "      <td>5</td>\n",
       "      <td>hurtig behandling alt fungerede hurtig leverin...</td>\n",
       "    </tr>\n",
       "    <tr>\n",
       "      <th>4</th>\n",
       "      <td>5</td>\n",
       "      <td>forbilledligt pakkepost når den er bedst</td>\n",
       "    </tr>\n",
       "  </tbody>\n",
       "</table>\n",
       "</div>"
      ],
      "text/plain": [
       "   rating                                             review\n",
       "0       5                                    hurtig levering\n",
       "1       5                             altid pakker til tiden\n",
       "2       5  som sædvanlig er min pakke leveret på bedste m...\n",
       "3       5  hurtig behandling alt fungerede hurtig leverin...\n",
       "4       5           forbilledligt pakkepost når den er bedst"
      ]
     },
     "execution_count": 173,
     "metadata": {},
     "output_type": "execute_result"
    }
   ],
   "source": [
    "df.head()"
   ]
  },
  {
   "cell_type": "code",
   "execution_count": 174,
   "id": "acaa3f17-41fb-443b-b12a-963a1b526ee0",
   "metadata": {
    "execution": {
     "iopub.execute_input": "2023-05-08T13:09:54.706026Z",
     "iopub.status.busy": "2023-05-08T13:09:54.705684Z",
     "iopub.status.idle": "2023-05-08T13:09:55.138283Z",
     "shell.execute_reply": "2023-05-08T13:09:55.136508Z",
     "shell.execute_reply.started": "2023-05-08T13:09:54.706003Z"
    },
    "tags": []
   },
   "outputs": [],
   "source": [
    "# removal of stopwords\n",
    "url = \"https://gist.githubusercontent.com/berteltorp/0cf8a0c7afea7f25ed754f24cfc2467b/raw/fa34ef448aff6adbb4b6bab9bda62a8b0f1ee597/stopord.txt\"\n",
    "res = req.get(url)\n",
    "\n",
    "txt_path = os.path.join(\"..\", \"in\", \"stopwords.txt\")\n",
    "\n",
    "file = open(txt_path, \"w\")\n",
    "file.write(res.text)\n",
    "file.close()"
   ]
  },
  {
   "cell_type": "code",
   "execution_count": 175,
   "id": "87fd36dc-3e33-4e1e-920f-f56d38648251",
   "metadata": {
    "execution": {
     "iopub.execute_input": "2023-05-08T13:09:55.140956Z",
     "iopub.status.busy": "2023-05-08T13:09:55.140383Z",
     "iopub.status.idle": "2023-05-08T13:09:55.149113Z",
     "shell.execute_reply": "2023-05-08T13:09:55.147644Z",
     "shell.execute_reply.started": "2023-05-08T13:09:55.140903Z"
    },
    "tags": []
   },
   "outputs": [],
   "source": [
    "with open(txt_path) as f:\n",
    "    lines = f.readlines()\n",
    "f.close()"
   ]
  },
  {
   "cell_type": "code",
   "execution_count": 176,
   "id": "13b8ad7b-76bc-421f-8cdd-2cb836d8c7e0",
   "metadata": {
    "execution": {
     "iopub.execute_input": "2023-05-08T13:09:55.150846Z",
     "iopub.status.busy": "2023-05-08T13:09:55.150506Z",
     "iopub.status.idle": "2023-05-08T13:09:55.162004Z",
     "shell.execute_reply": "2023-05-08T13:09:55.160589Z",
     "shell.execute_reply.started": "2023-05-08T13:09:55.150814Z"
    },
    "tags": []
   },
   "outputs": [],
   "source": [
    "stopwords = []\n",
    "\n",
    "for l in lines:\n",
    "    stopwords.append(l.strip())"
   ]
  },
  {
   "cell_type": "code",
   "execution_count": 177,
   "id": "389d8396-6714-4daa-8001-58fc291e68b9",
   "metadata": {
    "execution": {
     "iopub.execute_input": "2023-05-08T13:09:55.163827Z",
     "iopub.status.busy": "2023-05-08T13:09:55.163451Z",
     "iopub.status.idle": "2023-05-08T13:10:08.787294Z",
     "shell.execute_reply": "2023-05-08T13:10:08.785342Z",
     "shell.execute_reply.started": "2023-05-08T13:09:55.163793Z"
    },
    "tags": []
   },
   "outputs": [],
   "source": [
    "df['review'] = df['review'].apply(lambda x: ' '.join([word for word in x.split() if word not in (stopwords)]))"
   ]
  },
  {
   "cell_type": "code",
   "execution_count": 178,
   "id": "4746baea-cc16-469b-9291-19f014282afd",
   "metadata": {
    "execution": {
     "iopub.execute_input": "2023-05-08T13:10:08.789052Z",
     "iopub.status.busy": "2023-05-08T13:10:08.788817Z",
     "iopub.status.idle": "2023-05-08T13:10:08.878140Z",
     "shell.execute_reply": "2023-05-08T13:10:08.877381Z",
     "shell.execute_reply.started": "2023-05-08T13:10:08.789031Z"
    },
    "tags": []
   },
   "outputs": [
    {
     "name": "stdout",
     "output_type": "stream",
     "text": [
      "# rows after removing empty rows (again): 397199\n"
     ]
    }
   ],
   "source": [
    "df['review'].replace('', np.nan, inplace=True)\n",
    "df.dropna(subset=['review'], inplace=True)\n",
    "print(\"# rows after removing empty rows (again):\", len(df))"
   ]
  },
  {
   "cell_type": "code",
   "execution_count": 179,
   "id": "d104fe07-2dc2-49d0-9a1d-6d70f1b0b29f",
   "metadata": {
    "execution": {
     "iopub.execute_input": "2023-05-08T13:10:08.879182Z",
     "iopub.status.busy": "2023-05-08T13:10:08.878994Z",
     "iopub.status.idle": "2023-05-08T13:10:08.887193Z",
     "shell.execute_reply": "2023-05-08T13:10:08.886635Z",
     "shell.execute_reply.started": "2023-05-08T13:10:08.879165Z"
    },
    "tags": []
   },
   "outputs": [
    {
     "data": {
      "text/html": [
       "<div>\n",
       "<style scoped>\n",
       "    .dataframe tbody tr th:only-of-type {\n",
       "        vertical-align: middle;\n",
       "    }\n",
       "\n",
       "    .dataframe tbody tr th {\n",
       "        vertical-align: top;\n",
       "    }\n",
       "\n",
       "    .dataframe thead th {\n",
       "        text-align: right;\n",
       "    }\n",
       "</style>\n",
       "<table border=\"1\" class=\"dataframe\">\n",
       "  <thead>\n",
       "    <tr style=\"text-align: right;\">\n",
       "      <th></th>\n",
       "      <th>rating</th>\n",
       "      <th>review</th>\n",
       "    </tr>\n",
       "  </thead>\n",
       "  <tbody>\n",
       "    <tr>\n",
       "      <th>0</th>\n",
       "      <td>5</td>\n",
       "      <td>hurtig levering</td>\n",
       "    </tr>\n",
       "    <tr>\n",
       "      <th>1</th>\n",
       "      <td>5</td>\n",
       "      <td>pakker tiden</td>\n",
       "    </tr>\n",
       "    <tr>\n",
       "      <th>2</th>\n",
       "      <td>5</td>\n",
       "      <td>sædvanlig pakke leveret bedste måde yderst til...</td>\n",
       "    </tr>\n",
       "    <tr>\n",
       "      <th>3</th>\n",
       "      <td>5</td>\n",
       "      <td>hurtig behandling fungerede hurtig leveringtak</td>\n",
       "    </tr>\n",
       "    <tr>\n",
       "      <th>4</th>\n",
       "      <td>5</td>\n",
       "      <td>forbilledligt pakkepost bedst</td>\n",
       "    </tr>\n",
       "  </tbody>\n",
       "</table>\n",
       "</div>"
      ],
      "text/plain": [
       "   rating                                             review\n",
       "0       5                                    hurtig levering\n",
       "1       5                                       pakker tiden\n",
       "2       5  sædvanlig pakke leveret bedste måde yderst til...\n",
       "3       5     hurtig behandling fungerede hurtig leveringtak\n",
       "4       5                      forbilledligt pakkepost bedst"
      ]
     },
     "execution_count": 179,
     "metadata": {},
     "output_type": "execute_result"
    }
   ],
   "source": [
    "df.head()"
   ]
  },
  {
   "cell_type": "markdown",
   "id": "2284db67-d70a-41d4-8083-84742cf177c8",
   "metadata": {},
   "source": [
    "## Lengths"
   ]
  },
  {
   "cell_type": "code",
   "execution_count": 180,
   "id": "5aae54d2-22cc-4253-ae71-6beb194d59c0",
   "metadata": {
    "execution": {
     "iopub.execute_input": "2023-05-08T13:10:08.888027Z",
     "iopub.status.busy": "2023-05-08T13:10:08.887855Z",
     "iopub.status.idle": "2023-05-08T13:10:09.008297Z",
     "shell.execute_reply": "2023-05-08T13:10:09.007595Z",
     "shell.execute_reply.started": "2023-05-08T13:10:08.888011Z"
    },
    "tags": []
   },
   "outputs": [],
   "source": [
    "df[\"length\"] = df.review.str.len()"
   ]
  },
  {
   "cell_type": "code",
   "execution_count": 181,
   "id": "5a0cae98-eaa5-4ea3-85c0-90b31f69fcd1",
   "metadata": {
    "execution": {
     "iopub.execute_input": "2023-05-08T13:10:09.009466Z",
     "iopub.status.busy": "2023-05-08T13:10:09.009283Z",
     "iopub.status.idle": "2023-05-08T13:10:09.019150Z",
     "shell.execute_reply": "2023-05-08T13:10:09.018524Z",
     "shell.execute_reply.started": "2023-05-08T13:10:09.009449Z"
    },
    "tags": []
   },
   "outputs": [],
   "source": [
    "mean_lengths = df.groupby(by = 'rating').mean('length')"
   ]
  },
  {
   "cell_type": "code",
   "execution_count": 182,
   "id": "8421c3da-550c-430e-925a-68a6348063cc",
   "metadata": {
    "execution": {
     "iopub.execute_input": "2023-05-08T13:10:10.245657Z",
     "iopub.status.busy": "2023-05-08T13:10:10.245474Z",
     "iopub.status.idle": "2023-05-08T13:10:10.253231Z",
     "shell.execute_reply": "2023-05-08T13:10:10.252682Z",
     "shell.execute_reply.started": "2023-05-08T13:10:10.245640Z"
    },
    "tags": []
   },
   "outputs": [
    {
     "data": {
      "text/html": [
       "<div>\n",
       "<style scoped>\n",
       "    .dataframe tbody tr th:only-of-type {\n",
       "        vertical-align: middle;\n",
       "    }\n",
       "\n",
       "    .dataframe tbody tr th {\n",
       "        vertical-align: top;\n",
       "    }\n",
       "\n",
       "    .dataframe thead th {\n",
       "        text-align: right;\n",
       "    }\n",
       "</style>\n",
       "<table border=\"1\" class=\"dataframe\">\n",
       "  <thead>\n",
       "    <tr style=\"text-align: right;\">\n",
       "      <th></th>\n",
       "      <th>length</th>\n",
       "    </tr>\n",
       "    <tr>\n",
       "      <th>rating</th>\n",
       "      <th></th>\n",
       "    </tr>\n",
       "  </thead>\n",
       "  <tbody>\n",
       "    <tr>\n",
       "      <th>1</th>\n",
       "      <td>101.331628</td>\n",
       "    </tr>\n",
       "    <tr>\n",
       "      <th>2</th>\n",
       "      <td>90.523791</td>\n",
       "    </tr>\n",
       "    <tr>\n",
       "      <th>3</th>\n",
       "      <td>74.662603</td>\n",
       "    </tr>\n",
       "    <tr>\n",
       "      <th>4</th>\n",
       "      <td>36.467693</td>\n",
       "    </tr>\n",
       "    <tr>\n",
       "      <th>5</th>\n",
       "      <td>29.739811</td>\n",
       "    </tr>\n",
       "  </tbody>\n",
       "</table>\n",
       "</div>"
      ],
      "text/plain": [
       "            length\n",
       "rating            \n",
       "1       101.331628\n",
       "2        90.523791\n",
       "3        74.662603\n",
       "4        36.467693\n",
       "5        29.739811"
      ]
     },
     "execution_count": 182,
     "metadata": {},
     "output_type": "execute_result"
    }
   ],
   "source": [
    "mean_lengths"
   ]
  },
  {
   "cell_type": "code",
   "execution_count": 183,
   "id": "e613297c-e4db-4f4a-b570-674001f0776f",
   "metadata": {
    "execution": {
     "iopub.execute_input": "2023-05-08T13:10:10.254128Z",
     "iopub.status.busy": "2023-05-08T13:10:10.253961Z",
     "iopub.status.idle": "2023-05-08T13:10:10.285298Z",
     "shell.execute_reply": "2023-05-08T13:10:10.283963Z",
     "shell.execute_reply.started": "2023-05-08T13:10:10.254112Z"
    },
    "tags": []
   },
   "outputs": [],
   "source": [
    "#outpath = os.path.join(\"..\", \"out\", \"length.png\")"
   ]
  },
  {
   "cell_type": "code",
   "execution_count": 184,
   "id": "1eff8627-6776-4692-a685-79489901680a",
   "metadata": {
    "execution": {
     "iopub.execute_input": "2023-05-08T13:10:10.287706Z",
     "iopub.status.busy": "2023-05-08T13:10:10.287162Z",
     "iopub.status.idle": "2023-05-08T13:10:10.420640Z",
     "shell.execute_reply": "2023-05-08T13:10:10.419658Z",
     "shell.execute_reply.started": "2023-05-08T13:10:10.287643Z"
    },
    "tags": []
   },
   "outputs": [
    {
     "data": {
      "text/plain": [
       "<Figure size 800x600 with 0 Axes>"
      ]
     },
     "metadata": {},
     "output_type": "display_data"
    },
    {
     "data": {
      "image/png": "[encoded data removed]",
      "text/plain": [
       "<Figure size 640x480 with 1 Axes>"
      ]
     },
     "metadata": {},
     "output_type": "display_data"
    }
   ],
   "source": [
    "fig = plt.figure(figsize=(8,6))\n",
    "df.groupby(by = 'rating').mean('length').plot.bar(\n",
    "    ylim=1, title= 'MEAN LENGTH OF REVIEWS IN EACH CATEGORY\\n', color = \"green\")\n",
    "plt.xlabel('Rating', fontsize = 10)\n",
    "plt.ylabel('Mean length (characters)', fontsize = 10)\n",
    "plt.xticks(rotation='horizontal')\n",
    "plt.show()\n",
    "#plt.savefig(outpath, dpi=150)"
   ]
  },
  {
   "cell_type": "code",
   "execution_count": 185,
   "id": "3748b1c2-d167-42db-8ac8-882af1e81ab0",
   "metadata": {
    "execution": {
     "iopub.execute_input": "2023-05-08T13:10:10.421946Z",
     "iopub.status.busy": "2023-05-08T13:10:10.421695Z",
     "iopub.status.idle": "2023-05-08T13:10:10.529596Z",
     "shell.execute_reply": "2023-05-08T13:10:10.528894Z",
     "shell.execute_reply.started": "2023-05-08T13:10:10.421922Z"
    },
    "tags": []
   },
   "outputs": [
    {
     "name": "stdout",
     "output_type": "stream",
     "text": [
      "        rating          review  length\n",
      "1            5    pakker tiden      12\n",
      "6            4   gik forventet      13\n",
      "10           5      sædvanligt      10\n",
      "17           5         hurtigt       7\n",
      "22           5      lynhurtigt      10\n",
      "...        ...             ...     ...\n",
      "399939       4  kekdkfkfkfkkkd      14\n",
      "399948       1        langsomt       8\n",
      "399956       5   hurtig venlig      13\n",
      "399972       5         udsætte       7\n",
      "399973       4  fungerede fint      14\n",
      "\n",
      "[65095 rows x 3 columns]\n"
     ]
    }
   ],
   "source": [
    "# show texts that will be removed\n",
    "print(df.loc[np.array(list(map(len,df.review.values)))<((int(mean_lengths['length'].min()))-14)])\n",
    "\n",
    "# remove shorter texts\n",
    "df = df.loc[np.array(list(map(len,df.review.values)))>((int(mean_lengths['length'].min()))-15)]"
   ]
  },
  {
   "cell_type": "code",
   "execution_count": 186,
   "id": "89c01af6-9dd0-4d69-baf8-e48ce83ef761",
   "metadata": {
    "execution": {
     "iopub.execute_input": "2023-05-08T13:10:10.530599Z",
     "iopub.status.busy": "2023-05-08T13:10:10.530416Z",
     "iopub.status.idle": "2023-05-08T13:10:10.535062Z",
     "shell.execute_reply": "2023-05-08T13:10:10.534496Z",
     "shell.execute_reply.started": "2023-05-08T13:10:10.530581Z"
    },
    "tags": []
   },
   "outputs": [
    {
     "name": "stdout",
     "output_type": "stream",
     "text": [
      "# rows after removing short reviews: 332104\n"
     ]
    }
   ],
   "source": [
    "print(\"# rows after removing short reviews:\", len(df))"
   ]
  },
  {
   "cell_type": "code",
   "execution_count": 187,
   "id": "be900175-d415-4502-9e95-ab160489bce2",
   "metadata": {
    "execution": {
     "iopub.execute_input": "2023-05-08T13:10:10.535951Z",
     "iopub.status.busy": "2023-05-08T13:10:10.535783Z",
     "iopub.status.idle": "2023-05-08T13:10:10.568890Z",
     "shell.execute_reply": "2023-05-08T13:10:10.567735Z",
     "shell.execute_reply.started": "2023-05-08T13:10:10.535935Z"
    },
    "tags": []
   },
   "outputs": [],
   "source": [
    "df = df.reset_index(drop=True)"
   ]
  },
  {
   "cell_type": "code",
   "execution_count": 188,
   "id": "da648b11-eae0-41d2-bf14-7b46b574d136",
   "metadata": {
    "execution": {
     "iopub.execute_input": "2023-05-08T13:10:11.787746Z",
     "iopub.status.busy": "2023-05-08T13:10:11.787485Z",
     "iopub.status.idle": "2023-05-08T13:10:11.834823Z",
     "shell.execute_reply": "2023-05-08T13:10:11.833458Z",
     "shell.execute_reply.started": "2023-05-08T13:10:11.787722Z"
    },
    "tags": []
   },
   "outputs": [
    {
     "data": {
      "text/html": [
       "<div>\n",
       "<style scoped>\n",
       "    .dataframe tbody tr th:only-of-type {\n",
       "        vertical-align: middle;\n",
       "    }\n",
       "\n",
       "    .dataframe tbody tr th {\n",
       "        vertical-align: top;\n",
       "    }\n",
       "\n",
       "    .dataframe thead th {\n",
       "        text-align: right;\n",
       "    }\n",
       "</style>\n",
       "<table border=\"1\" class=\"dataframe\">\n",
       "  <thead>\n",
       "    <tr style=\"text-align: right;\">\n",
       "      <th></th>\n",
       "      <th>rating</th>\n",
       "      <th>review</th>\n",
       "      <th>length</th>\n",
       "    </tr>\n",
       "  </thead>\n",
       "  <tbody>\n",
       "    <tr>\n",
       "      <th>0</th>\n",
       "      <td>5</td>\n",
       "      <td>hurtig levering</td>\n",
       "      <td>15</td>\n",
       "    </tr>\n",
       "    <tr>\n",
       "      <th>119553</th>\n",
       "      <td>5</td>\n",
       "      <td>hurtig levering</td>\n",
       "      <td>15</td>\n",
       "    </tr>\n",
       "    <tr>\n",
       "      <th>119577</th>\n",
       "      <td>5</td>\n",
       "      <td>hurtig levering</td>\n",
       "      <td>15</td>\n",
       "    </tr>\n",
       "    <tr>\n",
       "      <th>119580</th>\n",
       "      <td>5</td>\n",
       "      <td>hurtig levering</td>\n",
       "      <td>15</td>\n",
       "    </tr>\n",
       "    <tr>\n",
       "      <th>119592</th>\n",
       "      <td>5</td>\n",
       "      <td>track and trace</td>\n",
       "      <td>15</td>\n",
       "    </tr>\n",
       "    <tr>\n",
       "      <th>...</th>\n",
       "      <td>...</td>\n",
       "      <td>...</td>\n",
       "      <td>...</td>\n",
       "    </tr>\n",
       "    <tr>\n",
       "      <th>25379</th>\n",
       "      <td>1</td>\n",
       "      <td>advarsel dato levering post nord sms d 48 modt...</td>\n",
       "      <td>1383</td>\n",
       "    </tr>\n",
       "    <tr>\n",
       "      <th>129394</th>\n",
       "      <td>1</td>\n",
       "      <td>give minus 5 stjerner give minus 5 stjerner va...</td>\n",
       "      <td>1485</td>\n",
       "    </tr>\n",
       "    <tr>\n",
       "      <th>222256</th>\n",
       "      <td>1</td>\n",
       "      <td>postnord trænger kundeservice egentligt postno...</td>\n",
       "      <td>1498</td>\n",
       "    </tr>\n",
       "    <tr>\n",
       "      <th>79176</th>\n",
       "      <td>1</td>\n",
       "      <td>glemt pakke dovenskab gennemgang mails stykke ...</td>\n",
       "      <td>1658</td>\n",
       "    </tr>\n",
       "    <tr>\n",
       "      <th>105259</th>\n",
       "      <td>1</td>\n",
       "      <td>post nord forfærdelige brevpakke afkrydset afh...</td>\n",
       "      <td>1724</td>\n",
       "    </tr>\n",
       "  </tbody>\n",
       "</table>\n",
       "<p>332104 rows × 3 columns</p>\n",
       "</div>"
      ],
      "text/plain": [
       "        rating                                             review  length\n",
       "0            5                                    hurtig levering      15\n",
       "119553       5                                    hurtig levering      15\n",
       "119577       5                                    hurtig levering      15\n",
       "119580       5                                    hurtig levering      15\n",
       "119592       5                                    track and trace      15\n",
       "...        ...                                                ...     ...\n",
       "25379        1  advarsel dato levering post nord sms d 48 modt...    1383\n",
       "129394       1  give minus 5 stjerner give minus 5 stjerner va...    1485\n",
       "222256       1  postnord trænger kundeservice egentligt postno...    1498\n",
       "79176        1  glemt pakke dovenskab gennemgang mails stykke ...    1658\n",
       "105259       1  post nord forfærdelige brevpakke afkrydset afh...    1724\n",
       "\n",
       "[332104 rows x 3 columns]"
      ]
     },
     "execution_count": 188,
     "metadata": {},
     "output_type": "execute_result"
    }
   ],
   "source": [
    "df.sort_values(\"length\")"
   ]
  },
  {
   "cell_type": "code",
   "execution_count": 189,
   "id": "fece5e1a-0c46-4d17-b89d-7253fb17666a",
   "metadata": {
    "execution": {
     "iopub.execute_input": "2023-05-08T13:10:11.840109Z",
     "iopub.status.busy": "2023-05-08T13:10:11.839765Z",
     "iopub.status.idle": "2023-05-08T13:10:12.007123Z",
     "shell.execute_reply": "2023-05-08T13:10:12.006439Z",
     "shell.execute_reply.started": "2023-05-08T13:10:11.840090Z"
    },
    "tags": []
   },
   "outputs": [
    {
     "data": {
      "image/png": "[encoded data removed]",
      "text/plain": [
       "<Figure size 800x600 with 1 Axes>"
      ]
     },
     "metadata": {},
     "output_type": "display_data"
    }
   ],
   "source": [
    "fig = plt.figure(figsize=(8,6))\n",
    "# PALETTE??\n",
    "colors = ['red','orange','yellow','lightgreen','darkgreen']\n",
    "df.groupby('rating').review.count().plot.barh(\n",
    "    ylim=0, color=colors, title= 'NUMBER OF REVIEWS IN EACH RATING CATEGORY\\n')\n",
    "plt.xlabel('Number of ocurrences', fontsize = 10);"
   ]
  },
  {
   "cell_type": "code",
   "execution_count": 190,
   "id": "94a28ac4-8de2-482c-8af0-6e167ee3a955",
   "metadata": {
    "execution": {
     "iopub.execute_input": "2023-05-08T13:10:12.008250Z",
     "iopub.status.busy": "2023-05-08T13:10:12.008034Z",
     "iopub.status.idle": "2023-05-08T13:10:12.015643Z",
     "shell.execute_reply": "2023-05-08T13:10:12.015024Z",
     "shell.execute_reply.started": "2023-05-08T13:10:12.008232Z"
    },
    "tags": []
   },
   "outputs": [
    {
     "data": {
      "text/plain": [
       "5    200651\n",
       "1     60823\n",
       "4     34452\n",
       "2     20287\n",
       "3     15891\n",
       "Name: rating, dtype: int64"
      ]
     },
     "execution_count": 190,
     "metadata": {},
     "output_type": "execute_result"
    }
   ],
   "source": [
    "# 17122 3-star reviews\n",
    "df['rating'].value_counts()"
   ]
  },
  {
   "cell_type": "code",
   "execution_count": 191,
   "id": "0ba535a5-94ff-49c1-8f18-081a6dad9516",
   "metadata": {
    "execution": {
     "iopub.execute_input": "2023-05-08T13:10:12.016739Z",
     "iopub.status.busy": "2023-05-08T13:10:12.016498Z",
     "iopub.status.idle": "2023-05-08T13:10:12.036303Z",
     "shell.execute_reply": "2023-05-08T13:10:12.035322Z",
     "shell.execute_reply.started": "2023-05-08T13:10:12.016716Z"
    },
    "tags": []
   },
   "outputs": [],
   "source": [
    "def balance(dataframe, random_state = 42):\n",
    "    \"\"\"\n",
    "    Create a balanced sample from imbalanced datasets.\n",
    "    \n",
    "    dataframe: \n",
    "        Pandas dataframe with a column called 'review' and one called 'rating'\n",
    "    n:         \n",
    "        Number of samples from each label, defaults to XXXXX\n",
    "        \n",
    "    random_state:\n",
    "        Random state, defaults to 42\n",
    "    \"\"\"\n",
    "    # Use pandas select a random bunch of examples from each label\n",
    "    out = (dataframe.groupby('rating', as_index=False)\n",
    "            .apply(lambda x: x.sample(dataframe['rating'].value_counts().min(), random_state = random_state))\n",
    "            .reset_index(drop=True))\n",
    "    \n",
    "    return out"
   ]
  },
  {
   "cell_type": "code",
   "execution_count": 192,
   "id": "f07581eb-2280-41cb-92d9-97df8d866ad5",
   "metadata": {
    "execution": {
     "iopub.execute_input": "2023-05-08T13:10:12.038070Z",
     "iopub.status.busy": "2023-05-08T13:10:12.037581Z",
     "iopub.status.idle": "2023-05-08T13:10:12.131377Z",
     "shell.execute_reply": "2023-05-08T13:10:12.130636Z",
     "shell.execute_reply.started": "2023-05-08T13:10:12.038034Z"
    },
    "tags": []
   },
   "outputs": [],
   "source": [
    "df = balance(df, random_state = 42)"
   ]
  },
  {
   "cell_type": "code",
   "execution_count": 193,
   "id": "9c043302-71af-4250-86eb-4a1bd0ebe5a4",
   "metadata": {
    "execution": {
     "iopub.execute_input": "2023-05-08T13:10:12.132761Z",
     "iopub.status.busy": "2023-05-08T13:10:12.132358Z",
     "iopub.status.idle": "2023-05-08T13:10:12.138843Z",
     "shell.execute_reply": "2023-05-08T13:10:12.138209Z",
     "shell.execute_reply.started": "2023-05-08T13:10:12.132741Z"
    },
    "tags": []
   },
   "outputs": [
    {
     "data": {
      "text/plain": [
       "1    15891\n",
       "2    15891\n",
       "3    15891\n",
       "4    15891\n",
       "5    15891\n",
       "Name: rating, dtype: int64"
      ]
     },
     "execution_count": 193,
     "metadata": {},
     "output_type": "execute_result"
    }
   ],
   "source": [
    "df['rating'].value_counts()"
   ]
  },
  {
   "cell_type": "code",
   "execution_count": 194,
   "id": "0208adc8-3a8d-432c-8015-2d65f0945662",
   "metadata": {
    "execution": {
     "iopub.execute_input": "2023-05-08T13:10:12.139934Z",
     "iopub.status.busy": "2023-05-08T13:10:12.139697Z",
     "iopub.status.idle": "2023-05-08T13:10:12.183842Z",
     "shell.execute_reply": "2023-05-08T13:10:12.183247Z",
     "shell.execute_reply.started": "2023-05-08T13:10:12.139911Z"
    },
    "tags": []
   },
   "outputs": [],
   "source": [
    "df['rating'] = df['rating'].astype(str)"
   ]
  },
  {
   "cell_type": "code",
   "execution_count": 195,
   "id": "a2ef287b-6ed2-4f26-9658-c0105d88bc1b",
   "metadata": {
    "execution": {
     "iopub.execute_input": "2023-05-08T13:10:12.184925Z",
     "iopub.status.busy": "2023-05-08T13:10:12.184682Z",
     "iopub.status.idle": "2023-05-08T13:10:12.200980Z",
     "shell.execute_reply": "2023-05-08T13:10:12.200250Z",
     "shell.execute_reply.started": "2023-05-08T13:10:12.184902Z"
    },
    "tags": []
   },
   "outputs": [],
   "source": [
    "df = df.reset_index(drop=True)"
   ]
  },
  {
   "cell_type": "code",
   "execution_count": 196,
   "id": "b18b6f1a-9ce9-46d8-b35b-c8febee487cb",
   "metadata": {
    "execution": {
     "iopub.execute_input": "2023-05-08T13:10:12.202192Z",
     "iopub.status.busy": "2023-05-08T13:10:12.201929Z",
     "iopub.status.idle": "2023-05-08T13:10:12.371347Z",
     "shell.execute_reply": "2023-05-08T13:10:12.370672Z",
     "shell.execute_reply.started": "2023-05-08T13:10:12.202166Z"
    },
    "tags": []
   },
   "outputs": [
    {
     "data": {
      "image/png": "[encoded data removed]",
      "text/plain": [
       "<Figure size 800x600 with 1 Axes>"
      ]
     },
     "metadata": {},
     "output_type": "display_data"
    }
   ],
   "source": [
    "fig = plt.figure(figsize=(8,6))\n",
    "# PALETTE??\n",
    "colors = ['red','orange','yellow','lightgreen','darkgreen']\n",
    "df.groupby('rating').review.count().plot.barh(\n",
    "    ylim=0, color=colors, title= 'NUMBER OF REVIEWS IN EACH RATING CATEGORY\\n')\n",
    "plt.xlabel('Number of ocurrences', fontsize = 10);"
   ]
  },
  {
   "cell_type": "code",
   "execution_count": 197,
   "id": "ee4d8b78-a542-480e-b58e-b0de1e091678",
   "metadata": {
    "execution": {
     "iopub.execute_input": "2023-05-08T13:10:12.372291Z",
     "iopub.status.busy": "2023-05-08T13:10:12.372108Z",
     "iopub.status.idle": "2023-05-08T13:10:12.389697Z",
     "shell.execute_reply": "2023-05-08T13:10:12.389048Z",
     "shell.execute_reply.started": "2023-05-08T13:10:12.372274Z"
    },
    "tags": []
   },
   "outputs": [
    {
     "data": {
      "text/html": [
       "<div>\n",
       "<style scoped>\n",
       "    .dataframe tbody tr th:only-of-type {\n",
       "        vertical-align: middle;\n",
       "    }\n",
       "\n",
       "    .dataframe tbody tr th {\n",
       "        vertical-align: top;\n",
       "    }\n",
       "\n",
       "    .dataframe thead th {\n",
       "        text-align: right;\n",
       "    }\n",
       "</style>\n",
       "<table border=\"1\" class=\"dataframe\">\n",
       "  <thead>\n",
       "    <tr style=\"text-align: right;\">\n",
       "      <th></th>\n",
       "      <th>rating</th>\n",
       "      <th>review</th>\n",
       "      <th>length</th>\n",
       "    </tr>\n",
       "  </thead>\n",
       "  <tbody>\n",
       "    <tr>\n",
       "      <th>53243</th>\n",
       "      <td>4</td>\n",
       "      <td>hurtig levering</td>\n",
       "      <td>15</td>\n",
       "    </tr>\n",
       "    <tr>\n",
       "      <th>6540</th>\n",
       "      <td>1</td>\n",
       "      <td>hurtig levering</td>\n",
       "      <td>15</td>\n",
       "    </tr>\n",
       "    <tr>\n",
       "      <th>61267</th>\n",
       "      <td>4</td>\n",
       "      <td>hurtig levering</td>\n",
       "      <td>15</td>\n",
       "    </tr>\n",
       "    <tr>\n",
       "      <th>61245</th>\n",
       "      <td>4</td>\n",
       "      <td>hurtig effektiv</td>\n",
       "      <td>15</td>\n",
       "    </tr>\n",
       "    <tr>\n",
       "      <th>61243</th>\n",
       "      <td>4</td>\n",
       "      <td>hurtig levering</td>\n",
       "      <td>15</td>\n",
       "    </tr>\n",
       "    <tr>\n",
       "      <th>...</th>\n",
       "      <td>...</td>\n",
       "      <td>...</td>\n",
       "      <td>...</td>\n",
       "    </tr>\n",
       "    <tr>\n",
       "      <th>6569</th>\n",
       "      <td>1</td>\n",
       "      <td>bestemt fan post nord vælge handler online væl...</td>\n",
       "      <td>984</td>\n",
       "    </tr>\n",
       "    <tr>\n",
       "      <th>2198</th>\n",
       "      <td>1</td>\n",
       "      <td>bedes læse svar utilfreds bedes læse svar takj...</td>\n",
       "      <td>1021</td>\n",
       "    </tr>\n",
       "    <tr>\n",
       "      <th>15449</th>\n",
       "      <td>1</td>\n",
       "      <td>tilfreds post nord dårlige episoder post nord ...</td>\n",
       "      <td>1037</td>\n",
       "    </tr>\n",
       "    <tr>\n",
       "      <th>13174</th>\n",
       "      <td>1</td>\n",
       "      <td>nul mulighed ærgerligt nul mulighed mage inkom...</td>\n",
       "      <td>1075</td>\n",
       "    </tr>\n",
       "    <tr>\n",
       "      <th>15730</th>\n",
       "      <td>1</td>\n",
       "      <td>give minus 5 stjerner give minus 5 stjerner va...</td>\n",
       "      <td>1485</td>\n",
       "    </tr>\n",
       "  </tbody>\n",
       "</table>\n",
       "<p>79455 rows × 3 columns</p>\n",
       "</div>"
      ],
      "text/plain": [
       "      rating                                             review  length\n",
       "53243      4                                    hurtig levering      15\n",
       "6540       1                                    hurtig levering      15\n",
       "61267      4                                    hurtig levering      15\n",
       "61245      4                                    hurtig effektiv      15\n",
       "61243      4                                    hurtig levering      15\n",
       "...      ...                                                ...     ...\n",
       "6569       1  bestemt fan post nord vælge handler online væl...     984\n",
       "2198       1  bedes læse svar utilfreds bedes læse svar takj...    1021\n",
       "15449      1  tilfreds post nord dårlige episoder post nord ...    1037\n",
       "13174      1  nul mulighed ærgerligt nul mulighed mage inkom...    1075\n",
       "15730      1  give minus 5 stjerner give minus 5 stjerner va...    1485\n",
       "\n",
       "[79455 rows x 3 columns]"
      ]
     },
     "execution_count": 197,
     "metadata": {},
     "output_type": "execute_result"
    }
   ],
   "source": [
    "df.sort_values(\"length\")"
   ]
  },
  {
   "cell_type": "code",
   "execution_count": 198,
   "id": "b9dc5199-6e5b-4223-b5d7-e3ed88e8f2da",
   "metadata": {
    "execution": {
     "iopub.execute_input": "2023-05-08T13:10:12.390646Z",
     "iopub.status.busy": "2023-05-08T13:10:12.390457Z",
     "iopub.status.idle": "2023-05-08T13:10:12.426829Z",
     "shell.execute_reply": "2023-05-08T13:10:12.425294Z",
     "shell.execute_reply.started": "2023-05-08T13:10:12.390628Z"
    },
    "tags": []
   },
   "outputs": [
    {
     "data": {
      "text/plain": [
       "79455"
      ]
     },
     "execution_count": 198,
     "metadata": {},
     "output_type": "execute_result"
    }
   ],
   "source": [
    "len(df)"
   ]
  },
  {
   "cell_type": "code",
   "execution_count": 199,
   "id": "f159d9a0-2075-4aa7-9ce8-1a3cac0bb921",
   "metadata": {
    "execution": {
     "iopub.execute_input": "2023-05-08T13:10:12.429287Z",
     "iopub.status.busy": "2023-05-08T13:10:12.428662Z",
     "iopub.status.idle": "2023-05-08T13:10:12.448346Z",
     "shell.execute_reply": "2023-05-08T13:10:12.447473Z",
     "shell.execute_reply.started": "2023-05-08T13:10:12.429239Z"
    },
    "tags": []
   },
   "outputs": [],
   "source": [
    "balancepath = os.path.join(\"..\", \"in\", \"balanced_dataset.csv\")"
   ]
  },
  {
   "cell_type": "code",
   "execution_count": 200,
   "id": "8e47b038-196a-43ca-9525-23d44c367c07",
   "metadata": {
    "execution": {
     "iopub.execute_input": "2023-05-08T13:10:12.450788Z",
     "iopub.status.busy": "2023-05-08T13:10:12.450281Z",
     "iopub.status.idle": "2023-05-08T13:10:12.673684Z",
     "shell.execute_reply": "2023-05-08T13:10:12.672825Z",
     "shell.execute_reply.started": "2023-05-08T13:10:12.450741Z"
    },
    "tags": []
   },
   "outputs": [],
   "source": [
    "df.to_csv(balancepath, index = False)"
   ]
  },
  {
   "cell_type": "code",
   "execution_count": null,
   "id": "09184b8b-af7a-4f40-ab5d-2d18322c9613",
   "metadata": {},
   "outputs": [],
   "source": []
  }
 ],
 "metadata": {
  "kernelspec": {
   "display_name": "Python 3 ",
   "language": "python",
   "name": "python3"
  },
  "language_info": {
   "codemirror_mode": {
    "name": "ipython",
    "version": 3
   },
   "file_extension": ".py",
   "mimetype": "text/x-python",
   "name": "python",
   "nbconvert_exporter": "python",
   "pygments_lexer": "ipython3",
   "version": "3.10.6"
  }
 },
 "nbformat": 4,
 "nbformat_minor": 5
}
