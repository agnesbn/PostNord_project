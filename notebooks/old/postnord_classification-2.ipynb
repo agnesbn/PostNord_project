{
 "cells": [
  {
   "cell_type": "markdown",
   "id": "17a3768e-d188-4bec-b01b-2c80a1166295",
   "metadata": {},
   "source": [
    "# Text classification using machine learning"
   ]
  },
  {
   "cell_type": "markdown",
   "id": "760b47be-dcd2-413c-8553-ce53fe43fbba",
   "metadata": {},
   "source": [
    "Run this code __AFTER__ *preprocessing.ipynb*!"
   ]
  },
  {
   "cell_type": "markdown",
   "id": "b9778e0c-72ad-48e9-baa3-6033d67aaa39",
   "metadata": {},
   "source": [
    "## 1. Start-up code: Import packages and get data"
   ]
  },
  {
   "cell_type": "code",
   "execution_count": 1,
   "id": "aa4fa649-c7ce-41c2-a254-b572e44a51a7",
   "metadata": {
    "collapsed": true,
    "execution": {
     "iopub.execute_input": "2023-05-28T12:15:18.368548Z",
     "iopub.status.busy": "2023-05-28T12:15:18.368006Z",
     "iopub.status.idle": "2023-05-28T12:15:21.879512Z",
     "shell.execute_reply": "2023-05-28T12:15:21.877939Z",
     "shell.execute_reply.started": "2023-05-28T12:15:18.368431Z"
    },
    "jupyter": {
     "outputs_hidden": true
    },
    "tags": []
   },
   "outputs": [
    {
     "name": "stdout",
     "output_type": "stream",
     "text": [
      "Requirement already satisfied: pandas in /opt/conda/lib/python3.9/site-packages (2.0.1)\n",
      "Requirement already satisfied: numpy in /opt/conda/lib/python3.9/site-packages (1.22.4)\n",
      "Requirement already satisfied: seaborn in /opt/conda/lib/python3.9/site-packages (0.12.2)\n",
      "Requirement already satisfied: matplotlib in /opt/conda/lib/python3.9/site-packages (3.5.2)\n",
      "Requirement already satisfied: scikit-learn in /opt/conda/lib/python3.9/site-packages (1.2.2)\n",
      "Requirement already satisfied: pytz>=2020.1 in /opt/conda/lib/python3.9/site-packages (from pandas) (2022.1)\n",
      "Requirement already satisfied: tzdata>=2022.1 in /opt/conda/lib/python3.9/site-packages (from pandas) (2023.3)\n",
      "Requirement already satisfied: python-dateutil>=2.8.2 in /opt/conda/lib/python3.9/site-packages (from pandas) (2.8.2)\n",
      "Requirement already satisfied: packaging>=20.0 in /opt/conda/lib/python3.9/site-packages (from matplotlib) (21.3)\n",
      "Requirement already satisfied: cycler>=0.10 in /opt/conda/lib/python3.9/site-packages (from matplotlib) (0.11.0)\n",
      "Requirement already satisfied: fonttools>=4.22.0 in /opt/conda/lib/python3.9/site-packages (from matplotlib) (4.33.3)\n",
      "Requirement already satisfied: pyparsing>=2.2.1 in /opt/conda/lib/python3.9/site-packages (from matplotlib) (3.0.9)\n",
      "Requirement already satisfied: kiwisolver>=1.0.1 in /opt/conda/lib/python3.9/site-packages (from matplotlib) (1.4.2)\n",
      "Requirement already satisfied: pillow>=6.2.0 in /opt/conda/lib/python3.9/site-packages (from matplotlib) (9.1.1)\n",
      "Requirement already satisfied: scipy>=1.3.2 in /opt/conda/lib/python3.9/site-packages (from scikit-learn) (1.10.1)\n",
      "Requirement already satisfied: joblib>=1.1.1 in /opt/conda/lib/python3.9/site-packages (from scikit-learn) (1.2.0)\n",
      "Requirement already satisfied: threadpoolctl>=2.0.0 in /opt/conda/lib/python3.9/site-packages (from scikit-learn) (3.1.0)\n",
      "Requirement already satisfied: six>=1.5 in /opt/conda/lib/python3.9/site-packages (from python-dateutil>=2.8.2->pandas) (1.16.0)\n"
     ]
    }
   ],
   "source": [
    "# UNCOMMENT TO INSTALL PACKAGES\n",
    "#!pip install pandas numpy seaborn matplotlib scikit-learn"
   ]
  },
  {
   "cell_type": "code",
   "execution_count": 2,
   "id": "eaa1bf3b-46cb-4013-adb1-ae8faa15591e",
   "metadata": {
    "execution": {
     "iopub.execute_input": "2023-05-28T12:15:26.897138Z",
     "iopub.status.busy": "2023-05-28T12:15:26.896325Z",
     "iopub.status.idle": "2023-05-28T12:15:28.178943Z",
     "shell.execute_reply": "2023-05-28T12:15:28.178150Z",
     "shell.execute_reply.started": "2023-05-28T12:15:26.897078Z"
    },
    "tags": []
   },
   "outputs": [],
   "source": [
    "# system tools\n",
    "import os\n",
    "import re\n",
    "\n",
    "# data wrangling\n",
    "import pandas as pd\n",
    "import numpy as np\n",
    "\n",
    "# plotting\n",
    "import seaborn as sns\n",
    "import matplotlib.pyplot as plt\n",
    "\n",
    "# machine learning\n",
    "from sklearn.feature_extraction.text import TfidfVectorizer\n",
    "from sklearn.feature_selection import chi2\n",
    "from sklearn.model_selection import train_test_split\n",
    "from sklearn.naive_bayes import MultinomialNB, ComplementNB\n",
    "from sklearn.linear_model import LogisticRegression\n",
    "from sklearn.svm import LinearSVC\n",
    "from sklearn.model_selection import cross_val_score\n",
    "from sklearn.metrics import confusion_matrix\n",
    "from sklearn import metrics"
   ]
  },
  {
   "cell_type": "code",
   "execution_count": 3,
   "id": "c47a4f14-1734-4775-bc0c-8615962dac45",
   "metadata": {
    "execution": {
     "iopub.execute_input": "2023-05-28T12:15:29.557479Z",
     "iopub.status.busy": "2023-05-28T12:15:29.556648Z",
     "iopub.status.idle": "2023-05-28T12:15:29.565423Z",
     "shell.execute_reply": "2023-05-28T12:15:29.563490Z",
     "shell.execute_reply.started": "2023-05-28T12:15:29.557419Z"
    },
    "tags": []
   },
   "outputs": [],
   "source": [
    "# define path\n",
    "path = os.path.join(\"..\", \"in\", \"balanced_dataset.csv\")"
   ]
  },
  {
   "cell_type": "code",
   "execution_count": 4,
   "id": "e6159bd1-5d0b-4674-bf2e-94b90039e7d8",
   "metadata": {
    "execution": {
     "iopub.execute_input": "2023-05-28T12:15:30.976870Z",
     "iopub.status.busy": "2023-05-28T12:15:30.975991Z",
     "iopub.status.idle": "2023-05-28T12:15:31.133940Z",
     "shell.execute_reply": "2023-05-28T12:15:31.133021Z",
     "shell.execute_reply.started": "2023-05-28T12:15:30.976788Z"
    },
    "tags": []
   },
   "outputs": [],
   "source": [
    "# read csv\n",
    "df = pd.read_csv(path)\n",
    "# make sure ratings are parsed as strings and not integers\n",
    "df['rating'] = df['rating'].astype(str)"
   ]
  },
  {
   "cell_type": "code",
   "execution_count": 5,
   "id": "95600c2f-da8e-4636-a3e7-66afe36d05bc",
   "metadata": {
    "execution": {
     "iopub.execute_input": "2023-05-28T12:15:31.877302Z",
     "iopub.status.busy": "2023-05-28T12:15:31.876472Z",
     "iopub.status.idle": "2023-05-28T12:15:31.902934Z",
     "shell.execute_reply": "2023-05-28T12:15:31.902141Z",
     "shell.execute_reply.started": "2023-05-28T12:15:31.877243Z"
    },
    "tags": []
   },
   "outputs": [],
   "source": [
    "# create a new column 'category_id' with encoded categories \n",
    "df['category_id'] = df['rating'].factorize()[0]\n",
    "# remove duplicates\n",
    "category_id_df = df[['rating', 'category_id']].drop_duplicates()\n",
    "# create dictionaries for future use\n",
    "category_to_id = dict(category_id_df.values)\n",
    "id_to_category = dict(category_id_df[['category_id', 'rating']].values)"
   ]
  },
  {
   "cell_type": "markdown",
   "id": "c955123f-48ef-48a3-a0a5-9922e839d3f4",
   "metadata": {},
   "source": [
    "## Vectorisation"
   ]
  },
  {
   "cell_type": "markdown",
   "id": "f75ff519-ae8f-40f7-a318-148ef6e51926",
   "metadata": {},
   "source": [
    "### TD-IDF"
   ]
  },
  {
   "cell_type": "code",
   "execution_count": 6,
   "id": "636c41b6-94f4-4519-ba6f-ec275542a173",
   "metadata": {
    "execution": {
     "iopub.execute_input": "2023-05-28T12:15:37.497052Z",
     "iopub.status.busy": "2023-05-28T12:15:37.496194Z",
     "iopub.status.idle": "2023-05-28T12:15:42.462442Z",
     "shell.execute_reply": "2023-05-28T12:15:42.460254Z",
     "shell.execute_reply.started": "2023-05-28T12:15:37.496992Z"
    },
    "tags": []
   },
   "outputs": [
    {
     "name": "stdout",
     "output_type": "stream",
     "text": [
      "Each of the 85290 reviews is represented by 22969 features (TF-IDF score of unigrams and bigrams)\n"
     ]
    }
   ],
   "source": [
    "# vectorise the texts\n",
    "tfidf = TfidfVectorizer(sublinear_tf=True, \n",
    "                        min_df= 5, # exclude tokens that occurred in less than 5 texts\n",
    "                        ngram_range=(1, 2),\n",
    "                        encoding = 'utf-16',\n",
    "                        max_features = None)\n",
    "# We transform each review into a vector\n",
    "features = tfidf.fit_transform(df['review'].values.astype('str')).toarray()\n",
    "\n",
    "# get labels\n",
    "labels = df.category_id\n",
    "print(\"Each of the %d reviews is represented by %d features (TF-IDF score of unigrams and bigrams)\" %(features.shape))"
   ]
  },
  {
   "cell_type": "code",
   "execution_count": 7,
   "id": "de42860b-5998-45e8-b97d-c6992e0b08dd",
   "metadata": {
    "execution": {
     "iopub.execute_input": "2023-05-28T12:15:46.755133Z",
     "iopub.status.busy": "2023-05-28T12:15:46.754249Z",
     "iopub.status.idle": "2023-05-28T12:16:20.694872Z",
     "shell.execute_reply": "2023-05-28T12:16:20.693607Z",
     "shell.execute_reply.started": "2023-05-28T12:15:46.755069Z"
    },
    "tags": []
   },
   "outputs": [
    {
     "name": "stdout",
     "output_type": "stream",
     "text": [
      "Correlated terms have been written to '../out/correlated_terms.txt'.\n"
     ]
    }
   ],
   "source": [
    "# find the 15 most correlated terms with each of the ratings\n",
    "N = 15\n",
    "out_file = \"../out/correlated_terms.txt\"    \n",
    "    \n",
    "with open(out_file, 'w') as f:\n",
    "    f.write(\"MOST CORRELATED TERMS PER CATEGORY\\n\")\n",
    "    for rating, category_id in sorted(category_to_id.items()):\n",
    "        features_chi2 = chi2(features, labels == category_id)\n",
    "        indices = np.argsort(features_chi2[0])\n",
    "        feature_names = np.array(tfidf.get_feature_names_out())[indices]\n",
    "        unigrams = [v for v in feature_names if len(v.split(' ')) == 1]\n",
    "        bigrams = [v for v in feature_names if len(v.split(' ')) == 2]\n",
    "        #print(\"n==> %s:\" %(rating))\n",
    "        #print(\"  * Most Correlated Unigrams are: %s\" %(', '.join(unigrams[-N:])))\n",
    "        #print(\"  * Most Correlated Bigrams are: %s\" %(', '.join(bigrams[-N:])))\n",
    "        f.write(\"n==> %s:\\n\" %(rating))\n",
    "        f.write(\"  * Most Correlated Unigrams are: %s\\n\\n\" %(', '.join(unigrams[-N:])))\n",
    "        f.write(\"  * Most Correlated Bigrams are: %s\\n\\n\\n\" %(', '.join(bigrams[-N:])))\n",
    "\n",
    "print(\"Correlated terms have been written to '%s'.\" % out_file)"
   ]
  },
  {
   "cell_type": "markdown",
   "id": "2382401e-7856-41dc-af56-40a2b531ee9f",
   "metadata": {
    "tags": []
   },
   "source": [
    "## Finding the best classifier"
   ]
  },
  {
   "cell_type": "code",
   "execution_count": 8,
   "id": "1ed1868b-e1d0-4799-b8b5-0abebb65625c",
   "metadata": {
    "execution": {
     "iopub.execute_input": "2023-05-28T12:16:25.209731Z",
     "iopub.status.busy": "2023-05-28T12:16:25.209050Z",
     "iopub.status.idle": "2023-05-28T12:16:29.882536Z",
     "shell.execute_reply": "2023-05-28T12:16:29.880813Z",
     "shell.execute_reply.started": "2023-05-28T12:16:25.209672Z"
    },
    "tags": []
   },
   "outputs": [],
   "source": [
    "# train-test split\n",
    "X_train, X_test, y_train, y_test = train_test_split(features, labels, \n",
    "                                                    test_size=0.25,\n",
    "                                                    random_state = 42)"
   ]
  },
  {
   "cell_type": "code",
   "execution_count": 9,
   "id": "dd0075fa-6382-4c0d-bbd0-bcd90826d92f",
   "metadata": {
    "execution": {
     "iopub.execute_input": "2023-05-28T12:16:31.397178Z",
     "iopub.status.busy": "2023-05-28T12:16:31.396384Z",
     "iopub.status.idle": "2023-05-28T12:16:31.407604Z",
     "shell.execute_reply": "2023-05-28T12:16:31.405752Z",
     "shell.execute_reply.started": "2023-05-28T12:16:31.397114Z"
    },
    "tags": []
   },
   "outputs": [],
   "source": [
    "# list of models we want to test\n",
    "models = [\n",
    "    LinearSVC(),\n",
    "    MultinomialNB(),\n",
    "    ComplementNB(),\n",
    "    LogisticRegression(random_state=42, max_iter = 85290),\n",
    "]"
   ]
  },
  {
   "cell_type": "code",
   "execution_count": 10,
   "id": "d074e338-8d19-46fd-a229-fc99e8871a25",
   "metadata": {
    "execution": {
     "iopub.execute_input": "2023-05-28T12:16:33.257494Z",
     "iopub.status.busy": "2023-05-28T12:16:33.256462Z",
     "iopub.status.idle": "2023-05-28T12:16:33.269631Z",
     "shell.execute_reply": "2023-05-28T12:16:33.268303Z",
     "shell.execute_reply.started": "2023-05-28T12:16:33.257406Z"
    },
    "tags": []
   },
   "outputs": [],
   "source": [
    "# cross-validation of 3\n",
    "CV = 3 # the number of subsets into which the dataset is divided during cross-validation\n",
    "cv_df = pd.DataFrame(index=range(CV * len(models)))"
   ]
  },
  {
   "cell_type": "code",
   "execution_count": 11,
   "id": "2102ed95-0dec-4e20-826a-4e1f186e62d0",
   "metadata": {
    "execution": {
     "iopub.execute_input": "2023-05-28T12:16:34.077201Z",
     "iopub.status.busy": "2023-05-28T12:16:34.076361Z",
     "iopub.status.idle": "2023-05-28T12:16:34.084630Z",
     "shell.execute_reply": "2023-05-28T12:16:34.083013Z",
     "shell.execute_reply.started": "2023-05-28T12:16:34.077139Z"
    },
    "tags": []
   },
   "outputs": [],
   "source": [
    "model_names = [\"LinearSVC\", \"MultinomialNB\", \"ComplementNB\", \"LogisticRegression\"]"
   ]
  },
  {
   "cell_type": "code",
   "execution_count": 12,
   "id": "311ff5eb-8d01-4d5d-8375-1ac8fdccaf8b",
   "metadata": {
    "execution": {
     "iopub.execute_input": "2023-05-28T12:16:37.136787Z",
     "iopub.status.busy": "2023-05-28T12:16:37.135959Z",
     "iopub.status.idle": "2023-05-28T12:36:05.162135Z",
     "shell.execute_reply": "2023-05-28T12:36:05.159383Z",
     "shell.execute_reply.started": "2023-05-28T12:16:37.136715Z"
    },
    "tags": []
   },
   "outputs": [
    {
     "name": "stdout",
     "output_type": "stream",
     "text": [
      "LinearSVC...\n",
      "Complete!\n",
      "\n",
      "MultinomialNB...\n",
      "Complete!\n",
      "\n",
      "ComplementNB...\n",
      "Complete!\n",
      "\n",
      "LogisticRegression...\n",
      "Complete!\n",
      "\n"
     ]
    }
   ],
   "source": [
    "entries = []\n",
    "counter = 0\n",
    "for model in models:\n",
    "    title = model_names[counter]\n",
    "    print(f\"{title}...\")\n",
    "    counter += 1\n",
    "    model_name = model.__class__.__name__\n",
    "    accuracies = cross_val_score(model, X_train, y_train, scoring='accuracy', cv=CV)\n",
    "    for fold_idx, accuracy in enumerate(accuracies):\n",
    "        entries.append((model_name, accuracy))\n",
    "    print(f\"Complete!\\n\")\n",
    "cv_df = pd.DataFrame(entries, columns=['model_name', 'accuracy'])"
   ]
  },
  {
   "cell_type": "code",
   "execution_count": 13,
   "id": "9010302c-cd6b-4a0b-a06c-6f1f69781f83",
   "metadata": {
    "execution": {
     "iopub.execute_input": "2023-05-28T12:40:16.558670Z",
     "iopub.status.busy": "2023-05-28T12:40:16.557850Z",
     "iopub.status.idle": "2023-05-28T12:40:16.576597Z",
     "shell.execute_reply": "2023-05-28T12:40:16.575805Z",
     "shell.execute_reply.started": "2023-05-28T12:40:16.558609Z"
    },
    "tags": []
   },
   "outputs": [
    {
     "data": {
      "text/html": [
       "<div>\n",
       "<style scoped>\n",
       "    .dataframe tbody tr th:only-of-type {\n",
       "        vertical-align: middle;\n",
       "    }\n",
       "\n",
       "    .dataframe tbody tr th {\n",
       "        vertical-align: top;\n",
       "    }\n",
       "\n",
       "    .dataframe thead th {\n",
       "        text-align: right;\n",
       "    }\n",
       "</style>\n",
       "<table border=\"1\" class=\"dataframe\">\n",
       "  <thead>\n",
       "    <tr style=\"text-align: right;\">\n",
       "      <th></th>\n",
       "      <th>accuracy</th>\n",
       "    </tr>\n",
       "    <tr>\n",
       "      <th>model_name</th>\n",
       "      <th></th>\n",
       "    </tr>\n",
       "  </thead>\n",
       "  <tbody>\n",
       "    <tr>\n",
       "      <th>ComplementNB</th>\n",
       "      <td>0.465177</td>\n",
       "    </tr>\n",
       "    <tr>\n",
       "      <th>LinearSVC</th>\n",
       "      <td>0.447418</td>\n",
       "    </tr>\n",
       "    <tr>\n",
       "      <th>LogisticRegression</th>\n",
       "      <td>0.475730</td>\n",
       "    </tr>\n",
       "    <tr>\n",
       "      <th>MultinomialNB</th>\n",
       "      <td>0.477918</td>\n",
       "    </tr>\n",
       "  </tbody>\n",
       "</table>\n",
       "</div>"
      ],
      "text/plain": [
       "                    accuracy\n",
       "model_name                  \n",
       "ComplementNB        0.465177\n",
       "LinearSVC           0.447418\n",
       "LogisticRegression  0.475730\n",
       "MultinomialNB       0.477918"
      ]
     },
     "execution_count": 13,
     "metadata": {},
     "output_type": "execute_result"
    }
   ],
   "source": [
    "cv_df.groupby(by = \"model_name\").mean()"
   ]
  },
  {
   "cell_type": "code",
   "execution_count": 15,
   "id": "19d24975-81e4-4f7e-8e4e-841f20cfbe2a",
   "metadata": {
    "execution": {
     "iopub.execute_input": "2023-05-28T12:42:05.838550Z",
     "iopub.status.busy": "2023-05-28T12:42:05.837720Z",
     "iopub.status.idle": "2023-05-28T12:42:06.325761Z",
     "shell.execute_reply": "2023-05-28T12:42:06.324990Z",
     "shell.execute_reply.started": "2023-05-28T12:42:05.838489Z"
    },
    "tags": []
   },
   "outputs": [
    {
     "data": {
      "image/png": "[encoded data removed]",
      "text/plain": [
       "<Figure size 432x360 with 1 Axes>"
      ]
     },
     "metadata": {
      "needs_background": "light"
     },
     "output_type": "display_data"
    }
   ],
   "source": [
    "plt.rc('axes', axisbelow=True) # place gridlines below elements in plots\n",
    "\n",
    "# Boxplot\n",
    "fig, ax = plt.subplots(figsize=(6,5))\n",
    "\n",
    "ax = sns.boxplot(x='model_name', y='accuracy', \n",
    "                 data=cv_df,\n",
    "                 linewidth=1,\n",
    "                 width=0.7,\n",
    "                 fliersize=5,\n",
    "                 boxprops={\"facecolor\": \"#01a0d6\"}, \n",
    "                 medianprops={\"linewidth\" : 1, \"linestyle\" : \"--\", \"color\" : \"#edfbfe\"})\n",
    "plt.title(\"Model accuracies\", weight = \"bold\", fontsize=15)\n",
    "plt.ylabel(\"Accuracy\", fontsize=10, weight=\"bold\")\n",
    "plt.xlabel(\"Model name\", fontsize=10, weight=\"bold\")\n",
    "plt.grid(axis=\"y\", linestyle='--')\n",
    "plt.xticks(rotation=9)\n",
    "ax.spines[\"top\"].set_visible(False)\n",
    "ax.spines[\"right\"].set_visible(False)\n",
    "plt.tight_layout()  # adjust layout to prevent labels from being cut off\n",
    "plt.savefig('../out/model_accuracies.png', dpi=300, bbox_inches='tight') # save the figure\n",
    "plt.show()"
   ]
  },
  {
   "cell_type": "markdown",
   "id": "08161728-bb22-4b32-b393-b59b05315f00",
   "metadata": {},
   "source": [
    "## Training and testing the classifier"
   ]
  },
  {
   "cell_type": "code",
   "execution_count": 2,
   "id": "62f6ac4b-8a94-4c74-b678-701707d0b6f6",
   "metadata": {
    "execution": {
     "iopub.execute_input": "2023-05-28T12:49:07.968370Z",
     "iopub.status.busy": "2023-05-28T12:49:07.967190Z",
     "iopub.status.idle": "2023-05-28T12:49:07.991661Z",
     "shell.execute_reply": "2023-05-28T12:49:07.990744Z",
     "shell.execute_reply.started": "2023-05-28T12:49:07.968308Z"
    },
    "tags": []
   },
   "outputs": [
    {
     "ename": "NameError",
     "evalue": "name 'train_test_split' is not defined",
     "output_type": "error",
     "traceback": [
      "\u001b[0;31m---------------------------------------------------------------------------\u001b[0m",
      "\u001b[0;31mNameError\u001b[0m                                 Traceback (most recent call last)",
      "Input \u001b[0;32mIn [2]\u001b[0m, in \u001b[0;36m<cell line: 1>\u001b[0;34m()\u001b[0m\n\u001b[0;32m----> 1\u001b[0m X_train, X_test, y_train, y_test,indices_train,indices_test \u001b[38;5;241m=\u001b[39m \u001b[43mtrain_test_split\u001b[49m(features, \n\u001b[1;32m      2\u001b[0m                                                                labels, \n\u001b[1;32m      3\u001b[0m                                                                df\u001b[38;5;241m.\u001b[39mindex, test_size\u001b[38;5;241m=\u001b[39m\u001b[38;5;241m0.25\u001b[39m, \n\u001b[1;32m      4\u001b[0m                                                                random_state\u001b[38;5;241m=\u001b[39m\u001b[38;5;241m42\u001b[39m)\n\u001b[1;32m      5\u001b[0m model \u001b[38;5;241m=\u001b[39m MultinomialNB()\n\u001b[1;32m      6\u001b[0m model\u001b[38;5;241m.\u001b[39mfit(X_train, y_train)\n",
      "\u001b[0;31mNameError\u001b[0m: name 'train_test_split' is not defined"
     ]
    }
   ],
   "source": [
    "X_train, X_test, y_train, y_test,indices_train,indices_test = train_test_split(features, \n",
    "                                                               labels, \n",
    "                                                               df.index, test_size=0.25, \n",
    "                                                               random_state=42)\n",
    "model = MultinomialNB()\n",
    "model.fit(X_train, y_train)\n",
    "y_pred = model.predict(X_test)"
   ]
  },
  {
   "cell_type": "code",
   "execution_count": 17,
   "id": "67938a0a-160f-48e0-a805-4b156f682911",
   "metadata": {
    "execution": {
     "iopub.execute_input": "2023-05-28T12:42:50.924732Z",
     "iopub.status.busy": "2023-05-28T12:42:50.924061Z",
     "iopub.status.idle": "2023-05-28T12:42:50.982884Z",
     "shell.execute_reply": "2023-05-28T12:42:50.981848Z",
     "shell.execute_reply.started": "2023-05-28T12:42:50.924671Z"
    },
    "tags": []
   },
   "outputs": [
    {
     "name": "stdout",
     "output_type": "stream",
     "text": [
      "CLASSIFICATION METRICS\n",
      "\n",
      "              precision    recall  f1-score   support\n",
      "\n",
      "           1       0.51      0.59      0.55      4231\n",
      "           2       0.38      0.40      0.39      4267\n",
      "           3       0.41      0.35      0.38      4281\n",
      "           4       0.51      0.35      0.41      4387\n",
      "           5       0.57      0.72      0.64      4157\n",
      "\n",
      "    accuracy                           0.48     21323\n",
      "   macro avg       0.48      0.48      0.47     21323\n",
      "weighted avg       0.48      0.48      0.47     21323\n",
      "\n"
     ]
    }
   ],
   "source": [
    "# classification report\n",
    "report = metrics.classification_report(y_test, y_pred, target_names= df['rating'].unique())\n",
    "\n",
    "# write the classification report to a TXT file\n",
    "with open('../out/classification_report.txt', 'w') as file:\n",
    "    file.write(report)\n",
    "\n",
    "# print the classification report\n",
    "print('CLASSIFICATION METRICS\\n')\n",
    "print(report)"
   ]
  },
  {
   "cell_type": "code",
   "execution_count": 18,
   "id": "b0f555c5-98d2-4b5a-8097-71109bc8ccf3",
   "metadata": {
    "execution": {
     "iopub.execute_input": "2023-05-28T12:42:53.141737Z",
     "iopub.status.busy": "2023-05-28T12:42:53.140958Z",
     "iopub.status.idle": "2023-05-28T12:42:53.152162Z",
     "shell.execute_reply": "2023-05-28T12:42:53.150751Z",
     "shell.execute_reply.started": "2023-05-28T12:42:53.141676Z"
    },
    "tags": []
   },
   "outputs": [],
   "source": [
    "from  matplotlib.colors import LinearSegmentedColormap\n",
    "c = [\"#edfbfe\", \"#aee0f5\",\"#6bcae8\",\"#01a0d6\",\"#1b91b8\",\"#166c8c\",\"#0d4960\"]\n",
    "v = [0,.15,.4,.5,0.6,.9,1.]\n",
    "l = list(zip(v,c))\n",
    "cmap=LinearSegmentedColormap.from_list('rg',l, N=256)"
   ]
  },
  {
   "cell_type": "code",
   "execution_count": 19,
   "id": "62048f83-f3ce-4da3-b712-477d1ae5cc75",
   "metadata": {
    "execution": {
     "iopub.execute_input": "2023-05-28T12:42:59.017446Z",
     "iopub.status.busy": "2023-05-28T12:42:59.016599Z",
     "iopub.status.idle": "2023-05-28T12:42:59.492512Z",
     "shell.execute_reply": "2023-05-28T12:42:59.491480Z",
     "shell.execute_reply.started": "2023-05-28T12:42:59.017387Z"
    },
    "tags": []
   },
   "outputs": [
    {
     "data": {
      "image/png": "[encoded data removed]",
      "text/plain": [
       "<Figure size 432x360 with 2 Axes>"
      ]
     },
     "metadata": {
      "needs_background": "light"
     },
     "output_type": "display_data"
    }
   ],
   "source": [
    "conf_mat = confusion_matrix(y_test, y_pred)\n",
    "fig, ax = plt.subplots(figsize=(6,5))\n",
    "sns.heatmap(conf_mat, annot=True, cmap = cmap, fmt='d',\n",
    "            xticklabels=category_id_df.rating.values, \n",
    "            yticklabels=category_id_df.rating.values)\n",
    "plt.ylabel('True class', fontsize = 10, weight = \"bold\")\n",
    "plt.xlabel('Predicted class', fontsize = 10, weight = \"bold\")\n",
    "plt.title(\"Confusion matrix\", weight = \"bold\", fontsize=15)\n",
    "plt.tight_layout()  # adjust layout to prevent labels from being cut off\n",
    "plt.savefig('../out/confusion_matrix.png', dpi=300, bbox_inches='tight')\n",
    "plt.show()"
   ]
  },
  {
   "cell_type": "markdown",
   "id": "a6d4b01b-98fa-46b2-bd68-c6a1966beb5e",
   "metadata": {},
   "source": [
    "## Prediction of new reviews from TrustPilot"
   ]
  },
  {
   "cell_type": "code",
   "execution_count": 1,
   "id": "d929dda2-b499-4cd4-95f1-b4dfaefc94d1",
   "metadata": {
    "execution": {
     "iopub.execute_input": "2023-05-28T12:48:31.782020Z",
     "iopub.status.busy": "2023-05-28T12:48:31.781208Z",
     "iopub.status.idle": "2023-05-28T12:48:32.181780Z",
     "shell.execute_reply": "2023-05-28T12:48:32.180724Z",
     "shell.execute_reply.started": "2023-05-28T12:48:31.781962Z"
    },
    "tags": []
   },
   "outputs": [
    {
     "ename": "NameError",
     "evalue": "name 'train_test_split' is not defined",
     "output_type": "error",
     "traceback": [
      "\u001b[0;31m---------------------------------------------------------------------------\u001b[0m",
      "\u001b[0;31mNameError\u001b[0m                                 Traceback (most recent call last)",
      "Input \u001b[0;32mIn [1]\u001b[0m, in \u001b[0;36m<cell line: 1>\u001b[0;34m()\u001b[0m\n\u001b[0;32m----> 1\u001b[0m X_train, X_test, y_train, y_test \u001b[38;5;241m=\u001b[39m \u001b[43mtrain_test_split\u001b[49m(features, labels, \n\u001b[1;32m      2\u001b[0m                                                     test_size\u001b[38;5;241m=\u001b[39m\u001b[38;5;241m0.25\u001b[39m,\n\u001b[1;32m      3\u001b[0m                                                     random_state \u001b[38;5;241m=\u001b[39m \u001b[38;5;241m42\u001b[39m)\n",
      "\u001b[0;31mNameError\u001b[0m: name 'train_test_split' is not defined"
     ]
    }
   ],
   "source": [
    "X_train, X_test, y_train, y_test = train_test_split(features, labels, \n",
    "                                                    test_size=0.25,\n",
    "                                                    random_state = 42)"
   ]
  },
  {
   "cell_type": "code",
   "execution_count": null,
   "id": "8c10e53c-42d2-437c-8126-b25d0874160f",
   "metadata": {
    "tags": []
   },
   "outputs": [],
   "source": [
    "tfidf = TfidfVectorizer(sublinear_tf=True, min_df= 5,\n",
    "                        ngram_range=(1, 2), encoding = 'utf-16')\n",
    "fitted_vectorizer = tfidf.fit(X_train.astype('str'))\n",
    "tfidf_vectorizer_vectors = fitted_vectorizer.transform(X_train.astype('str'))\n",
    "model = MultinomialNB().fit(tfidf_vectorizer_vectors, y_train)"
   ]
  },
  {
   "cell_type": "code",
   "execution_count": 26,
   "id": "40297f14-e803-4ef4-ab6f-8bf62da7a82a",
   "metadata": {
    "execution": {
     "iopub.execute_input": "2023-05-28T11:22:35.657606Z",
     "iopub.status.busy": "2023-05-28T11:22:35.656480Z",
     "iopub.status.idle": "2023-05-28T11:22:35.669382Z",
     "shell.execute_reply": "2023-05-28T11:22:35.668381Z",
     "shell.execute_reply.started": "2023-05-28T11:22:35.657531Z"
    },
    "tags": []
   },
   "outputs": [
    {
     "name": "stdout",
     "output_type": "stream",
     "text": [
      "The model predicted this 2-star review to be a ['1']-star review\n"
     ]
    }
   ],
   "source": [
    "# This was a 2-star review\n",
    "rev = \"\"\"Jeg fik aldrig besked om at pakken kunne hentes.\n",
    "Kontakt til Postnord er særdeles utilfredsstillende. Kan ikke kontaktes på telefon. Ved chat oplevede jeg to gange ca. 75 min ventetid, og de fik ikke løst problemet.\n",
    "Jeg endte med at kontakte Shell tanken for at høre om de måtte have pakken liggende. Og det havde de, den var bare ikke blevet registreret. Jeg hentede derefter pakken.\n",
    "Mvh Claus\"\"\"\n",
    "\n",
    "print(f\"The model predicted this 2-star review to be a {model.predict(fitted_vectorizer.transform([rev]))}-star review\")"
   ]
  },
  {
   "cell_type": "code",
   "execution_count": 27,
   "id": "3ec2073b-c8e7-43a7-9694-62217f91e1e9",
   "metadata": {
    "execution": {
     "iopub.execute_input": "2023-05-28T11:22:39.457837Z",
     "iopub.status.busy": "2023-05-28T11:22:39.456989Z",
     "iopub.status.idle": "2023-05-28T11:22:39.469047Z",
     "shell.execute_reply": "2023-05-28T11:22:39.467858Z",
     "shell.execute_reply.started": "2023-05-28T11:22:39.457758Z"
    },
    "tags": []
   },
   "outputs": [
    {
     "name": "stdout",
     "output_type": "stream",
     "text": [
      "The model predicted this 5-star review to be ['1'] stars\n"
     ]
    }
   ],
   "source": [
    "# This was a 5-star review\n",
    "rev = \"\"\"Jeg fik en sms om at min pakke var afleveret i postkassen, men der var ingen pakke der. Prøvede så at ringe til post nord, det er bare så ringe at komme igennem til jer. Så tog jeg fat i vores søde post dame, og så fiskede hun lige sagen og jeg fik pakken et par dage efter. 💪\"\"\"\n",
    "\n",
    "print(f\"The model predicted this 5-star review to be {model.predict(fitted_vectorizer.transform([rev]))} stars\")"
   ]
  },
  {
   "cell_type": "code",
   "execution_count": 28,
   "id": "c0187416-adf0-413b-a3d6-8ab12650591a",
   "metadata": {
    "execution": {
     "iopub.execute_input": "2023-05-28T11:22:41.560566Z",
     "iopub.status.busy": "2023-05-28T11:22:41.559639Z",
     "iopub.status.idle": "2023-05-28T11:22:41.572001Z",
     "shell.execute_reply": "2023-05-28T11:22:41.570863Z",
     "shell.execute_reply.started": "2023-05-28T11:22:41.560505Z"
    },
    "tags": []
   },
   "outputs": [
    {
     "name": "stdout",
     "output_type": "stream",
     "text": [
      "The model predicted this 5-star review to be ['4'] stars\n"
     ]
    }
   ],
   "source": [
    "# This was a 5-star review\n",
    "rev = \"\"\"JEG FANDT MIN PAKKE I MIT SKUR DET VAR DEJLIGT SÅ SKULLE JEG IKKE HENTE DEN ET ANDET STED DET VAR JEG GLAD FOR MEN HAR IKKE PAKKET DEN UD ENDNU DA JEG SKAL HAVE HJÆLP TIL AT FÅ DEN TILSLUTTET TAK MED VENLIG HILSEN SONJA KNUDSEN ÅBYBRO.\"\"\"\n",
    "\n",
    "print(f\"The model predicted this 5-star review to be {model.predict(fitted_vectorizer.transform([rev]))} stars\")"
   ]
  },
  {
   "cell_type": "code",
   "execution_count": 29,
   "id": "f4f320fc-623b-428b-b594-236a147ce25e",
   "metadata": {
    "execution": {
     "iopub.execute_input": "2023-05-28T11:22:44.277574Z",
     "iopub.status.busy": "2023-05-28T11:22:44.276727Z",
     "iopub.status.idle": "2023-05-28T11:22:44.291003Z",
     "shell.execute_reply": "2023-05-28T11:22:44.289525Z",
     "shell.execute_reply.started": "2023-05-28T11:22:44.277515Z"
    },
    "tags": []
   },
   "outputs": [
    {
     "name": "stdout",
     "output_type": "stream",
     "text": [
      "The model predicted this 3-star review to be ['2'] stars\n"
     ]
    }
   ],
   "source": [
    "# This was a 3-star review\n",
    "rev = \"\"\"Altid hurtig, men jeg tror ikke buddene forstår Modtager Flex. Jeg er tilmeldt, men sidst ringede buddet fordi jeg ikke var hjemme (heldigvis, så jeg kunne sige at jeg var tilmeldt det og at han kunne sætte pakken) \n",
    "Næste gang tog buddet et billede af pakken ved døren, men har så taget den med igen, hvilket bare gav forvirring for mig om hvorvidt den var blevet sat der eller ej.\n",
    "\n",
    "Af en eller anden grund bliver pakkerne også oftest lagt i en pakkeshop over 3 km væk, selvom der er mere end en pakkeshop tættere på. Det er virkelig irriterende, især når pakken i første omgang bare skulle have været sat ved døren\"\"\"\n",
    "\n",
    "print(f\"The model predicted this 3-star review to be {model.predict(fitted_vectorizer.transform([rev]))} stars\")"
   ]
  },
  {
   "cell_type": "code",
   "execution_count": null,
   "id": "22a98bca-0c10-4808-9322-85f41f80b02a",
   "metadata": {},
   "outputs": [],
   "source": []
  }
 ],
 "metadata": {
  "kernelspec": {
   "display_name": "Python 3 ",
   "language": "python",
   "name": "python3"
  },
  "language_info": {
   "codemirror_mode": {
    "name": "ipython",
    "version": 3
   },
   "file_extension": ".py",
   "mimetype": "text/x-python",
   "name": "python",
   "nbconvert_exporter": "python",
   "pygments_lexer": "ipython3",
   "version": "3.9.10"
  }
 },
 "nbformat": 4,
 "nbformat_minor": 5
}
