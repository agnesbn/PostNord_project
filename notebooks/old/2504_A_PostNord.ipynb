{
 "cells": [
  {
   "cell_type": "markdown",
   "id": "17a3768e-d188-4bec-b01b-2c80a1166295",
   "metadata": {},
   "source": [
    "# PostNord Trustpilot Reviews"
   ]
  },
  {
   "cell_type": "markdown",
   "id": "7db23eca-72b7-42bc-80ea-da772a117b9b",
   "metadata": {},
   "source": [
    "## Structure of the code"
   ]
  },
  {
   "cell_type": "markdown",
   "id": "6bed6957-6cce-4b61-9769-6b98f6c98314",
   "metadata": {},
   "source": [
    "1. Combine header and text column\n",
    "2. Anonymisation\n",
    "    - Remove names\n",
    "    - Remove dates\n",
    "    - Create unique ids for each person\n",
    "    - Use review and url to remove repeated comments\n",
    "    - Remove urls\n",
    "3. Cleaning and processing\n",
    "    - If a comment was only punctuation => remove that row\n",
    "4. Balance data (around 17,000 per category)\n",
    "    - Randomise data (in categories)\n",
    "    - Keep the first 17,000 of each category"
   ]
  },
  {
   "cell_type": "markdown",
   "id": "b9778e0c-72ad-48e9-baa3-6033d67aaa39",
   "metadata": {},
   "source": [
    "## Initial code"
   ]
  },
  {
   "cell_type": "code",
   "execution_count": 254,
   "id": "aa4fa649-c7ce-41c2-a254-b572e44a51a7",
   "metadata": {
    "execution": {
     "iopub.execute_input": "2023-04-25T11:10:42.971296Z",
     "iopub.status.busy": "2023-04-25T11:10:42.970475Z",
     "iopub.status.idle": "2023-04-25T11:10:42.977682Z",
     "shell.execute_reply": "2023-04-25T11:10:42.976222Z",
     "shell.execute_reply.started": "2023-04-25T11:10:42.971239Z"
    },
    "tags": []
   },
   "outputs": [],
   "source": [
    "#!pip install -U spacy\n",
    "#!python -m spacy download da_core_news_md\n",
    "#!pip install scikit-learn nltk tensorflow"
   ]
  },
  {
   "cell_type": "code",
   "execution_count": 379,
   "id": "eaa1bf3b-46cb-4013-adb1-ae8faa15591e",
   "metadata": {
    "execution": {
     "iopub.execute_input": "2023-04-25T11:50:01.555466Z",
     "iopub.status.busy": "2023-04-25T11:50:01.554726Z",
     "iopub.status.idle": "2023-04-25T11:50:01.568803Z",
     "shell.execute_reply": "2023-04-25T11:50:01.567506Z",
     "shell.execute_reply.started": "2023-04-25T11:50:01.555417Z"
    },
    "tags": []
   },
   "outputs": [
    {
     "name": "stderr",
     "output_type": "stream",
     "text": [
      "[nltk_data] Downloading package punkt to /home/ucloud/nltk_data...\n",
      "[nltk_data]   Package punkt is already up-to-date!\n"
     ]
    }
   ],
   "source": [
    "# system tools\n",
    "import os\n",
    "import sys\n",
    "import random\n",
    "import spacy\n",
    "import da_core_news_md\n",
    "import requests as req\n",
    "\n",
    "# simple text processing tools\n",
    "import re\n",
    "import tqdm\n",
    "import unicodedata\n",
    "from bs4 import BeautifulSoup\n",
    "import nltk\n",
    "nltk.download('punkt')\n",
    "\n",
    "# data wranling\n",
    "import pandas as pd\n",
    "import numpy as np\n",
    "\n",
    "# tensorflow\n",
    "from tensorflow.keras.models import Sequential\n",
    "from tensorflow.keras.layers import (Dense,\n",
    "                                     Flatten,\n",
    "                                     Conv1D,\n",
    "                                     MaxPooling1D,\n",
    "                                     Embedding,\n",
    "                                     LSTM,\n",
    "                                     Dropout)\n",
    "from tensorflow.keras.preprocessing.text import Tokenizer\n",
    "from tensorflow.keras.preprocessing import sequence\n",
    "from tensorflow.keras.regularizers import L2\n",
    "import tensorflow as tf\n",
    "from tensorflow.keras.preprocessing.sequence import pad_sequences\n",
    "\n",
    "import pandas as pd\n",
    "import tensorflow as tf\n",
    "from sklearn.model_selection import train_test_split\n",
    "from sklearn.feature_extraction.text import TfidfVectorizer, CountVectorizer\n",
    "from sklearn.naive_bayes import MultinomialNB\n",
    "\n",
    "from tensorflow.keras.layers import Dense, Input, Dropout\n",
    "from tensorflow.keras.models import Model\n",
    "from sklearn.linear_model import LogisticRegression\n",
    "\n",
    "\n",
    "\n",
    "# scikit-learn\n",
    "from sklearn.model_selection import train_test_split\n",
    "from sklearn.metrics import (confusion_matrix, classification_report)\n",
    "from sklearn.preprocessing import LabelBinarizer, LabelEncoder\n",
    "\n",
    "# visualisations \n",
    "import matplotlib.pyplot as plt"
   ]
  },
  {
   "cell_type": "code",
   "execution_count": 256,
   "id": "c47a4f14-1734-4775-bc0c-8615962dac45",
   "metadata": {
    "execution": {
     "iopub.execute_input": "2023-04-25T11:10:44.274071Z",
     "iopub.status.busy": "2023-04-25T11:10:44.273263Z",
     "iopub.status.idle": "2023-04-25T11:10:44.281994Z",
     "shell.execute_reply": "2023-04-25T11:10:44.280275Z",
     "shell.execute_reply.started": "2023-04-25T11:10:44.274013Z"
    },
    "tags": []
   },
   "outputs": [],
   "source": [
    "# define path\n",
    "path = os.path.join(\"..\", \"in\", \"postnord_trustpilot_reviews.csv\")"
   ]
  },
  {
   "cell_type": "code",
   "execution_count": 257,
   "id": "70b6039b-7bd4-4fd9-b31c-b97efa39e3ad",
   "metadata": {
    "execution": {
     "iopub.execute_input": "2023-04-25T11:10:45.018431Z",
     "iopub.status.busy": "2023-04-25T11:10:45.017570Z",
     "iopub.status.idle": "2023-04-25T11:10:46.916262Z",
     "shell.execute_reply": "2023-04-25T11:10:46.915325Z",
     "shell.execute_reply.started": "2023-04-25T11:10:45.018365Z"
    },
    "tags": []
   },
   "outputs": [],
   "source": [
    "# read csv\n",
    "df = pd.read_csv(path)\n",
    "# fill empty columns with white space\n",
    "df.fillna(\" \", inplace = True)\n",
    "# rename columns\n",
    "df.columns = ['order', 'name', 'date', 'rating', 'text', 'profile_link', 'review_count', 'header']"
   ]
  },
  {
   "cell_type": "code",
   "execution_count": 258,
   "id": "9c6c5515-cc7e-440f-afaf-3dc52c3e43e7",
   "metadata": {
    "execution": {
     "iopub.execute_input": "2023-04-25T11:10:46.989608Z",
     "iopub.status.busy": "2023-04-25T11:10:46.989349Z",
     "iopub.status.idle": "2023-04-25T11:10:47.073815Z",
     "shell.execute_reply": "2023-04-25T11:10:47.072871Z",
     "shell.execute_reply.started": "2023-04-25T11:10:46.989585Z"
    },
    "tags": []
   },
   "outputs": [],
   "source": [
    "# make deep copy of the 20 first lines in the data\n",
    "sm = df.copy(deep = True)"
   ]
  },
  {
   "cell_type": "markdown",
   "id": "a73d0fc1-49f5-4754-9928-0cbd3e10e4da",
   "metadata": {},
   "source": [
    "## Combination of header and text column"
   ]
  },
  {
   "cell_type": "markdown",
   "id": "e223f7fd-f7d7-4c13-baa6-1b730b45962b",
   "metadata": {},
   "source": [
    "Hvis headeren er identisk med teksten eller hvis headerens længde er identisk med det tilsvarende vindue i teksten\n",
    "    \n",
    "```df['review'] = df['text']```\n",
    "\n",
    "Ellers: `df['review'] = df['header'] + \" \" + df['text']`\n",
    "\n",
    "_Kan også omvendes_"
   ]
  },
  {
   "cell_type": "code",
   "execution_count": 259,
   "id": "bc17e9e6-ffd8-49fe-a643-c9e1602dbfab",
   "metadata": {
    "execution": {
     "iopub.execute_input": "2023-04-25T11:10:49.182131Z",
     "iopub.status.busy": "2023-04-25T11:10:49.181362Z",
     "iopub.status.idle": "2023-04-25T11:10:49.359949Z",
     "shell.execute_reply": "2023-04-25T11:10:49.359045Z",
     "shell.execute_reply.started": "2023-04-25T11:10:49.182070Z"
    },
    "tags": []
   },
   "outputs": [],
   "source": [
    "# remove dots from the end of the header\n",
    "sm['header'] = sm['header'].str.replace('…', '', regex = False)"
   ]
  },
  {
   "cell_type": "code",
   "execution_count": 260,
   "id": "686a20ba-9004-474b-ad1e-4cfc59000214",
   "metadata": {
    "execution": {
     "iopub.execute_input": "2023-04-25T11:10:49.924898Z",
     "iopub.status.busy": "2023-04-25T11:10:49.924027Z",
     "iopub.status.idle": "2023-04-25T11:11:31.916605Z",
     "shell.execute_reply": "2023-04-25T11:11:31.914966Z",
     "shell.execute_reply.started": "2023-04-25T11:10:49.924839Z"
    },
    "tags": []
   },
   "outputs": [],
   "source": [
    "# create a list\n",
    "review = []\n",
    "\n",
    "# loop over the dataframe\n",
    "for index, row in sm.iterrows():\n",
    "    # txt is the text-column\n",
    "    txt = row[\"text\"]\n",
    "    # head is the header-column\n",
    "    head = row[\"header\"]\n",
    "    # search for the header text in the text-column\n",
    "    x = re.search(f\"^{re.escape(head)}\", txt)\n",
    "    # if the header text occurs in the text-column\n",
    "    if x:\n",
    "        # append the text column to the list\n",
    "        review.append(row['text'])\n",
    "    # otherwise...\n",
    "    else:\n",
    "        # append the header column and the text column to the list with a white space in between\n",
    "        review.append(row['header'] + \" \" + row['text'])"
   ]
  },
  {
   "cell_type": "code",
   "execution_count": 261,
   "id": "29287cba-f909-4383-b165-23248ad664ab",
   "metadata": {
    "execution": {
     "iopub.execute_input": "2023-04-25T11:12:56.885761Z",
     "iopub.status.busy": "2023-04-25T11:12:56.884886Z",
     "iopub.status.idle": "2023-04-25T11:12:56.951419Z",
     "shell.execute_reply": "2023-04-25T11:12:56.950420Z",
     "shell.execute_reply.started": "2023-04-25T11:12:56.885702Z"
    },
    "tags": []
   },
   "outputs": [],
   "source": [
    "# create a new review-column from the list\n",
    "sm['review'] = review"
   ]
  },
  {
   "cell_type": "markdown",
   "id": "360e6293-9969-4d9e-8134-e7c9a4f8383f",
   "metadata": {},
   "source": [
    "## Removal of duplicates"
   ]
  },
  {
   "cell_type": "code",
   "execution_count": 262,
   "id": "f8518878-da3c-4db4-8c40-acc108669d7f",
   "metadata": {
    "execution": {
     "iopub.execute_input": "2023-04-25T11:12:57.811161Z",
     "iopub.status.busy": "2023-04-25T11:12:57.810535Z",
     "iopub.status.idle": "2023-04-25T11:12:57.820648Z",
     "shell.execute_reply": "2023-04-25T11:12:57.819082Z",
     "shell.execute_reply.started": "2023-04-25T11:12:57.811115Z"
    },
    "tags": []
   },
   "outputs": [
    {
     "data": {
      "text/plain": [
       "399980"
      ]
     },
     "execution_count": 262,
     "metadata": {},
     "output_type": "execute_result"
    }
   ],
   "source": [
    "len(sm)"
   ]
  },
  {
   "cell_type": "code",
   "execution_count": 263,
   "id": "fc1ed3f9-544c-4b5c-bd1e-92901f156697",
   "metadata": {
    "execution": {
     "iopub.execute_input": "2023-04-25T11:12:58.657468Z",
     "iopub.status.busy": "2023-04-25T11:12:58.657054Z",
     "iopub.status.idle": "2023-04-25T11:12:59.169898Z",
     "shell.execute_reply": "2023-04-25T11:12:59.169129Z",
     "shell.execute_reply.started": "2023-04-25T11:12:58.657443Z"
    },
    "tags": []
   },
   "outputs": [],
   "source": [
    "sm = sm.drop_duplicates(subset=['profile_link', 'date', 'review'], keep='first')"
   ]
  },
  {
   "cell_type": "code",
   "execution_count": 264,
   "id": "20bc6e7a-30cf-49fc-baee-3f50b4d92200",
   "metadata": {
    "execution": {
     "iopub.execute_input": "2023-04-25T11:12:59.171162Z",
     "iopub.status.busy": "2023-04-25T11:12:59.170927Z",
     "iopub.status.idle": "2023-04-25T11:12:59.175983Z",
     "shell.execute_reply": "2023-04-25T11:12:59.175421Z",
     "shell.execute_reply.started": "2023-04-25T11:12:59.171140Z"
    },
    "tags": []
   },
   "outputs": [
    {
     "data": {
      "text/plain": [
       "399537"
      ]
     },
     "execution_count": 264,
     "metadata": {},
     "output_type": "execute_result"
    }
   ],
   "source": [
    "len(sm)"
   ]
  },
  {
   "cell_type": "markdown",
   "id": "1845552d-a2dd-4e76-8aec-d5febdd6c3cd",
   "metadata": {},
   "source": [
    "## Anonymisation"
   ]
  },
  {
   "cell_type": "code",
   "execution_count": 265,
   "id": "c8ecd644-f6f2-41f8-bcc0-dabe27b40513",
   "metadata": {
    "execution": {
     "iopub.execute_input": "2023-04-25T11:13:00.795956Z",
     "iopub.status.busy": "2023-04-25T11:13:00.795706Z",
     "iopub.status.idle": "2023-04-25T11:13:00.831930Z",
     "shell.execute_reply": "2023-04-25T11:13:00.831059Z",
     "shell.execute_reply.started": "2023-04-25T11:13:00.795933Z"
    },
    "tags": []
   },
   "outputs": [],
   "source": [
    "sm = sm.drop(columns=['name', 'date', 'profile_link', 'header', 'text', 'order', 'review_count'])"
   ]
  },
  {
   "cell_type": "code",
   "execution_count": 266,
   "id": "2d544087-1037-49bc-a88f-87ce46727170",
   "metadata": {
    "execution": {
     "iopub.execute_input": "2023-04-25T11:13:03.375299Z",
     "iopub.status.busy": "2023-04-25T11:13:03.374529Z",
     "iopub.status.idle": "2023-04-25T11:13:03.391198Z",
     "shell.execute_reply": "2023-04-25T11:13:03.389613Z",
     "shell.execute_reply.started": "2023-04-25T11:13:03.375244Z"
    },
    "tags": []
   },
   "outputs": [
    {
     "data": {
      "text/html": [
       "<div>\n",
       "<style scoped>\n",
       "    .dataframe tbody tr th:only-of-type {\n",
       "        vertical-align: middle;\n",
       "    }\n",
       "\n",
       "    .dataframe tbody tr th {\n",
       "        vertical-align: top;\n",
       "    }\n",
       "\n",
       "    .dataframe thead th {\n",
       "        text-align: right;\n",
       "    }\n",
       "</style>\n",
       "<table border=\"1\" class=\"dataframe\">\n",
       "  <thead>\n",
       "    <tr style=\"text-align: right;\">\n",
       "      <th></th>\n",
       "      <th>rating</th>\n",
       "      <th>review</th>\n",
       "    </tr>\n",
       "  </thead>\n",
       "  <tbody>\n",
       "    <tr>\n",
       "      <th>0</th>\n",
       "      <td>5</td>\n",
       "      <td>Hurtig levering.</td>\n",
       "    </tr>\n",
       "    <tr>\n",
       "      <th>1</th>\n",
       "      <td>5</td>\n",
       "      <td>Altid pakker til tiden</td>\n",
       "    </tr>\n",
       "    <tr>\n",
       "      <th>2</th>\n",
       "      <td>5</td>\n",
       "      <td>Som sædvanlig er min pakke leveret på bedste m...</td>\n",
       "    </tr>\n",
       "    <tr>\n",
       "      <th>3</th>\n",
       "      <td>5</td>\n",
       "      <td>Hurtig behandling Alt fungerede, hurtig leveri...</td>\n",
       "    </tr>\n",
       "    <tr>\n",
       "      <th>4</th>\n",
       "      <td>5</td>\n",
       "      <td>Forbilledligt Pakkepost, når den er bedst!</td>\n",
       "    </tr>\n",
       "  </tbody>\n",
       "</table>\n",
       "</div>"
      ],
      "text/plain": [
       "   rating                                             review\n",
       "0       5                                 Hurtig levering.  \n",
       "1       5                           Altid pakker til tiden  \n",
       "2       5  Som sædvanlig er min pakke leveret på bedste m...\n",
       "3       5  Hurtig behandling Alt fungerede, hurtig leveri...\n",
       "4       5         Forbilledligt Pakkepost, når den er bedst!"
      ]
     },
     "execution_count": 266,
     "metadata": {},
     "output_type": "execute_result"
    }
   ],
   "source": [
    "sm.head()"
   ]
  },
  {
   "cell_type": "markdown",
   "id": "d38424af-9391-4bc3-83f1-be97c150d6ee",
   "metadata": {},
   "source": [
    "## Cleaning and processing"
   ]
  },
  {
   "cell_type": "code",
   "execution_count": 267,
   "id": "0a9f3256-9d16-4088-8501-52e03f420099",
   "metadata": {
    "execution": {
     "iopub.execute_input": "2023-04-25T11:13:09.161404Z",
     "iopub.status.busy": "2023-04-25T11:13:09.160570Z",
     "iopub.status.idle": "2023-04-25T11:13:12.852607Z",
     "shell.execute_reply": "2023-04-25T11:13:12.851814Z",
     "shell.execute_reply.started": "2023-04-25T11:13:09.161320Z"
    },
    "tags": []
   },
   "outputs": [],
   "source": [
    "clean_review = []\n",
    "\n",
    "for text in sm['review'].tolist():\n",
    "    text = re.sub('[^\\w\\s]+', '', text)\n",
    "    text = re.sub(' +', ' ', text)\n",
    "    text = text.strip()\n",
    "    text = text.lower()\n",
    "    clean_review.append(text)"
   ]
  },
  {
   "cell_type": "code",
   "execution_count": 268,
   "id": "2f374110-0c11-4a91-adad-8f43267852dd",
   "metadata": {
    "execution": {
     "iopub.execute_input": "2023-04-25T11:13:14.395983Z",
     "iopub.status.busy": "2023-04-25T11:13:14.395532Z",
     "iopub.status.idle": "2023-04-25T11:13:14.439443Z",
     "shell.execute_reply": "2023-04-25T11:13:14.438496Z",
     "shell.execute_reply.started": "2023-04-25T11:13:14.395959Z"
    },
    "tags": []
   },
   "outputs": [],
   "source": [
    "sm['review'] = clean_review"
   ]
  },
  {
   "cell_type": "code",
   "execution_count": 269,
   "id": "88fa7dbe-7acd-4fcb-83ca-eb4210b26bb0",
   "metadata": {
    "execution": {
     "iopub.execute_input": "2023-04-25T11:13:14.441204Z",
     "iopub.status.busy": "2023-04-25T11:13:14.440978Z",
     "iopub.status.idle": "2023-04-25T11:13:14.623786Z",
     "shell.execute_reply": "2023-04-25T11:13:14.622673Z",
     "shell.execute_reply.started": "2023-04-25T11:13:14.441185Z"
    },
    "tags": []
   },
   "outputs": [
    {
     "data": {
      "text/html": [
       "<div>\n",
       "<style scoped>\n",
       "    .dataframe tbody tr th:only-of-type {\n",
       "        vertical-align: middle;\n",
       "    }\n",
       "\n",
       "    .dataframe tbody tr th {\n",
       "        vertical-align: top;\n",
       "    }\n",
       "\n",
       "    .dataframe thead th {\n",
       "        text-align: right;\n",
       "    }\n",
       "</style>\n",
       "<table border=\"1\" class=\"dataframe\">\n",
       "  <thead>\n",
       "    <tr style=\"text-align: right;\">\n",
       "      <th></th>\n",
       "      <th>rating</th>\n",
       "      <th>review</th>\n",
       "    </tr>\n",
       "  </thead>\n",
       "  <tbody>\n",
       "    <tr>\n",
       "      <th>0</th>\n",
       "      <td>5</td>\n",
       "      <td>hurtig levering</td>\n",
       "    </tr>\n",
       "    <tr>\n",
       "      <th>1</th>\n",
       "      <td>5</td>\n",
       "      <td>altid pakker til tiden</td>\n",
       "    </tr>\n",
       "    <tr>\n",
       "      <th>2</th>\n",
       "      <td>5</td>\n",
       "      <td>som sædvanlig er min pakke leveret på bedste m...</td>\n",
       "    </tr>\n",
       "    <tr>\n",
       "      <th>3</th>\n",
       "      <td>5</td>\n",
       "      <td>hurtig behandling alt fungerede hurtig leverin...</td>\n",
       "    </tr>\n",
       "    <tr>\n",
       "      <th>4</th>\n",
       "      <td>5</td>\n",
       "      <td>forbilledligt pakkepost når den er bedst</td>\n",
       "    </tr>\n",
       "  </tbody>\n",
       "</table>\n",
       "</div>"
      ],
      "text/plain": [
       "   rating                                             review\n",
       "0       5                                    hurtig levering\n",
       "1       5                             altid pakker til tiden\n",
       "2       5  som sædvanlig er min pakke leveret på bedste m...\n",
       "3       5  hurtig behandling alt fungerede hurtig leverin...\n",
       "4       5           forbilledligt pakkepost når den er bedst"
      ]
     },
     "execution_count": 269,
     "metadata": {},
     "output_type": "execute_result"
    }
   ],
   "source": [
    "sm.head()"
   ]
  },
  {
   "cell_type": "code",
   "execution_count": 270,
   "id": "2da351cb-fec5-4bcc-b33d-be0453aa0cc4",
   "metadata": {
    "execution": {
     "iopub.execute_input": "2023-04-25T11:13:17.552108Z",
     "iopub.status.busy": "2023-04-25T11:13:17.551779Z",
     "iopub.status.idle": "2023-04-25T11:13:17.664961Z",
     "shell.execute_reply": "2023-04-25T11:13:17.664063Z",
     "shell.execute_reply.started": "2023-04-25T11:13:17.552085Z"
    },
    "tags": []
   },
   "outputs": [
    {
     "name": "stdout",
     "output_type": "stream",
     "text": [
      "# rows before removing empty rows:  399537\n",
      "# rows after removing empty rows:  398866\n"
     ]
    }
   ],
   "source": [
    "sm['review'].replace('', np.nan, inplace=True)\n",
    "print(\"# rows before removing empty rows: \", len(sm))\n",
    "sm.dropna(subset=['review'], inplace=True)\n",
    "print(\"# rows after removing empty rows: \", len(sm))"
   ]
  },
  {
   "cell_type": "code",
   "execution_count": 271,
   "id": "d8dbf30c-3104-41d5-9cb5-ee71d2b9e48c",
   "metadata": {
    "execution": {
     "iopub.execute_input": "2023-04-25T11:13:33.209210Z",
     "iopub.status.busy": "2023-04-25T11:13:33.208707Z",
     "iopub.status.idle": "2023-04-25T11:13:33.558252Z",
     "shell.execute_reply": "2023-04-25T11:13:33.556786Z",
     "shell.execute_reply.started": "2023-04-25T11:13:33.209181Z"
    },
    "tags": []
   },
   "outputs": [],
   "source": [
    "# removal of stopwords\n",
    "url = \"https://gist.githubusercontent.com/berteltorp/0cf8a0c7afea7f25ed754f24cfc2467b/raw/fa34ef448aff6adbb4b6bab9bda62a8b0f1ee597/stopord.txt\"\n",
    "res = req.get(url)\n",
    "\n",
    "txt_path = os.path.join(\"..\", \"in\", \"stopwords.txt\")\n",
    "\n",
    "file = open(txt_path, \"w\")\n",
    "file.write(res.text)\n",
    "file.close()"
   ]
  },
  {
   "cell_type": "code",
   "execution_count": 272,
   "id": "4c30c4ec-72bf-47f3-b2e4-169caf0ec6a0",
   "metadata": {
    "execution": {
     "iopub.execute_input": "2023-04-25T11:13:35.061240Z",
     "iopub.status.busy": "2023-04-25T11:13:35.060864Z",
     "iopub.status.idle": "2023-04-25T11:13:35.065847Z",
     "shell.execute_reply": "2023-04-25T11:13:35.065012Z",
     "shell.execute_reply.started": "2023-04-25T11:13:35.061214Z"
    },
    "tags": []
   },
   "outputs": [],
   "source": [
    "with open(txt_path) as f:\n",
    "    lines = f.readlines()\n",
    "f.close()"
   ]
  },
  {
   "cell_type": "code",
   "execution_count": 273,
   "id": "7318756b-e46d-4f5d-9977-91224028a5df",
   "metadata": {
    "execution": {
     "iopub.execute_input": "2023-04-25T11:13:36.932908Z",
     "iopub.status.busy": "2023-04-25T11:13:36.932038Z",
     "iopub.status.idle": "2023-04-25T11:13:36.941911Z",
     "shell.execute_reply": "2023-04-25T11:13:36.940727Z",
     "shell.execute_reply.started": "2023-04-25T11:13:36.932825Z"
    },
    "tags": []
   },
   "outputs": [],
   "source": [
    "stopwords = []\n",
    "\n",
    "for l in lines:\n",
    "    stopwords.append(l.strip())"
   ]
  },
  {
   "cell_type": "code",
   "execution_count": 274,
   "id": "94184630-7137-4a38-beb8-176f80527fbf",
   "metadata": {
    "execution": {
     "iopub.execute_input": "2023-04-25T11:14:01.603095Z",
     "iopub.status.busy": "2023-04-25T11:14:01.602087Z",
     "iopub.status.idle": "2023-04-25T11:14:01.609901Z",
     "shell.execute_reply": "2023-04-25T11:14:01.608462Z",
     "shell.execute_reply.started": "2023-04-25T11:14:01.603033Z"
    },
    "tags": []
   },
   "outputs": [],
   "source": [
    "good_words = [\"god\", \"godt\"]"
   ]
  },
  {
   "cell_type": "code",
   "execution_count": 275,
   "id": "5747b3ab-7256-4a50-8455-a8e1481cab66",
   "metadata": {
    "execution": {
     "iopub.execute_input": "2023-04-25T11:14:03.114653Z",
     "iopub.status.busy": "2023-04-25T11:14:03.114201Z",
     "iopub.status.idle": "2023-04-25T11:14:03.118992Z",
     "shell.execute_reply": "2023-04-25T11:14:03.118368Z",
     "shell.execute_reply.started": "2023-04-25T11:14:03.114629Z"
    },
    "tags": []
   },
   "outputs": [],
   "source": [
    "for word in list(stopwords):\n",
    "    if word in good_words:\n",
    "        stopwords.remove(word)"
   ]
  },
  {
   "cell_type": "code",
   "execution_count": 276,
   "id": "5255aa91-1cac-4852-9d02-9ebb30fbd81a",
   "metadata": {
    "execution": {
     "iopub.execute_input": "2023-04-25T11:14:12.139812Z",
     "iopub.status.busy": "2023-04-25T11:14:12.139087Z",
     "iopub.status.idle": "2023-04-25T11:14:28.743755Z",
     "shell.execute_reply": "2023-04-25T11:14:28.742070Z",
     "shell.execute_reply.started": "2023-04-25T11:14:12.139752Z"
    },
    "tags": []
   },
   "outputs": [],
   "source": [
    "sm['no_stopwords'] = sm['review'].apply(lambda x: ' '.join([word for word in x.split() if word not in (stopwords)]))"
   ]
  },
  {
   "cell_type": "code",
   "execution_count": 277,
   "id": "8dbe1308-3342-4087-9c06-12ff800da2f1",
   "metadata": {
    "execution": {
     "iopub.execute_input": "2023-04-25T11:14:37.491203Z",
     "iopub.status.busy": "2023-04-25T11:14:37.490704Z",
     "iopub.status.idle": "2023-04-25T11:14:37.502644Z",
     "shell.execute_reply": "2023-04-25T11:14:37.501731Z",
     "shell.execute_reply.started": "2023-04-25T11:14:37.491172Z"
    },
    "tags": []
   },
   "outputs": [
    {
     "data": {
      "text/html": [
       "<div>\n",
       "<style scoped>\n",
       "    .dataframe tbody tr th:only-of-type {\n",
       "        vertical-align: middle;\n",
       "    }\n",
       "\n",
       "    .dataframe tbody tr th {\n",
       "        vertical-align: top;\n",
       "    }\n",
       "\n",
       "    .dataframe thead th {\n",
       "        text-align: right;\n",
       "    }\n",
       "</style>\n",
       "<table border=\"1\" class=\"dataframe\">\n",
       "  <thead>\n",
       "    <tr style=\"text-align: right;\">\n",
       "      <th></th>\n",
       "      <th>rating</th>\n",
       "      <th>review</th>\n",
       "      <th>no_stopwords</th>\n",
       "    </tr>\n",
       "  </thead>\n",
       "  <tbody>\n",
       "    <tr>\n",
       "      <th>0</th>\n",
       "      <td>5</td>\n",
       "      <td>hurtig levering</td>\n",
       "      <td>hurtig levering</td>\n",
       "    </tr>\n",
       "    <tr>\n",
       "      <th>1</th>\n",
       "      <td>5</td>\n",
       "      <td>altid pakker til tiden</td>\n",
       "      <td>pakker tiden</td>\n",
       "    </tr>\n",
       "    <tr>\n",
       "      <th>2</th>\n",
       "      <td>5</td>\n",
       "      <td>som sædvanlig er min pakke leveret på bedste m...</td>\n",
       "      <td>sædvanlig pakke leveret bedste måde yderst til...</td>\n",
       "    </tr>\n",
       "    <tr>\n",
       "      <th>3</th>\n",
       "      <td>5</td>\n",
       "      <td>hurtig behandling alt fungerede hurtig leverin...</td>\n",
       "      <td>hurtig behandling fungerede hurtig leveringtak</td>\n",
       "    </tr>\n",
       "    <tr>\n",
       "      <th>4</th>\n",
       "      <td>5</td>\n",
       "      <td>forbilledligt pakkepost når den er bedst</td>\n",
       "      <td>forbilledligt pakkepost bedst</td>\n",
       "    </tr>\n",
       "  </tbody>\n",
       "</table>\n",
       "</div>"
      ],
      "text/plain": [
       "   rating                                             review  \\\n",
       "0       5                                    hurtig levering   \n",
       "1       5                             altid pakker til tiden   \n",
       "2       5  som sædvanlig er min pakke leveret på bedste m...   \n",
       "3       5  hurtig behandling alt fungerede hurtig leverin...   \n",
       "4       5           forbilledligt pakkepost når den er bedst   \n",
       "\n",
       "                                        no_stopwords  \n",
       "0                                    hurtig levering  \n",
       "1                                       pakker tiden  \n",
       "2  sædvanlig pakke leveret bedste måde yderst til...  \n",
       "3     hurtig behandling fungerede hurtig leveringtak  \n",
       "4                      forbilledligt pakkepost bedst  "
      ]
     },
     "execution_count": 277,
     "metadata": {},
     "output_type": "execute_result"
    }
   ],
   "source": [
    "sm.head()"
   ]
  },
  {
   "cell_type": "code",
   "execution_count": 278,
   "id": "f31f5a8d-5cca-4b1d-94d1-e9c7bd24b125",
   "metadata": {
    "execution": {
     "iopub.execute_input": "2023-04-25T11:14:39.532248Z",
     "iopub.status.busy": "2023-04-25T11:14:39.531459Z",
     "iopub.status.idle": "2023-04-25T11:14:39.665542Z",
     "shell.execute_reply": "2023-04-25T11:14:39.664702Z",
     "shell.execute_reply.started": "2023-04-25T11:14:39.532192Z"
    },
    "tags": []
   },
   "outputs": [
    {
     "name": "stdout",
     "output_type": "stream",
     "text": [
      "# rows before removing empty rows 398866\n",
      "# rows after removing empty rows:  397885\n"
     ]
    }
   ],
   "source": [
    "sm['no_stopwords'].replace('', np.nan, inplace=True)\n",
    "print(\"# rows before removing empty rows\", len(sm))\n",
    "sm.dropna(subset=['no_stopwords'], inplace=True)\n",
    "print(\"# rows after removing empty rows: \", len(sm))"
   ]
  },
  {
   "cell_type": "code",
   "execution_count": 279,
   "id": "fdbcd44f-8338-4bf0-bd3e-d43047caef47",
   "metadata": {
    "execution": {
     "iopub.execute_input": "2023-04-25T11:14:47.954234Z",
     "iopub.status.busy": "2023-04-25T11:14:47.953381Z",
     "iopub.status.idle": "2023-04-25T11:14:48.331983Z",
     "shell.execute_reply": "2023-04-25T11:14:48.331149Z",
     "shell.execute_reply.started": "2023-04-25T11:14:47.954171Z"
    },
    "tags": []
   },
   "outputs": [
    {
     "data": {
      "text/html": [
       "<div>\n",
       "<style scoped>\n",
       "    .dataframe tbody tr th:only-of-type {\n",
       "        vertical-align: middle;\n",
       "    }\n",
       "\n",
       "    .dataframe tbody tr th {\n",
       "        vertical-align: top;\n",
       "    }\n",
       "\n",
       "    .dataframe thead th {\n",
       "        text-align: right;\n",
       "    }\n",
       "</style>\n",
       "<table border=\"1\" class=\"dataframe\">\n",
       "  <thead>\n",
       "    <tr style=\"text-align: right;\">\n",
       "      <th></th>\n",
       "      <th>rating</th>\n",
       "      <th>review</th>\n",
       "      <th>no_stopwords</th>\n",
       "      <th>review_length</th>\n",
       "      <th>no_stopwords_length</th>\n",
       "    </tr>\n",
       "  </thead>\n",
       "  <tbody>\n",
       "    <tr>\n",
       "      <th>334133</th>\n",
       "      <td>5</td>\n",
       "      <td>å</td>\n",
       "      <td>å</td>\n",
       "      <td>1</td>\n",
       "      <td>1</td>\n",
       "    </tr>\n",
       "    <tr>\n",
       "      <th>244318</th>\n",
       "      <td>5</td>\n",
       "      <td>v</td>\n",
       "      <td>v</td>\n",
       "      <td>1</td>\n",
       "      <td>1</td>\n",
       "    </tr>\n",
       "    <tr>\n",
       "      <th>41166</th>\n",
       "      <td>5</td>\n",
       "      <td>5</td>\n",
       "      <td>5</td>\n",
       "      <td>1</td>\n",
       "      <td>1</td>\n",
       "    </tr>\n",
       "    <tr>\n",
       "      <th>225933</th>\n",
       "      <td>1</td>\n",
       "      <td>1</td>\n",
       "      <td>1</td>\n",
       "      <td>1</td>\n",
       "      <td>1</td>\n",
       "    </tr>\n",
       "    <tr>\n",
       "      <th>233706</th>\n",
       "      <td>5</td>\n",
       "      <td>a</td>\n",
       "      <td>a</td>\n",
       "      <td>1</td>\n",
       "      <td>1</td>\n",
       "    </tr>\n",
       "    <tr>\n",
       "      <th>...</th>\n",
       "      <td>...</td>\n",
       "      <td>...</td>\n",
       "      <td>...</td>\n",
       "      <td>...</td>\n",
       "      <td>...</td>\n",
       "    </tr>\n",
       "    <tr>\n",
       "      <th>31004</th>\n",
       "      <td>1</td>\n",
       "      <td>advarsel om dato for levering i post nord sms ...</td>\n",
       "      <td>advarsel dato levering post nord sms d 48 modt...</td>\n",
       "      <td>2475</td>\n",
       "      <td>1388</td>\n",
       "    </tr>\n",
       "    <tr>\n",
       "      <th>157335</th>\n",
       "      <td>1</td>\n",
       "      <td>hvis man bare kunne give minus 5 stjerner ja h...</td>\n",
       "      <td>give minus 5 stjerner give minus 5 stjerner va...</td>\n",
       "      <td>2618</td>\n",
       "      <td>1485</td>\n",
       "    </tr>\n",
       "    <tr>\n",
       "      <th>269276</th>\n",
       "      <td>1</td>\n",
       "      <td>postnord trænger til at finde ud af hvad kunde...</td>\n",
       "      <td>postnord trænger kundeservice egentligt postno...</td>\n",
       "      <td>2828</td>\n",
       "      <td>1503</td>\n",
       "    </tr>\n",
       "    <tr>\n",
       "      <th>128294</th>\n",
       "      <td>1</td>\n",
       "      <td>post nord i er forfærdelige jeg skulle have en...</td>\n",
       "      <td>post nord forfærdelige brevpakke afkrydset afh...</td>\n",
       "      <td>2885</td>\n",
       "      <td>1724</td>\n",
       "    </tr>\n",
       "    <tr>\n",
       "      <th>96656</th>\n",
       "      <td>1</td>\n",
       "      <td>glemt pakke eller dovenskab efter gennemgang a...</td>\n",
       "      <td>glemt pakke dovenskab gennemgang mails godt st...</td>\n",
       "      <td>3697</td>\n",
       "      <td>1663</td>\n",
       "    </tr>\n",
       "  </tbody>\n",
       "</table>\n",
       "<p>397885 rows × 5 columns</p>\n",
       "</div>"
      ],
      "text/plain": [
       "        rating                                             review  \\\n",
       "334133       5                                                  å   \n",
       "244318       5                                                  v   \n",
       "41166        5                                                  5   \n",
       "225933       1                                                  1   \n",
       "233706       5                                                  a   \n",
       "...        ...                                                ...   \n",
       "31004        1  advarsel om dato for levering i post nord sms ...   \n",
       "157335       1  hvis man bare kunne give minus 5 stjerner ja h...   \n",
       "269276       1  postnord trænger til at finde ud af hvad kunde...   \n",
       "128294       1  post nord i er forfærdelige jeg skulle have en...   \n",
       "96656        1  glemt pakke eller dovenskab efter gennemgang a...   \n",
       "\n",
       "                                             no_stopwords  review_length  \\\n",
       "334133                                                  å              1   \n",
       "244318                                                  v              1   \n",
       "41166                                                   5              1   \n",
       "225933                                                  1              1   \n",
       "233706                                                  a              1   \n",
       "...                                                   ...            ...   \n",
       "31004   advarsel dato levering post nord sms d 48 modt...           2475   \n",
       "157335  give minus 5 stjerner give minus 5 stjerner va...           2618   \n",
       "269276  postnord trænger kundeservice egentligt postno...           2828   \n",
       "128294  post nord forfærdelige brevpakke afkrydset afh...           2885   \n",
       "96656   glemt pakke dovenskab gennemgang mails godt st...           3697   \n",
       "\n",
       "        no_stopwords_length  \n",
       "334133                    1  \n",
       "244318                    1  \n",
       "41166                     1  \n",
       "225933                    1  \n",
       "233706                    1  \n",
       "...                     ...  \n",
       "31004                  1388  \n",
       "157335                 1485  \n",
       "269276                 1503  \n",
       "128294                 1724  \n",
       "96656                  1663  \n",
       "\n",
       "[397885 rows x 5 columns]"
      ]
     },
     "execution_count": 279,
     "metadata": {},
     "output_type": "execute_result"
    }
   ],
   "source": [
    "sm[\"review_length\"] = sm.review.str.len()\n",
    "sm[\"no_stopwords_length\"] = sm.no_stopwords.str.len()\n",
    "sm.sort_values(\"review_length\")"
   ]
  },
  {
   "cell_type": "markdown",
   "id": "48d5f720-53e7-4f81-a47f-3bb5938804f1",
   "metadata": {},
   "source": [
    "## Balancing the data"
   ]
  },
  {
   "cell_type": "code",
   "execution_count": 280,
   "id": "270469b3-8171-4881-984c-606f5bdc646e",
   "metadata": {
    "execution": {
     "iopub.execute_input": "2023-04-25T11:15:01.390114Z",
     "iopub.status.busy": "2023-04-25T11:15:01.389111Z",
     "iopub.status.idle": "2023-04-25T11:15:01.408837Z",
     "shell.execute_reply": "2023-04-25T11:15:01.407369Z",
     "shell.execute_reply.started": "2023-04-25T11:15:01.390036Z"
    },
    "tags": []
   },
   "outputs": [
    {
     "data": {
      "text/plain": [
       "5    252952\n",
       "1     63732\n",
       "4     43021\n",
       "2     21108\n",
       "3     17072\n",
       "Name: rating, dtype: int64"
      ]
     },
     "execution_count": 280,
     "metadata": {},
     "output_type": "execute_result"
    }
   ],
   "source": [
    "# 17122 3-star reviews\n",
    "sm['rating'].value_counts()"
   ]
  },
  {
   "cell_type": "code",
   "execution_count": 281,
   "id": "98310b64-0f0b-45d7-a212-80bbef1e8a0a",
   "metadata": {
    "execution": {
     "iopub.execute_input": "2023-04-25T11:15:04.505349Z",
     "iopub.status.busy": "2023-04-25T11:15:04.504522Z",
     "iopub.status.idle": "2023-04-25T11:15:04.514890Z",
     "shell.execute_reply": "2023-04-25T11:15:04.513589Z",
     "shell.execute_reply.started": "2023-04-25T11:15:04.505280Z"
    },
    "tags": []
   },
   "outputs": [],
   "source": [
    "def balance(dataframe, random_state = 2):\n",
    "    \"\"\"\n",
    "    Create a balanced sample from imbalanced datasets.\n",
    "    \n",
    "    dataframe: \n",
    "        Pandas dataframe with a column called 'review' and one called 'rating'\n",
    "    n:         \n",
    "        Number of samples from each label, defaults to XXXXX\n",
    "        \n",
    "    random_state:\n",
    "        Random state, defaults to 2\n",
    "    \"\"\"\n",
    "    # Use pandas select a random bunch of examples from each label\n",
    "    out = (dataframe.groupby('rating', as_index=False)\n",
    "            .apply(lambda x: x.sample(dataframe['rating'].value_counts()[3], random_state = 2))\n",
    "            .reset_index(drop=True))\n",
    "    \n",
    "    return out"
   ]
  },
  {
   "cell_type": "code",
   "execution_count": 365,
   "id": "0147c030-45dc-49fd-9c37-4e47c95dce39",
   "metadata": {
    "execution": {
     "iopub.execute_input": "2023-04-25T11:45:23.989549Z",
     "iopub.status.busy": "2023-04-25T11:45:23.988637Z",
     "iopub.status.idle": "2023-04-25T11:45:24.123762Z",
     "shell.execute_reply": "2023-04-25T11:45:24.122894Z",
     "shell.execute_reply.started": "2023-04-25T11:45:23.989469Z"
    },
    "tags": []
   },
   "outputs": [],
   "source": [
    "df_balanced = balance(sm, random_state = 7)"
   ]
  },
  {
   "cell_type": "code",
   "execution_count": 366,
   "id": "ac596da9-fcf5-46f4-97c6-a6849dad619f",
   "metadata": {
    "execution": {
     "iopub.execute_input": "2023-04-25T11:45:26.282950Z",
     "iopub.status.busy": "2023-04-25T11:45:26.282426Z",
     "iopub.status.idle": "2023-04-25T11:45:26.291973Z",
     "shell.execute_reply": "2023-04-25T11:45:26.291037Z",
     "shell.execute_reply.started": "2023-04-25T11:45:26.282925Z"
    },
    "tags": []
   },
   "outputs": [
    {
     "data": {
      "text/plain": [
       "1    17072\n",
       "2    17072\n",
       "3    17072\n",
       "4    17072\n",
       "5    17072\n",
       "Name: rating, dtype: int64"
      ]
     },
     "execution_count": 366,
     "metadata": {},
     "output_type": "execute_result"
    }
   ],
   "source": [
    "df_balanced['rating'].value_counts()"
   ]
  },
  {
   "cell_type": "code",
   "execution_count": 367,
   "id": "67164074-0692-411a-a673-5ca55f726631",
   "metadata": {
    "execution": {
     "iopub.execute_input": "2023-04-25T11:45:28.644885Z",
     "iopub.status.busy": "2023-04-25T11:45:28.644664Z",
     "iopub.status.idle": "2023-04-25T11:45:28.678759Z",
     "shell.execute_reply": "2023-04-25T11:45:28.677814Z",
     "shell.execute_reply.started": "2023-04-25T11:45:28.644864Z"
    },
    "tags": []
   },
   "outputs": [
    {
     "data": {
      "text/html": [
       "<div>\n",
       "<style scoped>\n",
       "    .dataframe tbody tr th:only-of-type {\n",
       "        vertical-align: middle;\n",
       "    }\n",
       "\n",
       "    .dataframe tbody tr th {\n",
       "        vertical-align: top;\n",
       "    }\n",
       "\n",
       "    .dataframe thead th {\n",
       "        text-align: right;\n",
       "    }\n",
       "</style>\n",
       "<table border=\"1\" class=\"dataframe\">\n",
       "  <thead>\n",
       "    <tr style=\"text-align: right;\">\n",
       "      <th></th>\n",
       "      <th>rating</th>\n",
       "      <th>review</th>\n",
       "      <th>no_stopwords</th>\n",
       "      <th>review_length</th>\n",
       "      <th>no_stopwords_length</th>\n",
       "    </tr>\n",
       "  </thead>\n",
       "  <tbody>\n",
       "    <tr>\n",
       "      <th>9928</th>\n",
       "      <td>1</td>\n",
       "      <td>at i ikke j</td>\n",
       "      <td>j</td>\n",
       "      <td>11</td>\n",
       "      <td>1</td>\n",
       "    </tr>\n",
       "    <tr>\n",
       "      <th>81148</th>\n",
       "      <td>5</td>\n",
       "      <td>i får 5</td>\n",
       "      <td>5</td>\n",
       "      <td>7</td>\n",
       "      <td>1</td>\n",
       "    </tr>\n",
       "    <tr>\n",
       "      <th>45088</th>\n",
       "      <td>3</td>\n",
       "      <td>de kan få 3</td>\n",
       "      <td>3</td>\n",
       "      <td>11</td>\n",
       "      <td>1</td>\n",
       "    </tr>\n",
       "    <tr>\n",
       "      <th>68018</th>\n",
       "      <td>4</td>\n",
       "      <td>4 store</td>\n",
       "      <td>4</td>\n",
       "      <td>7</td>\n",
       "      <td>1</td>\n",
       "    </tr>\n",
       "    <tr>\n",
       "      <th>80988</th>\n",
       "      <td>5</td>\n",
       "      <td>kun 1 dag ikke noget at komme efter</td>\n",
       "      <td>1</td>\n",
       "      <td>35</td>\n",
       "      <td>1</td>\n",
       "    </tr>\n",
       "    <tr>\n",
       "      <th>...</th>\n",
       "      <td>...</td>\n",
       "      <td>...</td>\n",
       "      <td>...</td>\n",
       "      <td>...</td>\n",
       "      <td>...</td>\n",
       "    </tr>\n",
       "    <tr>\n",
       "      <th>6740</th>\n",
       "      <td>1</td>\n",
       "      <td>postnord bryder reglerne for at tjene penge en...</td>\n",
       "      <td>postnord bryder reglerne tjene penge engang ek...</td>\n",
       "      <td>1622</td>\n",
       "      <td>973</td>\n",
       "    </tr>\n",
       "    <tr>\n",
       "      <th>29672</th>\n",
       "      <td>2</td>\n",
       "      <td>xxxx onsdag som var varslet som afleveringsdag...</td>\n",
       "      <td>xxxx onsdag varslet afleveringsdag ringet dørt...</td>\n",
       "      <td>1832</td>\n",
       "      <td>987</td>\n",
       "    </tr>\n",
       "    <tr>\n",
       "      <th>13890</th>\n",
       "      <td>1</td>\n",
       "      <td>man bliver så træt den 256 bestiller jeg et dy...</td>\n",
       "      <td>træt 256 bestiller dyrt produkt forventet leve...</td>\n",
       "      <td>1742</td>\n",
       "      <td>997</td>\n",
       "    </tr>\n",
       "    <tr>\n",
       "      <th>11240</th>\n",
       "      <td>1</td>\n",
       "      <td>dårlig service i en covid19 periode folk har i...</td>\n",
       "      <td>dårlig service covid19 periode folk lært holde...</td>\n",
       "      <td>2076</td>\n",
       "      <td>1051</td>\n",
       "    </tr>\n",
       "    <tr>\n",
       "      <th>8580</th>\n",
       "      <td>1</td>\n",
       "      <td>glemt pakke eller dovenskab efter gennemgang a...</td>\n",
       "      <td>glemt pakke dovenskab gennemgang mails godt st...</td>\n",
       "      <td>3697</td>\n",
       "      <td>1663</td>\n",
       "    </tr>\n",
       "  </tbody>\n",
       "</table>\n",
       "<p>85360 rows × 5 columns</p>\n",
       "</div>"
      ],
      "text/plain": [
       "       rating                                             review  \\\n",
       "9928        1                                        at i ikke j   \n",
       "81148       5                                            i får 5   \n",
       "45088       3                                        de kan få 3   \n",
       "68018       4                                            4 store   \n",
       "80988       5                kun 1 dag ikke noget at komme efter   \n",
       "...       ...                                                ...   \n",
       "6740        1  postnord bryder reglerne for at tjene penge en...   \n",
       "29672       2  xxxx onsdag som var varslet som afleveringsdag...   \n",
       "13890       1  man bliver så træt den 256 bestiller jeg et dy...   \n",
       "11240       1  dårlig service i en covid19 periode folk har i...   \n",
       "8580        1  glemt pakke eller dovenskab efter gennemgang a...   \n",
       "\n",
       "                                            no_stopwords  review_length  \\\n",
       "9928                                                   j             11   \n",
       "81148                                                  5              7   \n",
       "45088                                                  3             11   \n",
       "68018                                                  4              7   \n",
       "80988                                                  1             35   \n",
       "...                                                  ...            ...   \n",
       "6740   postnord bryder reglerne tjene penge engang ek...           1622   \n",
       "29672  xxxx onsdag varslet afleveringsdag ringet dørt...           1832   \n",
       "13890  træt 256 bestiller dyrt produkt forventet leve...           1742   \n",
       "11240  dårlig service covid19 periode folk lært holde...           2076   \n",
       "8580   glemt pakke dovenskab gennemgang mails godt st...           3697   \n",
       "\n",
       "       no_stopwords_length  \n",
       "9928                     1  \n",
       "81148                    1  \n",
       "45088                    1  \n",
       "68018                    1  \n",
       "80988                    1  \n",
       "...                    ...  \n",
       "6740                   973  \n",
       "29672                  987  \n",
       "13890                  997  \n",
       "11240                 1051  \n",
       "8580                  1663  \n",
       "\n",
       "[85360 rows x 5 columns]"
      ]
     },
     "execution_count": 367,
     "metadata": {},
     "output_type": "execute_result"
    }
   ],
   "source": [
    "df_balanced.sort_values(\"no_stopwords_length\")"
   ]
  },
  {
   "cell_type": "markdown",
   "id": "dfaf11e8-d098-43bc-92ff-84ff5b5cdc75",
   "metadata": {},
   "source": [
    "## Machine"
   ]
  },
  {
   "cell_type": "code",
   "execution_count": 368,
   "id": "b4ab96d0-c864-4b5b-ac96-f376a5d7abfc",
   "metadata": {
    "execution": {
     "iopub.execute_input": "2023-04-25T11:45:30.916158Z",
     "iopub.status.busy": "2023-04-25T11:45:30.915210Z",
     "iopub.status.idle": "2023-04-25T11:45:30.940286Z",
     "shell.execute_reply": "2023-04-25T11:45:30.939276Z",
     "shell.execute_reply.started": "2023-04-25T11:45:30.916103Z"
    },
    "tags": []
   },
   "outputs": [
    {
     "data": {
      "text/plain": [
       "5    13714\n",
       "2    13694\n",
       "1    13684\n",
       "3    13626\n",
       "4    13570\n",
       "Name: rating, dtype: int64"
      ]
     },
     "execution_count": 368,
     "metadata": {},
     "output_type": "execute_result"
    }
   ],
   "source": [
    "X = df_balanced[\"no_stopwords\"]\n",
    "y = df_balanced[\"rating\"]\n",
    "X_train, X_test, y_train, y_test = train_test_split(X, y, test_size = 0.2, random_state = 42)\n",
    "y_train.value_counts()"
   ]
  },
  {
   "cell_type": "code",
   "execution_count": 369,
   "id": "b1bda13b-b2e9-4ded-8a1c-79404821b741",
   "metadata": {
    "execution": {
     "iopub.execute_input": "2023-04-25T11:45:33.163351Z",
     "iopub.status.busy": "2023-04-25T11:45:33.163050Z",
     "iopub.status.idle": "2023-04-25T11:45:33.171661Z",
     "shell.execute_reply": "2023-04-25T11:45:33.170981Z",
     "shell.execute_reply.started": "2023-04-25T11:45:33.163309Z"
    },
    "tags": []
   },
   "outputs": [
    {
     "data": {
      "text/plain": [
       "13714"
      ]
     },
     "execution_count": 369,
     "metadata": {},
     "output_type": "execute_result"
    }
   ],
   "source": [
    "y_train.value_counts().max()"
   ]
  },
  {
   "cell_type": "code",
   "execution_count": 375,
   "id": "030239a3-1d13-48c3-80e8-836c8858b860",
   "metadata": {
    "execution": {
     "iopub.execute_input": "2023-04-25T11:48:38.746659Z",
     "iopub.status.busy": "2023-04-25T11:48:38.746147Z",
     "iopub.status.idle": "2023-04-25T11:48:41.949354Z",
     "shell.execute_reply": "2023-04-25T11:48:41.948369Z",
     "shell.execute_reply.started": "2023-04-25T11:48:38.746629Z"
    },
    "tags": []
   },
   "outputs": [],
   "source": [
    "vectorizer = CountVectorizer(ngram_range = (1,3), \n",
    "                             lowercase = False,\n",
    "                             max_df = 0.99,  \n",
    "                             min_df = 0.01,\n",
    "                             max_features = None,\n",
    "                             encoding = 'utf-16')\n",
    "\n",
    "X_train_feats = vectorizer.fit_transform(X_train)\n",
    "X_test_feats = vectorizer.transform(X_test)\n",
    "\n",
    "feature_names = vectorizer.get_feature_names_out()"
   ]
  },
  {
   "cell_type": "code",
   "execution_count": 384,
   "id": "f1a64814-ca91-46c4-b8a0-b07547af90ba",
   "metadata": {
    "execution": {
     "iopub.execute_input": "2023-04-25T11:52:38.151196Z",
     "iopub.status.busy": "2023-04-25T11:52:38.150431Z",
     "iopub.status.idle": "2023-04-25T11:52:41.451240Z",
     "shell.execute_reply": "2023-04-25T11:52:41.450323Z",
     "shell.execute_reply.started": "2023-04-25T11:52:38.151140Z"
    },
    "tags": []
   },
   "outputs": [],
   "source": [
    "classifier = LogisticRegression(random_state = 7, max_iter = (y_train.value_counts().max() * 5)).fit(X_train_feats, y_train)"
   ]
  },
  {
   "cell_type": "code",
   "execution_count": 385,
   "id": "6a2e1bc0-ec6a-485d-8f74-77291f3c6fa2",
   "metadata": {
    "execution": {
     "iopub.execute_input": "2023-04-25T11:52:43.357779Z",
     "iopub.status.busy": "2023-04-25T11:52:43.357544Z",
     "iopub.status.idle": "2023-04-25T11:52:43.394759Z",
     "shell.execute_reply": "2023-04-25T11:52:43.393768Z",
     "shell.execute_reply.started": "2023-04-25T11:52:43.357756Z"
    },
    "tags": []
   },
   "outputs": [
    {
     "name": "stdout",
     "output_type": "stream",
     "text": [
      "              precision    recall  f1-score   support\n",
      "\n",
      "           1       0.47      0.54      0.51      3388\n",
      "           2       0.39      0.35      0.37      3378\n",
      "           3       0.39      0.29      0.33      3446\n",
      "           4       0.46      0.34      0.39      3502\n",
      "           5       0.48      0.72      0.58      3358\n",
      "\n",
      "    accuracy                           0.45     17072\n",
      "   macro avg       0.44      0.45      0.43     17072\n",
      "weighted avg       0.44      0.45      0.43     17072\n",
      "\n"
     ]
    }
   ],
   "source": [
    "y_pred = classifier.predict(X_test_feats)\n",
    "\n",
    "classifier_metrics = classification_report(y_test, y_pred)\n",
    "print(classifier_metrics)"
   ]
  },
  {
   "cell_type": "markdown",
   "id": "f76a4bd1-e54f-4264-bdad-0448128a40b8",
   "metadata": {},
   "source": [
    "## Deep learning"
   ]
  },
  {
   "cell_type": "code",
   "execution_count": 285,
   "id": "499fead6-39c2-4a87-91f3-4398eb8fc954",
   "metadata": {
    "execution": {
     "iopub.execute_input": "2023-04-25T11:15:15.618451Z",
     "iopub.status.busy": "2023-04-25T11:15:15.617604Z",
     "iopub.status.idle": "2023-04-25T11:15:15.625387Z",
     "shell.execute_reply": "2023-04-25T11:15:15.623905Z",
     "shell.execute_reply.started": "2023-04-25T11:15:15.618394Z"
    },
    "tags": []
   },
   "outputs": [],
   "source": [
    "X = df_balanced[\"no_stopwords\"].values\n",
    "y = df_balanced[\"rating\"].values"
   ]
  },
  {
   "cell_type": "code",
   "execution_count": 286,
   "id": "a428a50a-b6f9-4764-9682-29a42e0c2ced",
   "metadata": {
    "execution": {
     "iopub.execute_input": "2023-04-25T11:15:19.089479Z",
     "iopub.status.busy": "2023-04-25T11:15:19.088622Z",
     "iopub.status.idle": "2023-04-25T11:15:19.109229Z",
     "shell.execute_reply": "2023-04-25T11:15:19.107980Z",
     "shell.execute_reply.started": "2023-04-25T11:15:19.089398Z"
    },
    "tags": []
   },
   "outputs": [],
   "source": [
    "X_train, X_test, y_train, y_test = train_test_split(X, y, test_size = 0.2, random_state = 42)"
   ]
  },
  {
   "cell_type": "code",
   "execution_count": 287,
   "id": "037db4d0-f47c-4b08-abd9-ae1bd4e89a80",
   "metadata": {
    "execution": {
     "iopub.execute_input": "2023-04-25T11:15:20.525154Z",
     "iopub.status.busy": "2023-04-25T11:15:20.524913Z",
     "iopub.status.idle": "2023-04-25T11:15:20.529911Z",
     "shell.execute_reply": "2023-04-25T11:15:20.529201Z",
     "shell.execute_reply.started": "2023-04-25T11:15:20.525132Z"
    },
    "tags": []
   },
   "outputs": [],
   "source": [
    "# define out-of-vobabulary token\n",
    "t = Tokenizer(oov_token = \"<UNK>\")"
   ]
  },
  {
   "cell_type": "code",
   "execution_count": 288,
   "id": "9b840835-f879-49e9-bd88-93d75fdca886",
   "metadata": {
    "execution": {
     "iopub.execute_input": "2023-04-25T11:15:21.971411Z",
     "iopub.status.busy": "2023-04-25T11:15:21.971006Z",
     "iopub.status.idle": "2023-04-25T11:15:23.203786Z",
     "shell.execute_reply": "2023-04-25T11:15:23.202800Z",
     "shell.execute_reply.started": "2023-04-25T11:15:21.971381Z"
    },
    "tags": []
   },
   "outputs": [],
   "source": [
    "t.fit_on_texts(X_train)"
   ]
  },
  {
   "cell_type": "code",
   "execution_count": 301,
   "id": "e3763d76-c241-4cd0-be59-ae1624ffe5c1",
   "metadata": {
    "execution": {
     "iopub.execute_input": "2023-04-25T11:21:40.759865Z",
     "iopub.status.busy": "2023-04-25T11:21:40.759174Z",
     "iopub.status.idle": "2023-04-25T11:21:42.029541Z",
     "shell.execute_reply": "2023-04-25T11:21:42.028641Z",
     "shell.execute_reply.started": "2023-04-25T11:21:40.759820Z"
    },
    "tags": []
   },
   "outputs": [],
   "source": [
    "# set padding value – if the kernel goes outside the matrix, we ensure that the values are still the same length\n",
    "t.word_index[\"<PAD>\"] = 0\n",
    "# turns the texts into a list of integer values\n",
    "X_train_seqs = t.texts_to_sequences(X_train)\n",
    "X_test_seqs = t.texts_to_sequences(X_test)\n",
    "# sequence normalisation\n",
    "#MAX_SEQUENCE_LENGTH = df_balanced.review.str.len().max()\n",
    "MAX_SEQUENCE_LENGTH = int(df_balanced[\"no_stopwords\"].apply(len).mean())\n",
    "# add padding to sequences\n",
    "X_train_pad = sequence.pad_sequences(X_train_seqs, maxlen=MAX_SEQUENCE_LENGTH)\n",
    "X_test_pad = sequence.pad_sequences(X_test_seqs, maxlen=MAX_SEQUENCE_LENGTH)  "
   ]
  },
  {
   "cell_type": "code",
   "execution_count": 302,
   "id": "2d863f7a-cb55-4e9b-aef1-8b9a46d3227a",
   "metadata": {
    "execution": {
     "iopub.execute_input": "2023-04-25T11:21:44.231875Z",
     "iopub.status.busy": "2023-04-25T11:21:44.231083Z",
     "iopub.status.idle": "2023-04-25T11:21:44.241672Z",
     "shell.execute_reply": "2023-04-25T11:21:44.240339Z",
     "shell.execute_reply.started": "2023-04-25T11:21:44.231819Z"
    },
    "tags": []
   },
   "outputs": [
    {
     "data": {
      "text/plain": [
       "array([[   0,    0,    0, ...,   79,  714,  347],\n",
       "       [   0,    0,    0, ...,  140,   44, 1162],\n",
       "       [   0,    0,    0, ...,  381,   14,   25],\n",
       "       ...,\n",
       "       [   0,    0,    0, ...,    0,   23,   15],\n",
       "       [   0,    0,    0, ..., 1334,  398,  118],\n",
       "       [   0,    0,    0, ...,    7, 7853,   11]], dtype=int32)"
      ]
     },
     "execution_count": 302,
     "metadata": {},
     "output_type": "execute_result"
    }
   ],
   "source": [
    "X_train_pad"
   ]
  },
  {
   "cell_type": "code",
   "execution_count": 303,
   "id": "133ff1cd-7b6a-4a86-8ff7-e6d65ba326f9",
   "metadata": {
    "execution": {
     "iopub.execute_input": "2023-04-25T11:21:45.969104Z",
     "iopub.status.busy": "2023-04-25T11:21:45.968837Z",
     "iopub.status.idle": "2023-04-25T11:21:45.974433Z",
     "shell.execute_reply": "2023-04-25T11:21:45.973736Z",
     "shell.execute_reply.started": "2023-04-25T11:21:45.969081Z"
    },
    "tags": []
   },
   "outputs": [],
   "source": [
    "# define parameters for model\n",
    "\n",
    "# overall vocabulary size\n",
    "VOCAB_SIZE = len(t.word_index)\n",
    "# number of dimensions for embeddings\n",
    "EMBED_SIZE = 300\n",
    "# number of epochs to train for\n",
    "EPOCHS = 5\n",
    "# batch size for training\n",
    "BATCH_SIZE = 128"
   ]
  },
  {
   "cell_type": "code",
   "execution_count": 304,
   "id": "4e0bb94b-a8e4-4569-be3f-9bf266506d62",
   "metadata": {
    "execution": {
     "iopub.execute_input": "2023-04-25T11:21:47.820567Z",
     "iopub.status.busy": "2023-04-25T11:21:47.820302Z",
     "iopub.status.idle": "2023-04-25T11:21:47.836501Z",
     "shell.execute_reply": "2023-04-25T11:21:47.835703Z",
     "shell.execute_reply.started": "2023-04-25T11:21:47.820545Z"
    },
    "tags": []
   },
   "outputs": [],
   "source": [
    "# clear models in memory\n",
    "tf.keras.backend.clear_session()"
   ]
  },
  {
   "cell_type": "code",
   "execution_count": 305,
   "id": "02ddd5e9-2d39-4bba-8c1a-cc4af544be24",
   "metadata": {
    "execution": {
     "iopub.execute_input": "2023-04-25T11:21:49.560027Z",
     "iopub.status.busy": "2023-04-25T11:21:49.559712Z",
     "iopub.status.idle": "2023-04-25T11:24:10.135146Z",
     "shell.execute_reply": "2023-04-25T11:24:10.133884Z",
     "shell.execute_reply.started": "2023-04-25T11:21:49.560004Z"
    },
    "tags": []
   },
   "outputs": [
    {
     "name": "stdout",
     "output_type": "stream",
     "text": [
      "Epoch 1/5\n",
      "481/481 [==============================] - 29s 58ms/step - loss: -1601865515008.0000 - accuracy: 0.1997 - val_loss: -12761319866368.0000 - val_accuracy: 0.2060\n",
      "Epoch 2/5\n",
      "481/481 [==============================] - 28s 58ms/step - loss: -298610755371008.0000 - accuracy: 0.1998 - val_loss: -1064035197911040.0000 - val_accuracy: 0.2060\n",
      "Epoch 3/5\n",
      "481/481 [==============================] - 28s 59ms/step - loss: -4754165871935488.0000 - accuracy: 0.1998 - val_loss: -11225149357424640.0000 - val_accuracy: 0.2060\n",
      "Epoch 4/5\n",
      "481/481 [==============================] - 28s 58ms/step - loss: -28763960769511424.0000 - accuracy: 0.1998 - val_loss: -53808651659378688.0000 - val_accuracy: 0.2060\n",
      "Epoch 5/5\n",
      "481/481 [==============================] - 28s 58ms/step - loss: -105676373237956608.0000 - accuracy: 0.1998 - val_loss: -171407832636194816.0000 - val_accuracy: 0.2060\n"
     ]
    }
   ],
   "source": [
    "# create the model\n",
    "model = Sequential()\n",
    "\n",
    "# embedding layer\n",
    "model.add(Embedding(VOCAB_SIZE, \n",
    "                    EMBED_SIZE, \n",
    "                    input_length=MAX_SEQUENCE_LENGTH))\n",
    "\n",
    "# first convolution layer and pooling\n",
    "model.add(Conv1D(filters=128, \n",
    "                 kernel_size=4, \n",
    "                 padding='same',\n",
    "                 activation='relu'))\n",
    "model.add(MaxPooling1D(pool_size=2))\n",
    "\n",
    "# second convolution layer and pooling\n",
    "model.add(Conv1D(filters=64, \n",
    "                 kernel_size=4, \n",
    "                 padding='same', \n",
    "                 activation='relu'))\n",
    "model.add(MaxPooling1D(pool_size=2))\n",
    "\n",
    "# third convolution layer and pooling\n",
    "model.add(Conv1D(filters=32, \n",
    "                 kernel_size=4, \n",
    "                 padding='same', \n",
    "                 activation='relu'))\n",
    "model.add(MaxPooling1D(pool_size=2))\n",
    "\n",
    "# fully-connected classification layer\n",
    "model.add(Flatten())\n",
    "model.add(Dense(256, activation='relu'))\n",
    "model.add(Dense(1, activation='sigmoid'))\n",
    "    \n",
    "# compile model\n",
    "model.compile(loss='binary_crossentropy',\n",
    "              optimizer='adam', \n",
    "              metrics=['accuracy'])\n",
    "# train model\n",
    "H = model.fit(X_train_pad, y_train,\n",
    "              epochs = EPOCHS,\n",
    "              batch_size = BATCH_SIZE,\n",
    "              validation_split = 0.1, # takes the remaining 10% of the training data, after having trained on 90%\n",
    "              verbose = True)"
   ]
  },
  {
   "cell_type": "code",
   "execution_count": 306,
   "id": "11dfe9b2-5f21-4b3b-b7c3-0e9ab6f3416f",
   "metadata": {
    "execution": {
     "iopub.execute_input": "2023-04-25T11:24:11.924003Z",
     "iopub.status.busy": "2023-04-25T11:24:11.923753Z",
     "iopub.status.idle": "2023-04-25T11:24:14.405358Z",
     "shell.execute_reply": "2023-04-25T11:24:14.403751Z",
     "shell.execute_reply.started": "2023-04-25T11:24:11.923979Z"
    },
    "tags": []
   },
   "outputs": [
    {
     "name": "stdout",
     "output_type": "stream",
     "text": [
      "534/534 [==============================] - 2s 5ms/step - loss: -174673399350558720.0000 - accuracy: 0.1985\n",
      "Accuracy: 0.1984536051750183\n"
     ]
    }
   ],
   "source": [
    "# final evaluation of the model\n",
    "scores = model.evaluate(X_test_pad, y_test, verbose = 1)\n",
    "print(f\"Accuracy: {scores[1]}\")"
   ]
  },
  {
   "cell_type": "code",
   "execution_count": 312,
   "id": "5cb52120-9115-4170-85a9-d13a883b75cf",
   "metadata": {
    "execution": {
     "iopub.execute_input": "2023-04-25T11:30:21.364759Z",
     "iopub.status.busy": "2023-04-25T11:30:21.364098Z",
     "iopub.status.idle": "2023-04-25T11:30:32.544405Z",
     "shell.execute_reply": "2023-04-25T11:30:32.543547Z",
     "shell.execute_reply.started": "2023-04-25T11:30:21.364703Z"
    },
    "tags": []
   },
   "outputs": [
    {
     "name": "stdout",
     "output_type": "stream",
     "text": [
      "Epoch 1/5\n"
     ]
    },
    {
     "name": "stderr",
     "output_type": "stream",
     "text": [
      "/opt/conda/lib/python3.10/site-packages/keras/engine/data_adapter.py:1700: FutureWarning: The behavior of `series[i:j]` with an integer-dtype index is deprecated. In a future version, this will be treated as *label-based* indexing, consistent with e.g. `series[i]` lookups. To retain the old behavior, use `series.iloc[i:j]`. To get the future behavior, use `series.loc[i:j]`.\n",
      "  return t[start:end]\n"
     ]
    },
    {
     "name": "stdout",
     "output_type": "stream",
     "text": [
      "214/214 [==============================] - 2s 7ms/step - loss: -356111.8750 - accuracy: 0.1978 - val_loss: -1625555.1250 - val_accuracy: 0.2011\n",
      "Epoch 2/5\n",
      "214/214 [==============================] - 1s 7ms/step - loss: -7212300.0000 - accuracy: 0.2000 - val_loss: -16189809.0000 - val_accuracy: 0.2011\n",
      "Epoch 3/5\n",
      "214/214 [==============================] - 2s 7ms/step - loss: -34137492.0000 - accuracy: 0.2000 - val_loss: -57458404.0000 - val_accuracy: 0.2011\n",
      "Epoch 4/5\n",
      "214/214 [==============================] - 1s 7ms/step - loss: -93949712.0000 - accuracy: 0.2000 - val_loss: -136471216.0000 - val_accuracy: 0.2011\n",
      "Epoch 5/5\n",
      "214/214 [==============================] - 1s 7ms/step - loss: -194676128.0000 - accuracy: 0.2000 - val_loss: -260466112.0000 - val_accuracy: 0.2011\n",
      "534/534 [==============================] - 1s 1ms/step - loss: -242542912.0000 - accuracy: 0.1992\n"
     ]
    },
    {
     "data": {
      "text/plain": [
       "[-242542912.0, 0.1991565078496933]"
      ]
     },
     "execution_count": 312,
     "metadata": {},
     "output_type": "execute_result"
    }
   ],
   "source": [
    "# Split the data into training and testing sets\n",
    "X_train, X_test, y_train, y_test = train_test_split(df_balanced['no_stopwords'], df_balanced['rating'], test_size=0.2)\n",
    "\n",
    "# Tokenize the text data\n",
    "tokenizer = tf.keras.preprocessing.text.Tokenizer(num_words=10000, oov_token='<OOV>')\n",
    "tokenizer.fit_on_texts(X_train)\n",
    "\n",
    "# Convert the text data to sequences\n",
    "X_train_seq = tokenizer.texts_to_sequences(X_train)\n",
    "X_test_seq = tokenizer.texts_to_sequences(X_test)\n",
    "\n",
    "# Pad the sequences to ensure they all have the same length\n",
    "X_train_padded = tf.keras.preprocessing.sequence.pad_sequences(X_train_seq, padding='post', maxlen=256)\n",
    "X_test_padded = tf.keras.preprocessing.sequence.pad_sequences(X_test_seq, padding='post', maxlen=256)\n",
    "\n",
    "# Define the deep learning model architecture\n",
    "inputs = Input(shape=(256,))\n",
    "x = Dense(256, activation='relu')(inputs)\n",
    "x = Dropout(0.5)(x)\n",
    "x = Dense(128, activation='relu')(inputs)\n",
    "x = Dropout(0.5)(x)\n",
    "x = Dense(64, activation='relu')(x)\n",
    "x = Dropout(0.5)(x)\n",
    "outputs = Dense(1, activation='sigmoid')(x)\n",
    "model = Model(inputs=inputs, outputs=outputs)\n",
    "\n",
    "# Compile the model\n",
    "model.compile(loss='binary_crossentropy', optimizer='adam', metrics=['accuracy'])\n",
    "\n",
    "# Train the model\n",
    "history = model.fit(X_train_padded, y_train, epochs=5, batch_size=256, validation_split=0.2)\n",
    "\n",
    "# Evaluate the model on the test set\n",
    "model.evaluate(X_test_padded, y_test)"
   ]
  },
  {
   "cell_type": "code",
   "execution_count": null,
   "id": "04f8d514-88b3-440f-92ae-7e81bcc81b83",
   "metadata": {},
   "outputs": [],
   "source": [
    "# do predictions with 0.5 decision boundary\n",
    "predictions = (model.predict(X_test_pad) > 0.5).astype(\"int32\")\n",
    "# make classification report\n",
    "labels = [\"non-toxic\", \"toxic\"]\n",
    "report = classification_report(y_test, predictions, target_names = labels)"
   ]
  },
  {
   "cell_type": "code",
   "execution_count": 300,
   "id": "0c817156-03a8-481d-a560-ba71324dddf5",
   "metadata": {
    "execution": {
     "iopub.execute_input": "2023-04-25T11:21:02.236360Z",
     "iopub.status.busy": "2023-04-25T11:21:02.235560Z",
     "iopub.status.idle": "2023-04-25T11:21:02.334350Z",
     "shell.execute_reply": "2023-04-25T11:21:02.333539Z",
     "shell.execute_reply.started": "2023-04-25T11:21:02.236286Z"
    },
    "tags": []
   },
   "outputs": [
    {
     "data": {
      "text/plain": [
       "47"
      ]
     },
     "execution_count": 300,
     "metadata": {},
     "output_type": "execute_result"
    }
   ],
   "source": [
    "int(sm[\"no_stopwords\"].apply(len).mean())"
   ]
  },
  {
   "cell_type": "code",
   "execution_count": null,
   "id": "070d78d2-0a8a-4272-a030-5f2c3ddb6370",
   "metadata": {},
   "outputs": [],
   "source": []
  }
 ],
 "metadata": {
  "kernelspec": {
   "display_name": "Python 3 ",
   "language": "python",
   "name": "python3"
  },
  "language_info": {
   "codemirror_mode": {
    "name": "ipython",
    "version": 3
   },
   "file_extension": ".py",
   "mimetype": "text/x-python",
   "name": "python",
   "nbconvert_exporter": "python",
   "pygments_lexer": "ipython3",
   "version": "3.10.6"
  }
 },
 "nbformat": 4,
 "nbformat_minor": 5
}
