{
 "cells": [
  {
   "cell_type": "markdown",
   "id": "17a3768e-d188-4bec-b01b-2c80a1166295",
   "metadata": {},
   "source": [
    "# PostNord Trustpilot Reviews"
   ]
  },
  {
   "cell_type": "markdown",
   "id": "7db23eca-72b7-42bc-80ea-da772a117b9b",
   "metadata": {},
   "source": [
    "## Structure of the code"
   ]
  },
  {
   "cell_type": "markdown",
   "id": "6bed6957-6cce-4b61-9769-6b98f6c98314",
   "metadata": {},
   "source": [
    "1. Combine header and text column\n",
    "2. Anonymisation\n",
    "    - Remove names\n",
    "    - Remove dates\n",
    "    - Create unique ids for each person\n",
    "    - Use review and url to remove repeated comments\n",
    "    - Remove urls\n",
    "3. Cleaning and processing\n",
    "    - If a comment was only punctuation => remove that row\n",
    "4. Balance data (around 17,000 per category)\n",
    "    - Randomise data (in categories)\n",
    "    - Keep the first 17,000 of each category"
   ]
  },
  {
   "cell_type": "markdown",
   "id": "b9778e0c-72ad-48e9-baa3-6033d67aaa39",
   "metadata": {},
   "source": [
    "## Initial code"
   ]
  },
  {
   "cell_type": "code",
   "execution_count": 1,
   "id": "aa4fa649-c7ce-41c2-a254-b572e44a51a7",
   "metadata": {
    "execution": {
     "iopub.execute_input": "2023-05-19T13:12:44.831339Z",
     "iopub.status.busy": "2023-05-19T13:12:44.830698Z",
     "iopub.status.idle": "2023-05-19T13:12:44.838109Z",
     "shell.execute_reply": "2023-05-19T13:12:44.836611Z",
     "shell.execute_reply.started": "2023-05-19T13:12:44.831287Z"
    },
    "tags": []
   },
   "outputs": [],
   "source": [
    "#!pip install -U spacy\n",
    "#!python -m spacy download da_core_news_md\n",
    "#!pip install nltk tensorflow numpy pandas seaborn scikit-learn scipy "
   ]
  },
  {
   "cell_type": "code",
   "execution_count": 2,
   "id": "eaa1bf3b-46cb-4013-adb1-ae8faa15591e",
   "metadata": {
    "execution": {
     "iopub.execute_input": "2023-05-19T13:12:45.220045Z",
     "iopub.status.busy": "2023-05-19T13:12:45.219334Z",
     "iopub.status.idle": "2023-05-19T13:12:46.398855Z",
     "shell.execute_reply": "2023-05-19T13:12:46.398019Z",
     "shell.execute_reply.started": "2023-05-19T13:12:45.219995Z"
    },
    "tags": []
   },
   "outputs": [],
   "source": [
    "# system tools\n",
    "import os\n",
    "import sys\n",
    "import random\n",
    "#import spacy\n",
    "#import da_core_news_md\n",
    "import requests as req\n",
    "from io import StringIO\n",
    "import re\n",
    "\n",
    "# data wranling\n",
    "import pandas as pd\n",
    "import numpy as np\n",
    "from scipy.stats import randint\n",
    "\n",
    "# plotting\n",
    "import seaborn as sns\n",
    "import matplotlib.pyplot as plt\n",
    "\n",
    "# machine learning\n",
    "from sklearn.feature_extraction.text import TfidfVectorizer\n",
    "from sklearn.feature_selection import chi2\n",
    "from IPython.display import display\n",
    "from sklearn.model_selection import train_test_split\n",
    "from sklearn.feature_extraction.text import TfidfTransformer\n",
    "from sklearn.naive_bayes import MultinomialNB, ComplementNB\n",
    "from sklearn.linear_model import LogisticRegression\n",
    "from sklearn.svm import LinearSVC\n",
    "from sklearn.model_selection import cross_val_score\n",
    "from sklearn.metrics import confusion_matrix\n",
    "from sklearn import metrics"
   ]
  },
  {
   "cell_type": "code",
   "execution_count": 3,
   "id": "c47a4f14-1734-4775-bc0c-8615962dac45",
   "metadata": {
    "execution": {
     "iopub.execute_input": "2023-05-19T13:12:49.388108Z",
     "iopub.status.busy": "2023-05-19T13:12:49.387321Z",
     "iopub.status.idle": "2023-05-19T13:12:49.395734Z",
     "shell.execute_reply": "2023-05-19T13:12:49.393927Z",
     "shell.execute_reply.started": "2023-05-19T13:12:49.388054Z"
    },
    "tags": []
   },
   "outputs": [],
   "source": [
    "# define path\n",
    "path = os.path.join(\"..\", \"in\", \"balanced_dataset.csv\")"
   ]
  },
  {
   "cell_type": "code",
   "execution_count": 9,
   "id": "e6159bd1-5d0b-4674-bf2e-94b90039e7d8",
   "metadata": {
    "execution": {
     "iopub.execute_input": "2023-05-19T13:13:38.584951Z",
     "iopub.status.busy": "2023-05-19T13:13:38.584112Z",
     "iopub.status.idle": "2023-05-19T13:13:38.726765Z",
     "shell.execute_reply": "2023-05-19T13:13:38.725927Z",
     "shell.execute_reply.started": "2023-05-19T13:13:38.584893Z"
    },
    "tags": []
   },
   "outputs": [],
   "source": [
    "# read csv\n",
    "df = pd.read_csv(path)\n",
    "# make sure ratings are parsed as strings and not integers\n",
    "df['rating'] = df['rating'].astype(str)"
   ]
  },
  {
   "cell_type": "code",
   "execution_count": 10,
   "id": "95600c2f-da8e-4636-a3e7-66afe36d05bc",
   "metadata": {
    "execution": {
     "iopub.execute_input": "2023-05-19T13:14:13.067189Z",
     "iopub.status.busy": "2023-05-19T13:14:13.066376Z",
     "iopub.status.idle": "2023-05-19T13:14:13.097769Z",
     "shell.execute_reply": "2023-05-19T13:14:13.096984Z",
     "shell.execute_reply.started": "2023-05-19T13:14:13.067133Z"
    },
    "tags": []
   },
   "outputs": [],
   "source": [
    "# create a new column 'category_id' with encoded categories \n",
    "df['category_id'] = df['rating'].factorize()[0]\n",
    "# remove duplicates\n",
    "category_id_df = df[['rating', 'category_id']].drop_duplicates()\n",
    "# create dictionaries for future use\n",
    "category_to_id = dict(category_id_df.values)\n",
    "id_to_category = dict(category_id_df[['category_id', 'rating']].values)"
   ]
  },
  {
   "cell_type": "markdown",
   "id": "c955123f-48ef-48a3-a0a5-9922e839d3f4",
   "metadata": {},
   "source": [
    "## Vectorisation"
   ]
  },
  {
   "cell_type": "markdown",
   "id": "f75ff519-ae8f-40f7-a318-148ef6e51926",
   "metadata": {},
   "source": [
    "### TD-IDF"
   ]
  },
  {
   "cell_type": "code",
   "execution_count": 13,
   "id": "636c41b6-94f4-4519-ba6f-ec275542a173",
   "metadata": {
    "execution": {
     "iopub.execute_input": "2023-05-19T13:24:58.840870Z",
     "iopub.status.busy": "2023-05-19T13:24:58.840001Z",
     "iopub.status.idle": "2023-05-19T13:25:02.820926Z",
     "shell.execute_reply": "2023-05-19T13:25:02.820001Z",
     "shell.execute_reply.started": "2023-05-19T13:24:58.840816Z"
    },
    "tags": []
   },
   "outputs": [
    {
     "name": "stdout",
     "output_type": "stream",
     "text": [
      "Each of the 79455 reviews is represented by 21654 features (TF-IDF score of unigrams and bigrams)\n"
     ]
    }
   ],
   "source": [
    "# vectorise the texts\n",
    "tfidf = TfidfVectorizer(sublinear_tf=True, \n",
    "                        min_df= 5, # exclude tokens that occurred in less than 5 texts\n",
    "                        max_df = 95, # exclude tokens than ocurred in less than\n",
    "                        ngram_range=(1, 2), # change to (1,3) to include trigrams\n",
    "                        encoding = 'utf-16',\n",
    "                        max_features = None)\n",
    "# We transform each complaint into a vector\n",
    "features = tfidf.fit_transform(df.review).toarray()\n",
    "# get labels\n",
    "labels = df.category_id\n",
    "print(\"Each of the %d reviews is represented by %d features (TF-IDF score of unigrams and bigrams)\" %(features.shape))"
   ]
  },
  {
   "cell_type": "code",
   "execution_count": 14,
   "id": "de42860b-5998-45e8-b97d-c6992e0b08dd",
   "metadata": {
    "execution": {
     "iopub.execute_input": "2023-05-19T13:25:02.850071Z",
     "iopub.status.busy": "2023-05-19T13:25:02.849826Z",
     "iopub.status.idle": "2023-05-19T13:25:32.200459Z",
     "shell.execute_reply": "2023-05-19T13:25:32.198348Z",
     "shell.execute_reply.started": "2023-05-19T13:25:02.850049Z"
    },
    "tags": []
   },
   "outputs": [
    {
     "name": "stdout",
     "output_type": "stream",
     "text": [
      "n==> 1:\n",
      "  * Most Correlated Unigrams are: skod, elendige, elendigt\n",
      "  * Most Correlated Bigrams are: dårlig kundeservice, dårligste service, utrolig dårlig\n",
      "n==> 2:\n",
      "  * Most Correlated Unigrams are: alternativt, huller, angiveligt\n",
      "  * Most Correlated Bigrams are: vælger pakkeboks, dage sent, forkert leveringssted\n",
      "n==> 3:\n",
      "  * Most Correlated Unigrams are: nogenlunde, blandet, middel\n",
      "  * Most Correlated Bigrams are: irriterende pakken, levering irriterende, pakken trykket\n",
      "n==> 4:\n",
      "  * Most Correlated Unigrams are: stabil, pakkeforsendelse, uproblematisk\n",
      "  * Most Correlated Bigrams are: udmærket service, rimelig hurtig, fin behandling\n",
      "n==> 5:\n",
      "  * Most Correlated Unigrams are: problemfrit, lyn, lynhurtigt\n",
      "  * Most Correlated Bigrams are: hurtig problemfri, fantastisk hurtig, perfekt hurtig\n"
     ]
    }
   ],
   "source": [
    "# find the three most correlated terms with each of the ratings\n",
    "N = 3\n",
    "for rating, category_id in sorted(category_to_id.items()):\n",
    "    features_chi2 = chi2(features, labels == category_id)\n",
    "    indices = np.argsort(features_chi2[0])\n",
    "    feature_names = np.array(tfidf.get_feature_names_out())[indices]\n",
    "    unigrams = [v for v in feature_names if len(v.split(' ')) == 1]\n",
    "    bigrams = [v for v in feature_names if len(v.split(' ')) == 2]\n",
    "    # if we wanted to include trigrams\n",
    "    #trigrams = [v for v in feature_names if len(v.split(' ')) == 3]\n",
    "    print(\"n==> %s:\" %(rating))\n",
    "    print(\"  * Most Correlated Unigrams are: %s\" %(', '.join(unigrams[-N:])))\n",
    "    print(\"  * Most Correlated Bigrams are: %s\" %(', '.join(bigrams[-N:])))\n",
    "    #if we wanted to include trigrams\n",
    "    #print(\"  * Most Correlated Bigrams are: %s\" %(', '.join(trigrams[-N:])))"
   ]
  },
  {
   "cell_type": "markdown",
   "id": "2382401e-7856-41dc-af56-40a2b531ee9f",
   "metadata": {},
   "source": [
    "## Finding the best classifier"
   ]
  },
  {
   "cell_type": "code",
   "execution_count": 15,
   "id": "1ed1868b-e1d0-4799-b8b5-0abebb65625c",
   "metadata": {
    "execution": {
     "iopub.execute_input": "2023-05-19T13:28:15.592027Z",
     "iopub.status.busy": "2023-05-19T13:28:15.591148Z",
     "iopub.status.idle": "2023-05-19T13:28:15.628383Z",
     "shell.execute_reply": "2023-05-19T13:28:15.626837Z",
     "shell.execute_reply.started": "2023-05-19T13:28:15.591972Z"
    },
    "tags": []
   },
   "outputs": [],
   "source": [
    "X = df['review'] # collection of documents\n",
    "y = df['rating'] # labels we want to predict (i.e., the 5 different ratings)\n",
    "\n",
    "# train-test split\n",
    "X_train, X_test, y_train, y_test = train_test_split(X, y, \n",
    "                                                    test_size=0.25,\n",
    "                                                    random_state = 42)"
   ]
  },
  {
   "cell_type": "code",
   "execution_count": 16,
   "id": "dd0075fa-6382-4c0d-bbd0-bcd90826d92f",
   "metadata": {
    "execution": {
     "iopub.execute_input": "2023-05-19T13:28:27.332654Z",
     "iopub.status.busy": "2023-05-19T13:28:27.331802Z",
     "iopub.status.idle": "2023-05-19T13:28:27.356678Z",
     "shell.execute_reply": "2023-05-19T13:28:27.355546Z",
     "shell.execute_reply.started": "2023-05-19T13:28:27.332600Z"
    },
    "tags": []
   },
   "outputs": [],
   "source": [
    "# list of models we want to test\n",
    "models = [\n",
    "    LinearSVC(), # should I try other SVC models?\n",
    "    MultinomialNB(),\n",
    "    ComplementNB(),\n",
    "    LogisticRegression(random_state=42, max_iter = (y_train.value_counts().max() * 5)),\n",
    "]"
   ]
  },
  {
   "cell_type": "code",
   "execution_count": 20,
   "id": "d074e338-8d19-46fd-a229-fc99e8871a25",
   "metadata": {
    "execution": {
     "iopub.execute_input": "2023-05-19T13:34:02.088509Z",
     "iopub.status.busy": "2023-05-19T13:34:02.086983Z",
     "iopub.status.idle": "2023-05-19T13:34:02.096042Z",
     "shell.execute_reply": "2023-05-19T13:34:02.094305Z",
     "shell.execute_reply.started": "2023-05-19T13:34:02.088452Z"
    },
    "tags": []
   },
   "outputs": [],
   "source": [
    "# cross-validation of 3\n",
    "CV = 3 # the number of subsets into which the dataset is divided during cross-validation\n",
    "cv_df = pd.DataFrame(index=range(CV * len(models)))"
   ]
  },
  {
   "cell_type": "code",
   "execution_count": 22,
   "id": "2102ed95-0dec-4e20-826a-4e1f186e62d0",
   "metadata": {
    "execution": {
     "iopub.execute_input": "2023-05-19T13:34:06.891768Z",
     "iopub.status.busy": "2023-05-19T13:34:06.890931Z",
     "iopub.status.idle": "2023-05-19T13:34:06.900245Z",
     "shell.execute_reply": "2023-05-19T13:34:06.898119Z",
     "shell.execute_reply.started": "2023-05-19T13:34:06.891713Z"
    },
    "tags": []
   },
   "outputs": [],
   "source": [
    "model_names = [\"Linear Support Vector Classification\", \"Multinomial Naive Bayes\", \"Complement Naive Bayes\", \"Logistic Regression\"]"
   ]
  },
  {
   "cell_type": "code",
   "execution_count": 23,
   "id": "311ff5eb-8d01-4d5d-8375-1ac8fdccaf8b",
   "metadata": {
    "execution": {
     "iopub.execute_input": "2023-05-19T13:34:07.739480Z",
     "iopub.status.busy": "2023-05-19T13:34:07.738746Z",
     "iopub.status.idle": "2023-05-19T13:48:47.452797Z",
     "shell.execute_reply": "2023-05-19T13:48:47.450447Z",
     "shell.execute_reply.started": "2023-05-19T13:34:07.739413Z"
    },
    "tags": []
   },
   "outputs": [
    {
     "name": "stdout",
     "output_type": "stream",
     "text": [
      "Training Linear Support Vector Classification...\n",
      "Training for Linear Support Vector Classification complete!\n",
      "\n",
      "Training Multinomial Naive Bayes...\n",
      "Training for Multinomial Naive Bayes complete!\n",
      "\n",
      "Training Complement Naive Bayes...\n",
      "Training for Complement Naive Bayes complete!\n",
      "\n",
      "Training Logistic Regression...\n",
      "Training for Logistic Regression complete!\n",
      "\n"
     ]
    }
   ],
   "source": [
    "entries = []\n",
    "counter = 0\n",
    "for model in models:\n",
    "    title = model_names[counter]\n",
    "    print(f\"Training {title}...\")\n",
    "    counter += 1\n",
    "    model_name = model.__class__.__name__\n",
    "    accuracies = cross_val_score(model, features, labels, scoring='accuracy', cv=CV)\n",
    "    for fold_idx, accuracy in enumerate(accuracies):\n",
    "        entries.append((model_name, accuracy))\n",
    "    print(f\"Training for {title} complete!\\n\")\n",
    "cv_df = pd.DataFrame(entries, columns=['model_name', 'accuracy'])"
   ]
  },
  {
   "cell_type": "code",
   "execution_count": 24,
   "id": "9010302c-cd6b-4a0b-a06c-6f1f69781f83",
   "metadata": {
    "execution": {
     "iopub.execute_input": "2023-05-19T13:49:18.562346Z",
     "iopub.status.busy": "2023-05-19T13:49:18.561701Z",
     "iopub.status.idle": "2023-05-19T13:49:18.578854Z",
     "shell.execute_reply": "2023-05-19T13:49:18.578160Z",
     "shell.execute_reply.started": "2023-05-19T13:49:18.562294Z"
    },
    "tags": []
   },
   "outputs": [
    {
     "data": {
      "text/html": [
       "<div>\n",
       "<style scoped>\n",
       "    .dataframe tbody tr th:only-of-type {\n",
       "        vertical-align: middle;\n",
       "    }\n",
       "\n",
       "    .dataframe tbody tr th {\n",
       "        vertical-align: top;\n",
       "    }\n",
       "\n",
       "    .dataframe thead th {\n",
       "        text-align: right;\n",
       "    }\n",
       "</style>\n",
       "<table border=\"1\" class=\"dataframe\">\n",
       "  <thead>\n",
       "    <tr style=\"text-align: right;\">\n",
       "      <th></th>\n",
       "      <th>accuracy</th>\n",
       "    </tr>\n",
       "    <tr>\n",
       "      <th>model_name</th>\n",
       "      <th></th>\n",
       "    </tr>\n",
       "  </thead>\n",
       "  <tbody>\n",
       "    <tr>\n",
       "      <th>ComplementNB</th>\n",
       "      <td>0.367680</td>\n",
       "    </tr>\n",
       "    <tr>\n",
       "      <th>LinearSVC</th>\n",
       "      <td>0.396929</td>\n",
       "    </tr>\n",
       "    <tr>\n",
       "      <th>LogisticRegression</th>\n",
       "      <td>0.413844</td>\n",
       "    </tr>\n",
       "    <tr>\n",
       "      <th>MultinomialNB</th>\n",
       "      <td>0.370688</td>\n",
       "    </tr>\n",
       "  </tbody>\n",
       "</table>\n",
       "</div>"
      ],
      "text/plain": [
       "                    accuracy\n",
       "model_name                  \n",
       "ComplementNB        0.367680\n",
       "LinearSVC           0.396929\n",
       "LogisticRegression  0.413844\n",
       "MultinomialNB       0.370688"
      ]
     },
     "execution_count": 24,
     "metadata": {},
     "output_type": "execute_result"
    }
   ],
   "source": [
    "cv_df.groupby(by = \"model_name\").mean()"
   ]
  },
  {
   "cell_type": "code",
   "execution_count": 30,
   "id": "19d24975-81e4-4f7e-8e4e-841f20cfbe2a",
   "metadata": {
    "execution": {
     "iopub.execute_input": "2023-05-19T13:56:27.899846Z",
     "iopub.status.busy": "2023-05-19T13:56:27.899032Z",
     "iopub.status.idle": "2023-05-19T13:56:28.154439Z",
     "shell.execute_reply": "2023-05-19T13:56:28.153779Z",
     "shell.execute_reply.started": "2023-05-19T13:56:27.899793Z"
    },
    "tags": []
   },
   "outputs": [
    {
     "data": {
      "image/png": "[encoded data removed]",
      "text/plain": [
       "<Figure size 600x500 with 1 Axes>"
      ]
     },
     "metadata": {},
     "output_type": "display_data"
    }
   ],
   "source": [
    "# place gridlines below elements in plots\n",
    "plt.rc('axes', axisbelow=True)\n",
    "\n",
    "# boxplot\n",
    "fig, ax = plt.subplots(figsize=(6,5))\n",
    "\n",
    "ax = sns.boxplot(x='model_name', y='accuracy', \n",
    "                 data=cv_df,\n",
    "                 linewidth=1,\n",
    "                 width = 0.9,\n",
    "                 fliersize=5,\n",
    "                 boxprops={\"facecolor\": \"#ffce00\"},\n",
    "                 medianprops={\"linewidth\" : 1, \"linestyle\" : \"--\"})\n",
    "plt.ylabel(\"Accuracy\", fontsize = 10, weight = \"bold\")\n",
    "plt.xlabel(\"Model name\", fontsize = 10, weight = \"bold\")\n",
    "plt.grid(axis = \"y\", linestyle = '--')\n",
    "plt.xticks(rotation=9)\n",
    "ax.spines[\"top\"].set_visible(False)\n",
    "ax.spines[\"right\"].set_visible(False)"
   ]
  },
  {
   "cell_type": "markdown",
   "id": "08161728-bb22-4b32-b393-b59b05315f00",
   "metadata": {},
   "source": [
    "## Training and testing the classifier"
   ]
  },
  {
   "cell_type": "code",
   "execution_count": 26,
   "id": "62f6ac4b-8a94-4c74-b678-701707d0b6f6",
   "metadata": {
    "execution": {
     "iopub.execute_input": "2023-05-19T13:49:44.064485Z",
     "iopub.status.busy": "2023-05-19T13:49:44.063827Z",
     "iopub.status.idle": "2023-05-19T13:55:11.656679Z",
     "shell.execute_reply": "2023-05-19T13:55:11.651372Z",
     "shell.execute_reply.started": "2023-05-19T13:49:44.064431Z"
    },
    "tags": []
   },
   "outputs": [],
   "source": [
    "X_train, X_test, y_train, y_test,indices_train,indices_test = train_test_split(features, \n",
    "                                                               labels, \n",
    "                                                               df.index, test_size=0.25, \n",
    "                                                               random_state=42)\n",
    "model = LogisticRegression(random_state=42, max_iter = (y_train.value_counts().max() * 5))\n",
    "model.fit(X_train, y_train)\n",
    "y_pred = model.predict(X_test)"
   ]
  },
  {
   "cell_type": "code",
   "execution_count": 28,
   "id": "67938a0a-160f-48e0-a805-4b156f682911",
   "metadata": {
    "execution": {
     "iopub.execute_input": "2023-05-19T13:55:11.786098Z",
     "iopub.status.busy": "2023-05-19T13:55:11.785787Z",
     "iopub.status.idle": "2023-05-19T13:55:12.196166Z",
     "shell.execute_reply": "2023-05-19T13:55:12.195223Z",
     "shell.execute_reply.started": "2023-05-19T13:55:11.786082Z"
    },
    "tags": []
   },
   "outputs": [
    {
     "name": "stdout",
     "output_type": "stream",
     "text": [
      "CLASSIFICATION METRICS\n",
      "\n",
      "              precision    recall  f1-score   support\n",
      "\n",
      "           1       0.47      0.48      0.47      3936\n",
      "           2       0.34      0.32      0.33      3935\n",
      "           3       0.36      0.30      0.33      4051\n",
      "           4       0.38      0.26      0.31      4006\n",
      "           5       0.47      0.72      0.57      3936\n",
      "\n",
      "    accuracy                           0.42     19864\n",
      "   macro avg       0.41      0.42      0.40     19864\n",
      "weighted avg       0.40      0.42      0.40     19864\n",
      "\n"
     ]
    }
   ],
   "source": [
    "# Classification report\n",
    "print('CLASSIFICATION METRICS\\n')\n",
    "print(metrics.classification_report(y_test, y_pred, \n",
    "                                    target_names= df['rating'].unique()))"
   ]
  },
  {
   "cell_type": "code",
   "execution_count": 31,
   "id": "53fcc98b-3528-4b89-8c50-38698198956a",
   "metadata": {
    "execution": {
     "iopub.execute_input": "2023-05-19T13:58:08.823865Z",
     "iopub.status.busy": "2023-05-19T13:58:08.823210Z",
     "iopub.status.idle": "2023-05-19T13:58:08.838369Z",
     "shell.execute_reply": "2023-05-19T13:58:08.836959Z",
     "shell.execute_reply.started": "2023-05-19T13:58:08.823812Z"
    },
    "tags": []
   },
   "outputs": [
    {
     "data": {
      "text/plain": [
       "array(['1', '2', '3', '4', '5'], dtype=object)"
      ]
     },
     "execution_count": 31,
     "metadata": {},
     "output_type": "execute_result"
    }
   ],
   "source": [
    "df['rating'].unique()"
   ]
  },
  {
   "cell_type": "code",
   "execution_count": 56,
   "id": "b0f555c5-98d2-4b5a-8097-71109bc8ccf3",
   "metadata": {
    "execution": {
     "iopub.execute_input": "2023-05-19T14:29:05.174965Z",
     "iopub.status.busy": "2023-05-19T14:29:05.174230Z",
     "iopub.status.idle": "2023-05-19T14:29:05.185190Z",
     "shell.execute_reply": "2023-05-19T14:29:05.184345Z",
     "shell.execute_reply.started": "2023-05-19T14:29:05.174909Z"
    },
    "tags": []
   },
   "outputs": [],
   "source": [
    "from  matplotlib.colors import LinearSegmentedColormap\n",
    "c = [\"#edfbfe\", \"#aee0f5\",\"#6bcae8\",\"#2db3e0\",\"#1b91b8\",\"#166c8c\",\"#0d4960\"]\n",
    "v = [0,.15,.4,.5,0.6,.9,1.]\n",
    "l = list(zip(v,c))\n",
    "cmap=LinearSegmentedColormap.from_list('rg',l, N=256)"
   ]
  },
  {
   "cell_type": "code",
   "execution_count": 57,
   "id": "62048f83-f3ce-4da3-b712-477d1ae5cc75",
   "metadata": {
    "execution": {
     "iopub.execute_input": "2023-05-19T14:29:05.574284Z",
     "iopub.status.busy": "2023-05-19T14:29:05.573698Z",
     "iopub.status.idle": "2023-05-19T14:29:05.796809Z",
     "shell.execute_reply": "2023-05-19T14:29:05.796143Z",
     "shell.execute_reply.started": "2023-05-19T14:29:05.574210Z"
    },
    "tags": []
   },
   "outputs": [
    {
     "data": {
      "text/plain": [
       "Text(0.5, 25.722222222222214, 'Predicted')"
      ]
     },
     "execution_count": 57,
     "metadata": {},
     "output_type": "execute_result"
    },
    {
     "data": {
      "image/png": "[encoded data removed]",
      "text/plain": [
       "<Figure size 600x500 with 2 Axes>"
      ]
     },
     "metadata": {},
     "output_type": "display_data"
    }
   ],
   "source": [
    "conf_mat = confusion_matrix(y_test, y_pred)\n",
    "fig, ax = plt.subplots(figsize=(6,5))\n",
    "sns.heatmap(conf_mat, annot=True, cmap = cmap, fmt='d',\n",
    "            xticklabels=category_id_df.rating.values, \n",
    "            yticklabels=category_id_df.rating.values)\n",
    "plt.ylabel('Actual', fontsize = 10, weight = \"bold\")\n",
    "plt.xlabel('Predicted', fontsize = 10, weight = \"bold\")"
   ]
  },
  {
   "cell_type": "markdown",
   "id": "a6d4b01b-98fa-46b2-bd68-c6a1966beb5e",
   "metadata": {},
   "source": [
    "## Prediction"
   ]
  },
  {
   "cell_type": "code",
   "execution_count": 77,
   "id": "d929dda2-b499-4cd4-95f1-b4dfaefc94d1",
   "metadata": {
    "execution": {
     "iopub.execute_input": "2023-05-08T10:12:50.270624Z",
     "iopub.status.busy": "2023-05-08T10:12:50.269982Z",
     "iopub.status.idle": "2023-05-08T10:12:50.344808Z",
     "shell.execute_reply": "2023-05-08T10:12:50.343608Z",
     "shell.execute_reply.started": "2023-05-08T10:12:50.270572Z"
    },
    "tags": []
   },
   "outputs": [],
   "source": [
    "X_train, X_test, y_train, y_test = train_test_split(X, y, \n",
    "                                                    test_size=0.25,\n",
    "                                                    random_state = 42)"
   ]
  },
  {
   "cell_type": "code",
   "execution_count": 78,
   "id": "8c10e53c-42d2-437c-8126-b25d0874160f",
   "metadata": {
    "execution": {
     "iopub.execute_input": "2023-05-08T10:12:52.170532Z",
     "iopub.status.busy": "2023-05-08T10:12:52.169803Z",
     "iopub.status.idle": "2023-05-08T10:13:13.877462Z",
     "shell.execute_reply": "2023-05-08T10:13:13.870299Z",
     "shell.execute_reply.started": "2023-05-08T10:12:52.170479Z"
    },
    "tags": []
   },
   "outputs": [],
   "source": [
    "tfidf = TfidfVectorizer(sublinear_tf=True, min_df= 10, max_df = 90,\n",
    "                        ngram_range=(1, 3), encoding = 'utf-16')\n",
    "fitted_vectorizer = tfidf.fit(X_train)\n",
    "tfidf_vectorizer_vectors = fitted_vectorizer.transform(X_train)\n",
    "model = LogisticRegression(random_state=42, max_iter = (y_train.value_counts().max() * 5)).fit(tfidf_vectorizer_vectors, y_train)"
   ]
  },
  {
   "cell_type": "code",
   "execution_count": 79,
   "id": "40297f14-e803-4ef4-ab6f-8bf62da7a82a",
   "metadata": {
    "execution": {
     "iopub.execute_input": "2023-05-08T10:13:15.202490Z",
     "iopub.status.busy": "2023-05-08T10:13:15.202289Z",
     "iopub.status.idle": "2023-05-08T10:13:15.210279Z",
     "shell.execute_reply": "2023-05-08T10:13:15.209677Z",
     "shell.execute_reply.started": "2023-05-08T10:13:15.202472Z"
    },
    "tags": []
   },
   "outputs": [
    {
     "name": "stdout",
     "output_type": "stream",
     "text": [
      "['1']\n"
     ]
    }
   ],
   "source": [
    "# 2\n",
    "rev = \"\"\"Jeg fik aldrig besked om at pakken kunne hentes.\n",
    "Kontakt til Postnord er særdeles utilfredsstillende. Kan ikke kontaktes på telefon. Ved chat oplevede jeg to gange ca. 75 min ventetid, og de fik ikke løst problemet.\n",
    "Jeg endte med at kontakte Shell tanken for at høre om de måtte have pakken liggende. Og det havde de, den var bare ikke blevet registreret. Jeg hentede derefter pakken.\n",
    "Mvh Claus\"\"\"\n",
    "\n",
    "print(model.predict(fitted_vectorizer.transform([rev])))"
   ]
  },
  {
   "cell_type": "code",
   "execution_count": 80,
   "id": "3ec2073b-c8e7-43a7-9694-62217f91e1e9",
   "metadata": {
    "execution": {
     "iopub.execute_input": "2023-05-08T10:13:15.212253Z",
     "iopub.status.busy": "2023-05-08T10:13:15.212080Z",
     "iopub.status.idle": "2023-05-08T10:13:15.342831Z",
     "shell.execute_reply": "2023-05-08T10:13:15.342095Z",
     "shell.execute_reply.started": "2023-05-08T10:13:15.212238Z"
    },
    "tags": []
   },
   "outputs": [
    {
     "name": "stdout",
     "output_type": "stream",
     "text": [
      "['1']\n"
     ]
    }
   ],
   "source": [
    "# 5\n",
    "rev = \"\"\"Jeg fik en sms om at min pakke var afleveret i postkassen, men der var ingen pakke der. Prøvede så at ringe til post nord, det er bare så ringe at komme igennem til jer. Så tog jeg fat i vores søde post dame, og så fiskede hun lige sagen og jeg fik pakken et par dage efter. 💪\"\"\"\n",
    "\n",
    "print(model.predict(fitted_vectorizer.transform([rev])))"
   ]
  },
  {
   "cell_type": "code",
   "execution_count": 81,
   "id": "c0187416-adf0-413b-a3d6-8ab12650591a",
   "metadata": {
    "execution": {
     "iopub.execute_input": "2023-05-08T10:13:15.343954Z",
     "iopub.status.busy": "2023-05-08T10:13:15.343729Z",
     "iopub.status.idle": "2023-05-08T10:13:15.401529Z",
     "shell.execute_reply": "2023-05-08T10:13:15.400010Z",
     "shell.execute_reply.started": "2023-05-08T10:13:15.343934Z"
    },
    "tags": []
   },
   "outputs": [
    {
     "name": "stdout",
     "output_type": "stream",
     "text": [
      "['4']\n"
     ]
    }
   ],
   "source": [
    "# 5\n",
    "rev = \"\"\"JEG FANDT MIN PAKKE I MIT SKUR DET VAR DEJLIGT SÅ SKULLE JEG IKKE HENTE DEN ET ANDET STED DET VAR JEG GLAD FOR MEN HAR IKKE PAKKET DEN UD ENDNU DA JEG SKAL HAVE HJÆLP TIL AT FÅ DEN TILSLUTTET TAK MED VENLIG HILSEN SONJA KNUDSEN ÅBYBRO.\"\"\"\n",
    "\n",
    "print(model.predict(fitted_vectorizer.transform([rev])))"
   ]
  },
  {
   "cell_type": "code",
   "execution_count": 82,
   "id": "f4f320fc-623b-428b-b594-236a147ce25e",
   "metadata": {
    "execution": {
     "iopub.execute_input": "2023-05-08T10:13:15.404084Z",
     "iopub.status.busy": "2023-05-08T10:13:15.403383Z",
     "iopub.status.idle": "2023-05-08T10:13:15.474167Z",
     "shell.execute_reply": "2023-05-08T10:13:15.472972Z",
     "shell.execute_reply.started": "2023-05-08T10:13:15.404032Z"
    },
    "tags": []
   },
   "outputs": [
    {
     "name": "stdout",
     "output_type": "stream",
     "text": [
      "['3']\n"
     ]
    }
   ],
   "source": [
    "# 3\n",
    "rev = \"\"\"Altid hurtig, men jeg tror ikke buddene forstår Modtager Flex. Jeg er tilmeldt, men sidst ringede buddet fordi jeg ikke var hjemme (heldigvis, så jeg kunne sige at jeg var tilmeldt det og at han kunne sætte pakken) \n",
    "Næste gang tog buddet et billede af pakken ved døren, men har så taget den med igen, hvilket bare gav forvirring for mig om hvorvidt den var blevet sat der eller ej.\n",
    "\n",
    "Af en eller anden grund bliver pakkerne også oftest lagt i en pakkeshop over 3 km væk, selvom der er mere end en pakkeshop tættere på. Det er virkelig irriterende, især når pakken i første omgang bare skulle have været sat ved døren\"\"\"\n",
    "\n",
    "print(model.predict(fitted_vectorizer.transform([rev])))"
   ]
  },
  {
   "cell_type": "markdown",
   "id": "dfaf11e8-d098-43bc-92ff-84ff5b5cdc75",
   "metadata": {},
   "source": [
    "## Machine"
   ]
  },
  {
   "cell_type": "code",
   "execution_count": 83,
   "id": "b4ab96d0-c864-4b5b-ac96-f376a5d7abfc",
   "metadata": {
    "execution": {
     "iopub.execute_input": "2023-05-08T10:13:44.083946Z",
     "iopub.status.busy": "2023-05-08T10:13:44.083074Z",
     "iopub.status.idle": "2023-05-08T10:13:44.135498Z",
     "shell.execute_reply": "2023-05-08T10:13:44.134840Z",
     "shell.execute_reply.started": "2023-05-08T10:13:44.083889Z"
    },
    "tags": []
   },
   "outputs": [
    {
     "data": {
      "text/plain": [
       "1    12762\n",
       "2    12757\n",
       "5    12733\n",
       "3    12659\n",
       "4    12653\n",
       "Name: rating, dtype: int64"
      ]
     },
     "execution_count": 83,
     "metadata": {},
     "output_type": "execute_result"
    }
   ],
   "source": [
    "X = df[\"review\"]\n",
    "y = df[\"rating\"]\n",
    "X_train, X_test, y_train, y_test = train_test_split(X, y, test_size = 0.2, random_state = 42)\n",
    "y_train.value_counts()"
   ]
  },
  {
   "cell_type": "code",
   "execution_count": 84,
   "id": "b1bda13b-b2e9-4ded-8a1c-79404821b741",
   "metadata": {
    "execution": {
     "iopub.execute_input": "2023-05-08T10:13:45.395779Z",
     "iopub.status.busy": "2023-05-08T10:13:45.395569Z",
     "iopub.status.idle": "2023-05-08T10:13:45.409727Z",
     "shell.execute_reply": "2023-05-08T10:13:45.409178Z",
     "shell.execute_reply.started": "2023-05-08T10:13:45.395760Z"
    },
    "tags": []
   },
   "outputs": [
    {
     "data": {
      "text/plain": [
       "12762"
      ]
     },
     "execution_count": 84,
     "metadata": {},
     "output_type": "execute_result"
    }
   ],
   "source": [
    "y_train.value_counts().max()"
   ]
  },
  {
   "cell_type": "code",
   "execution_count": 85,
   "id": "030239a3-1d13-48c3-80e8-836c8858b860",
   "metadata": {
    "execution": {
     "iopub.execute_input": "2023-05-08T10:13:46.999743Z",
     "iopub.status.busy": "2023-05-08T10:13:46.999535Z",
     "iopub.status.idle": "2023-05-08T10:13:49.044790Z",
     "shell.execute_reply": "2023-05-08T10:13:49.044029Z",
     "shell.execute_reply.started": "2023-05-08T10:13:46.999724Z"
    },
    "tags": []
   },
   "outputs": [],
   "source": [
    "vectorizer = CountVectorizer(ngram_range = (1,3), \n",
    "                             lowercase = False,\n",
    "                             max_df = 0.99,  \n",
    "                             min_df = 0.01,\n",
    "                             max_features = None,\n",
    "                             encoding = 'utf-16')\n",
    "\n",
    "X_train_feats = vectorizer.fit_transform(X_train)\n",
    "X_test_feats = vectorizer.transform(X_test)\n",
    "\n",
    "feature_names = vectorizer.get_feature_names_out()"
   ]
  },
  {
   "cell_type": "code",
   "execution_count": 86,
   "id": "f1a64814-ca91-46c4-b8a0-b07547af90ba",
   "metadata": {
    "execution": {
     "iopub.execute_input": "2023-05-08T10:13:50.293370Z",
     "iopub.status.busy": "2023-05-08T10:13:50.293173Z",
     "iopub.status.idle": "2023-05-08T10:13:53.306775Z",
     "shell.execute_reply": "2023-05-08T10:13:53.306018Z",
     "shell.execute_reply.started": "2023-05-08T10:13:50.293352Z"
    },
    "tags": []
   },
   "outputs": [],
   "source": [
    "classifier = LogisticRegression(random_state = 7, max_iter = (y_train.value_counts().max() * 5)).fit(X_train_feats, y_train)"
   ]
  },
  {
   "cell_type": "code",
   "execution_count": 88,
   "id": "6a2e1bc0-ec6a-485d-8f74-77291f3c6fa2",
   "metadata": {
    "execution": {
     "iopub.execute_input": "2023-05-08T10:14:35.141241Z",
     "iopub.status.busy": "2023-05-08T10:14:35.140386Z",
     "iopub.status.idle": "2023-05-08T10:14:35.523166Z",
     "shell.execute_reply": "2023-05-08T10:14:35.522483Z",
     "shell.execute_reply.started": "2023-05-08T10:14:35.141185Z"
    },
    "tags": []
   },
   "outputs": [
    {
     "name": "stdout",
     "output_type": "stream",
     "text": [
      "              precision    recall  f1-score   support\n",
      "\n",
      "           1       0.45      0.54      0.49      3129\n",
      "           2       0.36      0.32      0.34      3134\n",
      "           3       0.36      0.29      0.33      3232\n",
      "           4       0.38      0.32      0.35      3238\n",
      "           5       0.54      0.70      0.61      3158\n",
      "\n",
      "    accuracy                           0.43     15891\n",
      "   macro avg       0.42      0.43      0.42     15891\n",
      "weighted avg       0.42      0.43      0.42     15891\n",
      "\n"
     ]
    }
   ],
   "source": [
    "y_pred = classifier.predict(X_test_feats)\n",
    "\n",
    "classifier_metrics = metrics.classification_report(y_test, y_pred)\n",
    "print(classifier_metrics)"
   ]
  },
  {
   "cell_type": "code",
   "execution_count": null,
   "id": "268e0c5d-b7a7-4964-97de-94a94f6b2913",
   "metadata": {},
   "outputs": [],
   "source": []
  }
 ],
 "metadata": {
  "kernelspec": {
   "display_name": "Python 3 ",
   "language": "python",
   "name": "python3"
  },
  "language_info": {
   "codemirror_mode": {
    "name": "ipython",
    "version": 3
   },
   "file_extension": ".py",
   "mimetype": "text/x-python",
   "name": "python",
   "nbconvert_exporter": "python",
   "pygments_lexer": "ipython3",
   "version": "3.10.6"
  }
 },
 "nbformat": 4,
 "nbformat_minor": 5
}
